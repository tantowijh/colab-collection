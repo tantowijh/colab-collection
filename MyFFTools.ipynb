{
  "nbformat": 4,
  "nbformat_minor": 0,
  "metadata": {
    "colab": {
      "provenance": [],
      "collapsed_sections": [
        "EFOqhHG6hOVH",
        "CUq1_Dnegrs1",
        "L3QX2SwlOXAe",
        "RDHuIkoi6l9a",
        "FpJXJiRl6-gK",
        "2f-THZmDoOaY",
        "7-3O4en4C4IL"
      ],
      "authorship_tag": "ABX9TyOR8oxSIDF5u+uNxYH9yoZx",
      "include_colab_link": true
    },
    "kernelspec": {
      "name": "python3",
      "display_name": "Python 3"
    },
    "language_info": {
      "name": "python"
    }
  },
  "cells": [
    {
      "cell_type": "markdown",
      "metadata": {
        "id": "view-in-github",
        "colab_type": "text"
      },
      "source": [
        "<a href=\"https://colab.research.google.com/github/tantowijh/colab-collection/blob/main/MyFFTools.ipynb\" target=\"_parent\"><img src=\"https://colab.research.google.com/assets/colab-badge.svg\" alt=\"Open In Colab\"/></a>"
      ]
    },
    {
      "cell_type": "markdown",
      "metadata": {
        "id": "EFOqhHG6hOVH"
      },
      "source": [
        "# **1.** Install FFmpeg"
      ]
    },
    {
      "cell_type": "code",
      "source": [
        "#@title <font size=\"5\">← ឵឵<i>Upgrade FFmpeg to v5.0</font> { vertical-output: true }\n",
        "import os, uuid, re, IPython\n",
        "import ipywidgets as widgets\n",
        "import time\n",
        "\n",
        "from glob import glob\n",
        "from google.colab import output, drive\n",
        "\n",
        "from IPython.display import clear_output\n",
        "import os, sys, urllib.request\n",
        "HOME = os.path.expanduser(\"~\")\n",
        "pathDoneCMD = f'{HOME}/doneCMD.sh'\n",
        "if not os.path.exists(f\"{HOME}/.ipython/ttmg.py\"):\n",
        "    hCode = \"https://raw.githubusercontent.com/yunooooo/gcct/master/res/ttmg.py\"\n",
        "    urllib.request.urlretrieve(hCode, f\"{HOME}/.ipython/ttmg.py\")\n",
        "\n",
        "from ttmg import (\n",
        "    loadingAn,\n",
        "    textAn,\n",
        ")\n",
        "\n",
        "loadingAn(name=\"lds\")\n",
        "textAn(\"Cloning Repositories...\", ty='twg')\n",
        "!git clone https://github.com/XniceCraft/ffmpeg-colab.git\n",
        "!chmod 755 ./ffmpeg-colab/install\n",
        "textAn(\"Installing FFmpeg...\", ty='twg')\n",
        "!./ffmpeg-colab/install\n",
        "clear_output()\n",
        "print('Installation finished!')\n",
        "!rm -fr /content/ffmpeg-colab\n",
        "!ffmpeg -version"
      ],
      "metadata": {
        "cellView": "form",
        "id": "J9ujW1gQruFN",
        "outputId": "13c0e22e-e436-401e-b135-fbe44fe8c3dc",
        "colab": {
          "base_uri": "https://localhost:8080/"
        }
      },
      "execution_count": null,
      "outputs": [
        {
          "output_type": "stream",
          "name": "stdout",
          "text": [
            "Installation finished!\n",
            "ffmpeg version 5.1.1 Copyright (c) 2000-2022 the FFmpeg developers\n",
            "built with gcc 9 (Ubuntu 9.4.0-1ubuntu1~20.04.1)\n",
            "configuration: --prefix=/home/ffmpeg-builder/release --pkg-config-flags=--static --extra-libs=-lm --disable-doc --disable-htmlpages --disable-manpages --disable-podpages --disable-txtpages --disable-debug --disable-shared --disable-ffprobe --enable-static --enable-gpl --enable-version3 --enable-runtime-cpudetect --enable-avfilter --enable-filters --enable-nvenc --enable-nvdec --enable-cuvid --pkgconfigdir=/home/ffmpeg-builder/release/lib/pkgconfig --extra-cflags='-I/home/ffmpeg-builder/release/include -static -static-libstdc++ -static-libgcc ' --extra-ldflags='-L/home/ffmpeg-builder/release/lib -fstack-protector -static -static-libstdc++ -static-libgcc ' --extra-cxxflags='-static -static-libstdc++ -static-libgcc ' --extra-libs='-ldl -lrt -lpthread' --enable-ffnvcodec --enable-gmp --enable-libaom --enable-libass --enable-libbluray --enable-libdav1d --enable-libfdk-aac --enable-libfontconfig --enable-libfreetype --enable-libfribidi --enable-libgme --enable-libkvazaar --enable-libmp3lame --enable-libopencore_amrnb --enable-libopencore_amrwb --enable-libopenh264 --enable-libopenjpeg --enable-libopus --enable-libshine --enable-libsoxr --enable-libsrt --enable-libsvtav1 --enable-libtheora --enable-libvidstab --ld=g++ --enable-libvmaf --enable-libvorbis --enable-libvpx --enable-libx264 --enable-libx265 --enable-libxvid --enable-libzimg --enable-openssl --enable-zlib --enable-nonfree --extra-libs=-lpthread --enable-pthreads --extra-libs=-lgomp\n",
            "libavutil      57. 28.100 / 57. 28.100\n",
            "libavcodec     59. 37.100 / 59. 37.100\n",
            "libavformat    59. 27.100 / 59. 27.100\n",
            "libavdevice    59.  7.100 / 59.  7.100\n",
            "libavfilter     8. 44.100 /  8. 44.100\n",
            "libswscale      6.  7.100 /  6.  7.100\n",
            "libswresample   4.  7.100 /  4.  7.100\n",
            "libpostproc    56.  6.100 / 56.  6.100\n"
          ]
        }
      ]
    },
    {
      "cell_type": "markdown",
      "metadata": {
        "id": "CUq1_Dnegrs1"
      },
      "source": [
        "# **2.** Mount Google Drive \n",
        "\n",
        "\n",
        "\n"
      ]
    },
    {
      "cell_type": "code",
      "metadata": {
        "id": "ojI73noUg1If",
        "outputId": "b8fc536a-4e7b-40e2-bca0-2183e97fbe3d",
        "colab": {
          "base_uri": "https://localhost:8080/"
        }
      },
      "source": [
        "from google.colab import drive\n",
        "drive.mount('/content/drive')"
      ],
      "execution_count": null,
      "outputs": [
        {
          "output_type": "stream",
          "name": "stdout",
          "text": [
            "Mounted at /content/drive\n"
          ]
        }
      ]
    },
    {
      "cell_type": "markdown",
      "metadata": {
        "id": "KgNPvGccgwd8"
      },
      "source": [
        "# **3.** Run FFmpeg Scripts (*Convert, Edit, Trim + more*)"
      ]
    },
    {
      "cell_type": "markdown",
      "source": [
        "### <font size=\"4\">» </font><font size=\"5\">YT-DLP"
      ],
      "metadata": {
        "id": "L3QX2SwlOXAe"
      }
    },
    {
      "cell_type": "code",
      "execution_count": null,
      "metadata": {
        "colab": {
          "base_uri": "https://localhost:8080/",
          "referenced_widgets": [
            "13b3085abde6463899c112bcfc7ae02d",
            "98d64d24b8a8485c9a6a065da238aedb",
            "42188a9e845a477682ad73957753c316",
            "d9c5357107084a6f9d64e932e5dfc59e",
            "da3aeee6a2ac4136ad57f592cd9b9145",
            "995f289f48274acea13bcbbc01a75697",
            "6d5a5024e6974a319501a3a1d7fc9d65",
            "218a8f9547a944399ae2863740816b3f",
            "5cfd8e98c5464c7eb7c37d9d1e1cfff9",
            "d766b9170b254fbeb9a8c33e99490e1b",
            "4e84b06d92cc4885b7cec567823d116e",
            "96b551ce7d754a8b8bcb1c674261b1b0",
            "006f3d3b5f044305a1b62e0158699282",
            "b0925f08762b425aa595d6c07f71ac1c",
            "da0773cea16d4939841beac60885c027",
            "1412194307344582827dfdd7ee9b124e",
            "e41c14a9a85840a4b97374e736140a1f",
            "4d12ca7bc371458a9374367939086e5a",
            "7aecdb464b59457cb2a2a2b945303d4a",
            "39e111b432854bb5b03a6c9b243b79f3",
            "7176ea3b094541ebbe9bbf6a9b09d8a7",
            "5af72a9ea7fa4b39885b60c706a2ea36",
            "e4c8389a4ab5488fb80dc922dd3eacaa",
            "a4405004ceca4f30af7f65d0e2eb9b2b",
            "2b8e8a110b9942b6ab57f3b052273e74",
            "e209db24c1374ba4a382306a4fa09de7",
            "26cdcba5aa08418c83dd2ced455136bb",
            "dfdf7e1a99e5479e8efdcc72940574d2",
            "dc20a2b5f6a347bab4f2b26f9f8b3cae",
            "2d9bdf01c3f34f0cbd13d1521bb76135",
            "42617774d46e43848018dbe2371c90e1",
            "f991e048142342d99ba8160cb115a1b0",
            "f60aac69ea764f37a18c2e7fb968d8ab",
            "71e1645bd83a4d77b16cb1a4c621231d",
            "cddb5d9f35c74cb1a02c3c43bab23693",
            "0c921a54920a419da5754f28315d0e9a",
            "a44ff932f17b4b6ca738dd3d5652b99c",
            "60e50ea9c3ca4850820a3447369eddac",
            "97e52fece35b4112b1f13a36c84479c9",
            "a8d9918a7c484d94805225f70814463e",
            "f54ddf25b9b1470e8d4c3424b2350cd7",
            "f73e9473916e4a2d8e2b29ae4f7e796b",
            "6386dc4cb13344168be7c6e4a2ea33d6",
            "a1cb1ca9bf72428db1bf712b22484972",
            "d592b4cd30d44cb1aca1ce4f49181820",
            "3430c0cba5654d27be5e5bcf02db6102",
            "4aa82ecfec204ca7b6db057130f82a5e",
            "fa3bf601a17d477997cd6f6bfdeb08f3",
            "82c0602bab364ebe9a13450a4bc7ef4f",
            "b02e6bf5ea524b61aa3f416f79249650",
            "8a43e5cbeb2f487a81db4180678ade02",
            "0e832a926ca548efbd5ea59e10ebc22e",
            "6876bf4a343e4c1e80bbc0d09db9195e",
            "1ab2af21b19842eca66df38933160d29",
            "0b796e7f719b486fba3be0d04ca7bfa8",
            "8c0a3b847ef94dafbcdbfc67b6f58b98",
            "c95cbd166dff4a8ea9e9968b2e97e040",
            "361d2b9b5d164cdb8a31bd16fabe166d",
            "846e1f9e0a9c47efa80991b7d656ca1c",
            "bf465d65ffa341459c1185bd94b412ed",
            "feb85849df2a4ac4b31f05afd6c61271",
            "a279980a8b3b4036aac085a971edde4d",
            "a0ffc48082c34bb8b2e55cb70c12494c",
            "a06aac0be9204cd88f86aa9948dccb15",
            "b3af24c3ac174e9899b8774fbb728962",
            "7a03ec88b4f946c98ce3761c1ed5bb37",
            "4b46ca72cfa0489b8883309badec8d25",
            "1743ef61d9944bfd8f46004694fe6725",
            "9e02d6e2cbe84805a7da06c288d9073a",
            "9b9defadfeee49a1a834b6b8243de41d",
            "0a3c4f5528ad423a8f20910fc1a80271",
            "1752ac71deb64cffae5ea191f0666513",
            "32ee5dd492f5466c9a5db19118c55db9",
            "879a2ba4e890469c950fb4e6088aca1c",
            "64fb4d764af54fcd8dd5703d99d6a0fa",
            "7580a0dab3b34a2dac6333daa1071078",
            "ae40a41b5b874ec29df45cd92fd4c0b3",
            "078bac13dfa84a0eb1cbcdead9bbedbb",
            "52f76f304c1f4e1e8f4957f807b57159",
            "fd9c3c2a53c44e21b55d86d4d83e8c2d",
            "a5d9a8b4946e43699f038ede3e293deb",
            "03214eb2d1b442db8cd579984f514a98",
            "256f943f150249ca9d3464bfe08259d9",
            "b59f8ebab07640f78ca7c92d36cbef88",
            "e7e31ce7f8384cb7a9e19937ec825f5d",
            "c78629b92a684083ac9ba406a3c17cc4",
            "c83491f3cf0b44338c6cf51d218a6493",
            "300857fbb2c442f183dcde969554b9bc",
            "b405d6f0491e477095b92e955c71ee1b",
            "596bd412a63b46d5939a1349cac205b2",
            "c6abfcc4c00743b7abae35d6b7bb7650",
            "56c98708e68042dc825bc8ee233258bc",
            "c72fe3c2e514412ab152998607c09cb1",
            "2ad8070532194b0ebbc608935311a969",
            "9e787b83a40545cb8f7fc8f8e888ca30",
            "c84c5f2af5ed4d99ba62a18908b6fcc9",
            "0a18a0adaafc4b48bf53555869da59c5",
            "0dd084637c8843d0aa073757323217b3",
            "1ab1245632cf471f96de7c50d078cd5e",
            "0238499367514c948374f1acb6c6b8b8",
            "4281dc7fdbbf4e7680628e733ab56604",
            "39f0421cf0c147f88c3460353898ddb6",
            "f4fd3393647e4ac9babea0543abc16d5",
            "7a91c1cdb0d748b2b3798e23d8c771a1",
            "39d924d090cf4974a9618794831427c2",
            "bddd0e97ca19496b823bc57c4843faa5",
            "4ebea1c4b04949a3a8d55be9bd9d88ae",
            "8b0478b8de9f4829bc2cf822284c1732",
            "7ba07da9f24f46ad97c16d511be59178",
            "51a8f5ae0ebc4c7fbaf0af85abe457d0",
            "c927b8631a584902946ac5d03e4ba074",
            "1c5c9623196d4212b867efa1676ad4f0",
            "645cdee93e6c4b6aa236c4c53758df29",
            "f0399973b7c64d32a7083666b0531006",
            "78e5ea94925f4e01ad98a8a37f507001",
            "f04547b00a4d40e2b386d0527a4a0ec7",
            "eab49f870c9d4002826927cf80b975ee",
            "2f3f1f41b46d4688881712827378a008",
            "8ae24da8f07d476bbce5f2d489488bd2",
            "bb552c0895c84e01bc64adb2f8ae0baa",
            "2d92c21f26e94e778cb50255ab67cb6f",
            "2f8f71c919c64237897cc4338064740c",
            "98f4eaf41a0e459d9db8b1750dcd81b4",
            "eb98f289ba614e1caa3b30a5ad3e2a4c",
            "74a26656c6934de7aca0492736ee9668",
            "e4fe7c43997648c1b7e785f66545ff2e",
            "11b5144a98564cddbe6c9f320fab81a1",
            "7a5b86ecec3345988e930c5b0444d6fb",
            "dbf22b3ccd514c4f8c0b3a79cf7c64ad",
            "c845ef4c03df4a7d959bded852270f82",
            "ad52192a60c8430fb0aceb81c9d488d6",
            "917469ee6e0f4ccbbae0007924c10274",
            "4b79dbb4b4fd4d2eb9ba48f406cc274b"
          ]
        },
        "id": "Zs4yX34vhEkY",
        "outputId": "1ad86e64-f2b9-4ac8-f8f3-46a6b45a6bb6",
        "cellView": "form"
      },
      "outputs": [
        {
          "output_type": "display_data",
          "data": {
            "text/plain": [
              "HBox(children=(VBox(children=(HTML(value='<b style=\"color:#888888;\">Link:</b>'), Textarea(value='https://www.y…"
            ],
            "application/vnd.jupyter.widget-view+json": {
              "version_major": 2,
              "version_minor": 0,
              "model_id": "c72fe3c2e514412ab152998607c09cb1"
            }
          },
          "metadata": {}
        },
        {
          "output_type": "display_data",
          "data": {
            "text/plain": [
              "<IPython.core.display.HTML object>"
            ],
            "text/html": [
              "<h4 style=\"color:#888888;\">Save Location:</h4>"
            ]
          },
          "metadata": {}
        },
        {
          "output_type": "display_data",
          "data": {
            "text/plain": [
              "Dropdown(options=('/content', '/content/Downloads'), value='/content')"
            ],
            "application/vnd.jupyter.widget-view+json": {
              "version_major": 2,
              "version_minor": 0,
              "model_id": "596bd412a63b46d5939a1349cac205b2"
            }
          },
          "metadata": {}
        },
        {
          "output_type": "display_data",
          "data": {
            "text/plain": [
              "<__main__.MakeButton at 0x7f3f982872e0>"
            ],
            "text/html": [
              "<button class=\"p-Widget jupyter-widgets jupyter-button widget-button\" id=\"button-aaafaaf8-e752-4be0-b605-b7549cc04ede\">Refresh</button>\n",
              "        <script>\n",
              "          document.querySelector(\"#button-aaafaaf8-e752-4be0-b605-b7549cc04ede\").onclick = (e) => {\n",
              "            google.colab.kernel.invokeFunction('button-aaafaaf8-e752-4be0-b605-b7549cc04ede', [], {})\n",
              "            e.preventDefault();\n",
              "          };\n",
              "        </script>"
            ]
          },
          "metadata": {}
        },
        {
          "output_type": "display_data",
          "data": {
            "text/plain": [
              "<IPython.core.display.HTML object>"
            ],
            "text/html": [
              "*If you want to save in Google Drive please run the cell below."
            ]
          },
          "metadata": {}
        },
        {
          "output_type": "display_data",
          "data": {
            "text/plain": [
              "<IPython.core.display.HTML object>"
            ],
            "text/html": [
              "<br>"
            ]
          },
          "metadata": {}
        },
        {
          "output_type": "display_data",
          "data": {
            "text/plain": [
              "<__main__.MakeButton at 0x7f3f982872e0>"
            ],
            "text/html": [
              "<button class=\"p-Widget jupyter-widgets jupyter-button widget-button mod-info\" id=\"button-653b3d61-0574-49c1-aa75-e1c8c044d872\">Download</button>\n",
              "        <script>\n",
              "          document.querySelector(\"#button-653b3d61-0574-49c1-aa75-e1c8c044d872\").onclick = (e) => {\n",
              "            google.colab.kernel.invokeFunction('button-653b3d61-0574-49c1-aa75-e1c8c044d872', [], {})\n",
              "            e.preventDefault();\n",
              "          };\n",
              "        </script>"
            ]
          },
          "metadata": {}
        }
      ],
      "source": [
        "#@markdown <h3><b>←</b> Click Here to use yt-dlp</h3>\n",
        "\n",
        "import os, uuid, urllib.parse\n",
        "import ipywidgets as widgets\n",
        "Archive = False\n",
        "\n",
        "from glob import glob\n",
        "from urllib.parse import urlparse, parse_qs\n",
        "from IPython.display import HTML, clear_output, YouTubeVideo\n",
        "from IPython.utils.io import ask_yes_no\n",
        "from google.colab import output, files\n",
        "\n",
        "Links = widgets.Textarea(placeholder='''Video/Playlist Link\n",
        "(one link per line)''')\n",
        "\n",
        "VideoQ = widgets.Dropdown(options=[\"Best Quality (VP9 upto 4K)\", \"Best Compatibility (H.264 upto 1080p)\"])\n",
        "\n",
        "AudioQ = widgets.Dropdown(options=[\"Best Quality (Opus)\", \"Best Compatibility (M4A)\"])\n",
        "\n",
        "Subtitle = widgets.ToggleButton(value=True, description=\"Subtitle\", button_style=\"info\", tooltip=\"Subtitle\")\n",
        "\n",
        "SavePathYT = widgets.Dropdown(options=[\"/content\", \"/content/Downloads\"])\n",
        "\n",
        "AudioOnly = widgets.ToggleButton(value=False, description=\"Audio Only\", button_style=\"\", tooltip=\"Audio Only\")\n",
        "\n",
        "Resolution = widgets.Select(options=[\"Highest\", \"4K\", \"1440p\", \"1080p\", \"720p\", \"480p\", \"360p\", \"240p\", \"144p\"], value=\"Highest\")\n",
        "\n",
        "Extension = widgets.Select(options=[\"mkv\", \"webm\"], value=\"mkv\")\n",
        "\n",
        "UsernameYT = widgets.Text(placeholder=\"Username\")\n",
        "\n",
        "PasswordYT = widgets.Text(placeholder=\"Password\")\n",
        "\n",
        "SecAuth = widgets.Text(placeholder=\"2nd Factor Authentication\")\n",
        "\n",
        "VideoPW = widgets.Text(placeholder=\"Video Password\")\n",
        "\n",
        "GEOBypass = widgets.Dropdown(options=[\"Disable\", \"Hide\", \"AD\", \"AE\", \"AF\", \"AG\", \"AI\", \"AL\", \"AM\", \"AO\", \"AQ\", \"AR\", \"AS\", \"AT\", \"AU\", \"AW\", \"AX\", \"AZ\", \"BA\", \"BB\", \"BD\", \"BE\", \"BF\", \"BG\", \"BH\", \"BI\", \"BJ\", \"BL\", \"BM\", \"BN\", \"BO\", \"BQ\", \"BR\", \"BS\", \"BT\", \"BV\", \"BW\", \"BY\", \"BZ\", \"CA\", \"CC\", \"CD\", \"CF\", \"CG\", \"CH\", \"CI\", \"CK\", \"CL\", \"CM\", \"CN\", \"CO\", \"CR\", \"CU\", \"CV\", \"CW\", \"CX\", \"CY\", \"CZ\", \"DE\", \"DJ\", \"DK\", \"DM\", \"DO\", \"DZ\", \"EC\", \"EE\", \"EG\", \"EH\", \"ER\", \"ES\", \"ET\", \"FI\", \"FJ\", \"FK\", \"FM\", \"FO\", \"FR\", \"GA\", \"GB\", \"GD\", \"GE\", \"GF\", \"GG\", \"GH\", \"GI\", \"GL\", \"GM\", \"GN\", \"GP\", \"GQ\", \"GR\", \"GS\", \"GT\", \"GU\", \"GW\", \"GY\", \"HK\", \"HM\", \"HN\", \"HR\", \"HT\", \"HU\", \"ID\", \"IE\", \"IL\", \"IM\", \"IN\", \"IO\", \"IQ\", \"IR\", \"IS\", \"IT\", \"JE\", \"JM\", \"JO\", \"JP\", \"KE\", \"KG\", \"KH\", \"KI\", \"KM\", \"KN\", \"KP\", \"KR\", \"KW\", \"KY\", \"KZ\", \"LA\", \"LB\", \"LC\", \"LI\", \"LK\", \"LR\", \"LS\", \"LT\", \"LU\", \"LV\", \"LY\", \"MA\", \"MC\", \"MD\", \"ME\", \"MF\", \"MG\", \"MH\", \"MK\", \"ML\", \"MM\", \"MN\", \"MO\", \"MP\", \"MQ\", \"MR\", \"MS\", \"MT\", \"MU\", \"MV\", \"MW\", \"MX\", \"MY\", \"MZ\", \"NA\", \"NC\", \"NE\", \"NF\", \"NG\", \"NI\", \"NL\", \"NO\", \"NP\", \"NR\", \"NU\", \"NZ\", \"OM\", \"PA\", \"PE\", \"PF\", \"PG\", \"PH\", \"PK\", \"PL\", \"PM\", \"PN\", \"PR\", \"PS\", \"PT\", \"PW\", \"PY\", \"QA\", \"RE\", \"RO\", \"RS\", \"RU\", \"RW\", \"SA\", \"SB\", \"SC\", \"SD\", \"SE\", \"SG\", \"SH\", \"SI\", \"SJ\", \"SK\", \"SL\", \"SM\", \"SN\", \"SO\", \"SR\", \"SS\", \"ST\", \"SV\", \"SX\", \"SY\", \"SZ\", \"TC\", \"TD\", \"TF\", \"TG\", \"TH\", \"TJ\", \"TK\", \"TL\", \"TM\", \"TN\", \"TO\", \"TR\", \"TT\", \"TV\", \"TW\", \"TZ\", \"UA\", \"UG\", \"UM\", \"US\", \"UY\", \"UZ\", \"VA\", \"VC\", \"VE\", \"VG\", \"VI\", \"VN\", \"VU\", \"WF\", \"WS\", \"YE\", \"YT\", \"ZA\", \"ZM\", \"ZW\"])\n",
        "\n",
        "ProxyYT = widgets.Text(placeholder=\"Proxy URL\")\n",
        "\n",
        "MinSleep = widgets.BoundedIntText(value=0, min=0, max=300, step=1, description=\"Min:\")\n",
        "\n",
        "MaxSleep = widgets.BoundedIntText(value=0, min=0, max=300, step=1, description=\"Max:\")\n",
        "\n",
        "ExtraArg = widgets.Text(placeholder=\"Extra Arguments\")\n",
        "\n",
        "class MakeButton(object):\n",
        "  def __init__(self, title, callback, style):\n",
        "    self._title = title\n",
        "    self._callback = callback\n",
        "    self._style = style\n",
        "  def _repr_html_(self):\n",
        "    callback_id = 'button-' + str(uuid.uuid4())\n",
        "    output.register_callback(callback_id, self._callback)\n",
        "    if self._style != \"\":\n",
        "      style_html = \"p-Widget jupyter-widgets jupyter-button widget-button mod-\" + self._style\n",
        "    else:\n",
        "      style_html = \"p-Widget jupyter-widgets jupyter-button widget-button\"\n",
        "    template = \"\"\"<button class=\"{style_html}\" id=\"{callback_id}\">{title}</button>\n",
        "        <script>\n",
        "          document.querySelector(\"#{callback_id}\").onclick = (e) => {{\n",
        "            google.colab.kernel.invokeFunction('{callback_id}', [], {{}})\n",
        "            e.preventDefault();\n",
        "          }};\n",
        "        </script>\"\"\"\n",
        "    html = template.format(title=self._title, callback_id=callback_id, style_html=style_html)\n",
        "    return html\n",
        "  \n",
        "def MakeLabel(description, button_style):\n",
        "  return widgets.Button(description=description, disabled=True, button_style=button_style)\n",
        "\n",
        "def upload_archive():\n",
        "  if ask_yes_no(\"Do you already have an archive file? (y/n)\", default=\"\", interrupt=\"\"):\n",
        "    try:\n",
        "      display(HTML(\"<h2 style=\\\"font-family:Trebuchet MS;color:#4f8bd6;\\\">Please upload an archive from your computer.</h2><br>\"))\n",
        "      UploadConfig = files.upload().keys()\n",
        "      clear_output(wait=True)\n",
        "      if len(UploadConfig) == 0:\n",
        "        return display(HTML(\"<center><h2 style=\\\"font-family:Trebuchet MS;color:#ce2121;\\\">File upload has been cancelled during upload file.</h2><br></center>\"))\n",
        "      elif len(UploadConfig) == 1:\n",
        "        for fn in UploadConfig:\n",
        "          if os.path.isfile(\"/content/\" + fn):\n",
        "            get_ipython().system_raw(\"mv -f \" + \"\\\"\" + fn + \"\\\" /root/.yt-dlp.txt && chmod 666 /root/.yt-dlp.txt\")\n",
        "            AudioOnly.observe(AudioOnlyChange)\n",
        "            Subtitle.observe(SubtitleChange)\n",
        "            AudioQ.observe(AudioQChange)\n",
        "            ShowYT()\n",
        "          else:\n",
        "            return display(HTML(\"<center><h2 style=\\\"font-family:Trebuchet MS;color:#ce2121;\\\">File upload has been failed during upload file.</h2><br></center>\"))\n",
        "      else:\n",
        "        for fn in UploadConfig:\n",
        "          get_ipython().system_raw(\"rm -f \" + \"\\\"\" + fn + \"\\\"\")\n",
        "        return display(HTML(\"<center><h2 style=\\\"font-family:Trebuchet MS;color:#ce2121;\\\">Please uploading only one file at a time.</h2><br></center>\"))\n",
        "    except:\n",
        "      clear_output(wait=True)\n",
        "      return display(HTML(\"<center><h2 style=\\\"font-family:Trebuchet MS;color:#ce2121;\\\">Error occurred during upload file.</h2><br></center>\"))\n",
        "  else:\n",
        "    get_ipython().system_raw(\"touch '/root/.yt-dlp.txt'\")\n",
        "    AudioOnly.observe(AudioOnlyChange)\n",
        "    Subtitle.observe(SubtitleChange)\n",
        "    AudioQ.observe(AudioQChange)\n",
        "    ShowYT()\n",
        "\n",
        "def RefreshPathYT():\n",
        "  if os.path.exists(\"/content/drive/\"):\n",
        "    if os.path.exists(\"/content/drive/Shared drives/\"):\n",
        "      SavePathYT.options = [\"/content\", \"/content/Downloads\", \"/content/drive/My Drive\"] + glob(\"/content/drive/My Drive/*/\") + glob(\"/content/drive/Shared drives/*/\") + glob(\"/content/drive/Shared drives/*/*\")\n",
        "    else:\n",
        "      SavePathYT.options = [\"/content\", \"/content/Downloads\", \"/content/drive/My Drive\"] + glob(\"/content/drive/My Drive/*/\")\n",
        "  else:\n",
        "    SavePathYT.options = [\"/content\", \"/content/Downloads\"]\n",
        "\n",
        "def AudioOnlyChange(change):\n",
        "  if change[\"type\"] == \"change\" and change[\"new\"]:\n",
        "    VideoQ.disabled = True\n",
        "    Subtitle.disabled = True\n",
        "    if Subtitle.value:\n",
        "      Subtitle.button_style = \"info\"\n",
        "    else:\n",
        "      Subtitle.button_style = \"\"\n",
        "    Resolution.disabled = True\n",
        "    Extension.options = [\"best\", \"aac\", \"flac\", \"mp3\", \"m4a\", \"opus\", \"vorbis\", \"wav\"]\n",
        "    Extension.value = \"best\"\n",
        "    AudioOnly.button_style = \"info\"\n",
        "  elif change[\"type\"] == \"change\" and change[\"new\"] == False:\n",
        "    VideoQ.disabled = False\n",
        "    Subtitle.disabled = False\n",
        "    if Subtitle.value:\n",
        "      Subtitle.button_style = \"info\"\n",
        "    else:\n",
        "      Subtitle.button_style = \"\"\n",
        "    Resolution.disabled = False\n",
        "    if AudioQ.value == \"Best Quality (Opus)\":\n",
        "      Extension.options = [\"mkv\", \"webm\"]\n",
        "    else:\n",
        "      Extension.options = [\"mkv\", \"mp4\", \"webm\"]\n",
        "    Extension.value = \"mkv\"\n",
        "    AudioOnly.button_style = \"\"\n",
        "\n",
        "def SubtitleChange(change):\n",
        "  if change[\"type\"] == \"change\" and change[\"new\"]:\n",
        "    Subtitle.button_style = \"info\"\n",
        "  elif change[\"type\"] == \"change\" and change[\"new\"] == False:\n",
        "    Subtitle.button_style = \"\"\n",
        "\n",
        "def AudioQChange(change):\n",
        "  if change[\"type\"] == \"change\" and change[\"new\"] == \"Best Quality (Opus)\":\n",
        "    Extension.options = [\"mkv\", \"webm\"]\n",
        "    Extension.value = \"mkv\"\n",
        "  elif change[\"type\"] == \"change\" and change[\"new\"] == \"Best Compatibility (M4A)\":\n",
        "    Extension.options = [\"mkv\", \"mp4\", \"webm\"]\n",
        "    Extension.value = \"mkv\"\n",
        "\n",
        "def ShowYT():\n",
        "  clear_output(wait=True)\n",
        "  RefreshPathYT()\n",
        "  display(widgets.HBox([widgets.VBox([widgets.HTML(\"<b style=\\\"color:#888888;\\\">Link:</b>\"), Links,\n",
        "                                      widgets.HTML(\"<b style=\\\"color:#888888;\\\">For website that require an account:</b>\"), UsernameYT, PasswordYT, SecAuth, VideoPW,\n",
        "                                      widgets.HTML(\"<b><a href=\\\"https://en.wikipedia.org/wiki/ISO_3166-1_alpha-2#Officially_assigned_code_elements\\\" target=\\\"_blank\\\">GEO Bypass Country:</a></b>\"), GEOBypass,\n",
        "                                      widgets.HTML(\"<b style=\\\"color:#888888;\\\">Proxy:</b>\"), ProxyYT,\n",
        "                                      widgets.HTML(\"<b style=\\\"color:#888888;\\\">Sleep Interval (second):</b>\"), MinSleep, MaxSleep]),\n",
        "                        widgets.VBox([widgets.HTML(\"<b style=\\\"color:#888888;\\\">Video Quality:</b>\"), VideoQ, widgets.HTML(\"<b style=\\\"color:#888888;\\\">Resolution:</b>\"), Resolution,\n",
        "                                      widgets.HTML(\"<b style=\\\"color:#888888;\\\">Audio Quality:</b>\"), AudioQ, widgets.HTML(\"<b style=\\\"color:#888888;\\\">Extension:</b>\"), Extension,\n",
        "                                      widgets.HTML(\"<b style=\\\"color:#888888;\\\">Extra Options:</b>\"), widgets.HBox([Subtitle, AudioOnly]),\n",
        "                                      widgets.HTML(\"<b style=\\\"color:#888888;\\\">Extra Arguments:</b>\"), ExtraArg])]), HTML(\"<h4 style=\\\"color:#888888;\\\">Save Location:</h4>\"),\n",
        "          SavePathYT, MakeButton(\"Refresh\", RefreshPathYT, \"\"))\n",
        "  if not os.path.exists(\"/content/drive/\"):\n",
        "    display(HTML(\"*If you want to save in Google Drive please run the cell below.\"))\n",
        "  display(HTML(\"<br>\"), MakeButton(\"Download\", DownloadYT, \"info\"))\n",
        "\n",
        "def DownloadYT():\n",
        "  if Links.value.strip():\n",
        "    Count = 0\n",
        "    Total = str(len(Links.value.splitlines()))\n",
        "    # Account Check\n",
        "    if UsernameYT.value.strip() and PasswordYT.value.strip():\n",
        "      accountC = \"--username \\\"\" + UsernameYT.value + \"\\\" --password \\\"\" + PasswordYT.value + \"\\\"\"\n",
        "    else:\n",
        "      accountC = \"\"\n",
        "    if SecAuth.value.strip():\n",
        "      secauthC = \"-2 \" + SecAuth.value\n",
        "    else:\n",
        "      secauthC = \"\"\n",
        "    if VideoPW.value.strip():\n",
        "      videopwC = \"--video-password \" + VideoPW.value\n",
        "    else:\n",
        "      videopwC = \"\"\n",
        "    # Proxy\n",
        "    if ProxyYT.value.strip():\n",
        "      proxyytC = \"--proxy \" + ProxyYT.value\n",
        "    else:\n",
        "      proxyytC = \"\"\n",
        "    # GEO Bypass\n",
        "    if GEOBypass.value == \"Disable\":\n",
        "      geobypass = \"\"\n",
        "    elif GEOBypass.value == \"Hide\":\n",
        "      geobypass = \"--geo-bypass\"\n",
        "    else:\n",
        "      geobypass = \"--geo-bypass-country \" + GEOBypass.value\n",
        "    # Video Quality\n",
        "    if VideoQ.value == \"Best Quality (VP9 upto 4K)\":\n",
        "      videoqC = \"webm\"\n",
        "    else:\n",
        "      videoqC = \"mp4\"\n",
        "    # Audio Quality\n",
        "    if AudioQ.value == \"Best Quality (Opus)\":\n",
        "      audioqC = \"webm\"\n",
        "    else:\n",
        "      audioqC = \"m4a\"\n",
        "    # Audio Only Check\n",
        "    if AudioOnly.value:\n",
        "      subtitleC = \"\"\n",
        "      thumbnailC = \"\"\n",
        "      extC = \"-x --audio-quality 0 --audio-format \" + Extension.value\n",
        "      codecC = \"bestaudio[ext=\" + audioqC + \"]/bestaudio/best\"\n",
        "    else:\n",
        "      if Subtitle.value:\n",
        "        subtitleC = \"--all-subs --convert-subs srt --embed-subs\"\n",
        "      else:\n",
        "        subtitleC = \"\"\n",
        "      if Extension.value == \"mp4\":\n",
        "        thumbnailC = \"--embed-thumbnail\"\n",
        "      else:\n",
        "        thumbnailC = \"\"\n",
        "      extC = \"--merge-output-format \" + Extension.value\n",
        "      if Resolution.value == \"Highest\":\n",
        "        codecC = \"bestvideo[ext=\" + videoqC + \"]+bestaudio[ext=\" + audioqC + \"]/bestvideo+bestaudio/best\"\n",
        "      else:\n",
        "        codecC = \"bestvideo[ext=\" + videoqC + \",height<=\" + Resolution.value.replace(\"4K\", \"2160\").replace(\"p\", \"\") + \"]+bestaudio[ext=\" + audioqC + \"]/bestvideo[height<=\" + Resolution.value.replace(\"4K\", \"2160\").replace(\"p\", \"\") + \"]+bestaudio/bestvideo+bestaudio/best\"\n",
        "    # Archive\n",
        "    if os.path.isfile(\"/root/.yt-dlp.txt\"):\n",
        "      archiveC = \"--download-archive \\\"/root/.yt-dlp.txt\\\"\"\n",
        "    else:\n",
        "      archiveC = \"\"\n",
        "    # Sleep Interval\n",
        "    if MinSleep.value > 0 and MaxSleep.value > 0:\n",
        "      minsleepC = \"--min-sleep-interval \" + MinSleep.value\n",
        "      maxsleepC = \"--max-sleep-interval \" + MaxSleep.value\n",
        "    else:\n",
        "      minsleepC = \"\"\n",
        "      maxsleepC = \"\"\n",
        "    # Extra Arguments\n",
        "    extraargC = ExtraArg.value\n",
        "    for Link in Links.value.splitlines():\n",
        "      clear_output(wait=True)\n",
        "      Count += 1\n",
        "      display(HTML(\"<h3 style=\\\"font-family:Trebuchet MS;color:#4f8bd6;\\\">Processing link \" + str(Count) + \" out of \" + Total + \"</h3>\"))\n",
        "      if \"youtube.com\" in Link or \"youtu.be\" in Link:\n",
        "        display(HTML(\"<h3 style=\\\"font-family:Trebuchet MS;color:#4f8bd6;\\\">Currently downloading...</h3><br>\"), YouTubeVideo(Link, width=640, height=360), HTML(\"<br>\"))\n",
        "      else:\n",
        "        display(HTML(\"<h3 style=\\\"font-family:Trebuchet MS;color:#4f8bd6;\\\">Currently downloading <a href=\\\"\" + Link + \"\\\">\" + Link + \"</a></h3><br>\"))\n",
        "      if (\"youtube.com\" in Link or \"youtu.be\" in Link) and \"list=\" in Link:\n",
        "        !yt-dlp -i --no-warnings --yes-playlist --add-metadata $accountC $secauthC $videopwC $minsleepC $maxsleepC $geobypass $proxyytC $extC $thumbnailC $subtitleC $archiveC $extraargC -f \"$codecC\" -o \"/root/.yt-dlp/%(playlist)s/%(playlist_index)s - %(title)s.%(ext)s\" \"$Link\"\n",
        "      else:\n",
        "        !yt-dlp -i --no-warnings --yes-playlist --add-metadata $accountC $secauthC $videopwC $minsleepC $maxsleepC $geobypass $proxyytC $extC $thumbnailC $subtitleC $archiveC $extraargC -f \"$codecC\" -o \"/root/.yt-dlp/%(title)s.%(ext)s\" \"$Link\"\n",
        "      if not os.path.exists(SavePathYT.value):\n",
        "        get_ipython().system_raw(\"mkdir -p -m 666 \" + SavePathYT.value)\n",
        "      get_ipython().system_raw(\"mv /root/.yt-dlp/* '\" + SavePathYT.value + \"/'\")\n",
        "    # Archive Download\n",
        "    if os.path.isfile(\"/root/.yt-dlp.txt\"):\n",
        "      files.download(\"/root/.yt-dlp.txt\")\n",
        "    ShowYT()\n",
        "\n",
        "if not os.path.isfile(\"/usr/local/bin/yt-dlp\"):\n",
        "  get_ipython().system_raw(\"rm -rf /content/sample_data/ && mkdir -p -m 666 /root/.yt-dlp/ && apt-get install atomicparsley && curl -L https://github.com/yt-dlp/yt-dlp/releases/latest/download/yt-dlp -o /usr/local/bin/yt-dlp && chmod a+rx /usr/local/bin/yt-dlp\")\n",
        "if Archive:\n",
        "  upload_archive()\n",
        "else:\n",
        "  AudioOnly.observe(AudioOnlyChange)\n",
        "  Subtitle.observe(SubtitleChange)\n",
        "  AudioQ.observe(AudioQChange)\n",
        "  ShowYT()"
      ]
    },
    {
      "cell_type": "markdown",
      "metadata": {
        "id": "RDHuIkoi6l9a"
      },
      "source": [
        "### <font size=\"4\">» </font><font size=\"5\">Display Media File Metadata"
      ]
    },
    {
      "cell_type": "code",
      "metadata": {
        "id": "Sv8au_RO6WUs",
        "cellView": "form"
      },
      "source": [
        "#@title <font size=\"3\"> *You can ignore the* `At least one output file must be specified` *error for this cell*\n",
        "import os, sys, re\n",
        "media_file_path = \"/content/See You Again & One Call Away.mkv\" #@param {type:\"string\"}\n",
        "os.environ['inputFile'] = media_file_path\n",
        "!ffmpeg -i \"$inputFile\" -hide_banner"
      ],
      "execution_count": null,
      "outputs": []
    },
    {
      "cell_type": "markdown",
      "metadata": {
        "id": "FpJXJiRl6-gK"
      },
      "source": [
        "### <font size=\"4\">» </font><font size=\"5\">Trim Video File (*Lossless*)"
      ]
    },
    {
      "cell_type": "code",
      "metadata": {
        "id": "iFBUeQhn7QTc",
        "cellView": "form"
      },
      "source": [
        "import os, sys, re\n",
        "#@markdown Main Settings\n",
        "video_file_path = \"/content/Lagu Barat Terbaru  2018 Terpopuler Di Indonesia \\uFF5C Lagu Cocok Untuk Menemani Saat Kerja dan Santai.mkv\" #@param {type:\"string\"}\n",
        "start_time = \"00:00:00.000\" #@param {type:\"string\"}\n",
        "end_time = \"00:02:49.000\" #@param {type:\"string\"}\n",
        "#@markdown Optional Settings\n",
        "output_location = \"\" #@param {type:\"string\"}\n",
        "output_name = \"See You Again & One Call Away\" #@param {type:\"string\"}\n",
        "\n",
        "output_file_path = re.search(\"^[\\/].+\\/\", video_file_path)\n",
        "output_file_path_raw = output_file_path.group(0)\n",
        "delsplit = re.search(\"\\/(?:.(?!\\/))+$\", video_file_path)\n",
        "filename = re.sub(\"^[\\/]\", \"\", delsplit.group(0))\n",
        "filename_raw = re.sub(\".{4}$\", \"\", filename)\n",
        "file_extension = re.search(\".{3}$\", filename)\n",
        "file_extension_raw = file_extension.group(0)\n",
        "\n",
        "os.environ['inputFile'] = video_file_path\n",
        "if output_location:\n",
        "  if not os.path.isdir(output_location):\n",
        "    os.makedirs(output_location)\n",
        "  os.environ['outputPath'] = output_location\n",
        "else:\n",
        "  os.environ['outputPath'] = output_file_path_raw\n",
        "os.environ['startTime'] = start_time\n",
        "os.environ['endTime'] = end_time\n",
        "if output_name:\n",
        "  os.environ['meta'] = \"title=\" + output_name\n",
        "  os.environ['fileName'] = output_name\n",
        "else:\n",
        "  filename_raw += \"-TRIM\"\n",
        "  os.environ['fileName'] = filename_raw\n",
        "os.environ['fileExtension'] = file_extension_raw\n",
        "\n",
        "if (output_name):\n",
        "  !ffmpeg -hide_banner -i \"$inputFile\" -map_metadata -1 -metadata \"$meta\" -ss \"$startTime\" -to \"$endTime\" -c copy \"$outputPath\"/\"$fileName\".\"$fileExtension\" -y\n",
        "else:\n",
        "  !ffmpeg -hide_banner -i \"$inputFile\" -ss \"$startTime\" -to \"$endTime\" -c copy \"$outputPath\"/\"$fileName\".\"$fileExtension\" -y"
      ],
      "execution_count": null,
      "outputs": []
    },
    {
      "cell_type": "markdown",
      "metadata": {
        "id": "2f-THZmDoOaY"
      },
      "source": [
        "### <font size=\"4\">» </font><font size=\"5\">Extract Audio from Video File (*Lossless*)"
      ]
    },
    {
      "cell_type": "code",
      "metadata": {
        "id": "nSeO98YQoTJe",
        "cellView": "form"
      },
      "source": [
        "import os, sys, re\n",
        "\n",
        "#@markdown Main Settings\n",
        "video_file_path = \"\" #@param {type:\"string\"}\n",
        "output_file_extension = 'm4a' #@param [\"m4a\", \"mp3\", \"opus\", \"flac\", \"wav\"]\n",
        "#@markdown Optional Settings\n",
        "output_location = \"\" #@param {type:\"string\"}\n",
        "output_name = \"\" #@param {type:\"string\"}\n",
        "\n",
        "delsplit = re.search(\"\\/(?:.(?!\\/))+$\", video_file_path)\n",
        "output_file_path = re.search(\"^[\\/].+\\/\", video_file_path)\n",
        "filename = re.sub(\"^[\\/]\", \"\", delsplit.group(0))\n",
        "filename_raw = re.sub(\".{4}$\", \"\", filename)\n",
        "\n",
        "os.environ['inputFile'] = video_file_path\n",
        "if output_location:\n",
        "  if not os.path.isdir(output_location):\n",
        "    os.makedirs(output_location)\n",
        "  os.environ['outputPath'] = output_location\n",
        "else:\n",
        "  os.environ['outputPath'] = output_file_path.group(0)\n",
        "if output_name:\n",
        "  os.environ['meta'] = \"title=\" + output_name\n",
        "  os.environ['fileName'] = output_name\n",
        "else:\n",
        "  filename_raw += \"-audio\"\n",
        "  os.environ['fileName'] = filename_raw\n",
        "os.environ['fileType'] = output_file_extension\n",
        "\n",
        "if (output_name):\n",
        "  !ffmpeg -hide_banner -i \"$inputFile\" -map_metadata -1 -metadata \"$meta\" -ss \"$startTime\" -to \"$endTime\" -c copy \"$outputPath\"/\"$fileName\".\"$fileExtension\" -y\n",
        "else:\n",
        "  !ffmpeg -hide_banner -i \"$inputFile\" -vn -c:a copy \"$outputPath\"/\"$fileName\".\"$fileType\" -y"
      ],
      "execution_count": null,
      "outputs": []
    },
    {
      "cell_type": "markdown",
      "metadata": {
        "id": "7-3O4en4C4IL"
      },
      "source": [
        "### <font size=\"4\">» </font><font size=\"5\">Convert Audio Filetype (*mp3, m4a, ogg, flac, etc.*)"
      ]
    },
    {
      "cell_type": "code",
      "metadata": {
        "id": "aURlOf9BC1P3",
        "cellView": "form"
      },
      "source": [
        "import os, sys, re\n",
        "\n",
        "#@markdown Main Settings\n",
        "audio_file_path = \"\" #@param {type:\"string\"}\n",
        "output_file_type = \"mp3\" #@param [\"mp3\", \"ogg\", \"m4a\", \"opus\", \"flac\", \"alac\", \"wav\"]\n",
        "#@markdown Optional Settings\n",
        "output_location = \"\" #@param {type:\"string\"}\n",
        "output_name = \"\" #@param {type:\"string\"}\n",
        "\n",
        "output_file_path = re.search(\"^[\\/].+\\/\", audio_file_path)\n",
        "output_file_path_raw = output_file_path.group(0)\n",
        "delsplit = re.search(\"\\/(?:.(?!\\/))+$\", audio_file_path)\n",
        "filename = re.sub(\"^[\\/]\", \"\", delsplit.group(0))\n",
        "filename_raw = re.sub(\".{4}$\", \"\", filename)\n",
        "file_extension = re.search(\".{3}$\", filename)\n",
        "file_extension_raw = file_extension.group(0)\n",
        "\n",
        "os.environ['inputFile'] = audio_file_path\n",
        "if output_location:\n",
        "  if not os.path.isdir(output_location):\n",
        "    os.makedirs(output_location)\n",
        "  os.environ['outputPath'] = output_location\n",
        "else:\n",
        "  os.environ['outputPath'] = output_file_path_raw\n",
        "os.environ['fileExtension'] = output_file_type\n",
        "if output_name:\n",
        "  os.environ['meta'] = \"title=\" + output_name\n",
        "  os.environ['fileName'] = output_name\n",
        "else:\n",
        "  filename_raw += \"-converted\"\n",
        "  os.environ['fileName'] = filename_raw\n",
        "\n",
        "if (output_name):\n",
        "  !ffmpeg -hide_banner -i \"$inputFile\" -map_metadata -1 -metadata \"$meta\" -ss \"$startTime\" -to \"$endTime\" -c copy \"$outputPath\"/\"$fileName\".\"$fileExtension\" -y\n",
        "else:\n",
        "  !ffmpeg -hide_banner -i \"$inputFile\" \"$outputPath\"/\"$fileName\".\"$fileExtension\""
      ],
      "execution_count": null,
      "outputs": []
    }
  ]
}