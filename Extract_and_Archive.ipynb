{
  "nbformat": 4,
  "nbformat_minor": 0,
  "metadata": {
    "colab": {
      "name": "Extract and Archive.ipynb",
      "provenance": [],
      "collapsed_sections": [
        "IoQNFhYuQwFG",
        "nnUl4vMPY6hq",
        "tEfY_jTjZLea",
        "PABmudPnadUa",
        "a5cLb5Hrccli",
        "KkL_8RXMddnD"
      ],
      "mount_file_id": "1GIjCi44TXvvkA5PfFbVHbK7wtidpI7Gz",
      "authorship_tag": "ABX9TyN/QA/qHxUOdpM//d0LlbmQ",
      "include_colab_link": true
    },
    "kernelspec": {
      "name": "python3",
      "display_name": "Python 3"
    },
    "language_info": {
      "name": "python"
    }
  },
  "cells": [
    {
      "cell_type": "markdown",
      "metadata": {
        "id": "view-in-github",
        "colab_type": "text"
      },
      "source": [
        "<a href=\"https://colab.research.google.com/github/tantowijh/colab-collection/blob/main/Extract_and_Archive.ipynb\" target=\"_parent\"><img src=\"https://colab.research.google.com/assets/colab-badge.svg\" alt=\"Open In Colab\"/></a>"
      ]
    },
    {
      "cell_type": "markdown",
      "source": [
        "# **Connect to Google Drive**\n",
        "\n",
        "```\n",
        "Connect to google drive and prolong the run time\n",
        "```"
      ],
      "metadata": {
        "id": "IoQNFhYuQwFG"
      }
    },
    {
      "cell_type": "code",
      "source": [
        "#@markdown <br><center><img src='https://upload.wikimedia.org/wikipedia/commons/thumb/d/da/Google_Drive_logo.png/600px-Google_Drive_logo.png' height=\"50\" alt=\"Gdrive-logo\"/></center>\n",
        "#@markdown <center><h3>Mount GDrive to /content/drive</h3></center><br>\n",
        "MODE = \"MOUNT\" #@param [\"MOUNT\", \"UNMOUNT\"]\n",
        "#Mount your Gdrive! \n",
        "from google.colab import drive\n",
        "drive.mount._DEBUG = False\n",
        "if MODE == \"MOUNT\":\n",
        "  drive.mount('/content/drive', force_remount=True)\n",
        "elif MODE == \"UNMOUNT\":\n",
        "  try:\n",
        "    drive.flush_and_unmount()\n",
        "  except ValueError:\n",
        "    pass\n",
        "  get_ipython().system_raw(\"rm -rf /root/.config/Google/DriveFS\")"
      ],
      "metadata": {
        "cellView": "form",
        "id": "pg-AmLiPJ1P0",
        "colab": {
          "base_uri": "https://localhost:8080/"
        },
        "outputId": "027113f0-7e78-4ce6-92b1-d08b5890f196"
      },
      "execution_count": null,
      "outputs": [
        {
          "output_type": "stream",
          "name": "stdout",
          "text": [
            "Mounted at /content/drive\n"
          ]
        }
      ]
    },
    {
      "cell_type": "code",
      "source": [
        "#@title **Run this code if you want a longer run time (Optional but recommended)</font>**\n",
        "#@markdown *This cell runs a JS code that automatically reconnects you to avoid inactivity due to idle.*\n",
        "\n",
        "import IPython\n",
        "from IPython.display import clear_output\n",
        "from google.colab import output\n",
        "\n",
        "display(IPython.display.Javascript('''\n",
        " function connectRefresher() {\n",
        "       window.ConnectButtonIntervalId = setInterval(function ConnectButton(){\n",
        "                console.log(\"connected\"); \n",
        "                document.querySelector(\"#top-toolbar > colab-connect-button\").shadowRoot.querySelector(\"#connect\").click();\n",
        "                document.querySelector(\"colab-sessions-dialog\").shadowRoot.querySelector(\"#footer > div > paper-button\").click();\n",
        "                console.log(\"closed the dialog!!\"); \n",
        "            },60000);\n",
        "    }\n",
        "    \n",
        " function clearRefresher() { \n",
        "           console.log(\"clear Interval called !!\");\n",
        "           clearInterval(window.ConnectButtonIntervalId);\n",
        "    }\n",
        "\n",
        " connectRefresher(); //to connect the refresher\n",
        " clearRefresher(); //to disconnect the refresher\n",
        "'''))\n",
        "\n",
        "clear_output()"
      ],
      "metadata": {
        "cellView": "form",
        "id": "fG6zWHcXqeeR"
      },
      "execution_count": null,
      "outputs": []
    },
    {
      "cell_type": "markdown",
      "source": [
        "# **RAR EXTRACT**\n",
        "\n",
        "```\n",
        "Extract Rar and Protected Rar Files\n",
        "```\n",
        "\n",
        "\n",
        "\n"
      ],
      "metadata": {
        "id": "SNxbRGBqYVKp"
      }
    },
    {
      "cell_type": "code",
      "execution_count": null,
      "metadata": {
        "cellView": "form",
        "id": "FwWb9UFPI5qd"
      },
      "outputs": [],
      "source": [
        "from IPython.core.display import clear_output\n",
        "#@title **Start Extract File**\n",
        "#@markdown Enter file path and extract destination path.\n",
        "\n",
        "import os\n",
        "import subprocess\n",
        "\n",
        "#@markdown ARCHIVED TYPE RAR\n",
        "ARCHIVED_PATH = \"/content/drive/Shareddrives/01. Anime Server/01. Anime/01. TV Show/21. Isekai Meikyuu de Harem/Season 1/[LENDRIVE]_IMH_-_03_[1080p_HEVC][Dualsubs].rar\" #@param {type:\"string\"}\n",
        "EXTRACT_PATH = \"/content/drive/Shareddrives/01. Anime Server/01. Anime/01. TV Show/21. Isekai Meikyuu de Harem/Season 1\" #@param {type:\"string\"}\n",
        "\n",
        "!unrar x '{ARCHIVED_PATH}' '{EXTRACT_PATH}'\n",
        "\n",
        "\n",
        "print(f\"File Extract Successfully.\")"
      ]
    },
    {
      "cell_type": "code",
      "source": [
        "#@title **Start Extract File**\n",
        "#@markdown Enter file path and extract destination path.\n",
        "\n",
        "import os\n",
        "import subprocess\n",
        "\n",
        "#@markdown ARCHIVED TYPE RAR PROTECTED\n",
        "ARCHIVED_PATH = \"/content/drive/Shareddrives/06. YT-DLP/[extonan] Saekano Flat [1080p] [BD Batch].part1.rar\" #@param {type:\"string\"}\n",
        "EXTRACT_PATH = \"/content/drive/Shareddrives/06. YT-DLP\" #@param {type:\"string\"}\n",
        "\n",
        "!unrar x -Y '{ARCHIVED_PATH}' '{EXTRACT_PATH}'\n",
        "\n",
        "print(f\"File Extract Successfully.\")"
      ],
      "metadata": {
        "cellView": "form",
        "id": "cRDl3tYuUbkt"
      },
      "execution_count": null,
      "outputs": []
    },
    {
      "cell_type": "markdown",
      "source": [
        "# **ZIP EXTRACT**\n",
        "\n",
        "```\n",
        "Extract Zipped Files\n",
        "```\n",
        "\n"
      ],
      "metadata": {
        "id": "nnUl4vMPY6hq"
      }
    },
    {
      "cell_type": "code",
      "source": [
        "#@title **Start Extract File**\n",
        "#@markdown Enter file path and extract destination path.\n",
        "\n",
        "import os\n",
        "import subprocess\n",
        "\n",
        "#@markdown ARCHIVED TYPE ZIP\n",
        "ARCHIVED_PATH = \"/content/drive/Shareddrives/03. Website Project/01. Themes/01. Saved Themes/JW+PLAYER+1.8.zip\" #@param {type:\"string\"}\n",
        "EXTRACT_PATH = \"/content/drive/Shareddrives/03. Website Project/01. Themes/01. Saved Themes\" #@param {type:\"string\"}\n",
        " \n",
        "!unzip '{ARCHIVED_PATH}' -d '{EXTRACT_PATH}'\n",
        "\n",
        "print(f\"File Extract Successfully.\")"
      ],
      "metadata": {
        "cellView": "form",
        "id": "MTAytInoUrEq"
      },
      "execution_count": null,
      "outputs": []
    },
    {
      "cell_type": "markdown",
      "source": [
        "# **TAR EXTRACT**\n",
        "\n",
        "```\n",
        "Extract TAR, TAR.GZ, TAR.BZ2 Files\n",
        "```\n",
        "\n"
      ],
      "metadata": {
        "id": "tEfY_jTjZLea"
      }
    },
    {
      "cell_type": "code",
      "source": [
        "#@title **Start Extract File**\n",
        "#@markdown Enter file path and extract destination path.\n",
        "\n",
        "import os\n",
        "import subprocess\n",
        "\n",
        "#@markdown ARCHIVED TYPE TAR\n",
        "ARCHIVED_PATH = \"/content/drive/Shareddrives/Server/Anime/[Bakadame.com] Salto!! 720p.rar\" #@param {type:\"string\"}\n",
        "EXTRACT_PATH = \"/content/drive/Shareddrives/Server/Anime\" #@param {type:\"string\"}\n",
        "\n",
        "!tar -xvf '{ARCHIVED_PATH}' -C '{EXTRACT_PATH}'\n",
        "\n",
        "clear_output()\n",
        "print(f\"File Extract Successfully.\")"
      ],
      "metadata": {
        "cellView": "form",
        "id": "L8DUSKX0VMmg"
      },
      "execution_count": null,
      "outputs": []
    },
    {
      "cell_type": "code",
      "source": [
        "#@title **Start Extract File**\n",
        "#@markdown Enter file path and extract destination path.\n",
        "\n",
        "import os\n",
        "import subprocess\n",
        "\n",
        "#@markdown ARCHIVED TYPE TAR.GZ\n",
        "ARCHIVED_PATH = \"/content/drive/Shareddrives/Server/Anime/[Bakadame.com] Salto!! 720p.rar\" #@param {type:\"string\"}\n",
        "EXTRACT_PATH = \"/content/drive/Shareddrives/Server/Anime\" #@param {type:\"string\"}\n",
        "\n",
        "!tar -xzvf '{ARCHIVED_PATH}' -C '{EXTRACT_PATH}'\n",
        "\n",
        "clear_output()\n",
        "print(f\"File Extract Successfully.\")"
      ],
      "metadata": {
        "cellView": "form",
        "id": "9SToHr_GWUUa"
      },
      "execution_count": null,
      "outputs": []
    },
    {
      "cell_type": "code",
      "source": [
        "#@title **Start Extract File**\n",
        "#@markdown Enter file path and extract destination path.\n",
        "\n",
        "import os\n",
        "import subprocess\n",
        "\n",
        "#@markdown ARCHIVED TYPE TAR.BZ2\n",
        "ARCHIVED_PATH = \"/content/drive/Shareddrives/Server/Anime/[Bakadame.com] Salto!! 720p.rar\" #@param {type:\"string\"}\n",
        "EXTRACT_PATH = \"/content/drive/Shareddrives/Server/Anime\" #@param {type:\"string\"}\n",
        "\n",
        "!tar -xjvf '{ARCHIVED_PATH}' -C '{EXTRACT_PATH}'\n",
        "\n",
        "clear_output()\n",
        "print(f\"File Extract Successfully.\")"
      ],
      "metadata": {
        "cellView": "form",
        "id": "GG7mYtcKWqcy"
      },
      "execution_count": null,
      "outputs": []
    },
    {
      "cell_type": "markdown",
      "source": [
        "# **ARCHIVE RAR FILES**\n",
        "\n",
        "```\n",
        "Archive RAR Files\n",
        "```\n",
        "\n"
      ],
      "metadata": {
        "id": "PABmudPnadUa"
      }
    },
    {
      "cell_type": "code",
      "source": [
        "#@title **Start Archive File**\n",
        "#@markdown Enter file path and extract destination path.\n",
        "\n",
        "!apt-get install rar\n",
        "\n",
        "import os\n",
        "import subprocess\n",
        "\n",
        "#@markdown ARCHIVE TYPE RAR\n",
        "FILE_NAME = \"\" #@param {type:\"string\"}\n",
        "FOLDER_PATH = \"\" #@param {type:\"string\"}\n",
        "\n",
        "!rar a '{FILE_NAME}' '{FOLDER_PATH}'\n",
        "\n",
        "clear_output()\n",
        "print(f\"File Extract Successfully.\")"
      ],
      "metadata": {
        "cellView": "form",
        "id": "KY6OZKY9a1zg"
      },
      "execution_count": null,
      "outputs": []
    },
    {
      "cell_type": "code",
      "source": [
        "#@title **Start Archive File**\n",
        "#@markdown Enter file path and extract destination path.\n",
        "\n",
        "!apt-get install rar\n",
        "\n",
        "import os\n",
        "import subprocess\n",
        "\n",
        "#@markdown ARCHIVE TYPE RAR PROTECTED\n",
        "FILE_NAME = \"\" #@param {type:\"string\"}\n",
        "FOLDER_PATH = \"\" #@param {type:\"string\"}\n",
        "\n",
        "!rar a -p '{FILE_NAME}' '{FOLDER_PATH}'\n",
        "\n",
        "clear_output()\n",
        "print(f\"File Extract Successfully.\")"
      ],
      "metadata": {
        "cellView": "form",
        "id": "7O2827_DcKgs"
      },
      "execution_count": null,
      "outputs": []
    },
    {
      "cell_type": "markdown",
      "source": [
        "# **ARCHIVE ZIP FILES**\n",
        "\n",
        "```\n",
        "Archive ZIP Files\n",
        "```\n",
        "\n"
      ],
      "metadata": {
        "id": "a5cLb5Hrccli"
      }
    },
    {
      "cell_type": "code",
      "source": [
        "#@title **Start Archive File**\n",
        "#@markdown Enter file path and extract destination path.\n",
        "\n",
        "import os\n",
        "import subprocess\n",
        "\n",
        "#@markdown ARCHIVE TYPE ZIP\n",
        "FILE_NAME = \"\" #@param {type:\"string\"}\n",
        "FOLDER_PATH = \"\" #@param {type:\"string\"}\n",
        "\n",
        "!zip '{FILE_NAME}' '{FOLDER_PATH}'\n",
        "\n",
        "clear_output()\n",
        "print(f\"File Extract Successfully.\")"
      ],
      "metadata": {
        "id": "mOCMnxAucas6"
      },
      "execution_count": null,
      "outputs": []
    },
    {
      "cell_type": "markdown",
      "source": [
        "# **ARCHIVE TAR FILES**\n",
        "\n",
        "```\n",
        "Archive TAR TAR.GZ TAR.BZ2 Files\n",
        "```\n",
        "\n"
      ],
      "metadata": {
        "id": "KkL_8RXMddnD"
      }
    },
    {
      "cell_type": "code",
      "source": [
        "#@title **Start Archive File**\n",
        "#@markdown Enter file path and extract destination path.\n",
        "\n",
        "import os\n",
        "import subprocess\n",
        "\n",
        "#@markdown ARCHIVE TYPE TAR\n",
        "FILE_NAME = \"\" #@param {type:\"string\"}\n",
        "FOLDER_PATH = \"\" #@param {type:\"string\"}\n",
        "\n",
        "!tar -cvf '{FILE_NAME}' '{FOLDER_PATH}'\n",
        "\n",
        "clear_output()\n",
        "print(f\"File Extract Successfully.\")"
      ],
      "metadata": {
        "cellView": "form",
        "id": "DpDSe0oHdbYD"
      },
      "execution_count": null,
      "outputs": []
    },
    {
      "cell_type": "code",
      "source": [
        "#@title **Start Archive File**\n",
        "#@markdown Enter file path and extract destination path.\n",
        "\n",
        "import os\n",
        "import subprocess\n",
        "\n",
        "#@markdown ARCHIVE TYPE TAR.GZ\n",
        "FILE_NAME = \"\" #@param {type:\"string\"}\n",
        "FOLDER_PATH = \"\" #@param {type:\"string\"}\n",
        "\n",
        "!tar -czvf '{FILE_NAME}' '{FOLDER_PATH}'\n",
        "\n",
        "clear_output()\n",
        "print(f\"File Extract Successfully.\")"
      ],
      "metadata": {
        "cellView": "form",
        "id": "ET10aEH-eteA"
      },
      "execution_count": null,
      "outputs": []
    },
    {
      "cell_type": "code",
      "source": [
        "#@title **Start Archive File**\n",
        "#@markdown Enter file path and extract destination path.\n",
        "\n",
        "import os\n",
        "import subprocess\n",
        "\n",
        "#@markdown ARCHIVE TYPE TAR.BZ2\n",
        "FILE_NAME = \"\" #@param {type:\"string\"}\n",
        "FOLDER_PATH = \"\" #@param {type:\"string\"}\n",
        "\n",
        "!tar -cjvf '{FILE_NAME}' '{FOLDER_PATH}'\n",
        "\n",
        "clear_output()\n",
        "print(f\"File Extract Successfully.\")"
      ],
      "metadata": {
        "cellView": "form",
        "id": "QNENWPvAe1R4"
      },
      "execution_count": null,
      "outputs": []
    }
  ]
}