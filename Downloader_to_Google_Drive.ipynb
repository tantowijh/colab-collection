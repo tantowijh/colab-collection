{
  "nbformat": 4,
  "nbformat_minor": 0,
  "metadata": {
    "colab": {
      "name": "Downloader to Google Drive.ipynb",
      "provenance": [],
      "collapsed_sections": [
        "eev3EcLEiK1y",
        "0Mrw99qJhJHm"
      ],
      "include_colab_link": true
    },
    "kernelspec": {
      "name": "python3",
      "display_name": "Python 3"
    },
    "language_info": {
      "name": "python"
    }
  },
  "cells": [
    {
      "cell_type": "markdown",
      "metadata": {
        "id": "view-in-github",
        "colab_type": "text"
      },
      "source": [
        "<a href=\"https://colab.research.google.com/github/tantowijh/colab-collection/blob/main/Downloader_to_Google_Drive.ipynb\" target=\"_parent\"><img src=\"https://colab.research.google.com/assets/colab-badge.svg\" alt=\"Open In Colab\"/></a>"
      ]
    },
    {
      "cell_type": "markdown",
      "source": [
        "## **Mount Google Drive**\n",
        "Run the following command to mount google drive:"
      ],
      "metadata": {
        "id": "eev3EcLEiK1y"
      }
    },
    {
      "cell_type": "code",
      "metadata": {
        "id": "PRtU5F7HEuhR",
        "cellView": "form",
        "colab": {
          "base_uri": "https://localhost:8080/"
        },
        "outputId": "c9e5cf39-0f02-417a-b29c-e3b4c87864aa"
      },
      "source": [
        "#@title **[0] Link your Google Drive**\n",
        "#@markdown <center><img src='https://upload.wikimedia.org/wikipedia/commons/thumb/d/da/Google_Drive_logo.png/600px-Google_Drive_logo.png' height=\"50\" alt=\"Gdrive-logo\"/></center>\n",
        "from google.colab import drive\n",
        "drive.mount('/content/drive', force_remount=True)"
      ],
      "execution_count": 1,
      "outputs": [
        {
          "output_type": "stream",
          "name": "stdout",
          "text": [
            "Mounted at /content/drive\n"
          ]
        }
      ]
    },
    {
      "cell_type": "code",
      "metadata": {
        "id": "w0EIfFJWXkTc",
        "cellView": "form"
      },
      "source": [
        "#@title **[1] Run this code if you want a longer run time (Optional but recommended)</font>**\n",
        "#@markdown *This cell runs a JS code that automatically reconnects you to avoid inactivity due to idle.*\n",
        "\n",
        "import IPython\n",
        "from IPython.display import clear_output\n",
        "from google.colab import output\n",
        "\n",
        "display(IPython.display.Javascript('''\n",
        " function connectRefresher() {\n",
        "       window.ConnectButtonIntervalId = setInterval(function ConnectButton(){\n",
        "                console.log(\"connected\"); \n",
        "                document.querySelector(\"#top-toolbar > colab-connect-button\").shadowRoot.querySelector(\"#connect\").click();\n",
        "                document.querySelector(\"colab-sessions-dialog\").shadowRoot.querySelector(\"#footer > div > paper-button\").click();\n",
        "                console.log(\"closed the dialog!!\"); \n",
        "            },60000);\n",
        "    }\n",
        "    \n",
        " function clearRefresher() { \n",
        "           console.log(\"clear Interval called !!\");\n",
        "           clearInterval(window.ConnectButtonIntervalId);\n",
        "    }\n",
        "\n",
        " connectRefresher(); //to connect the refresher\n",
        " clearRefresher(); //to disconnect the refresher\n",
        "'''))\n",
        "\n",
        "clear_output()"
      ],
      "execution_count": 2,
      "outputs": []
    },
    {
      "cell_type": "markdown",
      "source": [
        "## **Google Drive Downloader**\n",
        "Run the following command to download files into google drive:"
      ],
      "metadata": {
        "id": "dUAovFAThdOR"
      }
    },
    {
      "cell_type": "code",
      "source": [
        "#@title **[0] Download From Google Drive**\n",
        "#@markdown *Input file name that you want to **save as** and consider adding an **extension file type** at the end, then put the URL and download location*.\n",
        "\n",
        "import re, os\n",
        "from IPython.display import clear_output\n",
        "\n",
        "LargeFile = True #@param {type:\"boolean\"}\n",
        "FileNametoSave = \"test2.mkv\" #@param {type:\"string\"}\n",
        "GoogleSharedLink = \"https://drive.google.com/file/d/10YFFaxrKauh0KQpxDmWjaZxC8TU3vIY3/view?usp=sharing\" #@param {type:\"string\"}\n",
        "# Match six-letter word\n",
        "pattern = r\"[-\\w]{18,}\"\n",
        "# match() method\n",
        "result = re.match(pattern, GoogleSharedLink)\n",
        "# Output None\n",
        "# search() method\n",
        "result = re.search(pattern, GoogleSharedLink)\n",
        "fileId = result.group()\n",
        "# findall() method\n",
        "result = re.findall(pattern, GoogleSharedLink)\n",
        "\n",
        "# Define download location\n",
        "DownloadLocation = \"/content\" #@param {type:\"string\"}\n",
        "\n",
        "from pathlib import Path\n",
        "Path(DownloadLocation).mkdir(parents=True, exist_ok=True)\n",
        "\n",
        "%cd '{DownloadLocation}'\n",
        "clear_output()\n",
        "\n",
        "if LargeFile == False:\n",
        "  !wget -q --show-progress --progress=bar:force --no-check-certificate 'https://docs.google.com/uc?export=download&id={fileId}' -O '{FileNametoSave}'\n",
        "else:\n",
        "  !wget -q --show-progress --progress=bar:force --load-cookies '/tmp/cookies.txt' \"https://docs.google.com/uc?export=download&confirm=$(wget --quiet --save-cookies /tmp/cookies.txt --keep-session-cookies --no-check-certificate \"https://docs.google.com/uc?export=download&id={fileId}\" -O- | sed -rn 's/.*confirm=([0-9A-Za-z_]+).*/\\1\\n/p')&id={fileId}\" -O '{FileNametoSave}' && rm -rf /tmp/cookies.txt\n",
        "\n"
      ],
      "metadata": {
        "colab": {
          "base_uri": "https://localhost:8080/"
        },
        "cellView": "form",
        "id": "9M2LK5o8x77K",
        "outputId": "8e80cb5f-e6be-4b35-cb4d-82d6214e2b01"
      },
      "execution_count": 65,
      "outputs": [
        {
          "output_type": "stream",
          "name": "stdout",
          "text": [
            "test2.mkv           100%[===================>] 102.06M   378MB/s    in 0.3s    \n"
          ]
        }
      ]
    },
    {
      "cell_type": "code",
      "metadata": {
        "id": "pLza-cSZEv5v",
        "cellView": "form"
      },
      "source": [
        "# @title **[2] Download from Git**\n",
        "\n",
        "import os\n",
        "import subprocess\n",
        "\n",
        "#@markdown *Put file download location*\n",
        "Download_Location = \"/content/drive/MyDrive/Subtitle\" #@param {type:\"string\"}\n",
        "Download_Link = \"https://github.com/MatheusGrilo/OpenSubs.git\" #@param {type:\"string\"}\n",
        "\n",
        "%cd '{Download_Location}' \n",
        "!git clone '{Download_Link}' "
      ],
      "execution_count": null,
      "outputs": []
    },
    {
      "cell_type": "code",
      "metadata": {
        "id": "U67cKD9rGxw7",
        "cellView": "form",
        "colab": {
          "base_uri": "https://localhost:8080/"
        },
        "outputId": "76f46b05-43f6-4076-f600-69351c3c254c"
      },
      "source": [
        "#@title **[3] Direct File download**\n",
        "#@markdown *The files needs to be of some kind of extension or something similar, you get it right? e.x. .exe .zip .apk etc. The link should be - https://*\n",
        "\n",
        "DownloadOption = \"Single Download\" #@param [\"Single Download\", \"Multiple Download\"]\n",
        "#@markdown *Provide txt file path for multiple download option, separate download link in new line. Example: content/drive/MyDrive/downloadlink.txt*\n",
        "\n",
        "import os\n",
        "import subprocess\n",
        "\n",
        "Download_Location = \"/content/drive/Shareddrives/02. Simple Manager/NewRelease\" #@param {type:\"string\"}\n",
        "Download_Link = \"https://drive.google.com/file/d/1st7ZmkKIKUJx0lDiLqIhOOKnhGv2fd5_/view\" #@param {type:\"string\"}\n",
        "\n",
        "def SingleDwnld():\n",
        "  %cd '{Download_Location}'\n",
        "  !wget '{Download_Link}'\n",
        "\n",
        "def MultipleDwnld():\n",
        "  %cd '{Download_Location}'\n",
        "  !wget -i '{Download_Link}'\n",
        "\n",
        "if DownloadOption == \"Single Download\":\n",
        "  SingleDwnld()\n",
        "if DownloadOption == \"Multiple Download\":\n",
        "  MultipleDwnld()\n"
      ],
      "execution_count": 3,
      "outputs": [
        {
          "output_type": "stream",
          "name": "stdout",
          "text": [
            "/content/drive/Shareddrives/02. Simple Manager/NewRelease\n",
            "--2022-07-28 02:41:33--  https://drive.google.com/file/d/1st7ZmkKIKUJx0lDiLqIhOOKnhGv2fd5_/view\n",
            "Resolving drive.google.com (drive.google.com)... 173.194.213.139, 173.194.213.100, 173.194.213.101, ...\n",
            "Connecting to drive.google.com (drive.google.com)|173.194.213.139|:443... connected.\n",
            "HTTP request sent, awaiting response... 200 OK\n",
            "Length: unspecified [text/html]\n",
            "Saving to: ‘view’\n",
            "\n",
            "view                    [ <=>                ]  66.04K  --.-KB/s    in 0.004s  \n",
            "\n",
            "2022-07-28 02:41:34 (16.6 MB/s) - ‘view’ saved [67623]\n",
            "\n"
          ]
        }
      ]
    },
    {
      "cell_type": "code",
      "metadata": {
        "id": "Durfw0S7I_5w",
        "cellView": "form"
      },
      "source": [
        "#@title **[4] Direct File download and Zip extraction**\n",
        "#@markdown *Use this if you want to download a zip file and extract it on the same google drive.*\n",
        "\n",
        "import os\n",
        "import subprocess\n",
        "\n",
        "Download_Location = \"/content/drive/MyDrive/Subtitle\" #@param {type:\"string\"}\n",
        "Download_Link = \"https://www.ffonts.net/AR-CENA.font.zip\" #@param {type:\"string\"}\n",
        "ExtractedFolderName = \"Extracted\" #@param {type:\"string\"}\n",
        "\n",
        "%cd '{Download_Location}'\n",
        "!wget '{Download_Link}'\n",
        "\n",
        "#@markdown *Make sure there is no other zip file. Or will it be extracted too.* \n",
        "\n",
        "!unzip *.zip -d {ExtractedFolderName}\n",
        "%mv '{Download_Location}/*/*' '{Download_Location}/{ExtractedFolderName}/ -n'"
      ],
      "execution_count": null,
      "outputs": []
    },
    {
      "cell_type": "code",
      "source": [
        "#@title **[5] Zippyshare Downloader**\n",
        "#@markdown *Start downloading from zippyshare*\n",
        "\n",
        "import os\n",
        "import subprocess\n",
        "\n",
        "Download_Location = \"/content/drive/Shareddrives/01. Anime Server/01. Anime/01. TV Show/06. Classroom Of The Elite/Season 2\" #@param {type:\"string\"}\n",
        "Download_Link = \"https://www118.zippyshare.com/d/dgUi3VOS/382/%5bLENDRIVE%5d_Classroom_Elite_S2_-_04_%5b1080p_HEVC%5d%5bDualsubs%5d.mkv\" #@param {type:\"string\"}\n",
        "Download_Referrer = \"https://www53.zippyshare.com/v/dgUi3VOS/file.html\" #@param {type:\"string\"}\n",
        "JSESSION_ID = \"7AB89B125ED2FA7CAB6E2C07C17A609A\" #@param {type:\"string\"}\n",
        "\n",
        "%cd '{Download_Location}' \n",
        "!wget '{Download_Link}' --referer='{Download_Referrer}' --cookies=off --header \"Cookie: JSESSIONID={JSESSION_ID}\" --user-agent='Mozilla/5.0 (Windows NT 10.0; Win64; x64) AppleWebKit/537.36 (KHTML, like Gecko) Chrome/99.0.4844.51 Safari/537.36'"
      ],
      "metadata": {
        "cellView": "form",
        "id": "wyt8GgKmd8PI",
        "colab": {
          "base_uri": "https://localhost:8080/"
        },
        "outputId": "c9918978-0141-425f-8b4e-e07b63c400f5"
      },
      "execution_count": null,
      "outputs": [
        {
          "output_type": "stream",
          "name": "stdout",
          "text": [
            "/content/drive/Shareddrives/01. Anime Server/01. Anime/01. TV Show/06. Classroom Of The Elite/Season 2\n",
            "--2022-07-25 15:19:51--  https://www118.zippyshare.com/d/dgUi3VOS/382/%5bLENDRIVE%5d_Classroom_Elite_S2_-_04_%5b1080p_HEVC%5d%5bDualsubs%5d.mkv\n",
            "Resolving www118.zippyshare.com (www118.zippyshare.com)... 46.166.139.233\n",
            "Connecting to www118.zippyshare.com (www118.zippyshare.com)|46.166.139.233|:443... connected.\n",
            "HTTP request sent, awaiting response... 200 OK\n",
            "Length: 120390148 (115M) [application/x-download]\n",
            "Saving to: ‘[LENDRIVE]_Classroom_Elite_S2_-_04_[1080p_HEVC][Dualsubs].mkv’\n",
            "\n",
            "[LENDRIVE]_Classroo 100%[===================>] 114.81M  22.5MB/s    in 5.7s    \n",
            "\n",
            "2022-07-25 15:19:57 (20.0 MB/s) - ‘[LENDRIVE]_Classroom_Elite_S2_-_04_[1080p_HEVC][Dualsubs].mkv’ saved [120390148/120390148]\n",
            "\n"
          ]
        }
      ]
    },
    {
      "cell_type": "code",
      "source": [
        "#@title **[6] Hosting Site File Download**\n",
        "#@markdown *Example: Zippyshare and One Drive*\n",
        "\n",
        "import os\n",
        "import subprocess\n",
        "\n",
        "Download_Location = \"/content/drive/Shareddrives/Server/\" #@param {type:\"string\"}\n",
        "Download_Link = \"\" #@param {type:\"string\"}\n",
        "Download_Referrer = \"\" #@param {type:\"string\"}\n",
        "Cookie_Name = \"\" #@param {type:\"string\"}\n",
        "Cookie_Auth = \"\" #@param {type:\"string\"}\n",
        "\n",
        "%cd '{Download_Location}' \n",
        "!wget '{Download_Link}' --referer='{Download_Referrer}' --cookies=off --header \"Cookie: {Cookie_Name}={Cookie_Auth}\" --user-agent='Mozilla/5.0 (Windows NT 10.0; Win64; x64) AppleWebKit/537.36 (KHTML, like Gecko) Chrome/99.0.4844.51 Safari/537.36'"
      ],
      "metadata": {
        "cellView": "form",
        "id": "MC5m0oSKwSS0"
      },
      "execution_count": null,
      "outputs": []
    },
    {
      "cell_type": "markdown",
      "source": [
        "## **Download a Website**\n",
        "Run the following command to download the website recursively:\n",
        "\n",
        "```\n",
        "wget -r --no-parent http://www.example.com\n",
        "```\n",
        "\n",
        "This will download the pages without altering their HTML source code.\n",
        "\n",
        "When you want to change the links on the pages automatically to point to the downloaded files then use this command instead:\n",
        "\n",
        "```\n",
        "wget -r --convert-links --no-parent http://www.example.com\n",
        "```\n",
        "\n",
        "When all HTML files shall get a .html extension, then add the \"--html-extension\" option.\n",
        "\n",
        "```\n",
        "wget -r --convert-links --html-extension --no-parent http://www.example.com\n",
        "```"
      ],
      "metadata": {
        "id": "0Mrw99qJhJHm"
      }
    },
    {
      "cell_type": "code",
      "source": [
        "#@title **[3] Direct File download**\n",
        "#@markdown *Download website option:*\n",
        "\n",
        "import os\n",
        "import subprocess\n",
        "\n",
        "ChooseOption = \"3. Download the pages and change the links on the pages automatically to point to the downloaded files with HTML Extension.\" #@param [\"1. Download the pages without altering their HTML source code.\", \"2. Download the pages and change the links on the pages automatically to point to the downloaded files.\", \"3. Download the pages and change the links on the pages automatically to point to the downloaded files with HTML Extension.\"]\n",
        "\n",
        "def option1():\n",
        "  Download_Location = input(\"Enter location you want to download the website files: \")\n",
        "  Download_Link = input(\"Enter website link you want to download: \")\n",
        "  %cd '{Download_Location}'\n",
        "  !wget -r --no-parent '{Download_Link}'\n",
        "  \n",
        "def option2():\n",
        "  Download_Location = input(\"Enter location you want to download the website files: \")\n",
        "  Download_Link = input(\"Enter website link you want to download: \")\n",
        "  %cd '{Download_Location}'\n",
        "  !wget -r --convert-links --no-parent '{Download_Link}'\n",
        "\n",
        "def option3():\n",
        "  Download_Location = input(\"Enter location you want to download the website files: \")\n",
        "  Download_Link = input(\"Enter website link you want to download: \")\n",
        "  %cd '{Download_Location}'\n",
        "  !wget -r --convert-links --html-extension --no-parent '{Download_Link}'\n",
        "\n",
        "if ChooseOption == \"1. Download the pages without altering their HTML source code.\":\n",
        "  option1()\n",
        "if ChooseOption == \"2. Download the pages and change the links on the pages automatically to point to the downloaded files.\":\n",
        "  option2()\n",
        "if ChooseOption == \"3. Download the pages and change the links on the pages automatically to point to the downloaded files with HTML Extension.\":\n",
        "  option3()"
      ],
      "metadata": {
        "cellView": "form",
        "id": "AxsvXz_ehPzl"
      },
      "execution_count": null,
      "outputs": []
    }
  ]
}