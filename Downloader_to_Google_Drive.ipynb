{
  "nbformat": 4,
  "nbformat_minor": 0,
  "metadata": {
    "colab": {
      "name": "Downloader to Google Drive.ipynb",
      "provenance": [],
      "collapsed_sections": [
        "eev3EcLEiK1y",
        "dUAovFAThdOR",
        "AGVmJ2Y43o_C",
        "0Mrw99qJhJHm"
      ],
      "include_colab_link": true
    },
    "kernelspec": {
      "name": "python3",
      "display_name": "Python 3"
    },
    "language_info": {
      "name": "python"
    }
  },
  "cells": [
    {
      "cell_type": "markdown",
      "metadata": {
        "id": "view-in-github",
        "colab_type": "text"
      },
      "source": [
        "<a href=\"https://colab.research.google.com/github/tantowijh/colab-collection/blob/main/Downloader_to_Google_Drive.ipynb\" target=\"_parent\"><img src=\"https://colab.research.google.com/assets/colab-badge.svg\" alt=\"Open In Colab\"/></a>"
      ]
    },
    {
      "cell_type": "markdown",
      "source": [
        "## **Mount Google Drive**\n",
        "Run the following command to mount google drive:"
      ],
      "metadata": {
        "id": "eev3EcLEiK1y"
      }
    },
    {
      "cell_type": "code",
      "metadata": {
        "id": "PRtU5F7HEuhR",
        "cellView": "form",
        "colab": {
          "base_uri": "https://localhost:8080/"
        },
        "outputId": "aaad3702-4989-465b-8518-6d6944c82c87"
      },
      "source": [
        "#@title **[0] Link your Google Drive**\n",
        "#@markdown <center><img src='https://upload.wikimedia.org/wikipedia/commons/thumb/d/da/Google_Drive_logo.png/600px-Google_Drive_logo.png' height=\"50\" alt=\"Gdrive-logo\"/></center>\n",
        "from google.colab import drive\n",
        "drive.mount('/content/drive', force_remount=True)"
      ],
      "execution_count": null,
      "outputs": [
        {
          "output_type": "stream",
          "name": "stdout",
          "text": [
            "Mounted at /content/drive\n"
          ]
        }
      ]
    },
    {
      "cell_type": "code",
      "source": [
        "#@title **[1] Install Aria2</font>**\n",
        "#@markdown *This cell runs a code to install aria2 downloader.*\n",
        "from IPython.display import clear_output\n",
        "!sudo apt install aria2\n",
        "clear_output()"
      ],
      "metadata": {
        "cellView": "form",
        "id": "pDqB7gNL-ZGO"
      },
      "execution_count": 3,
      "outputs": []
    },
    {
      "cell_type": "code",
      "metadata": {
        "id": "w0EIfFJWXkTc",
        "cellView": "form"
      },
      "source": [
        "#@title **[2] Run this code if you want a longer run time (Optional but recommended)</font>**\n",
        "#@markdown *This cell runs a JS code that automatically reconnects you to avoid inactivity due to idle.*\n",
        "\n",
        "import IPython\n",
        "from IPython.display import clear_output\n",
        "from google.colab import output\n",
        "\n",
        "display(IPython.display.Javascript('''\n",
        " function connectRefresher() {\n",
        "       window.ConnectButtonIntervalId = setInterval(function ConnectButton(){\n",
        "                console.log(\"connected\"); \n",
        "                document.querySelector(\"#top-toolbar > colab-connect-button\").shadowRoot.querySelector(\"#connect\").click();\n",
        "                document.querySelector(\"colab-sessions-dialog\").shadowRoot.querySelector(\"#footer > div > paper-button\").click();\n",
        "                console.log(\"closed the dialog!!\"); \n",
        "            },60000);\n",
        "    }\n",
        "    \n",
        " function clearRefresher() { \n",
        "           console.log(\"clear Interval called !!\");\n",
        "           clearInterval(window.ConnectButtonIntervalId);\n",
        "    }\n",
        "\n",
        " connectRefresher(); //to connect the refresher\n",
        " clearRefresher(); //to disconnect the refresher\n",
        "'''))\n",
        "\n",
        "clear_output()"
      ],
      "execution_count": null,
      "outputs": []
    },
    {
      "cell_type": "markdown",
      "source": [
        "## **Google Drive Downloader**\n",
        "Run the following command to download files into google drive:"
      ],
      "metadata": {
        "id": "dUAovFAThdOR"
      }
    },
    {
      "cell_type": "code",
      "source": [
        "#@title **[1] Download From Google Drive**\n",
        "#@markdown *Input file name that you want to **save as** and consider adding an **extension file type** at the end, then put the URL and download location*.\n",
        "\n",
        "import re, os\n",
        "from IPython.display import clear_output\n",
        "\n",
        "LargeFile = True #@param {type:\"boolean\"}\n",
        "FileNametoSave = \"_Kusonime__Pikiran_Busuk_BD_720P.rar\" #@param {type:\"string\"}\n",
        "GoogleSharedLink = \"https://drive.google.com/uc?export=download&id=12ANcXVCYFzbIJ45_zeSV7K0hn68fkoPf\" #@param {type:\"string\"}\n",
        "# Match six-letter word\n",
        "pattern = r\"[-\\w]{18,}\"\n",
        "# match() method\n",
        "result = re.match(pattern, GoogleSharedLink)\n",
        "# Output None\n",
        "# search() method\n",
        "result = re.search(pattern, GoogleSharedLink)\n",
        "fileId = result.group()\n",
        "# findall() method\n",
        "result = re.findall(pattern, GoogleSharedLink)\n",
        "\n",
        "# Define download location\n",
        "DownloadLocation = \"/content/drive/Shareddrives/01. Anime Server/01. Anime Series/Kuzu no Honkai\" #@param {type:\"string\"}\n",
        "\n",
        "from pathlib import Path\n",
        "Path(DownloadLocation).mkdir(parents=True, exist_ok=True)\n",
        "\n",
        "%cd '{DownloadLocation}'\n",
        "clear_output()\n",
        "\n",
        "if LargeFile == False:\n",
        "  !wget -q --show-progress --progress=bar:force --no-check-certificate 'https://docs.google.com/uc?export=download&id={fileId}' -O '{FileNametoSave}'\n",
        "else:\n",
        "  !wget -q --show-progress --progress=bar:force --load-cookies '/tmp/cookies.txt' \"https://docs.google.com/uc?export=download&confirm=$(wget --quiet --save-cookies /tmp/cookies.txt --keep-session-cookies --no-check-certificate \"https://docs.google.com/uc?export=download&id={fileId}\" -O- | sed -rn 's/.*confirm=([0-9A-Za-z_]+).*/\\1\\n/p')&id={fileId}\" -O '{FileNametoSave}' && rm -rf /tmp/cookies.txt\n",
        "\n"
      ],
      "metadata": {
        "colab": {
          "base_uri": "https://localhost:8080/"
        },
        "cellView": "form",
        "id": "9M2LK5o8x77K",
        "outputId": "4873baf8-f45a-4f76-9182-058e78bc5770"
      },
      "execution_count": null,
      "outputs": [
        {
          "output_type": "stream",
          "name": "stdout",
          "text": [
            "_Kusonime__Pikiran_ 100%[===================>]   4.01G  54.0MB/s    in 77s     \n"
          ]
        }
      ]
    },
    {
      "cell_type": "code",
      "metadata": {
        "id": "pLza-cSZEv5v",
        "cellView": "form"
      },
      "source": [
        "# @title **[2] Download from Git**\n",
        "\n",
        "import os\n",
        "import subprocess\n",
        "\n",
        "#@markdown *Put file download location*\n",
        "Download_Location = \"/content/drive/MyDrive/Subtitle\" #@param {type:\"string\"}\n",
        "Download_Link = \"https://github.com/MatheusGrilo/OpenSubs.git\" #@param {type:\"string\"}\n",
        "\n",
        "%cd '{Download_Location}' \n",
        "!git clone '{Download_Link}' "
      ],
      "execution_count": null,
      "outputs": []
    },
    {
      "cell_type": "code",
      "metadata": {
        "id": "U67cKD9rGxw7",
        "cellView": "form"
      },
      "source": [
        "#@title **[3] Direct File download**\n",
        "#@markdown *The files needs to be of some kind of extension or something similar, you get it right? e.x. .exe .zip .apk etc. The link should be - https://*\n",
        "\n",
        "DownloadMethod = \"ARIA2\" #@param [\"WGET\", \"ARIA2\"]\n",
        "DownloadOption = \"Multiple Download\" #@param [\"Single Download\", \"Multiple Download\"]\n",
        "#@markdown *Provide txt file path for multiple download option, separate download link in new line. Example: content/drive/MyDrive/downloadlink.txt*\n",
        "\n",
        "import os\n",
        "import subprocess\n",
        "\n",
        "Download_Location = \"/content\" #@param {type:\"string\"}\n",
        "Download_Link = \"/content/txt.txt\" #@param {type:\"string\"}\n",
        "\n",
        "def wget():\n",
        "  def SingleDwnld():\n",
        "    %cd '{Download_Location}'\n",
        "    !wget '{Download_Link}'\n",
        "\n",
        "  def MultipleDwnld():\n",
        "    %cd '{Download_Location}'\n",
        "    !wget -i '{Download_Link}'\n",
        "\n",
        "  if DownloadOption == \"Single Download\":\n",
        "    SingleDwnld()\n",
        "  if DownloadOption == \"Multiple Download\":\n",
        "    MultipleDwnld()\n",
        "def aria2():\n",
        "  def SingleDwnld():\n",
        "    %cd '{Download_Location}'\n",
        "    !aria2c '{Download_Link}'\n",
        "\n",
        "  def MultipleDwnld():\n",
        "    %cd '{Download_Location}'\n",
        "    !aria2c -i '{Download_Link}' --file-allocation=none -c --auto-file-renaming=false\n",
        "\n",
        "  if DownloadOption == \"Single Download\":\n",
        "    SingleDwnld()\n",
        "  if DownloadOption == \"Multiple Download\":\n",
        "    MultipleDwnld()\n",
        "if DownloadMethod == \"WGET\":\n",
        "  wget()\n",
        "if DownloadMethod == \"ARIA2\":\n",
        "  aria2()\n"
      ],
      "execution_count": null,
      "outputs": []
    },
    {
      "cell_type": "code",
      "metadata": {
        "id": "Durfw0S7I_5w",
        "cellView": "form"
      },
      "source": [
        "#@title **[4] Direct File download and Zip extraction**\n",
        "#@markdown *Use this if you want to download a zip file and extract it on the same google drive.*\n",
        "\n",
        "import os\n",
        "import subprocess\n",
        "\n",
        "Download_Location = \"/content/drive/MyDrive/Subtitle\" #@param {type:\"string\"}\n",
        "Download_Link = \"https://www.ffonts.net/AR-CENA.font.zip\" #@param {type:\"string\"}\n",
        "ExtractedFolderName = \"Extracted\" #@param {type:\"string\"}\n",
        "\n",
        "%cd '{Download_Location}'\n",
        "!wget '{Download_Link}'\n",
        "\n",
        "#@markdown *Make sure there is no other zip file. Or will it be extracted too.* \n",
        "\n",
        "!unzip *.zip -d {ExtractedFolderName}\n",
        "%mv '{Download_Location}/*/*' '{Download_Location}/{ExtractedFolderName}/ -n'"
      ],
      "execution_count": null,
      "outputs": []
    },
    {
      "cell_type": "code",
      "source": [
        "#@title **[5] Zippyshare Downloader**\n",
        "#@markdown *Start downloading from zippyshare*\n",
        "\n",
        "import os\n",
        "import subprocess\n",
        "\n",
        "Download_Location = \"/content/drive/Shareddrives/01. Anime Server/01. TV Show/30. Kanojo, Okarishimasu/Season 2\" #@param {type:\"string\"}\n",
        "Download_Link = \"https://www67.zippyshare.com/d/M589DIuG/291/%5bLENDRIVE%5d_KanoKari_S2_-_06_%5b1080p_HEVC_10bit%5d%5bDualsubs%5d.mkv\" #@param {type:\"string\"}\n",
        "Download_Referrer = \"https://www53.zippyshare.com/v/M589DIuG/file.html\" #@param {type:\"string\"}\n",
        "JSESSION_ID = \"BF70FF2AB9A828F49CB8A58268AF6431\" #@param {type:\"string\"}\n",
        "\n",
        "%cd '{Download_Location}' \n",
        "!wget '{Download_Link}' --referer='{Download_Referrer}' --cookies=off --header \"Cookie: JSESSIONID={JSESSION_ID}\" --user-agent='Mozilla/5.0 (Windows NT 10.0; Win64; x64) AppleWebKit/537.36 (KHTML, like Gecko) Chrome/99.0.4844.51 Safari/537.36'"
      ],
      "metadata": {
        "cellView": "form",
        "id": "wyt8GgKmd8PI",
        "colab": {
          "base_uri": "https://localhost:8080/"
        },
        "outputId": "b9837cee-419b-4c3d-dca2-1891164c2d21"
      },
      "execution_count": null,
      "outputs": [
        {
          "output_type": "stream",
          "name": "stdout",
          "text": [
            "/content/drive/Shareddrives/01. Anime Server/01. TV Show/30. Kanojo, Okarishimasu/Season 2\n",
            "--2022-08-06 03:38:57--  https://www67.zippyshare.com/d/M589DIuG/291/%5bLENDRIVE%5d_KanoKari_S2_-_06_%5b1080p_HEVC_10bit%5d%5bDualsubs%5d.mkv\n",
            "Resolving www67.zippyshare.com (www67.zippyshare.com)... 46.166.139.207\n",
            "Connecting to www67.zippyshare.com (www67.zippyshare.com)|46.166.139.207|:443... connected.\n",
            "HTTP request sent, awaiting response... 200 OK\n",
            "Length: 238042953 (227M) [application/x-download]\n",
            "Saving to: ‘[LENDRIVE]_KanoKari_S2_-_06_[1080p_HEVC_10bit][Dualsubs].mkv’\n",
            "\n",
            "[LENDRIVE]_KanoKari 100%[===================>] 227.01M  11.0MB/s    in 25s     \n",
            "\n",
            "2022-08-06 03:39:24 (9.14 MB/s) - ‘[LENDRIVE]_KanoKari_S2_-_06_[1080p_HEVC_10bit][Dualsubs].mkv’ saved [238042953/238042953]\n",
            "\n"
          ]
        }
      ]
    },
    {
      "cell_type": "code",
      "source": [
        "#@title **[6] Hosting Site File Download**\n",
        "#@markdown *Example: Zippyshare and One Drive*\n",
        "\n",
        "import os\n",
        "import subprocess\n",
        "\n",
        "Download_Location = \"/content/drive/Shareddrives/01. Anime Server/01. Anime/01. TV Show/37. Hoshi no Samidare/Season 1\" #@param {type:\"string\"}\n",
        "Download_Link = \"https://download1334.mediafire.com/sj6wpvgcxhpg/y9m6neiiybtx2qr/%5BLENDRIVE%5D_Hoshi_no_Samidare_-_04_%5B1080p_HEVC_10bit%5D%5BDualsubs%5D.mkv\" #@param {type:\"string\"}\n",
        "Download_Referrer = \"https://www.mediafire.com/file/y9m6neiiybtx2qr/%255BLENDRIVE%255D_Hoshi_no_Samidare_-_04_%255B1080p_HEVC_10bit%255D%255BDualsubs%255D.mkv/file\" #@param {type:\"string\"}\n",
        "Cookie_Name = \"\" #@param {type:\"string\"}\n",
        "Cookie_Auth = \"\" #@param {type:\"string\"}\n",
        "\n",
        "%cd '{Download_Location}' \n",
        "!wget '{Download_Link}' --referer='{Download_Referrer}' --cookies=off --header \"Cookie: {Cookie_Name}={Cookie_Auth}\" --user-agent='Mozilla/5.0 (Windows NT 10.0; Win64; x64) AppleWebKit/537.36 (KHTML, like Gecko) Chrome/99.0.4844.51 Safari/537.36'"
      ],
      "metadata": {
        "cellView": "form",
        "id": "MC5m0oSKwSS0",
        "colab": {
          "base_uri": "https://localhost:8080/"
        },
        "outputId": "183a1479-3104-40d9-ee03-f73fc4e102c0"
      },
      "execution_count": null,
      "outputs": [
        {
          "output_type": "stream",
          "name": "stdout",
          "text": [
            "/content/drive/Shareddrives/01. Anime Server/01. Anime/01. TV Show/37. Hoshi no Samidare/Season 1\n",
            "--2022-07-30 04:14:27--  https://download1334.mediafire.com/sj6wpvgcxhpg/y9m6neiiybtx2qr/%5BLENDRIVE%5D_Hoshi_no_Samidare_-_04_%5B1080p_HEVC_10bit%5D%5BDualsubs%5D.mkv\n",
            "Resolving download1334.mediafire.com (download1334.mediafire.com)... 205.196.123.22\n",
            "Connecting to download1334.mediafire.com (download1334.mediafire.com)|205.196.123.22|:443... connected.\n",
            "HTTP request sent, awaiting response... 302 Found\n",
            "Location: http://www.mediafire.com/download_repair.php?flag=3&dkey=sj6wpvgcxhp&qkey=y9m6neiiybtx2qr&ip=34%2E74%2E248%2E146&ref=https%3A%2F%2Fwww%2Emediafire%2Ecom%2Ffile%2Fy9m6neiiybtx2qr%2F%25255BLENDRIVE%25255D%5FHoshi%5Fno%5FSamidare%5F%2D%5F04%5F%25255B1080p%5FHEVC%5F10bit%25255D%25255BDualsubs%25255D%2Emkv%2Ffile [following]\n",
            "--2022-07-30 04:14:27--  http://www.mediafire.com/download_repair.php?flag=3&dkey=sj6wpvgcxhp&qkey=y9m6neiiybtx2qr&ip=34%2E74%2E248%2E146&ref=https%3A%2F%2Fwww%2Emediafire%2Ecom%2Ffile%2Fy9m6neiiybtx2qr%2F%25255BLENDRIVE%25255D%5FHoshi%5Fno%5FSamidare%5F%2D%5F04%5F%25255B1080p%5FHEVC%5F10bit%25255D%25255BDualsubs%25255D%2Emkv%2Ffile\n",
            "Resolving www.mediafire.com (www.mediafire.com)... 104.18.182.224, 104.18.183.224\n",
            "Connecting to www.mediafire.com (www.mediafire.com)|104.18.182.224|:80... connected.\n",
            "HTTP request sent, awaiting response... 200 OK\n",
            "Length: unspecified [text/html]\n",
            "Saving to: ‘[LENDRIVE]_Hoshi_no_Samidare_-_04_[1080p_HEVC_10bit][Dualsubs].mkv’\n",
            "\n",
            "[LENDRIVE]_Hoshi_no     [ <=>                ]  43.38K  --.-KB/s    in 0.003s  \n",
            "\n",
            "2022-07-30 04:14:28 (12.2 MB/s) - ‘[LENDRIVE]_Hoshi_no_Samidare_-_04_[1080p_HEVC_10bit][Dualsubs].mkv’ saved [44423]\n",
            "\n"
          ]
        }
      ]
    },
    {
      "cell_type": "markdown",
      "metadata": {
        "id": "AGVmJ2Y43o_C"
      },
      "source": [
        "##<left><img src=\"https://ar.toneden.io/13766685/6070f58d-091b-4a80-bd5c-24378e308116\" height=\"50\" alt=\"Zippyshare logo\"/></left>\n",
        "## ___**Zippyshare Downloader**___"
      ]
    },
    {
      "cell_type": "code",
      "metadata": {
        "id": "GEcLzHgFArPH",
        "cellView": "form",
        "colab": {
          "base_uri": "https://localhost:8080/"
        },
        "outputId": "2157df95-74ca-428f-f578-c82091e17085"
      },
      "source": [
        "#@markdown <h3>⬅️ Click Here to START server</h3>\n",
        "#@markdown <center><img src=\"https://ar.toneden.io/13766685/6070f58d-091b-4a80-bd5c-24378e308116\" height=\"100\" alt=\"Zippyshare logo\"/></center>\n",
        "#@markdown <center><h3>Remote upload from Zippyshare to Google drive</h3></center><br>\n",
        "\n",
        "\n",
        "\n",
        "from IPython.display import HTML, clear_output\n",
        "\n",
        "%cd /content\n",
        "!git clone https://github.com/mcrapet/plowshare.git\n",
        "%cd plowshare\n",
        "!make install\n",
        "!plowmod --install\n",
        "!apt-get install nodejs\n",
        "!cd ..\n",
        "\n",
        "\n",
        "clear_output()\n",
        "\n",
        "print(\"Server Started Successfully\")\n"
      ],
      "execution_count": null,
      "outputs": [
        {
          "output_type": "stream",
          "name": "stdout",
          "text": [
            "Server Started Successfully\n"
          ]
        }
      ]
    },
    {
      "cell_type": "code",
      "metadata": {
        "id": "2Gu5xTR0-reg",
        "cellView": "form",
        "colab": {
          "base_uri": "https://localhost:8080/"
        },
        "outputId": "04016b8a-0ffe-44b5-ea87-dab9994b4c62"
      },
      "source": [
        "#@markdown <h3>⬅️ Click Here to START Download</h3>\n",
        "\n",
        "import os\n",
        "direct_URL = \"https://www103.zippyshare.com/d/4JtWCAuf/247655/%5bLENDRIVE%5d_Lycoris_Recoil_-_07_%5b1080p_HEVC_10bit%5d%5bDualsubs%5d.mkv\" #@param {type:\"string\"}\n",
        "output_dir = \"/content\" #@param {type:\"string\"}\n",
        "\n",
        "!plowdown \"$direct_URL\" -o \"$output_dir\"\n",
        "\n",
        "%cd /content/"
      ],
      "execution_count": null,
      "outputs": [
        {
          "output_type": "stream",
          "name": "stdout",
          "text": [
            "\u001b[0;33mOutput directory: /content\u001b[0m\n",
            "\u001b[0;33mStarting download (zippyshare): https://www103.zippyshare.com/d/4JtWCAuf/247655/%5bLENDRIVE%5d_Lycoris_Recoil_-_07_%5b1080p_HEVC_10bit%5d%5bDualsubs%5d.mkv\u001b[0m\n",
            "\u001b[0;33mFile URL: https://www103.zippyshare.com/i/4JtWCAuf/284316/%5bLENDRIVE%5d_Lycoris_Recoil_-_07_%5b1080p_HEVC_10bit%5d%5bDualsubs%5d.mkv\u001b[0m\n",
            "\u001b[0;33mFilename: [LENDRIVE]_Lycoris_Recoil_-_07_[1080p_HEVC_10bit][Dualsubs].mkv\u001b[0m\n",
            "  % Total    % Received % Xferd  Average Speed   Time    Time     Time  Current\n",
            "                                 Dload  Upload   Total   Spent    Left  Speed\n",
            "100  237M  100  237M    0     0   303M      0 --:--:-- --:--:-- --:--:--  303M\n",
            "/content/[LENDRIVE]_Lycoris_Recoil_-_07_[1080p_HEVC_10bit][Dualsubs].mkv\n",
            "\u001b[0;33m\u001b[0m/content\n"
          ]
        }
      ]
    },
    {
      "cell_type": "code",
      "metadata": {
        "id": "6WKY3zCQ86ev",
        "cellView": "form"
      },
      "source": [
        "#@markdown <h3>⬅️ Click Here to START Batch Download</h3>\n",
        "#@markdown <h5> Make \"download.txt\" file contaning batch links of zippyshare and upload here to down them all.\n",
        "\n",
        "%cd /content/plowshare\n",
        "\n",
        "!rm *.txt\n",
        "\n",
        "from google.colab import files\n",
        "files.upload()\n",
        "\n",
        "import os\n",
        "output_dir = \"/content/drive/My Drive\" #@param {type:\"string\"}\n",
        "\n",
        "!plowdown \"download.txt\" -m -o \"$output_dir\"\n",
        "\n",
        "%cd /content/\n",
        "\n",
        "\n",
        "\n"
      ],
      "execution_count": null,
      "outputs": []
    },
    {
      "cell_type": "markdown",
      "source": [
        "## **Download a Website**\n",
        "Run the following command to download the website recursively:\n",
        "\n",
        "```\n",
        "wget -r --no-parent http://www.example.com\n",
        "```\n",
        "\n",
        "This will download the pages without altering their HTML source code.\n",
        "\n",
        "When you want to change the links on the pages automatically to point to the downloaded files then use this command instead:\n",
        "\n",
        "```\n",
        "wget -r --convert-links --no-parent http://www.example.com\n",
        "```\n",
        "\n",
        "When all HTML files shall get a .html extension, then add the \"--html-extension\" option.\n",
        "\n",
        "```\n",
        "wget -r --convert-links --html-extension --no-parent http://www.example.com\n",
        "```"
      ],
      "metadata": {
        "id": "0Mrw99qJhJHm"
      }
    },
    {
      "cell_type": "code",
      "source": [
        "#@title **[3] Direct File download**\n",
        "#@markdown *Download website option:*\n",
        "\n",
        "import os\n",
        "import subprocess\n",
        "\n",
        "ChooseOption = \"3. Download the pages and change the links on the pages automatically to point to the downloaded files with HTML Extension.\" #@param [\"1. Download the pages without altering their HTML source code.\", \"2. Download the pages and change the links on the pages automatically to point to the downloaded files.\", \"3. Download the pages and change the links on the pages automatically to point to the downloaded files with HTML Extension.\"]\n",
        "\n",
        "def option1():\n",
        "  Download_Location = input(\"Enter location you want to download the website files: \")\n",
        "  Download_Link = input(\"Enter website link you want to download: \")\n",
        "  %cd '{Download_Location}'\n",
        "  !wget -r --no-parent '{Download_Link}'\n",
        "  \n",
        "def option2():\n",
        "  Download_Location = input(\"Enter location you want to download the website files: \")\n",
        "  Download_Link = input(\"Enter website link you want to download: \")\n",
        "  %cd '{Download_Location}'\n",
        "  !wget -r --convert-links --no-parent '{Download_Link}'\n",
        "\n",
        "def option3():\n",
        "  Download_Location = input(\"Enter location you want to download the website files: \")\n",
        "  Download_Link = input(\"Enter website link you want to download: \")\n",
        "  %cd '{Download_Location}'\n",
        "  !wget -r --convert-links --html-extension --no-parent '{Download_Link}'\n",
        "\n",
        "if ChooseOption == \"1. Download the pages without altering their HTML source code.\":\n",
        "  option1()\n",
        "if ChooseOption == \"2. Download the pages and change the links on the pages automatically to point to the downloaded files.\":\n",
        "  option2()\n",
        "if ChooseOption == \"3. Download the pages and change the links on the pages automatically to point to the downloaded files with HTML Extension.\":\n",
        "  option3()"
      ],
      "metadata": {
        "cellView": "form",
        "id": "AxsvXz_ehPzl"
      },
      "execution_count": null,
      "outputs": []
    }
  ]
}