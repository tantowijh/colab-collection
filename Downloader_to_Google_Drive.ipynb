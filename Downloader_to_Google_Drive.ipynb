{
  "nbformat": 4,
  "nbformat_minor": 0,
  "metadata": {
    "colab": {
      "name": "Downloader to Google Drive.ipynb",
      "provenance": [],
      "collapsed_sections": [
        "eev3EcLEiK1y",
        "dUAovFAThdOR",
        "AGVmJ2Y43o_C",
        "0Mrw99qJhJHm"
      ],
      "include_colab_link": true
    },
    "kernelspec": {
      "name": "python3",
      "display_name": "Python 3"
    },
    "language_info": {
      "name": "python"
    }
  },
  "cells": [
    {
      "cell_type": "markdown",
      "metadata": {
        "id": "view-in-github",
        "colab_type": "text"
      },
      "source": [
        "<a href=\"https://colab.research.google.com/github/tantowijh/colab-collection/blob/main/Downloader_to_Google_Drive.ipynb\" target=\"_parent\"><img src=\"https://colab.research.google.com/assets/colab-badge.svg\" alt=\"Open In Colab\"/></a>"
      ]
    },
    {
      "cell_type": "markdown",
      "source": [
        "## **Mount Google Drive**\n",
        "Run the following command to mount google drive:"
      ],
      "metadata": {
        "id": "eev3EcLEiK1y"
      }
    },
    {
      "cell_type": "code",
      "metadata": {
        "id": "PRtU5F7HEuhR",
        "cellView": "form",
        "colab": {
          "base_uri": "https://localhost:8080/"
        },
        "outputId": "559a7cda-24cf-404c-e9df-769620f4eaf8"
      },
      "source": [
        "#@title **[1] Link your Google Drive**\n",
        "#@markdown <center><img src='https://upload.wikimedia.org/wikipedia/commons/thumb/d/da/Google_Drive_logo.png/600px-Google_Drive_logo.png' height=\"50\" alt=\"Gdrive-logo\"/></center>\n",
        "from google.colab import drive\n",
        "drive.mount('/content/drive', force_remount=True)"
      ],
      "execution_count": null,
      "outputs": [
        {
          "output_type": "stream",
          "name": "stdout",
          "text": [
            "Mounted at /content/drive\n"
          ]
        }
      ]
    },
    {
      "cell_type": "code",
      "metadata": {
        "id": "w0EIfFJWXkTc",
        "cellView": "form"
      },
      "source": [
        "#@title **[2] Run this code if you want a longer run time (Optional but recommended)</font>**\n",
        "#@markdown *This cell runs a JS code that automatically reconnects you to avoid inactivity due to idle.*\n",
        "\n",
        "import IPython\n",
        "from IPython.display import clear_output\n",
        "from google.colab import output\n",
        "\n",
        "display(IPython.display.Javascript('''\n",
        " function connectRefresher() {\n",
        "       window.ConnectButtonIntervalId = setInterval(function ConnectButton(){\n",
        "                console.log(\"connected\"); \n",
        "                document.querySelector(\"#top-toolbar > colab-connect-button\").shadowRoot.querySelector(\"#connect\").click();\n",
        "                document.querySelector(\"colab-sessions-dialog\").shadowRoot.querySelector(\"#footer > div > paper-button\").click();\n",
        "                console.log(\"closed the dialog!!\"); \n",
        "            },60000);\n",
        "    }\n",
        "    \n",
        " function clearRefresher() { \n",
        "           console.log(\"clear Interval called !!\");\n",
        "           clearInterval(window.ConnectButtonIntervalId);\n",
        "    }\n",
        "\n",
        " connectRefresher(); //to connect the refresher\n",
        " clearRefresher(); //to disconnect the refresher\n",
        "'''))\n",
        "\n",
        "clear_output()"
      ],
      "execution_count": null,
      "outputs": []
    },
    {
      "cell_type": "markdown",
      "source": [
        "## **Google Drive Downloader**\n",
        "Run the following command to download files into google drive:"
      ],
      "metadata": {
        "id": "dUAovFAThdOR"
      }
    },
    {
      "cell_type": "code",
      "source": [
        "#@title **[1] Download From Google Drive**\n",
        "#@markdown *Input file name that you want to **save as** and consider adding an **extension file type** at the end, then put the URL and download location*.\n",
        "\n",
        "import re, os\n",
        "from IPython.display import clear_output\n",
        "\n",
        "LargeFile = True #@param {type:\"boolean\"}\n",
        "FileNametoSave = \"\" #@param {type:\"string\"}\n",
        "GoogleSharedLink = \"\" #@param {type:\"string\"}\n",
        "# Match six-letter word\n",
        "pattern = r\"[-\\w]{18,}\"\n",
        "# match() method\n",
        "result = re.match(pattern, GoogleSharedLink)\n",
        "# Output None\n",
        "# search() method\n",
        "result = re.search(pattern, GoogleSharedLink)\n",
        "fileId = result.group()\n",
        "# findall() method\n",
        "result = re.findall(pattern, GoogleSharedLink)\n",
        "\n",
        "# Define download location\n",
        "DownloadLocation = \"/content\" #@param {type:\"string\"}\n",
        "\n",
        "from pathlib import Path\n",
        "Path(DownloadLocation).mkdir(parents=True, exist_ok=True)\n",
        "\n",
        "%cd '{DownloadLocation}'\n",
        "clear_output()\n",
        "\n",
        "if LargeFile == False:\n",
        "  !wget -q --show-progress --progress=bar:force --no-check-certificate 'https://docs.google.com/uc?export=download&id={fileId}' -O '{FileNametoSave}'\n",
        "else:\n",
        "  !wget -q --show-progress --progress=bar:force --load-cookies '/tmp/cookies.txt' \"https://docs.google.com/uc?export=download&confirm=$(wget --quiet --save-cookies /tmp/cookies.txt --keep-session-cookies --no-check-certificate \"https://docs.google.com/uc?export=download&id={fileId}\" -O- | sed -rn 's/.*confirm=([0-9A-Za-z_]+).*/\\1\\n/p')&id={fileId}\" -O '{FileNametoSave}' && rm -rf /tmp/cookies.txt\n",
        "\n"
      ],
      "metadata": {
        "cellView": "form",
        "id": "9M2LK5o8x77K"
      },
      "execution_count": null,
      "outputs": []
    },
    {
      "cell_type": "code",
      "metadata": {
        "id": "pLza-cSZEv5v",
        "cellView": "form"
      },
      "source": [
        "# @title **[2] Download from Git**\n",
        "\n",
        "import os\n",
        "import subprocess\n",
        "\n",
        "#@markdown *Put file download location*\n",
        "Download_Location = \"\" #@param {type:\"string\"}\n",
        "Download_Link = \"/content\" #@param {type:\"string\"}\n",
        "\n",
        "%cd '{Download_Location}' \n",
        "!git clone '{Download_Link}' "
      ],
      "execution_count": null,
      "outputs": []
    },
    {
      "cell_type": "code",
      "metadata": {
        "id": "U67cKD9rGxw7",
        "cellView": "form"
      },
      "source": [
        "from sys import path\n",
        "#@title **[3] Direct File download**\n",
        "#@markdown &ensp;&ensp;(Wget Method) The files needs to be of some kind of extension or something similar, e.x. .exe .zip .apk etc.\n",
        "#@markdown <br>&ensp;&ensp;(Aria2 Method) You can see it here <i>aria2.github.io</i>. You can also stop seeding immediately.\n",
        "NoSeeding = False #@param {type:\"boolean\"}\n",
        "DownloadMethod = \"ARIA2\" #@param [\"WGET\", \"ARIA2\"]\n",
        "\n",
        "DownloadOption = \"Single Download\" #@param [\"Single Download\", \"Multiple Download\"]\n",
        "#@markdown *Provide txt file path for multiple download option, separate download link in new line. Example: content/drive/MyDrive/downloadlink.txt*\n",
        "\n",
        "import os\n",
        "import subprocess\n",
        "\n",
        "from os import path\n",
        "from IPython.utils import io\n",
        "\n",
        "if not path.exists(\"/usr/local/bin/aria2c\"):\n",
        "  with io.capture_output() as captured:\n",
        "    !sudo apt install aria2\n",
        "\n",
        "Download_Location = \"/content\" #@param {type:\"string\"}\n",
        "Download_Link = \"\" #@param {type:\"string\"}\n",
        "\n",
        "def wget():\n",
        "  def SingleDwnld():\n",
        "    %cd '{Download_Location}'\n",
        "    !wget '{Download_Link}'\n",
        "    with io.capture_output() as captured:\n",
        "      !cd '/content'\n",
        "\n",
        "  def MultipleDwnld():\n",
        "    %cd '{Download_Location}'\n",
        "    !wget -i '{Download_Link}'\n",
        "    with io.capture_output() as captured:\n",
        "      !cd '/content'\n",
        "\n",
        "  if DownloadOption == \"Single Download\":\n",
        "    SingleDwnld()\n",
        "  if DownloadOption == \"Multiple Download\":\n",
        "    MultipleDwnld()\n",
        "def aria2():\n",
        "  def SingleDwnld():\n",
        "    %cd '{Download_Location}'\n",
        "    if NoSeeding:\n",
        "      !aria2c --seed-time=0 '{Download_Link}'\n",
        "    else:\n",
        "      !aria2c '{Download_Link}'\n",
        "    with io.capture_output() as captured:\n",
        "      !cd '/content'\n",
        "\n",
        "  def MultipleDwnld():\n",
        "    %cd '{Download_Location}'\n",
        "    if NoSeeding:\n",
        "      !aria2c -i --seed-time=0 '{Download_Link}' --file-allocation=none -c --auto-file-renaming=false\n",
        "    else:\n",
        "      !aria2c -i '{Download_Link}' --file-allocation=none -c --auto-file-renaming=false\n",
        "    with io.capture_output() as captured:\n",
        "      !cd '/content'\n",
        "\n",
        "  if DownloadOption == \"Single Download\":\n",
        "    SingleDwnld()\n",
        "  if DownloadOption == \"Multiple Download\":\n",
        "    MultipleDwnld()\n",
        "if DownloadMethod == \"WGET\":\n",
        "  wget()\n",
        "if DownloadMethod == \"ARIA2\":\n",
        "  aria2()\n"
      ],
      "execution_count": null,
      "outputs": []
    },
    {
      "cell_type": "code",
      "metadata": {
        "id": "Durfw0S7I_5w",
        "cellView": "form"
      },
      "source": [
        "#@title **[4] Direct File download and Zip extraction**\n",
        "#@markdown *Use this if you want to download a zip file and extract it on the same google drive.*\n",
        "\n",
        "import os\n",
        "import subprocess\n",
        "\n",
        "Download_Location = \"\" #@param {type:\"string\"}\n",
        "Download_Link = \"\" #@param {type:\"string\"}\n",
        "ExtractedFolderName = \"\" #@param {type:\"string\"}\n",
        "\n",
        "%cd '{Download_Location}'\n",
        "!wget '{Download_Link}'\n",
        "\n",
        "#@markdown *Make sure there is no other zip file. Or will it be extracted too.* \n",
        "\n",
        "!unzip *.zip -d {ExtractedFolderName}\n",
        "%mv '{Download_Location}/*/*' '{Download_Location}/{ExtractedFolderName}/ -n'"
      ],
      "execution_count": null,
      "outputs": []
    },
    {
      "cell_type": "markdown",
      "metadata": {
        "id": "AGVmJ2Y43o_C"
      },
      "source": [
        "##<left><img src=\"https://ar.toneden.io/13766685/6070f58d-091b-4a80-bd5c-24378e308116\" height=\"50\" alt=\"Zippyshare logo\"/></left>\n",
        "## ___**Zippyshare Downloader**___"
      ]
    },
    {
      "cell_type": "code",
      "metadata": {
        "id": "GEcLzHgFArPH",
        "cellView": "form",
        "colab": {
          "base_uri": "https://localhost:8080/"
        },
        "outputId": "22a6fb6f-9b4c-4bb3-f702-7ddd3305723b"
      },
      "source": [
        "#@markdown <h3>⬅️ Click Here to START server</h3>\n",
        "#@markdown <center><img src=\"https://ar.toneden.io/13766685/6070f58d-091b-4a80-bd5c-24378e308116\" height=\"100\" alt=\"Zippyshare logo\"/></center>\n",
        "#@markdown <center><h3>Remote upload from Zippyshare to Google drive</h3></center><br>\n",
        "\n",
        "\n",
        "from IPython.utils import io\n",
        "from IPython.display import HTML, clear_output\n",
        "with io.capture_output() as captured:\n",
        "  %cd /content\n",
        "  !git clone https://github.com/mcrapet/plowshare.git\n",
        "  %cd plowshare\n",
        "  !make install\n",
        "  !plowmod --install\n",
        "  !apt-get install nodejs\n",
        "  !cd ..\n",
        "\n",
        "\n",
        "clear_output()\n",
        "\n",
        "print(\"Server Started Successfully\")\n"
      ],
      "execution_count": null,
      "outputs": [
        {
          "output_type": "stream",
          "name": "stdout",
          "text": [
            "Server Started Successfully\n"
          ]
        }
      ]
    },
    {
      "cell_type": "code",
      "metadata": {
        "id": "2Gu5xTR0-reg",
        "cellView": "form"
      },
      "source": [
        "#@markdown <h3>⬅️ Click Here to START Download</h3>\n",
        "\n",
        "import os\n",
        "direct_URL = \"https://www18.zippyshare.com/d/JN8CMwu5/507320/%5bLENDRIVE%5d_Tensei_Kenja_-_08_%5b1080p_HEVC_10bit%5d%5bDualsubs%5d.mkv\" #@param {type:\"string\"}\n",
        "output_dir = \"/content\" #@param {type:\"string\"}\n",
        "\n",
        "!plowdown \"$direct_URL\" -o \"$output_dir\"\n",
        "from IPython.utils import io\n",
        "with io.capture_output() as captured:\n",
        "  %cd /content/"
      ],
      "execution_count": null,
      "outputs": []
    },
    {
      "cell_type": "code",
      "metadata": {
        "id": "6WKY3zCQ86ev",
        "cellView": "form"
      },
      "source": [
        "#@markdown <h3>⬅️ Click Here to START Batch Download</h3>\n",
        "#@markdown <h5> Make \"download.txt\" file contaning batch links of zippyshare and upload here to down them all.\n",
        "\n",
        "%cd /content/plowshare\n",
        "\n",
        "!rm *.txt\n",
        "\n",
        "from google.colab import files\n",
        "files.upload()\n",
        "\n",
        "import os\n",
        "output_dir = \"/content/drive/My Drive\" #@param {type:\"string\"}\n",
        "\n",
        "!plowdown \"download.txt\" -m -o \"$output_dir\"\n",
        "\n",
        "%cd /content/\n",
        "\n",
        "\n",
        "\n"
      ],
      "execution_count": null,
      "outputs": []
    },
    {
      "cell_type": "markdown",
      "source": [
        "## **Download a Website**\n",
        "Run the following command to download the website recursively:\n",
        "\n",
        "```\n",
        "wget -r --no-parent http://www.example.com\n",
        "```\n",
        "\n",
        "This will download the pages without altering their HTML source code.\n",
        "\n",
        "When you want to change the links on the pages automatically to point to the downloaded files then use this command instead:\n",
        "\n",
        "```\n",
        "wget -r --convert-links --no-parent http://www.example.com\n",
        "```\n",
        "\n",
        "When all HTML files shall get a .html extension, then add the \"--html-extension\" option.\n",
        "\n",
        "```\n",
        "wget -r --convert-links --html-extension --no-parent http://www.example.com\n",
        "```"
      ],
      "metadata": {
        "id": "0Mrw99qJhJHm"
      }
    },
    {
      "cell_type": "code",
      "source": [
        "#@title **[3] Direct File download**\n",
        "#@markdown *Download website option:*\n",
        "\n",
        "import os\n",
        "import subprocess\n",
        "\n",
        "ChooseOption = \"3. Download the pages and change the links on the pages automatically to point to the downloaded files with HTML Extension.\" #@param [\"1. Download the pages without altering their HTML source code.\", \"2. Download the pages and change the links on the pages automatically to point to the downloaded files.\", \"3. Download the pages and change the links on the pages automatically to point to the downloaded files with HTML Extension.\"]\n",
        "\n",
        "def option1():\n",
        "  Download_Location = input(\"Enter location you want to download the website files: \")\n",
        "  Download_Link = input(\"Enter website link you want to download: \")\n",
        "  %cd '{Download_Location}'\n",
        "  !wget -r --no-parent '{Download_Link}'\n",
        "  \n",
        "def option2():\n",
        "  Download_Location = input(\"Enter location you want to download the website files: \")\n",
        "  Download_Link = input(\"Enter website link you want to download: \")\n",
        "  %cd '{Download_Location}'\n",
        "  !wget -r --convert-links --no-parent '{Download_Link}'\n",
        "\n",
        "def option3():\n",
        "  Download_Location = input(\"Enter location you want to download the website files: \")\n",
        "  Download_Link = input(\"Enter website link you want to download: \")\n",
        "  %cd '{Download_Location}'\n",
        "  !wget -r --convert-links --html-extension --no-parent '{Download_Link}'\n",
        "\n",
        "if ChooseOption == \"1. Download the pages without altering their HTML source code.\":\n",
        "  option1()\n",
        "if ChooseOption == \"2. Download the pages and change the links on the pages automatically to point to the downloaded files.\":\n",
        "  option2()\n",
        "if ChooseOption == \"3. Download the pages and change the links on the pages automatically to point to the downloaded files with HTML Extension.\":\n",
        "  option3()"
      ],
      "metadata": {
        "cellView": "form",
        "id": "AxsvXz_ehPzl"
      },
      "execution_count": null,
      "outputs": []
    }
  ]
}