{
  "nbformat": 4,
  "nbformat_minor": 0,
  "metadata": {
    "colab": {
      "name": "Downloader to Google Drive.ipynb",
      "provenance": [],
      "collapsed_sections": [
        "eev3EcLEiK1y",
        "y3mM79I6Kl3I",
        "AGVmJ2Y43o_C",
        "0Mrw99qJhJHm"
      ],
      "include_colab_link": true
    },
    "kernelspec": {
      "name": "python3",
      "display_name": "Python 3"
    },
    "language_info": {
      "name": "python"
    }
  },
  "cells": [
    {
      "cell_type": "markdown",
      "metadata": {
        "id": "view-in-github",
        "colab_type": "text"
      },
      "source": [
        "<a href=\"https://colab.research.google.com/github/tantowijh/colab-collection/blob/main/Downloader_to_Google_Drive.ipynb\" target=\"_parent\"><img src=\"https://colab.research.google.com/assets/colab-badge.svg\" alt=\"Open In Colab\"/></a>"
      ]
    },
    {
      "cell_type": "markdown",
      "source": [
        "## **Mount Google Drive**\n",
        "Run the following command to mount google drive:"
      ],
      "metadata": {
        "id": "eev3EcLEiK1y"
      }
    },
    {
      "cell_type": "code",
      "metadata": {
        "id": "PRtU5F7HEuhR",
        "cellView": "form",
        "colab": {
          "base_uri": "https://localhost:8080/"
        },
        "outputId": "559a7cda-24cf-404c-e9df-769620f4eaf8"
      },
      "source": [
        "#@title **[1] Link your Google Drive**\n",
        "#@markdown <center><img src='https://upload.wikimedia.org/wikipedia/commons/thumb/d/da/Google_Drive_logo.png/600px-Google_Drive_logo.png' height=\"50\" alt=\"Gdrive-logo\"/></center>\n",
        "from google.colab import drive\n",
        "drive.mount('/content/drive', force_remount=True)"
      ],
      "execution_count": null,
      "outputs": [
        {
          "output_type": "stream",
          "name": "stdout",
          "text": [
            "Mounted at /content/drive\n"
          ]
        }
      ]
    },
    {
      "cell_type": "code",
      "metadata": {
        "id": "w0EIfFJWXkTc",
        "cellView": "form"
      },
      "source": [
        "#@title **[2] Run this code if you want a longer run time (Optional but recommended)</font>**\n",
        "#@markdown *This cell runs a JS code that automatically reconnects you to avoid inactivity due to idle.*\n",
        "\n",
        "import IPython\n",
        "from IPython.display import clear_output\n",
        "from google.colab import output\n",
        "\n",
        "display(IPython.display.Javascript('''\n",
        " function connectRefresher() {\n",
        "       window.ConnectButtonIntervalId = setInterval(function ConnectButton(){\n",
        "                console.log(\"connected\"); \n",
        "                document.querySelector(\"#top-toolbar > colab-connect-button\").shadowRoot.querySelector(\"#connect\").click();\n",
        "                document.querySelector(\"colab-sessions-dialog\").shadowRoot.querySelector(\"#footer > div > paper-button\").click();\n",
        "                console.log(\"closed the dialog!!\"); \n",
        "            },60000);\n",
        "    }\n",
        "    \n",
        " function clearRefresher() { \n",
        "           console.log(\"clear Interval called !!\");\n",
        "           clearInterval(window.ConnectButtonIntervalId);\n",
        "    }\n",
        "\n",
        " connectRefresher(); //to connect the refresher\n",
        " clearRefresher(); //to disconnect the refresher\n",
        "'''))\n",
        "\n",
        "clear_output()"
      ],
      "execution_count": null,
      "outputs": []
    },
    {
      "cell_type": "markdown",
      "metadata": {
        "id": "y3mM79I6Kl3I"
      },
      "source": [
        "## <img src='https://forum.rclone.org/uploads/default/original/2X/d/da6ccb2784ff3fa73d9339300530e0aae4d6cebd.png' height=\"45\" alt=\"rclone\"/>"
      ]
    },
    {
      "cell_type": "code",
      "metadata": {
        "cellView": "form",
        "id": "Z8UaDJp2Kl3g"
      },
      "source": [
        "# ============================= FORM ============================= #\n",
        "#@title <font size=\"4\"><b>Step 1. </b>Upload your <code>rclone.conf</code> profile</font> { vertical-output: true }\n",
        "#@markdown <h6>*<i>Required to mount your drive!</i></h4>\n",
        "## @markdown <h7>Your <code>rclone.conf</code> file is located at:</i></h4>\n",
        "# @markdown ### <font size=1px><i>For not able to upload local file : https://stackoverflow.com/a/58661947</font>\n",
        "# ================================================================ #\n",
        "MODE = \"RCONFIG\"\n",
        "from os import path as _p\n",
        "from IPython.display import clear_output\n",
        "\n",
        "if not _p.exists(\"/root/.ipython/rlab_utils.py\"):\n",
        "    from shlex import split as _spl\n",
        "    from subprocess import run  # nosec\n",
        "\n",
        "    shellCmd = \"wget -qq https://raw.githubusercontent.com/biplobsd/RLabClone/master/res/rlab_utils.py \\\n",
        "                    -O /root/.ipython/rlab_utils.py\"\n",
        "    run(_spl(shellCmd))  # nosec\n",
        "\n",
        "import importlib, rlab_utils\n",
        "from google.colab import files  # pylint: disable=import-error #nosec\n",
        "from rlab_utils import checkAvailable, runSh, PATH_RClone_Config, prepareSession\n",
        "\n",
        "\n",
        "def generateUploadList():\n",
        "    prepareSession()\n",
        "    if checkAvailable(\"/content/upload.txt\"):\n",
        "        runSh(\"rm -f upload.txt\")\n",
        "    runSh(\n",
        "        f\"rclone --config {PATH_RClone_Config}/rclone.conf lsf {REMOTE}: --include '{QUERY_PATTERN}' --drive-shared-with-me --files-only --max-depth 1 > /content/upload.txt\",\n",
        "        shell=True,  # nosec\n",
        "    )\n",
        "\n",
        "\n",
        "def uploadLocalFiles():\n",
        "    prepareSession()\n",
        "    if MODE == \"UTILS\":\n",
        "        filePath = \"/root/.ipython/rlab_utils.py\"\n",
        "    elif MODE in (\"RCONFIG\", \"RCONFIG_append\"):\n",
        "        filePath = f\"{PATH_RClone_Config}/rclone.conf\"\n",
        "    else:\n",
        "        pass\n",
        "\n",
        "    try:\n",
        "      if checkAvailable(filePath):\n",
        "        runSh(f\"rm -f {filePath}\")\n",
        "      print(\"Select file from your computer.\\n\")\n",
        "      uploadedFile = files.upload()\n",
        "      fileNameDictKeys = uploadedFile.keys()\n",
        "      fileNo = len(fileNameDictKeys)\n",
        "      if fileNo > 1:\n",
        "          for fn in fileNameDictKeys:\n",
        "              runSh(f'rm -f \"/content/{fn}\"')\n",
        "          return print(\"\\nPlease only upload a single config file.\")\n",
        "      elif fileNo == 0:\n",
        "          return print(\"\\nFile upload cancelled.\")\n",
        "      elif fileNo == 1:\n",
        "          for fn in fileNameDictKeys:\n",
        "              if checkAvailable(f\"/content/{fn}\"):\n",
        "                  if MODE == \"RCONFIG_append\":\n",
        "                    import urllib\n",
        "                    urllib.request.urlretrieve(\"https://biplobsd.github.io/RLabClone/res/rclonelab/rclone.conf\",\n",
        "                                               \"/usr/local/sessionSettings/rclone.conf\")\n",
        "                    with open(f\"/content/{fn}\", 'r+') as r:\n",
        "                      new_data = r.read()\n",
        "                      runSh(f'rm -f \"/content/{fn}\"')\n",
        "                    with open(filePath, 'r+') as f:\n",
        "                      old_data = f.read()\n",
        "                      f.seek(0)\n",
        "                      f.truncate(0)\n",
        "                      f.write(old_data + new_data)\n",
        "                    print(\"\\nUpdate completed.\")\n",
        "                  else:\n",
        "                    runSh(f'mv -f \"/content/{fn}\" {filePath}')\n",
        "                    runSh(f\"chmod 666 {filePath}\")\n",
        "                    runSh(f'rm -f \"/content/{fn}\"')\n",
        "                    importlib.reload(rlab_utils)\n",
        "                    print(\"Upload completed.\")\n",
        "              return\n",
        "      else:\n",
        "          print(\"\\nNo file\")\n",
        "          return\n",
        "    except:\n",
        "      return print(\"\\nUpload process Error.\")\n",
        "\n",
        "\n",
        "if MODE == \"GENERATELIST\":\n",
        "    generateUploadList()\n",
        "else:\n",
        "    uploadLocalFiles()\n"
      ],
      "execution_count": null,
      "outputs": []
    },
    {
      "cell_type": "code",
      "metadata": {
        "cellView": "form",
        "id": "N33urFzcKl3j"
      },
      "source": [
        "# ============================= FORM ============================= #\n",
        "#@title <font size=\"4\"><b>Step 2</b>. Mount your Drive with rclone</font> { vertical-output: true }\n",
        "Cache_Directory = \"DISK\"\n",
        "import os\n",
        "from IPython.display import HTML, clear_output\n",
        "import uuid\n",
        "import ipywidgets as widgets\n",
        "from google.colab import output\n",
        "import re\n",
        "#####################################\n",
        "if not os.path.exists(\"/root/.ipython/rlab_utils.py\"):\n",
        "  from shlex import split as _spl\n",
        "  from subprocess import run\n",
        "\n",
        "  shellCmd = \"wget -qq https://biplobsd.github.io/RLabClone/res/rlab_utils.py \\\n",
        "                  -O /root/.ipython/rlab_utils.py\"\n",
        "  run(_spl(shellCmd))\n",
        "\n",
        "from rlab_utils import (\n",
        "    runSh,\n",
        "    prepareSession,\n",
        "    PATH_RClone_Config,\n",
        ")\n",
        "\n",
        "class MakeButton(object):\n",
        "  def __init__(self, title, callback, style):\n",
        "    self._title = title\n",
        "    self._callback = callback\n",
        "    self._style = style\n",
        "  def _repr_html_(self):\n",
        "    callback_id = 'button-' + str(uuid.uuid4())\n",
        "    output.register_callback(callback_id, self._callback)\n",
        "    if self._style != \"\":\n",
        "      style_html = \"p-Widget jupyter-widgets jupyter-button widget-button mod-\" + self._style\n",
        "    else:\n",
        "      style_html = \"p-Widget jupyter-widgets jupyter-button widget-button\"\n",
        "    template = \"\"\"<button class=\"{style_html}\" id=\"{callback_id}\">{title}</button>\n",
        "        <script>\n",
        "          document.querySelector(\"#{callback_id}\").onclick = (e) => {{\n",
        "            google.colab.kernel.invokeFunction('{callback_id}', [], {{}})\n",
        "            e.preventDefault();\n",
        "          }};\n",
        "        </script>\"\"\"\n",
        "    html = template.format(title=self._title, callback_id=callback_id, style_html=style_html)\n",
        "    return html\n",
        "  \n",
        "def ShowAC():\n",
        "  clear_output(wait=True)\n",
        "  display(\n",
        "      widgets.HBox(\n",
        "          [widgets.VBox(\n",
        "              [widgets.HTML(\n",
        "                  '''<h3 style=\"font-family:Trebuchet MS;color:#127ACC;margin-top:0px;\">\n",
        "                  Choose Drive to Mount:</h3>\n",
        "                  '''\n",
        "                  ),\n",
        "               mountNam]\n",
        "               )\n",
        "          ]\n",
        "          )\n",
        "      )\n",
        "  \n",
        "  display(HTML(\"<br>\"), MakeButton(\"Mount\", MountCMD, \"primary\"),\n",
        "          MakeButton(\"Unmount\", unmountCMD, \"danger\"))\n",
        "\n",
        "prepareSession()\n",
        "content = open(f\"{PATH_RClone_Config}/rclone.conf\").read()\n",
        "avCon = re.findall(r\"^\\[(.+)\\]$\", content, re.M)\n",
        "mountNam = widgets.Dropdown(options=avCon)\n",
        "\n",
        "if Cache_Directory == 'RAM':\n",
        "  cache_path = '/dev/shm'\n",
        "elif Cache_Directory == 'DISK':\n",
        "  os.makedirs('/tmp', exist_ok=True)\n",
        "  cache_path = '/tmp'\n",
        "\n",
        "def MountCMD():\n",
        "    mPoint = f\"/content/drives/{mountNam.value}\"\n",
        "    os.makedirs(mPoint, exist_ok=True)\n",
        "    cmd = rf\"rclone mount {mountNam.value}: {mPoint}\" \\\n",
        "      rf\" --config {PATH_RClone_Config}/rclone.conf\" \\\n",
        "      ' --daemon'\n",
        "\n",
        "    if runSh(cmd, shell=True) == 0:\n",
        "      print(f\"Mount success! - \\t{mPoint}\")\n",
        "    else:\n",
        "      print(f\"Mount failed! - \\t{mPoint}\")\n",
        "\n",
        "def unmountCMD():\n",
        "  mPoint = f\"/content/drives/{mountNam.value}\"\n",
        "  if os.system(f\"fusermount -uz {mPoint}\") == 0:\n",
        "    runSh(f\"rm -r {mPoint}\")\n",
        "    print(f\"Unmounted success! - \\t{mPoint}\")\n",
        "  else:\n",
        "    runSh(f\"fusermount -uz {mPoint}\", output=True)\n",
        "\n",
        "ShowAC()"
      ],
      "execution_count": null,
      "outputs": []
    },
    {
      "cell_type": "markdown",
      "source": [
        "## **Google Drive Downloader**\n",
        "Run the following command to download files into google drive:"
      ],
      "metadata": {
        "id": "dUAovFAThdOR"
      }
    },
    {
      "cell_type": "code",
      "source": [
        "#@title **[1] Download From Google Drive**\n",
        "#@markdown *Input file name that you want to **save as** and consider adding an **extension file type** at the end, then put the URL and download location*.\n",
        "\n",
        "import re, os\n",
        "from IPython.display import clear_output\n",
        "\n",
        "LargeFile = True #@param {type:\"boolean\"}\n",
        "FileNametoSave = \"_Kusonime__Pikiran_Busuk_BD_720P.rar\" #@param {type:\"string\"}\n",
        "GoogleSharedLink = \"https://drive.google.com/uc?export=download&id=12ANcXVCYFzbIJ45_zeSV7K0hn68fkoPf\" #@param {type:\"string\"}\n",
        "# Match six-letter word\n",
        "pattern = r\"[-\\w]{18,}\"\n",
        "# match() method\n",
        "result = re.match(pattern, GoogleSharedLink)\n",
        "# Output None\n",
        "# search() method\n",
        "result = re.search(pattern, GoogleSharedLink)\n",
        "fileId = result.group()\n",
        "# findall() method\n",
        "result = re.findall(pattern, GoogleSharedLink)\n",
        "\n",
        "# Define download location\n",
        "DownloadLocation = \"/content/drive/Shareddrives/01. Anime Server/01. Anime Series/Kuzu no Honkai\" #@param {type:\"string\"}\n",
        "\n",
        "from pathlib import Path\n",
        "Path(DownloadLocation).mkdir(parents=True, exist_ok=True)\n",
        "\n",
        "%cd '{DownloadLocation}'\n",
        "clear_output()\n",
        "\n",
        "if LargeFile == False:\n",
        "  !wget -q --show-progress --progress=bar:force --no-check-certificate 'https://docs.google.com/uc?export=download&id={fileId}' -O '{FileNametoSave}'\n",
        "else:\n",
        "  !wget -q --show-progress --progress=bar:force --load-cookies '/tmp/cookies.txt' \"https://docs.google.com/uc?export=download&confirm=$(wget --quiet --save-cookies /tmp/cookies.txt --keep-session-cookies --no-check-certificate \"https://docs.google.com/uc?export=download&id={fileId}\" -O- | sed -rn 's/.*confirm=([0-9A-Za-z_]+).*/\\1\\n/p')&id={fileId}\" -O '{FileNametoSave}' && rm -rf /tmp/cookies.txt\n",
        "\n"
      ],
      "metadata": {
        "cellView": "form",
        "id": "9M2LK5o8x77K"
      },
      "execution_count": null,
      "outputs": []
    },
    {
      "cell_type": "code",
      "metadata": {
        "id": "pLza-cSZEv5v",
        "cellView": "form"
      },
      "source": [
        "# @title **[2] Download from Git**\n",
        "\n",
        "import os\n",
        "import subprocess\n",
        "\n",
        "#@markdown *Put file download location*\n",
        "Download_Location = \"/content/drive/MyDrive/Subtitle\" #@param {type:\"string\"}\n",
        "Download_Link = \"https://github.com/MatheusGrilo/OpenSubs.git\" #@param {type:\"string\"}\n",
        "\n",
        "%cd '{Download_Location}' \n",
        "!git clone '{Download_Link}' "
      ],
      "execution_count": null,
      "outputs": []
    },
    {
      "cell_type": "code",
      "metadata": {
        "id": "U67cKD9rGxw7",
        "cellView": "form"
      },
      "source": [
        "from sys import path\n",
        "#@title **[3] Direct File download**\n",
        "#@markdown *The files needs to be of some kind of extension or something similar, you get it right? e.x. .exe .zip .apk etc. The link should be - https://*\n",
        "\n",
        "DownloadMethod = \"ARIA2\" #@param [\"WGET\", \"ARIA2\"]\n",
        "DownloadOption = \"Single Download\" #@param [\"Single Download\", \"Multiple Download\"]\n",
        "#@markdown *Provide txt file path for multiple download option, separate download link in new line. Example: content/drive/MyDrive/downloadlink.txt*\n",
        "\n",
        "import os\n",
        "import subprocess\n",
        "\n",
        "from os import path\n",
        "from IPython.utils import io\n",
        "\n",
        "if not path.exists(\"/usr/local/bin/aria2c\"):\n",
        "  with io.capture_output() as captured:\n",
        "    !sudo apt install aria2\n",
        "\n",
        "Download_Location = \"/content\" #@param {type:\"string\"}\n",
        "Download_Link = \"\" #@param {type:\"string\"}\n",
        "\n",
        "def wget():\n",
        "  def SingleDwnld():\n",
        "    %cd '{Download_Location}'\n",
        "    !wget '{Download_Link}'\n",
        "\n",
        "  def MultipleDwnld():\n",
        "    %cd '{Download_Location}'\n",
        "    !wget -i '{Download_Link}'\n",
        "\n",
        "  if DownloadOption == \"Single Download\":\n",
        "    SingleDwnld()\n",
        "  if DownloadOption == \"Multiple Download\":\n",
        "    MultipleDwnld()\n",
        "def aria2():\n",
        "  def SingleDwnld():\n",
        "    %cd '{Download_Location}'\n",
        "    !aria2c '{Download_Link}'\n",
        "\n",
        "  def MultipleDwnld():\n",
        "    %cd '{Download_Location}'\n",
        "    !aria2c -i '{Download_Link}' --file-allocation=none -c --auto-file-renaming=false\n",
        "\n",
        "  if DownloadOption == \"Single Download\":\n",
        "    SingleDwnld()\n",
        "  if DownloadOption == \"Multiple Download\":\n",
        "    MultipleDwnld()\n",
        "if DownloadMethod == \"WGET\":\n",
        "  wget()\n",
        "if DownloadMethod == \"ARIA2\":\n",
        "  aria2()\n"
      ],
      "execution_count": null,
      "outputs": []
    },
    {
      "cell_type": "code",
      "metadata": {
        "id": "Durfw0S7I_5w",
        "cellView": "form"
      },
      "source": [
        "#@title **[4] Direct File download and Zip extraction**\n",
        "#@markdown *Use this if you want to download a zip file and extract it on the same google drive.*\n",
        "\n",
        "import os\n",
        "import subprocess\n",
        "\n",
        "Download_Location = \"/content/drive/MyDrive/Subtitle\" #@param {type:\"string\"}\n",
        "Download_Link = \"https://www.ffonts.net/AR-CENA.font.zip\" #@param {type:\"string\"}\n",
        "ExtractedFolderName = \"Extracted\" #@param {type:\"string\"}\n",
        "\n",
        "%cd '{Download_Location}'\n",
        "!wget '{Download_Link}'\n",
        "\n",
        "#@markdown *Make sure there is no other zip file. Or will it be extracted too.* \n",
        "\n",
        "!unzip *.zip -d {ExtractedFolderName}\n",
        "%mv '{Download_Location}/*/*' '{Download_Location}/{ExtractedFolderName}/ -n'"
      ],
      "execution_count": null,
      "outputs": []
    },
    {
      "cell_type": "code",
      "source": [
        "#@title **[5] Zippyshare Downloader**\n",
        "#@markdown *Start downloading from zippyshare*\n",
        "\n",
        "import os\n",
        "import subprocess\n",
        "\n",
        "Download_Location = \"/content/drive/Shareddrives/01. Anime Server/01. TV Show/30. Kanojo, Okarishimasu/Season 2\" #@param {type:\"string\"}\n",
        "Download_Link = \"https://www67.zippyshare.com/d/M589DIuG/291/%5bLENDRIVE%5d_KanoKari_S2_-_06_%5b1080p_HEVC_10bit%5d%5bDualsubs%5d.mkv\" #@param {type:\"string\"}\n",
        "Download_Referrer = \"https://www53.zippyshare.com/v/M589DIuG/file.html\" #@param {type:\"string\"}\n",
        "JSESSION_ID = \"BF70FF2AB9A828F49CB8A58268AF6431\" #@param {type:\"string\"}\n",
        "\n",
        "%cd '{Download_Location}' \n",
        "!wget '{Download_Link}' --referer='{Download_Referrer}' --cookies=off --header \"Cookie: JSESSIONID={JSESSION_ID}\" --user-agent='Mozilla/5.0 (Windows NT 10.0; Win64; x64) AppleWebKit/537.36 (KHTML, like Gecko) Chrome/99.0.4844.51 Safari/537.36'"
      ],
      "metadata": {
        "cellView": "form",
        "id": "wyt8GgKmd8PI"
      },
      "execution_count": null,
      "outputs": []
    },
    {
      "cell_type": "code",
      "source": [
        "#@title **[6] Hosting Site File Download**\n",
        "#@markdown *Example: Zippyshare and One Drive*\n",
        "\n",
        "import os\n",
        "import subprocess\n",
        "\n",
        "Download_Location = \"/content/drive/Shareddrives/01. Anime Server/01. Anime/01. TV Show/37. Hoshi no Samidare/Season 1\" #@param {type:\"string\"}\n",
        "Download_Link = \"https://download1334.mediafire.com/sj6wpvgcxhpg/y9m6neiiybtx2qr/%5BLENDRIVE%5D_Hoshi_no_Samidare_-_04_%5B1080p_HEVC_10bit%5D%5BDualsubs%5D.mkv\" #@param {type:\"string\"}\n",
        "Download_Referrer = \"https://www.mediafire.com/file/y9m6neiiybtx2qr/%255BLENDRIVE%255D_Hoshi_no_Samidare_-_04_%255B1080p_HEVC_10bit%255D%255BDualsubs%255D.mkv/file\" #@param {type:\"string\"}\n",
        "Cookie_Name = \"\" #@param {type:\"string\"}\n",
        "Cookie_Auth = \"\" #@param {type:\"string\"}\n",
        "\n",
        "%cd '{Download_Location}' \n",
        "!wget '{Download_Link}' --referer='{Download_Referrer}' --cookies=off --header \"Cookie: {Cookie_Name}={Cookie_Auth}\" --user-agent='Mozilla/5.0 (Windows NT 10.0; Win64; x64) AppleWebKit/537.36 (KHTML, like Gecko) Chrome/99.0.4844.51 Safari/537.36'"
      ],
      "metadata": {
        "cellView": "form",
        "id": "MC5m0oSKwSS0"
      },
      "execution_count": null,
      "outputs": []
    },
    {
      "cell_type": "markdown",
      "metadata": {
        "id": "AGVmJ2Y43o_C"
      },
      "source": [
        "##<left><img src=\"https://ar.toneden.io/13766685/6070f58d-091b-4a80-bd5c-24378e308116\" height=\"50\" alt=\"Zippyshare logo\"/></left>\n",
        "## ___**Zippyshare Downloader**___"
      ]
    },
    {
      "cell_type": "code",
      "metadata": {
        "id": "GEcLzHgFArPH",
        "cellView": "form",
        "colab": {
          "base_uri": "https://localhost:8080/"
        },
        "outputId": "22a6fb6f-9b4c-4bb3-f702-7ddd3305723b"
      },
      "source": [
        "#@markdown <h3>⬅️ Click Here to START server</h3>\n",
        "#@markdown <center><img src=\"https://ar.toneden.io/13766685/6070f58d-091b-4a80-bd5c-24378e308116\" height=\"100\" alt=\"Zippyshare logo\"/></center>\n",
        "#@markdown <center><h3>Remote upload from Zippyshare to Google drive</h3></center><br>\n",
        "\n",
        "\n",
        "from IPython.utils import io\n",
        "from IPython.display import HTML, clear_output\n",
        "with io.capture_output() as captured:\n",
        "  %cd /content\n",
        "  !git clone https://github.com/mcrapet/plowshare.git\n",
        "  %cd plowshare\n",
        "  !make install\n",
        "  !plowmod --install\n",
        "  !apt-get install nodejs\n",
        "  !cd ..\n",
        "\n",
        "\n",
        "clear_output()\n",
        "\n",
        "print(\"Server Started Successfully\")\n"
      ],
      "execution_count": null,
      "outputs": [
        {
          "output_type": "stream",
          "name": "stdout",
          "text": [
            "Server Started Successfully\n"
          ]
        }
      ]
    },
    {
      "cell_type": "code",
      "metadata": {
        "id": "2Gu5xTR0-reg",
        "cellView": "form"
      },
      "source": [
        "#@markdown <h3>⬅️ Click Here to START Download</h3>\n",
        "\n",
        "import os\n",
        "direct_URL = \"https://www18.zippyshare.com/d/JN8CMwu5/507320/%5bLENDRIVE%5d_Tensei_Kenja_-_08_%5b1080p_HEVC_10bit%5d%5bDualsubs%5d.mkv\" #@param {type:\"string\"}\n",
        "output_dir = \"/content\" #@param {type:\"string\"}\n",
        "\n",
        "!plowdown \"$direct_URL\" -o \"$output_dir\"\n",
        "from IPython.utils import io\n",
        "with io.capture_output() as captured:\n",
        "  %cd /content/"
      ],
      "execution_count": null,
      "outputs": []
    },
    {
      "cell_type": "code",
      "metadata": {
        "id": "6WKY3zCQ86ev",
        "cellView": "form"
      },
      "source": [
        "#@markdown <h3>⬅️ Click Here to START Batch Download</h3>\n",
        "#@markdown <h5> Make \"download.txt\" file contaning batch links of zippyshare and upload here to down them all.\n",
        "\n",
        "%cd /content/plowshare\n",
        "\n",
        "!rm *.txt\n",
        "\n",
        "from google.colab import files\n",
        "files.upload()\n",
        "\n",
        "import os\n",
        "output_dir = \"/content/drive/My Drive\" #@param {type:\"string\"}\n",
        "\n",
        "!plowdown \"download.txt\" -m -o \"$output_dir\"\n",
        "\n",
        "%cd /content/\n",
        "\n",
        "\n",
        "\n"
      ],
      "execution_count": null,
      "outputs": []
    },
    {
      "cell_type": "markdown",
      "source": [
        "## **Download a Website**\n",
        "Run the following command to download the website recursively:\n",
        "\n",
        "```\n",
        "wget -r --no-parent http://www.example.com\n",
        "```\n",
        "\n",
        "This will download the pages without altering their HTML source code.\n",
        "\n",
        "When you want to change the links on the pages automatically to point to the downloaded files then use this command instead:\n",
        "\n",
        "```\n",
        "wget -r --convert-links --no-parent http://www.example.com\n",
        "```\n",
        "\n",
        "When all HTML files shall get a .html extension, then add the \"--html-extension\" option.\n",
        "\n",
        "```\n",
        "wget -r --convert-links --html-extension --no-parent http://www.example.com\n",
        "```"
      ],
      "metadata": {
        "id": "0Mrw99qJhJHm"
      }
    },
    {
      "cell_type": "code",
      "source": [
        "#@title **[3] Direct File download**\n",
        "#@markdown *Download website option:*\n",
        "\n",
        "import os\n",
        "import subprocess\n",
        "\n",
        "ChooseOption = \"3. Download the pages and change the links on the pages automatically to point to the downloaded files with HTML Extension.\" #@param [\"1. Download the pages without altering their HTML source code.\", \"2. Download the pages and change the links on the pages automatically to point to the downloaded files.\", \"3. Download the pages and change the links on the pages automatically to point to the downloaded files with HTML Extension.\"]\n",
        "\n",
        "def option1():\n",
        "  Download_Location = input(\"Enter location you want to download the website files: \")\n",
        "  Download_Link = input(\"Enter website link you want to download: \")\n",
        "  %cd '{Download_Location}'\n",
        "  !wget -r --no-parent '{Download_Link}'\n",
        "  \n",
        "def option2():\n",
        "  Download_Location = input(\"Enter location you want to download the website files: \")\n",
        "  Download_Link = input(\"Enter website link you want to download: \")\n",
        "  %cd '{Download_Location}'\n",
        "  !wget -r --convert-links --no-parent '{Download_Link}'\n",
        "\n",
        "def option3():\n",
        "  Download_Location = input(\"Enter location you want to download the website files: \")\n",
        "  Download_Link = input(\"Enter website link you want to download: \")\n",
        "  %cd '{Download_Location}'\n",
        "  !wget -r --convert-links --html-extension --no-parent '{Download_Link}'\n",
        "\n",
        "if ChooseOption == \"1. Download the pages without altering their HTML source code.\":\n",
        "  option1()\n",
        "if ChooseOption == \"2. Download the pages and change the links on the pages automatically to point to the downloaded files.\":\n",
        "  option2()\n",
        "if ChooseOption == \"3. Download the pages and change the links on the pages automatically to point to the downloaded files with HTML Extension.\":\n",
        "  option3()"
      ],
      "metadata": {
        "cellView": "form",
        "id": "AxsvXz_ehPzl"
      },
      "execution_count": null,
      "outputs": []
    }
  ]
}