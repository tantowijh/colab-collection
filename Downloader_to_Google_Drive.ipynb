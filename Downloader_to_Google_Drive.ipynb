{
  "nbformat": 4,
  "nbformat_minor": 0,
  "metadata": {
    "colab": {
      "name": "Downloader to Google Drive.ipynb",
      "provenance": [],
      "collapsed_sections": [
        "eev3EcLEiK1y",
        "AGVmJ2Y43o_C",
        "0Mrw99qJhJHm"
      ],
      "include_colab_link": true
    },
    "kernelspec": {
      "name": "python3",
      "display_name": "Python 3"
    },
    "language_info": {
      "name": "python"
    },
    "widgets": {
      "application/vnd.jupyter.widget-state+json": {
        "2dfd2199ac964af59d929fb1cbaffbda": {
          "model_module": "@jupyter-widgets/controls",
          "model_name": "HBoxModel",
          "model_module_version": "2.0.0",
          "state": {
            "_dom_classes": [],
            "_model_module": "@jupyter-widgets/controls",
            "_model_module_version": "2.0.0",
            "_model_name": "HBoxModel",
            "_view_count": null,
            "_view_module": "@jupyter-widgets/controls",
            "_view_module_version": "2.0.0",
            "_view_name": "HBoxView",
            "box_style": "",
            "children": [
              "IPY_MODEL_507858397fe349b1ae7927639fd9ae67"
            ],
            "layout": "IPY_MODEL_2dc668bb15d84bce8a70a3f1f66c8dff",
            "tabbable": null,
            "tooltip": null
          }
        },
        "507858397fe349b1ae7927639fd9ae67": {
          "model_module": "@jupyter-widgets/controls",
          "model_name": "VBoxModel",
          "model_module_version": "2.0.0",
          "state": {
            "_dom_classes": [],
            "_model_module": "@jupyter-widgets/controls",
            "_model_module_version": "2.0.0",
            "_model_name": "VBoxModel",
            "_view_count": null,
            "_view_module": "@jupyter-widgets/controls",
            "_view_module_version": "2.0.0",
            "_view_name": "VBoxView",
            "box_style": "",
            "children": [
              "IPY_MODEL_f94493b3fbd6449f8ec66aec93b66483",
              "IPY_MODEL_1ac46dcf3cf24571aca80031e263a23a"
            ],
            "layout": "IPY_MODEL_6b4220eb0a94493ba81c3fc5f6d2ec3b",
            "tabbable": null,
            "tooltip": null
          }
        },
        "2dc668bb15d84bce8a70a3f1f66c8dff": {
          "model_module": "@jupyter-widgets/base",
          "model_name": "LayoutModel",
          "model_module_version": "2.0.0",
          "state": {
            "_model_module": "@jupyter-widgets/base",
            "_model_module_version": "2.0.0",
            "_model_name": "LayoutModel",
            "_view_count": null,
            "_view_module": "@jupyter-widgets/base",
            "_view_module_version": "2.0.0",
            "_view_name": "LayoutView",
            "align_content": null,
            "align_items": null,
            "align_self": null,
            "border_bottom": null,
            "border_left": null,
            "border_right": null,
            "border_top": null,
            "bottom": null,
            "display": null,
            "flex": null,
            "flex_flow": null,
            "grid_area": null,
            "grid_auto_columns": null,
            "grid_auto_flow": null,
            "grid_auto_rows": null,
            "grid_column": null,
            "grid_gap": null,
            "grid_row": null,
            "grid_template_areas": null,
            "grid_template_columns": null,
            "grid_template_rows": null,
            "height": null,
            "justify_content": null,
            "justify_items": null,
            "left": null,
            "margin": null,
            "max_height": null,
            "max_width": null,
            "min_height": null,
            "min_width": null,
            "object_fit": null,
            "object_position": null,
            "order": null,
            "overflow": null,
            "padding": null,
            "right": null,
            "top": null,
            "visibility": null,
            "width": null
          }
        },
        "f94493b3fbd6449f8ec66aec93b66483": {
          "model_module": "@jupyter-widgets/controls",
          "model_name": "HTMLModel",
          "model_module_version": "2.0.0",
          "state": {
            "_dom_classes": [],
            "_model_module": "@jupyter-widgets/controls",
            "_model_module_version": "2.0.0",
            "_model_name": "HTMLModel",
            "_view_count": null,
            "_view_module": "@jupyter-widgets/controls",
            "_view_module_version": "2.0.0",
            "_view_name": "HTMLView",
            "description": "",
            "description_allow_html": false,
            "layout": "IPY_MODEL_c68b2930814549e18b350e51cdf6f61a",
            "placeholder": "​",
            "style": "IPY_MODEL_387a2e8358bf4085800d1cc59efee24e",
            "tabbable": null,
            "tooltip": null,
            "value": "<h3 style=\"font-family:Trebuchet MS;color:#127ACC;margin-top:0px;\">\n                  Choose Drive to Mount:</h3>\n                  "
          }
        },
        "1ac46dcf3cf24571aca80031e263a23a": {
          "model_module": "@jupyter-widgets/controls",
          "model_name": "DropdownModel",
          "model_module_version": "2.0.0",
          "state": {
            "_dom_classes": [],
            "_model_module": "@jupyter-widgets/controls",
            "_model_module_version": "2.0.0",
            "_model_name": "DropdownModel",
            "_options_labels": [
              "AnimeServer",
              "Torrent",
              "YT-Dlp",
              "MyDrive",
              "MyMega"
            ],
            "_view_count": null,
            "_view_module": "@jupyter-widgets/controls",
            "_view_module_version": "2.0.0",
            "_view_name": "DropdownView",
            "description": "",
            "description_allow_html": false,
            "disabled": false,
            "index": 0,
            "layout": "IPY_MODEL_a8be86411efb4e1faabdf36a33d7f70c",
            "style": "IPY_MODEL_8ce6d7aeb2c34052a40376487b7d1855",
            "tabbable": null,
            "tooltip": null
          }
        },
        "6b4220eb0a94493ba81c3fc5f6d2ec3b": {
          "model_module": "@jupyter-widgets/base",
          "model_name": "LayoutModel",
          "model_module_version": "2.0.0",
          "state": {
            "_model_module": "@jupyter-widgets/base",
            "_model_module_version": "2.0.0",
            "_model_name": "LayoutModel",
            "_view_count": null,
            "_view_module": "@jupyter-widgets/base",
            "_view_module_version": "2.0.0",
            "_view_name": "LayoutView",
            "align_content": null,
            "align_items": null,
            "align_self": null,
            "border_bottom": null,
            "border_left": null,
            "border_right": null,
            "border_top": null,
            "bottom": null,
            "display": null,
            "flex": null,
            "flex_flow": null,
            "grid_area": null,
            "grid_auto_columns": null,
            "grid_auto_flow": null,
            "grid_auto_rows": null,
            "grid_column": null,
            "grid_gap": null,
            "grid_row": null,
            "grid_template_areas": null,
            "grid_template_columns": null,
            "grid_template_rows": null,
            "height": null,
            "justify_content": null,
            "justify_items": null,
            "left": null,
            "margin": null,
            "max_height": null,
            "max_width": null,
            "min_height": null,
            "min_width": null,
            "object_fit": null,
            "object_position": null,
            "order": null,
            "overflow": null,
            "padding": null,
            "right": null,
            "top": null,
            "visibility": null,
            "width": null
          }
        },
        "c68b2930814549e18b350e51cdf6f61a": {
          "model_module": "@jupyter-widgets/base",
          "model_name": "LayoutModel",
          "model_module_version": "2.0.0",
          "state": {
            "_model_module": "@jupyter-widgets/base",
            "_model_module_version": "2.0.0",
            "_model_name": "LayoutModel",
            "_view_count": null,
            "_view_module": "@jupyter-widgets/base",
            "_view_module_version": "2.0.0",
            "_view_name": "LayoutView",
            "align_content": null,
            "align_items": null,
            "align_self": null,
            "border_bottom": null,
            "border_left": null,
            "border_right": null,
            "border_top": null,
            "bottom": null,
            "display": null,
            "flex": null,
            "flex_flow": null,
            "grid_area": null,
            "grid_auto_columns": null,
            "grid_auto_flow": null,
            "grid_auto_rows": null,
            "grid_column": null,
            "grid_gap": null,
            "grid_row": null,
            "grid_template_areas": null,
            "grid_template_columns": null,
            "grid_template_rows": null,
            "height": null,
            "justify_content": null,
            "justify_items": null,
            "left": null,
            "margin": null,
            "max_height": null,
            "max_width": null,
            "min_height": null,
            "min_width": null,
            "object_fit": null,
            "object_position": null,
            "order": null,
            "overflow": null,
            "padding": null,
            "right": null,
            "top": null,
            "visibility": null,
            "width": null
          }
        },
        "387a2e8358bf4085800d1cc59efee24e": {
          "model_module": "@jupyter-widgets/controls",
          "model_name": "HTMLStyleModel",
          "model_module_version": "2.0.0",
          "state": {
            "_model_module": "@jupyter-widgets/controls",
            "_model_module_version": "2.0.0",
            "_model_name": "HTMLStyleModel",
            "_view_count": null,
            "_view_module": "@jupyter-widgets/base",
            "_view_module_version": "2.0.0",
            "_view_name": "StyleView",
            "background": null,
            "description_width": "",
            "font_size": null,
            "text_color": null
          }
        },
        "a8be86411efb4e1faabdf36a33d7f70c": {
          "model_module": "@jupyter-widgets/base",
          "model_name": "LayoutModel",
          "model_module_version": "2.0.0",
          "state": {
            "_model_module": "@jupyter-widgets/base",
            "_model_module_version": "2.0.0",
            "_model_name": "LayoutModel",
            "_view_count": null,
            "_view_module": "@jupyter-widgets/base",
            "_view_module_version": "2.0.0",
            "_view_name": "LayoutView",
            "align_content": null,
            "align_items": null,
            "align_self": null,
            "border_bottom": null,
            "border_left": null,
            "border_right": null,
            "border_top": null,
            "bottom": null,
            "display": null,
            "flex": null,
            "flex_flow": null,
            "grid_area": null,
            "grid_auto_columns": null,
            "grid_auto_flow": null,
            "grid_auto_rows": null,
            "grid_column": null,
            "grid_gap": null,
            "grid_row": null,
            "grid_template_areas": null,
            "grid_template_columns": null,
            "grid_template_rows": null,
            "height": null,
            "justify_content": null,
            "justify_items": null,
            "left": null,
            "margin": null,
            "max_height": null,
            "max_width": null,
            "min_height": null,
            "min_width": null,
            "object_fit": null,
            "object_position": null,
            "order": null,
            "overflow": null,
            "padding": null,
            "right": null,
            "top": null,
            "visibility": null,
            "width": null
          }
        },
        "8ce6d7aeb2c34052a40376487b7d1855": {
          "model_module": "@jupyter-widgets/controls",
          "model_name": "DescriptionStyleModel",
          "model_module_version": "2.0.0",
          "state": {
            "_model_module": "@jupyter-widgets/controls",
            "_model_module_version": "2.0.0",
            "_model_name": "DescriptionStyleModel",
            "_view_count": null,
            "_view_module": "@jupyter-widgets/base",
            "_view_module_version": "2.0.0",
            "_view_name": "StyleView",
            "description_width": ""
          }
        }
      }
    }
  },
  "cells": [
    {
      "cell_type": "markdown",
      "metadata": {
        "id": "view-in-github",
        "colab_type": "text"
      },
      "source": [
        "<a href=\"https://colab.research.google.com/github/tantowijh/colab-collection/blob/main/Downloader_to_Google_Drive.ipynb\" target=\"_parent\"><img src=\"https://colab.research.google.com/assets/colab-badge.svg\" alt=\"Open In Colab\"/></a>"
      ]
    },
    {
      "cell_type": "markdown",
      "source": [
        "## **Mount Google Drive**\n",
        "Run the following command to mount google drive:"
      ],
      "metadata": {
        "id": "eev3EcLEiK1y"
      }
    },
    {
      "cell_type": "code",
      "metadata": {
        "id": "PRtU5F7HEuhR",
        "cellView": "form",
        "colab": {
          "base_uri": "https://localhost:8080/"
        },
        "outputId": "559a7cda-24cf-404c-e9df-769620f4eaf8"
      },
      "source": [
        "#@title **[1] Link your Google Drive**\n",
        "#@markdown <center><img src='https://upload.wikimedia.org/wikipedia/commons/thumb/d/da/Google_Drive_logo.png/600px-Google_Drive_logo.png' height=\"50\" alt=\"Gdrive-logo\"/></center>\n",
        "from google.colab import drive\n",
        "drive.mount('/content/drive', force_remount=True)"
      ],
      "execution_count": null,
      "outputs": [
        {
          "output_type": "stream",
          "name": "stdout",
          "text": [
            "Mounted at /content/drive\n"
          ]
        }
      ]
    },
    {
      "cell_type": "code",
      "metadata": {
        "id": "w0EIfFJWXkTc",
        "cellView": "form"
      },
      "source": [
        "#@title **[2] Run this code if you want a longer run time (Optional but recommended)</font>**\n",
        "#@markdown *This cell runs a JS code that automatically reconnects you to avoid inactivity due to idle.*\n",
        "\n",
        "import IPython\n",
        "from IPython.display import clear_output\n",
        "from google.colab import output\n",
        "\n",
        "display(IPython.display.Javascript('''\n",
        " function connectRefresher() {\n",
        "       window.ConnectButtonIntervalId = setInterval(function ConnectButton(){\n",
        "                console.log(\"connected\"); \n",
        "                document.querySelector(\"#top-toolbar > colab-connect-button\").shadowRoot.querySelector(\"#connect\").click();\n",
        "                document.querySelector(\"colab-sessions-dialog\").shadowRoot.querySelector(\"#footer > div > paper-button\").click();\n",
        "                console.log(\"closed the dialog!!\"); \n",
        "            },60000);\n",
        "    }\n",
        "    \n",
        " function clearRefresher() { \n",
        "           console.log(\"clear Interval called !!\");\n",
        "           clearInterval(window.ConnectButtonIntervalId);\n",
        "    }\n",
        "\n",
        " connectRefresher(); //to connect the refresher\n",
        " clearRefresher(); //to disconnect the refresher\n",
        "'''))\n",
        "\n",
        "clear_output()"
      ],
      "execution_count": null,
      "outputs": []
    },
    {
      "cell_type": "code",
      "metadata": {
        "cellView": "form",
        "id": "Z8UaDJp2Kl3g",
        "colab": {
          "resources": {
            "http://localhost:8080/nbextensions/google.colab/files.js": {
              "data": "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",
              "ok": true,
              "headers": [
                [
                  "content-type",
                  "application/javascript"
                ]
              ],
              "status": 200,
              "status_text": ""
            }
          },
          "base_uri": "https://localhost:8080/",
          "height": 127
        },
        "outputId": "9408ecc9-f911-4552-a37e-93145180b37c"
      },
      "source": [
        "# ============================= FORM ============================= #\n",
        "#@title <font size=\"4\"><b>Step 1. </b>Upload your <code>rclone.conf</code> profile</font> { vertical-output: true }\n",
        "#@markdown <h6>*<i>Required to mount your drive!</i></h4>\n",
        "## @markdown <h7>Your <code>rclone.conf</code> file is located at:</i></h4>\n",
        "# @markdown ### <font size=1px><i>For not able to upload local file : https://stackoverflow.com/a/58661947</font>\n",
        "# ================================================================ #\n",
        "MODE = \"RCONFIG\"\n",
        "from os import path as _p\n",
        "from IPython.display import clear_output\n",
        "\n",
        "if not _p.exists(\"/root/.ipython/rlab_utils.py\"):\n",
        "    from shlex import split as _spl\n",
        "    from subprocess import run  # nosec\n",
        "\n",
        "    shellCmd = \"wget -qq https://raw.githubusercontent.com/biplobsd/RLabClone/master/res/rlab_utils.py \\\n",
        "                    -O /root/.ipython/rlab_utils.py\"\n",
        "    run(_spl(shellCmd))  # nosec\n",
        "\n",
        "import importlib, rlab_utils\n",
        "from google.colab import files  # pylint: disable=import-error #nosec\n",
        "from rlab_utils import checkAvailable, runSh, PATH_RClone_Config, prepareSession\n",
        "\n",
        "\n",
        "def generateUploadList():\n",
        "    prepareSession()\n",
        "    if checkAvailable(\"/content/upload.txt\"):\n",
        "        runSh(\"rm -f upload.txt\")\n",
        "    runSh(\n",
        "        f\"rclone --config {PATH_RClone_Config}/rclone.conf lsf {REMOTE}: --include '{QUERY_PATTERN}' --drive-shared-with-me --files-only --max-depth 1 > /content/upload.txt\",\n",
        "        shell=True,  # nosec\n",
        "    )\n",
        "\n",
        "\n",
        "def uploadLocalFiles():\n",
        "    prepareSession()\n",
        "    if MODE == \"UTILS\":\n",
        "        filePath = \"/root/.ipython/rlab_utils.py\"\n",
        "    elif MODE in (\"RCONFIG\", \"RCONFIG_append\"):\n",
        "        filePath = f\"{PATH_RClone_Config}/rclone.conf\"\n",
        "    else:\n",
        "        pass\n",
        "\n",
        "    try:\n",
        "      if checkAvailable(filePath):\n",
        "        runSh(f\"rm -f {filePath}\")\n",
        "      print(\"Select file from your computer.\\n\")\n",
        "      uploadedFile = files.upload()\n",
        "      fileNameDictKeys = uploadedFile.keys()\n",
        "      fileNo = len(fileNameDictKeys)\n",
        "      if fileNo > 1:\n",
        "          for fn in fileNameDictKeys:\n",
        "              runSh(f'rm -f \"/content/{fn}\"')\n",
        "          return print(\"\\nPlease only upload a single config file.\")\n",
        "      elif fileNo == 0:\n",
        "          return print(\"\\nFile upload cancelled.\")\n",
        "      elif fileNo == 1:\n",
        "          for fn in fileNameDictKeys:\n",
        "              if checkAvailable(f\"/content/{fn}\"):\n",
        "                  if MODE == \"RCONFIG_append\":\n",
        "                    import urllib\n",
        "                    urllib.request.urlretrieve(\"https://biplobsd.github.io/RLabClone/res/rclonelab/rclone.conf\",\n",
        "                                               \"/usr/local/sessionSettings/rclone.conf\")\n",
        "                    with open(f\"/content/{fn}\", 'r+') as r:\n",
        "                      new_data = r.read()\n",
        "                      runSh(f'rm -f \"/content/{fn}\"')\n",
        "                    with open(filePath, 'r+') as f:\n",
        "                      old_data = f.read()\n",
        "                      f.seek(0)\n",
        "                      f.truncate(0)\n",
        "                      f.write(old_data + new_data)\n",
        "                    print(\"\\nUpdate completed.\")\n",
        "                  else:\n",
        "                    runSh(f'mv -f \"/content/{fn}\" {filePath}')\n",
        "                    runSh(f\"chmod 666 {filePath}\")\n",
        "                    runSh(f'rm -f \"/content/{fn}\"')\n",
        "                    importlib.reload(rlab_utils)\n",
        "                    print(\"Upload completed.\")\n",
        "              return\n",
        "      else:\n",
        "          print(\"\\nNo file\")\n",
        "          return\n",
        "    except:\n",
        "      return print(\"\\nUpload process Error.\")\n",
        "\n",
        "\n",
        "if MODE == \"GENERATELIST\":\n",
        "    generateUploadList()\n",
        "else:\n",
        "    uploadLocalFiles()\n"
      ],
      "execution_count": 1,
      "outputs": [
        {
          "output_type": "stream",
          "name": "stdout",
          "text": [
            "Select file from your computer.\n",
            "\n"
          ]
        },
        {
          "output_type": "display_data",
          "data": {
            "text/plain": [
              "<IPython.core.display.HTML object>"
            ],
            "text/html": [
              "\n",
              "     <input type=\"file\" id=\"files-b1738c3f-aef9-4391-b4fa-12cff5149a8b\" name=\"files[]\" multiple disabled\n",
              "        style=\"border:none\" />\n",
              "     <output id=\"result-b1738c3f-aef9-4391-b4fa-12cff5149a8b\">\n",
              "      Upload widget is only available when the cell has been executed in the\n",
              "      current browser session. Please rerun this cell to enable.\n",
              "      </output>\n",
              "      <script src=\"/nbextensions/google.colab/files.js\"></script> "
            ]
          },
          "metadata": {}
        },
        {
          "output_type": "stream",
          "name": "stdout",
          "text": [
            "Saving rclone.conf to rclone.conf\n",
            "Upload completed.\n"
          ]
        }
      ]
    },
    {
      "cell_type": "code",
      "metadata": {
        "cellView": "form",
        "id": "N33urFzcKl3j",
        "colab": {
          "base_uri": "https://localhost:8080/",
          "height": 77,
          "referenced_widgets": [
            "2dfd2199ac964af59d929fb1cbaffbda",
            "507858397fe349b1ae7927639fd9ae67",
            "2dc668bb15d84bce8a70a3f1f66c8dff",
            "f94493b3fbd6449f8ec66aec93b66483",
            "1ac46dcf3cf24571aca80031e263a23a",
            "6b4220eb0a94493ba81c3fc5f6d2ec3b",
            "c68b2930814549e18b350e51cdf6f61a",
            "387a2e8358bf4085800d1cc59efee24e",
            "a8be86411efb4e1faabdf36a33d7f70c",
            "8ce6d7aeb2c34052a40376487b7d1855"
          ]
        },
        "outputId": "5aed3895-e914-47bd-92bd-18e3854a4db0"
      },
      "source": [
        "# ============================= FORM ============================= #\n",
        "#@title <font size=\"4\"><b>Step 2</b>. Mount your Drive with rclone</font> { vertical-output: true }\n",
        "Cache_Directory = \"DISK\"\n",
        "import os\n",
        "from IPython.display import HTML, clear_output\n",
        "import uuid\n",
        "import ipywidgets as widgets\n",
        "from google.colab import output\n",
        "import re\n",
        "#####################################\n",
        "if not os.path.exists(\"/root/.ipython/rlab_utils.py\"):\n",
        "  from shlex import split as _spl\n",
        "  from subprocess import run\n",
        "\n",
        "  shellCmd = \"wget -qq https://biplobsd.github.io/RLabClone/res/rlab_utils.py \\\n",
        "                  -O /root/.ipython/rlab_utils.py\"\n",
        "  run(_spl(shellCmd))\n",
        "\n",
        "from rlab_utils import (\n",
        "    runSh,\n",
        "    prepareSession,\n",
        "    PATH_RClone_Config,\n",
        ")\n",
        "\n",
        "class MakeButton(object):\n",
        "  def __init__(self, title, callback, style):\n",
        "    self._title = title\n",
        "    self._callback = callback\n",
        "    self._style = style\n",
        "  def _repr_html_(self):\n",
        "    callback_id = 'button-' + str(uuid.uuid4())\n",
        "    output.register_callback(callback_id, self._callback)\n",
        "    if self._style != \"\":\n",
        "      style_html = \"p-Widget jupyter-widgets jupyter-button widget-button mod-\" + self._style\n",
        "    else:\n",
        "      style_html = \"p-Widget jupyter-widgets jupyter-button widget-button\"\n",
        "    template = \"\"\"<button class=\"{style_html}\" id=\"{callback_id}\">{title}</button>\n",
        "        <script>\n",
        "          document.querySelector(\"#{callback_id}\").onclick = (e) => {{\n",
        "            google.colab.kernel.invokeFunction('{callback_id}', [], {{}})\n",
        "            e.preventDefault();\n",
        "          }};\n",
        "        </script>\"\"\"\n",
        "    html = template.format(title=self._title, callback_id=callback_id, style_html=style_html)\n",
        "    return html\n",
        "  \n",
        "def ShowAC():\n",
        "  clear_output(wait=True)\n",
        "  display(\n",
        "      widgets.HBox(\n",
        "          [widgets.VBox(\n",
        "              [widgets.HTML(\n",
        "                  '''<h3 style=\"font-family:Trebuchet MS;color:#127ACC;margin-top:0px;\">\n",
        "                  Choose Drive to Mount:</h3>\n",
        "                  '''\n",
        "                  ),\n",
        "               mountNam]\n",
        "               )\n",
        "          ]\n",
        "          )\n",
        "      )\n",
        "  \n",
        "  display(HTML(\"<br>\"), MakeButton(\"Mount\", MountCMD, \"primary\"),\n",
        "          MakeButton(\"Unmount\", unmountCMD, \"danger\"))\n",
        "\n",
        "prepareSession()\n",
        "content = open(f\"{PATH_RClone_Config}/rclone.conf\").read()\n",
        "avCon = re.findall(r\"^\\[(.+)\\]$\", content, re.M)\n",
        "mountNam = widgets.Dropdown(options=avCon)\n",
        "\n",
        "if Cache_Directory == 'RAM':\n",
        "  cache_path = '/dev/shm'\n",
        "elif Cache_Directory == 'DISK':\n",
        "  os.makedirs('/tmp', exist_ok=True)\n",
        "  cache_path = '/tmp'\n",
        "\n",
        "def MountCMD():\n",
        "    mPoint = f\"/content/drives/{mountNam.value}\"\n",
        "    os.makedirs(mPoint, exist_ok=True)\n",
        "    cmd = rf\"rclone mount {mountNam.value}: {mPoint}\" \\\n",
        "      rf\" --config {PATH_RClone_Config}/rclone.conf\" \\\n",
        "      ' --daemon'\n",
        "\n",
        "    if runSh(cmd, shell=True) == 0:\n",
        "      print(f\"Mount success! - \\t{mPoint}\")\n",
        "    else:\n",
        "      print(f\"Mount failed! - \\t{mPoint}\")\n",
        "\n",
        "def unmountCMD():\n",
        "  mPoint = f\"/content/drives/{mountNam.value}\"\n",
        "  if os.system(f\"fusermount -uz {mPoint}\") == 0:\n",
        "    runSh(f\"rm -r {mPoint}\")\n",
        "    print(f\"Unmounted success! - \\t{mPoint}\")\n",
        "  else:\n",
        "    runSh(f\"fusermount -uz {mPoint}\", output=True)\n",
        "\n",
        "ShowAC()"
      ],
      "execution_count": 2,
      "outputs": [
        {
          "output_type": "display_data",
          "data": {
            "text/plain": [
              "HBox(children=(VBox(children=(HTML(value='<h3 style=\"font-family:Trebuchet MS;color:#127ACC;margin-top:0px;\">\\…"
            ],
            "application/vnd.jupyter.widget-view+json": {
              "version_major": 2,
              "version_minor": 0,
              "model_id": "2dfd2199ac964af59d929fb1cbaffbda"
            }
          },
          "metadata": {}
        },
        {
          "output_type": "display_data",
          "data": {
            "text/plain": [
              "<IPython.core.display.HTML object>"
            ],
            "text/html": [
              "<br>"
            ]
          },
          "metadata": {}
        },
        {
          "output_type": "display_data",
          "data": {
            "text/plain": [
              "<__main__.MakeButton at 0x7fc29add66d0>"
            ],
            "text/html": [
              "<button class=\"p-Widget jupyter-widgets jupyter-button widget-button mod-primary\" id=\"button-41b555be-f7d4-4e56-9755-167f5c9c79a3\">Mount</button>\n",
              "        <script>\n",
              "          document.querySelector(\"#button-41b555be-f7d4-4e56-9755-167f5c9c79a3\").onclick = (e) => {\n",
              "            google.colab.kernel.invokeFunction('button-41b555be-f7d4-4e56-9755-167f5c9c79a3', [], {})\n",
              "            e.preventDefault();\n",
              "          };\n",
              "        </script>"
            ]
          },
          "metadata": {}
        },
        {
          "output_type": "display_data",
          "data": {
            "text/plain": [
              "<__main__.MakeButton at 0x7fc29add61d0>"
            ],
            "text/html": [
              "<button class=\"p-Widget jupyter-widgets jupyter-button widget-button mod-danger\" id=\"button-664f514a-1590-4082-8008-19e169a8ce7a\">Unmount</button>\n",
              "        <script>\n",
              "          document.querySelector(\"#button-664f514a-1590-4082-8008-19e169a8ce7a\").onclick = (e) => {\n",
              "            google.colab.kernel.invokeFunction('button-664f514a-1590-4082-8008-19e169a8ce7a', [], {})\n",
              "            e.preventDefault();\n",
              "          };\n",
              "        </script>"
            ]
          },
          "metadata": {}
        }
      ]
    },
    {
      "cell_type": "markdown",
      "source": [
        "## **Google Drive Downloader**\n",
        "Run the following command to download files into google drive:"
      ],
      "metadata": {
        "id": "dUAovFAThdOR"
      }
    },
    {
      "cell_type": "code",
      "source": [
        "#@title **[1] Download From Google Drive**\n",
        "#@markdown *Input file name that you want to **save as** and consider adding an **extension file type** at the end, then put the URL and download location*.\n",
        "\n",
        "import re, os\n",
        "from IPython.display import clear_output\n",
        "\n",
        "LargeFile = True #@param {type:\"boolean\"}\n",
        "FileNametoSave = \"_Kusonime__Pikiran_Busuk_BD_720P.rar\" #@param {type:\"string\"}\n",
        "GoogleSharedLink = \"https://drive.google.com/uc?export=download&id=12ANcXVCYFzbIJ45_zeSV7K0hn68fkoPf\" #@param {type:\"string\"}\n",
        "# Match six-letter word\n",
        "pattern = r\"[-\\w]{18,}\"\n",
        "# match() method\n",
        "result = re.match(pattern, GoogleSharedLink)\n",
        "# Output None\n",
        "# search() method\n",
        "result = re.search(pattern, GoogleSharedLink)\n",
        "fileId = result.group()\n",
        "# findall() method\n",
        "result = re.findall(pattern, GoogleSharedLink)\n",
        "\n",
        "# Define download location\n",
        "DownloadLocation = \"/content/drive/Shareddrives/01. Anime Server/01. Anime Series/Kuzu no Honkai\" #@param {type:\"string\"}\n",
        "\n",
        "from pathlib import Path\n",
        "Path(DownloadLocation).mkdir(parents=True, exist_ok=True)\n",
        "\n",
        "%cd '{DownloadLocation}'\n",
        "clear_output()\n",
        "\n",
        "if LargeFile == False:\n",
        "  !wget -q --show-progress --progress=bar:force --no-check-certificate 'https://docs.google.com/uc?export=download&id={fileId}' -O '{FileNametoSave}'\n",
        "else:\n",
        "  !wget -q --show-progress --progress=bar:force --load-cookies '/tmp/cookies.txt' \"https://docs.google.com/uc?export=download&confirm=$(wget --quiet --save-cookies /tmp/cookies.txt --keep-session-cookies --no-check-certificate \"https://docs.google.com/uc?export=download&id={fileId}\" -O- | sed -rn 's/.*confirm=([0-9A-Za-z_]+).*/\\1\\n/p')&id={fileId}\" -O '{FileNametoSave}' && rm -rf /tmp/cookies.txt\n",
        "\n"
      ],
      "metadata": {
        "cellView": "form",
        "id": "9M2LK5o8x77K"
      },
      "execution_count": null,
      "outputs": []
    },
    {
      "cell_type": "code",
      "metadata": {
        "id": "pLza-cSZEv5v",
        "cellView": "form"
      },
      "source": [
        "# @title **[2] Download from Git**\n",
        "\n",
        "import os\n",
        "import subprocess\n",
        "\n",
        "#@markdown *Put file download location*\n",
        "Download_Location = \"/content/drive/MyDrive/Subtitle\" #@param {type:\"string\"}\n",
        "Download_Link = \"https://github.com/MatheusGrilo/OpenSubs.git\" #@param {type:\"string\"}\n",
        "\n",
        "%cd '{Download_Location}' \n",
        "!git clone '{Download_Link}' "
      ],
      "execution_count": null,
      "outputs": []
    },
    {
      "cell_type": "code",
      "metadata": {
        "id": "U67cKD9rGxw7",
        "cellView": "form"
      },
      "source": [
        "from sys import path\n",
        "#@title **[3] Direct File download**\n",
        "#@markdown *The files needs to be of some kind of extension or something similar, you get it right? e.x. .exe .zip .apk etc. The link should be - https://*\n",
        "\n",
        "DownloadMethod = \"ARIA2\" #@param [\"WGET\", \"ARIA2\"]\n",
        "DownloadOption = \"Single Download\" #@param [\"Single Download\", \"Multiple Download\"]\n",
        "#@markdown *Provide txt file path for multiple download option, separate download link in new line. Example: content/drive/MyDrive/downloadlink.txt*\n",
        "\n",
        "import os\n",
        "import subprocess\n",
        "\n",
        "from os import path\n",
        "from IPython.utils import io\n",
        "\n",
        "if not path.exists(\"/usr/local/bin/aria2c\"):\n",
        "  with io.capture_output() as captured:\n",
        "    !sudo apt install aria2\n",
        "\n",
        "Download_Location = \"/content\" #@param {type:\"string\"}\n",
        "Download_Link = \"\" #@param {type:\"string\"}\n",
        "\n",
        "def wget():\n",
        "  def SingleDwnld():\n",
        "    %cd '{Download_Location}'\n",
        "    !wget '{Download_Link}'\n",
        "\n",
        "  def MultipleDwnld():\n",
        "    %cd '{Download_Location}'\n",
        "    !wget -i '{Download_Link}'\n",
        "\n",
        "  if DownloadOption == \"Single Download\":\n",
        "    SingleDwnld()\n",
        "  if DownloadOption == \"Multiple Download\":\n",
        "    MultipleDwnld()\n",
        "def aria2():\n",
        "  def SingleDwnld():\n",
        "    %cd '{Download_Location}'\n",
        "    !aria2c '{Download_Link}'\n",
        "\n",
        "  def MultipleDwnld():\n",
        "    %cd '{Download_Location}'\n",
        "    !aria2c -i '{Download_Link}' --file-allocation=none -c --auto-file-renaming=false\n",
        "\n",
        "  if DownloadOption == \"Single Download\":\n",
        "    SingleDwnld()\n",
        "  if DownloadOption == \"Multiple Download\":\n",
        "    MultipleDwnld()\n",
        "if DownloadMethod == \"WGET\":\n",
        "  wget()\n",
        "if DownloadMethod == \"ARIA2\":\n",
        "  aria2()\n"
      ],
      "execution_count": null,
      "outputs": []
    },
    {
      "cell_type": "code",
      "metadata": {
        "id": "Durfw0S7I_5w",
        "cellView": "form"
      },
      "source": [
        "#@title **[4] Direct File download and Zip extraction**\n",
        "#@markdown *Use this if you want to download a zip file and extract it on the same google drive.*\n",
        "\n",
        "import os\n",
        "import subprocess\n",
        "\n",
        "Download_Location = \"/content/drive/MyDrive/Subtitle\" #@param {type:\"string\"}\n",
        "Download_Link = \"https://www.ffonts.net/AR-CENA.font.zip\" #@param {type:\"string\"}\n",
        "ExtractedFolderName = \"Extracted\" #@param {type:\"string\"}\n",
        "\n",
        "%cd '{Download_Location}'\n",
        "!wget '{Download_Link}'\n",
        "\n",
        "#@markdown *Make sure there is no other zip file. Or will it be extracted too.* \n",
        "\n",
        "!unzip *.zip -d {ExtractedFolderName}\n",
        "%mv '{Download_Location}/*/*' '{Download_Location}/{ExtractedFolderName}/ -n'"
      ],
      "execution_count": null,
      "outputs": []
    },
    {
      "cell_type": "code",
      "source": [
        "#@title **[5] Zippyshare Downloader**\n",
        "#@markdown *Start downloading from zippyshare*\n",
        "\n",
        "import os\n",
        "import subprocess\n",
        "\n",
        "Download_Location = \"/content/drive/Shareddrives/01. Anime Server/01. TV Show/30. Kanojo, Okarishimasu/Season 2\" #@param {type:\"string\"}\n",
        "Download_Link = \"https://www67.zippyshare.com/d/M589DIuG/291/%5bLENDRIVE%5d_KanoKari_S2_-_06_%5b1080p_HEVC_10bit%5d%5bDualsubs%5d.mkv\" #@param {type:\"string\"}\n",
        "Download_Referrer = \"https://www53.zippyshare.com/v/M589DIuG/file.html\" #@param {type:\"string\"}\n",
        "JSESSION_ID = \"BF70FF2AB9A828F49CB8A58268AF6431\" #@param {type:\"string\"}\n",
        "\n",
        "%cd '{Download_Location}' \n",
        "!wget '{Download_Link}' --referer='{Download_Referrer}' --cookies=off --header \"Cookie: JSESSIONID={JSESSION_ID}\" --user-agent='Mozilla/5.0 (Windows NT 10.0; Win64; x64) AppleWebKit/537.36 (KHTML, like Gecko) Chrome/99.0.4844.51 Safari/537.36'"
      ],
      "metadata": {
        "cellView": "form",
        "id": "wyt8GgKmd8PI"
      },
      "execution_count": null,
      "outputs": []
    },
    {
      "cell_type": "code",
      "source": [
        "#@title **[6] Hosting Site File Download**\n",
        "#@markdown *Example: Zippyshare and One Drive*\n",
        "\n",
        "import os\n",
        "import subprocess\n",
        "\n",
        "Download_Location = \"/content/drive/Shareddrives/01. Anime Server/01. Anime/01. TV Show/37. Hoshi no Samidare/Season 1\" #@param {type:\"string\"}\n",
        "Download_Link = \"https://download1334.mediafire.com/sj6wpvgcxhpg/y9m6neiiybtx2qr/%5BLENDRIVE%5D_Hoshi_no_Samidare_-_04_%5B1080p_HEVC_10bit%5D%5BDualsubs%5D.mkv\" #@param {type:\"string\"}\n",
        "Download_Referrer = \"https://www.mediafire.com/file/y9m6neiiybtx2qr/%255BLENDRIVE%255D_Hoshi_no_Samidare_-_04_%255B1080p_HEVC_10bit%255D%255BDualsubs%255D.mkv/file\" #@param {type:\"string\"}\n",
        "Cookie_Name = \"\" #@param {type:\"string\"}\n",
        "Cookie_Auth = \"\" #@param {type:\"string\"}\n",
        "\n",
        "%cd '{Download_Location}' \n",
        "!wget '{Download_Link}' --referer='{Download_Referrer}' --cookies=off --header \"Cookie: {Cookie_Name}={Cookie_Auth}\" --user-agent='Mozilla/5.0 (Windows NT 10.0; Win64; x64) AppleWebKit/537.36 (KHTML, like Gecko) Chrome/99.0.4844.51 Safari/537.36'"
      ],
      "metadata": {
        "cellView": "form",
        "id": "MC5m0oSKwSS0"
      },
      "execution_count": null,
      "outputs": []
    },
    {
      "cell_type": "markdown",
      "metadata": {
        "id": "AGVmJ2Y43o_C"
      },
      "source": [
        "##<left><img src=\"https://ar.toneden.io/13766685/6070f58d-091b-4a80-bd5c-24378e308116\" height=\"50\" alt=\"Zippyshare logo\"/></left>\n",
        "## ___**Zippyshare Downloader**___"
      ]
    },
    {
      "cell_type": "code",
      "metadata": {
        "id": "GEcLzHgFArPH",
        "cellView": "form",
        "colab": {
          "base_uri": "https://localhost:8080/"
        },
        "outputId": "22a6fb6f-9b4c-4bb3-f702-7ddd3305723b"
      },
      "source": [
        "#@markdown <h3>⬅️ Click Here to START server</h3>\n",
        "#@markdown <center><img src=\"https://ar.toneden.io/13766685/6070f58d-091b-4a80-bd5c-24378e308116\" height=\"100\" alt=\"Zippyshare logo\"/></center>\n",
        "#@markdown <center><h3>Remote upload from Zippyshare to Google drive</h3></center><br>\n",
        "\n",
        "\n",
        "from IPython.utils import io\n",
        "from IPython.display import HTML, clear_output\n",
        "with io.capture_output() as captured:\n",
        "  %cd /content\n",
        "  !git clone https://github.com/mcrapet/plowshare.git\n",
        "  %cd plowshare\n",
        "  !make install\n",
        "  !plowmod --install\n",
        "  !apt-get install nodejs\n",
        "  !cd ..\n",
        "\n",
        "\n",
        "clear_output()\n",
        "\n",
        "print(\"Server Started Successfully\")\n"
      ],
      "execution_count": null,
      "outputs": [
        {
          "output_type": "stream",
          "name": "stdout",
          "text": [
            "Server Started Successfully\n"
          ]
        }
      ]
    },
    {
      "cell_type": "code",
      "metadata": {
        "id": "2Gu5xTR0-reg",
        "cellView": "form"
      },
      "source": [
        "#@markdown <h3>⬅️ Click Here to START Download</h3>\n",
        "\n",
        "import os\n",
        "direct_URL = \"https://www18.zippyshare.com/d/JN8CMwu5/507320/%5bLENDRIVE%5d_Tensei_Kenja_-_08_%5b1080p_HEVC_10bit%5d%5bDualsubs%5d.mkv\" #@param {type:\"string\"}\n",
        "output_dir = \"/content\" #@param {type:\"string\"}\n",
        "\n",
        "!plowdown \"$direct_URL\" -o \"$output_dir\"\n",
        "from IPython.utils import io\n",
        "with io.capture_output() as captured:\n",
        "  %cd /content/"
      ],
      "execution_count": null,
      "outputs": []
    },
    {
      "cell_type": "code",
      "metadata": {
        "id": "6WKY3zCQ86ev",
        "cellView": "form"
      },
      "source": [
        "#@markdown <h3>⬅️ Click Here to START Batch Download</h3>\n",
        "#@markdown <h5> Make \"download.txt\" file contaning batch links of zippyshare and upload here to down them all.\n",
        "\n",
        "%cd /content/plowshare\n",
        "\n",
        "!rm *.txt\n",
        "\n",
        "from google.colab import files\n",
        "files.upload()\n",
        "\n",
        "import os\n",
        "output_dir = \"/content/drive/My Drive\" #@param {type:\"string\"}\n",
        "\n",
        "!plowdown \"download.txt\" -m -o \"$output_dir\"\n",
        "\n",
        "%cd /content/\n",
        "\n",
        "\n",
        "\n"
      ],
      "execution_count": null,
      "outputs": []
    },
    {
      "cell_type": "markdown",
      "source": [
        "## **Download a Website**\n",
        "Run the following command to download the website recursively:\n",
        "\n",
        "```\n",
        "wget -r --no-parent http://www.example.com\n",
        "```\n",
        "\n",
        "This will download the pages without altering their HTML source code.\n",
        "\n",
        "When you want to change the links on the pages automatically to point to the downloaded files then use this command instead:\n",
        "\n",
        "```\n",
        "wget -r --convert-links --no-parent http://www.example.com\n",
        "```\n",
        "\n",
        "When all HTML files shall get a .html extension, then add the \"--html-extension\" option.\n",
        "\n",
        "```\n",
        "wget -r --convert-links --html-extension --no-parent http://www.example.com\n",
        "```"
      ],
      "metadata": {
        "id": "0Mrw99qJhJHm"
      }
    },
    {
      "cell_type": "code",
      "source": [
        "#@title **[3] Direct File download**\n",
        "#@markdown *Download website option:*\n",
        "\n",
        "import os\n",
        "import subprocess\n",
        "\n",
        "ChooseOption = \"3. Download the pages and change the links on the pages automatically to point to the downloaded files with HTML Extension.\" #@param [\"1. Download the pages without altering their HTML source code.\", \"2. Download the pages and change the links on the pages automatically to point to the downloaded files.\", \"3. Download the pages and change the links on the pages automatically to point to the downloaded files with HTML Extension.\"]\n",
        "\n",
        "def option1():\n",
        "  Download_Location = input(\"Enter location you want to download the website files: \")\n",
        "  Download_Link = input(\"Enter website link you want to download: \")\n",
        "  %cd '{Download_Location}'\n",
        "  !wget -r --no-parent '{Download_Link}'\n",
        "  \n",
        "def option2():\n",
        "  Download_Location = input(\"Enter location you want to download the website files: \")\n",
        "  Download_Link = input(\"Enter website link you want to download: \")\n",
        "  %cd '{Download_Location}'\n",
        "  !wget -r --convert-links --no-parent '{Download_Link}'\n",
        "\n",
        "def option3():\n",
        "  Download_Location = input(\"Enter location you want to download the website files: \")\n",
        "  Download_Link = input(\"Enter website link you want to download: \")\n",
        "  %cd '{Download_Location}'\n",
        "  !wget -r --convert-links --html-extension --no-parent '{Download_Link}'\n",
        "\n",
        "if ChooseOption == \"1. Download the pages without altering their HTML source code.\":\n",
        "  option1()\n",
        "if ChooseOption == \"2. Download the pages and change the links on the pages automatically to point to the downloaded files.\":\n",
        "  option2()\n",
        "if ChooseOption == \"3. Download the pages and change the links on the pages automatically to point to the downloaded files with HTML Extension.\":\n",
        "  option3()"
      ],
      "metadata": {
        "cellView": "form",
        "id": "AxsvXz_ehPzl"
      },
      "execution_count": null,
      "outputs": []
    }
  ]
}