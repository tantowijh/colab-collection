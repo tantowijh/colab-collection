{
  "nbformat": 4,
  "nbformat_minor": 0,
  "metadata": {
    "colab": {
      "name": "Downloader to Google Drive.ipynb",
      "provenance": [],
      "collapsed_sections": [
        "eev3EcLEiK1y",
        "dUAovFAThdOR",
        "yGQSwrwq33dh",
        "SzQwatkd4DDH",
        "AGVmJ2Y43o_C",
        "0Mrw99qJhJHm"
      ],
      "include_colab_link": true
    },
    "kernelspec": {
      "name": "python3",
      "display_name": "Python 3"
    },
    "language_info": {
      "name": "python"
    }
  },
  "cells": [
    {
      "cell_type": "markdown",
      "metadata": {
        "id": "view-in-github",
        "colab_type": "text"
      },
      "source": [
        "<a href=\"https://colab.research.google.com/github/tantowijh/colab-collection/blob/main/Downloader_to_Google_Drive.ipynb\" target=\"_parent\"><img src=\"https://colab.research.google.com/assets/colab-badge.svg\" alt=\"Open In Colab\"/></a>"
      ]
    },
    {
      "cell_type": "markdown",
      "source": [
        "## <font color=\"red\">**Mount Google Drive**</font>\n",
        "<font color=\"blue\">Run the following command to mount google drive:"
      ],
      "metadata": {
        "id": "eev3EcLEiK1y"
      }
    },
    {
      "cell_type": "code",
      "metadata": {
        "id": "PRtU5F7HEuhR",
        "cellView": "form",
        "colab": {
          "base_uri": "https://localhost:8080/"
        },
        "outputId": "9679a76d-702d-45ec-956a-5a4f5bc1965c"
      },
      "source": [
        "#@title **<font color=\"green\">Link your Google Drive**\n",
        "#@markdown <center></center>\n",
        "from google.colab import drive\n",
        "drive.mount('/content/drive', force_remount=True)"
      ],
      "execution_count": 3,
      "outputs": [
        {
          "output_type": "stream",
          "name": "stdout",
          "text": [
            "Mounted at /content/drive\n"
          ]
        }
      ]
    },
    {
      "cell_type": "code",
      "metadata": {
        "id": "w0EIfFJWXkTc",
        "cellView": "form"
      },
      "source": [
        "#@title **<font color=\"green\">Run this code if you want a longer run time (Optional but recommended)</font>**\n",
        "#@markdown *This cell runs a JS code that automatically reconnects you to avoid inactivity due to idle.*\n",
        "\n",
        "import IPython\n",
        "from IPython.display import clear_output\n",
        "from google.colab import output\n",
        "\n",
        "display(IPython.display.Javascript('''\n",
        " function connectRefresher() {\n",
        "       window.ConnectButtonIntervalId = setInterval(function ConnectButton(){\n",
        "                console.log(\"connected\"); \n",
        "                document.querySelector(\"#top-toolbar > colab-connect-button\").shadowRoot.querySelector(\"#connect\").click();\n",
        "                document.querySelector(\"colab-sessions-dialog\").shadowRoot.querySelector(\"#footer > div > paper-button\").click();\n",
        "                console.log(\"closed the dialog!!\"); \n",
        "            },60000);\n",
        "    }\n",
        "    \n",
        " function clearRefresher() { \n",
        "           console.log(\"clear Interval called !!\");\n",
        "           clearInterval(window.ConnectButtonIntervalId);\n",
        "    }\n",
        "\n",
        " connectRefresher(); //to connect the refresher\n",
        " clearRefresher(); //to disconnect the refresher\n",
        "'''))\n",
        "\n",
        "clear_output()"
      ],
      "execution_count": null,
      "outputs": []
    },
    {
      "cell_type": "markdown",
      "source": [
        "## <font color=\"red\">**Google Drive Downloader**</font>\n",
        "<font color=\"blue\">Run the following command to download files from <font color=\"green\">google drive."
      ],
      "metadata": {
        "id": "dUAovFAThdOR"
      }
    },
    {
      "cell_type": "code",
      "source": [
        "#@title **<font color=\"green\">Download From Google Drive**\n",
        "#@markdown <font color=\"blue\">Input file name that you want to <font color=\"red\">**save as**</font> and consider adding an <font color=\"red\">**extension file type**</font> at the end, then put the URL and download location.</font>\n",
        "\n",
        "import re, os\n",
        "from IPython.display import clear_output\n",
        "\n",
        "LargeFile = True #@param {type:\"boolean\"}\n",
        "FileNametoSave = \"\" #@param {type:\"string\"}\n",
        "GoogleSharedLink = \"\" #@param {type:\"string\"}\n",
        "# Match six-letter word\n",
        "pattern = r\"[-\\w]{18,}\"\n",
        "# match() method\n",
        "result = re.match(pattern, GoogleSharedLink)\n",
        "# Output None\n",
        "# search() method\n",
        "result = re.search(pattern, GoogleSharedLink)\n",
        "fileId = result.group()\n",
        "# findall() method\n",
        "result = re.findall(pattern, GoogleSharedLink)\n",
        "\n",
        "# Define download location\n",
        "DownloadLocation = \"/content\" #@param {type:\"string\"}\n",
        "\n",
        "from pathlib import Path\n",
        "Path(DownloadLocation).mkdir(parents=True, exist_ok=True)\n",
        "\n",
        "%cd '{DownloadLocation}'\n",
        "clear_output()\n",
        "\n",
        "if LargeFile == False:\n",
        "  !wget -q --show-progress --progress=bar:force --no-check-certificate 'https://docs.google.com/uc?export=download&id={fileId}' -O '{FileNametoSave}'\n",
        "else:\n",
        "  !wget -q --show-progress --progress=bar:force --load-cookies '/tmp/cookies.txt' \"https://docs.google.com/uc?export=download&confirm=$(wget --quiet --save-cookies /tmp/cookies.txt --keep-session-cookies --no-check-certificate \"https://docs.google.com/uc?export=download&id={fileId}\" -O- | sed -rn 's/.*confirm=([0-9A-Za-z_]+).*/\\1\\n/p')&id={fileId}\" -O '{FileNametoSave}' && rm -rf /tmp/cookies.txt\n",
        "\n"
      ],
      "metadata": {
        "cellView": "form",
        "id": "9M2LK5o8x77K"
      },
      "execution_count": null,
      "outputs": []
    },
    {
      "cell_type": "markdown",
      "source": [
        "## <font color=\"red\">**Git Downloader**</font>\n",
        "<font color=\"blue\">Run the following command to download files from <font color=\"green\">git or github."
      ],
      "metadata": {
        "id": "yGQSwrwq33dh"
      }
    },
    {
      "cell_type": "code",
      "metadata": {
        "id": "pLza-cSZEv5v",
        "cellView": "form"
      },
      "source": [
        "# @title **<font color=\"green\">Download from Git**\n",
        "\n",
        "import os\n",
        "import subprocess\n",
        "\n",
        "#@markdown <font color=\"blue\">Put the URL and download location.</font>\n",
        "Download_Location = \"\" #@param {type:\"string\"}\n",
        "Download_Link = \"/content\" #@param {type:\"string\"}\n",
        "\n",
        "%cd '{Download_Location}' \n",
        "!git clone '{Download_Link}' "
      ],
      "execution_count": null,
      "outputs": []
    },
    {
      "cell_type": "markdown",
      "source": [
        "## <font color=\"red\">**Direct File Downloader**</font>\n",
        "<font color=\"blue\">Run the following command to download files from <font color=\"green\">internets."
      ],
      "metadata": {
        "id": "SzQwatkd4DDH"
      }
    },
    {
      "cell_type": "code",
      "source": [
        "#@markdown <font color=\"green\"><b>Click here to upload your txt file from your local computer!</b></font>\n",
        "\n",
        "from google.colab import files\n",
        "uploaded = files.upload()\n",
        "\n",
        "filenames = uploaded.keys()\n",
        "for file in filenames:\n",
        "    data = uploaded[file]"
      ],
      "metadata": {
        "cellView": "form",
        "id": "tmrvvOiG4agN",
        "colab": {
          "resources": {
            "http://localhost:8080/nbextensions/google.colab/files.js": {
              "data": "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",
              "ok": true,
              "headers": [
                [
                  "content-type",
                  "application/javascript"
                ]
              ],
              "status": 200,
              "status_text": ""
            }
          },
          "base_uri": "https://localhost:8080/",
          "height": 94
        },
        "outputId": "93776ca8-484a-48b0-9fd1-4b7a82a75d6b"
      },
      "execution_count": 5,
      "outputs": [
        {
          "output_type": "display_data",
          "data": {
            "text/plain": [
              "<IPython.core.display.HTML object>"
            ],
            "text/html": [
              "\n",
              "     <input type=\"file\" id=\"files-b2ffbf5c-07f8-43e8-b989-a99a58034081\" name=\"files[]\" multiple disabled\n",
              "        style=\"border:none\" />\n",
              "     <output id=\"result-b2ffbf5c-07f8-43e8-b989-a99a58034081\">\n",
              "      Upload widget is only available when the cell has been executed in the\n",
              "      current browser session. Please rerun this cell to enable.\n",
              "      </output>\n",
              "      <script src=\"/nbextensions/google.colab/files.js\"></script> "
            ]
          },
          "metadata": {}
        },
        {
          "output_type": "stream",
          "name": "stdout",
          "text": [
            "Saving FreeCourseSite.com-Udemy-Complete WordPress Theme Development Course.torrent to FreeCourseSite.com-Udemy-Complete WordPress Theme Development Course.torrent\n"
          ]
        }
      ]
    },
    {
      "cell_type": "code",
      "metadata": {
        "id": "U67cKD9rGxw7",
        "cellView": "form"
      },
      "source": [
        "from sys import path\n",
        "#@title <font color=\"green\">**Direct File download**</font>\n",
        "#@markdown <font color=\"blue\"><font color=\"red\">Wget Method</font> the files needs to be of some kind of extension or something similar, <font color=\"green\"><i>e.x. .exe .zip .apk etc.</i></font>\n",
        "#@markdown <font color=\"red\">Aria2 Method</font> you can see it here <font color=\"green\"><i>aria2.github.io</i></font>. You can also stop seeding immediately for torrent download.\n",
        "#@markdown - - -\n",
        "NoSeeding = True #@param {type:\"boolean\"}\n",
        "DownloadMethod = \"ARIA2\" #@param [\"WGET\", \"ARIA2\"]\n",
        "\n",
        "DownloadOption = \"Single Download\" #@param [\"Single Download\", \"Multiple Download\"]\n",
        "Download_Location = \"/content/drive/Shareddrives/05. Torrent\" #@param {type:\"string\"}\n",
        "\n",
        "#@markdown &ensp;&ensp;<font color=\"blue\">For <font color=\"gren\">Multi Downloads ></font><font color=\"red\"> provide txt file path</font> containing batch URLs, separated by new line in the</font> <font color=\"gren\">DownloadURL.</font>\n",
        "Download_Link = \"/content/FreeCourseSite.com-Udemy-Complete WordPress Theme Development Course.torrent\" #@param {type:\"string\"}\n",
        "\n",
        "import os\n",
        "import subprocess\n",
        "\n",
        "from os import path\n",
        "from IPython.utils import io\n",
        "\n",
        "if not path.exists(\"/usr/local/bin/aria2c\"):\n",
        "  with io.capture_output() as captured:\n",
        "    !sudo apt install aria2\n",
        "\n",
        "\n",
        "def wget():\n",
        "  def SingleDwnld():\n",
        "    %cd '{Download_Location}'\n",
        "    !wget '{Download_Link}'\n",
        "    with io.capture_output() as captured:\n",
        "      !cd '/content'\n",
        "\n",
        "  def MultipleDwnld():\n",
        "    %cd '{Download_Location}'\n",
        "    !wget -i '{Download_Link}'\n",
        "    with io.capture_output() as captured:\n",
        "      !cd '/content'\n",
        "\n",
        "  if DownloadOption == \"Single Download\":\n",
        "    SingleDwnld()\n",
        "  if DownloadOption == \"Multiple Download\":\n",
        "    MultipleDwnld()\n",
        "def aria2():\n",
        "  def SingleDwnld():\n",
        "    %cd '{Download_Location}'\n",
        "    if NoSeeding:\n",
        "      !aria2c --seed-time=0 '{Download_Link}' --file-allocation=none -c --auto-file-renaming=false\n",
        "    else:\n",
        "      !aria2c '{Download_Link}' --file-allocation=none -c --auto-file-renaming=false\n",
        "    with io.capture_output() as captured:\n",
        "      !cd '/content'\n",
        "\n",
        "  def MultipleDwnld():\n",
        "    %cd '{Download_Location}'\n",
        "    if NoSeeding:\n",
        "      !aria2c -i '{Download_Link}' --seed-time=0 --file-allocation=none -c --auto-file-renaming=false\n",
        "    else:\n",
        "      !aria2c -i '{Download_Link}' --file-allocation=none -c --auto-file-renaming=false\n",
        "    with io.capture_output() as captured:\n",
        "      !cd '/content'\n",
        "\n",
        "  if DownloadOption == \"Single Download\":\n",
        "    SingleDwnld()\n",
        "  if DownloadOption == \"Multiple Download\":\n",
        "    MultipleDwnld()\n",
        "if DownloadMethod == \"WGET\":\n",
        "  wget()\n",
        "if DownloadMethod == \"ARIA2\":\n",
        "  aria2()\n"
      ],
      "execution_count": null,
      "outputs": []
    },
    {
      "cell_type": "markdown",
      "metadata": {
        "id": "AGVmJ2Y43o_C"
      },
      "source": [
        "## <font color=\"red\">**Zippyshare Downloader**</font>\n",
        "<font color=\"blue\">Run the following command to download files from <font color=\"green\">zippyshare."
      ]
    },
    {
      "cell_type": "code",
      "source": [
        "#@markdown <font color=\"green\"><b>Click here to upload your txt file from your local computer!</b></font>\n",
        "\n",
        "from google.colab import files\n",
        "uploaded = files.upload()\n",
        "\n",
        "filenames = uploaded.keys()\n",
        "for file in filenames:\n",
        "    data = uploaded[file]"
      ],
      "metadata": {
        "cellView": "form",
        "id": "aS9hoHOdrRLn"
      },
      "execution_count": null,
      "outputs": []
    },
    {
      "cell_type": "code",
      "source": [
        "import os\n",
        "from IPython.utils import io\n",
        "from IPython.display import HTML, clear_output\n",
        "\n",
        "\n",
        "if not os.path.exists(\"/usr/share/plowshare\"):\n",
        "  with io.capture_output() as captured:\n",
        "    %cd /content\n",
        "    !git clone https://github.com/mcrapet/plowshare.git\n",
        "    %cd plowshare\n",
        "    !make install\n",
        "    !plowmod --install\n",
        "    !apt-get install nodejs\n",
        "    %cd ..\n",
        "    %rm -rf plowshare/\n",
        "\n",
        "#@title <h3><b><font color=\"green\">Click Here to START Download</b></h3>\n",
        "#@markdown <font color=\"blue\">For <font color=\"gren\">Multi Downloads ></font><font color=\"red\"> provide txt file path</font> containing batch URLs, separated by new line in the</font> <font color=\"gren\">DownloadURL.</font>\n",
        "#@markdown - - -\n",
        "DownloadMethod = \"Single Download\" #@param [\"Single Download\", \"Multi Downloads\"]\n",
        "DownloadURL = \"https://www18.zippyshare.com/d/JN8CMwu5/507320/%5bLENDRIVE%5d_Tensei_Kenja_-_08_%5b1080p_HEVC_10bit%5d%5bDualsubs%5d.mkv\" #@param {type:\"string\"}\n",
        "DownloadLocation = \"/content\" #@param {type:\"string\"}\n",
        "\n",
        "if DownloadMethod == \"Single Download\":\n",
        "  !plowdown \"$DownloadURL\" -o \"$DownloadLocation\"\n",
        "if DownloadMethod == \"Multi Downloads\":\n",
        "  !plowdown \"$DownloadURL\" -m -o \"$DownloadLocation\""
      ],
      "metadata": {
        "cellView": "form",
        "id": "vcJc0QAbgbHu"
      },
      "execution_count": null,
      "outputs": []
    },
    {
      "cell_type": "markdown",
      "source": [
        "## <font color=\"red\">**Download a Website**</font>\n",
        "<font color=\"blue\">Run the following command to download the website recursively:\n",
        "\n",
        "```\n",
        "wget -r --no-parent http://www.example.com\n",
        "```\n",
        "\n",
        "<font color=\"blue\">This will download the pages without altering their HTML source code.\n",
        "\n",
        "<font color=\"blue\">When you want to change the links on the pages automatically to point to the downloaded files then use this command instead:\n",
        "\n",
        "```\n",
        "wget -r --convert-links --no-parent http://www.example.com\n",
        "```\n",
        "\n",
        "<font color=\"blue\">When all HTML files shall get a .html extension, then add the \"--html-extension\" option.\n",
        "\n",
        "```\n",
        "wget -r --convert-links --html-extension --no-parent http://www.example.com\n",
        "```"
      ],
      "metadata": {
        "id": "0Mrw99qJhJHm"
      }
    },
    {
      "cell_type": "code",
      "source": [
        "#@title **[3] Direct File download**\n",
        "#@markdown *Download website option:*\n",
        "\n",
        "import os\n",
        "import subprocess\n",
        "\n",
        "ChooseOption = \"3. Download the pages and change the links on the pages automatically to point to the downloaded files with HTML Extension.\" #@param [\"1. Download the pages without altering their HTML source code.\", \"2. Download the pages and change the links on the pages automatically to point to the downloaded files.\", \"3. Download the pages and change the links on the pages automatically to point to the downloaded files with HTML Extension.\"]\n",
        "\n",
        "def option1():\n",
        "  Download_Location = input(\"Enter location you want to download the website files: \")\n",
        "  Download_Link = input(\"Enter website link you want to download: \")\n",
        "  %cd '{Download_Location}'\n",
        "  !wget -r --no-parent '{Download_Link}'\n",
        "  \n",
        "def option2():\n",
        "  Download_Location = input(\"Enter location you want to download the website files: \")\n",
        "  Download_Link = input(\"Enter website link you want to download: \")\n",
        "  %cd '{Download_Location}'\n",
        "  !wget -r --convert-links --no-parent '{Download_Link}'\n",
        "\n",
        "def option3():\n",
        "  Download_Location = input(\"Enter location you want to download the website files: \")\n",
        "  Download_Link = input(\"Enter website link you want to download: \")\n",
        "  %cd '{Download_Location}'\n",
        "  !wget -r --convert-links --html-extension --no-parent '{Download_Link}'\n",
        "\n",
        "if ChooseOption == \"1. Download the pages without altering their HTML source code.\":\n",
        "  option1()\n",
        "if ChooseOption == \"2. Download the pages and change the links on the pages automatically to point to the downloaded files.\":\n",
        "  option2()\n",
        "if ChooseOption == \"3. Download the pages and change the links on the pages automatically to point to the downloaded files with HTML Extension.\":\n",
        "  option3()"
      ],
      "metadata": {
        "cellView": "form",
        "id": "AxsvXz_ehPzl"
      },
      "execution_count": null,
      "outputs": []
    }
  ]
}