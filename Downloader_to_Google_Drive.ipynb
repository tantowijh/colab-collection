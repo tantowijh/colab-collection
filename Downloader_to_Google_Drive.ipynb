{
  "nbformat": 4,
  "nbformat_minor": 0,
  "metadata": {
    "colab": {
      "name": "Downloader to Google Drive.ipynb",
      "provenance": [],
      "collapsed_sections": [
        "eev3EcLEiK1y",
        "dUAovFAThdOR",
        "yGQSwrwq33dh",
        "SzQwatkd4DDH",
        "AGVmJ2Y43o_C",
        "0Mrw99qJhJHm"
      ],
      "include_colab_link": true
    },
    "kernelspec": {
      "name": "python3",
      "display_name": "Python 3"
    },
    "language_info": {
      "name": "python"
    }
  },
  "cells": [
    {
      "cell_type": "markdown",
      "metadata": {
        "id": "view-in-github",
        "colab_type": "text"
      },
      "source": [
        "<a href=\"https://colab.research.google.com/github/tantowijh/colab-collection/blob/main/Downloader_to_Google_Drive.ipynb\" target=\"_parent\"><img src=\"https://colab.research.google.com/assets/colab-badge.svg\" alt=\"Open In Colab\"/></a>"
      ]
    },
    {
      "cell_type": "markdown",
      "source": [
        "## <font color=\"red\">**Mount Google Drive**</font>\n",
        "<font color=\"blue\">Run the following command to mount google drive:"
      ],
      "metadata": {
        "id": "eev3EcLEiK1y"
      }
    },
    {
      "cell_type": "code",
      "metadata": {
        "id": "PRtU5F7HEuhR",
        "cellView": "form"
      },
      "source": [
        "#@title **<font color=\"green\">Link your Google Drive**\n",
        "#@markdown <center></center>\n",
        "from google.colab import drive\n",
        "drive.mount('/content/drive', force_remount=True)"
      ],
      "execution_count": null,
      "outputs": []
    },
    {
      "cell_type": "code",
      "metadata": {
        "id": "w0EIfFJWXkTc",
        "cellView": "form"
      },
      "source": [
        "#@title **<font color=\"green\">Run this code if you want a longer run time (Optional but recommended)</font>**\n",
        "#@markdown *This cell runs a JS code that automatically reconnects you to avoid inactivity due to idle.*\n",
        "\n",
        "import IPython\n",
        "from IPython.display import clear_output\n",
        "from google.colab import output\n",
        "\n",
        "display(IPython.display.Javascript('''\n",
        " function connectRefresher() {\n",
        "       window.ConnectButtonIntervalId = setInterval(function ConnectButton(){\n",
        "                console.log(\"connected\"); \n",
        "                document.querySelector(\"#top-toolbar > colab-connect-button\").shadowRoot.querySelector(\"#connect\").click();\n",
        "                document.querySelector(\"colab-sessions-dialog\").shadowRoot.querySelector(\"#footer > div > paper-button\").click();\n",
        "                console.log(\"closed the dialog!!\"); \n",
        "            },60000);\n",
        "    }\n",
        "    \n",
        " function clearRefresher() { \n",
        "           console.log(\"clear Interval called !!\");\n",
        "           clearInterval(window.ConnectButtonIntervalId);\n",
        "    }\n",
        "\n",
        " connectRefresher(); //to connect the refresher\n",
        " clearRefresher(); //to disconnect the refresher\n",
        "'''))\n",
        "\n",
        "clear_output()"
      ],
      "execution_count": null,
      "outputs": []
    },
    {
      "cell_type": "markdown",
      "source": [
        "## <font color=\"red\">**Google Drive Downloader**</font>\n",
        "<font color=\"blue\">Run the following command to download files from <font color=\"green\">google drive."
      ],
      "metadata": {
        "id": "dUAovFAThdOR"
      }
    },
    {
      "cell_type": "code",
      "source": [
        "#@title **<font color=\"green\">Download From Google Drive**\n",
        "#@markdown <font color=\"blue\">Input file name that you want to <font color=\"red\">**save as**</font> and consider adding an <font color=\"red\">**extension file type**</font> at the end, then put the URL and download location.</font>\n",
        "\n",
        "import re, os\n",
        "from IPython.display import clear_output\n",
        "\n",
        "LargeFile = True #@param {type:\"boolean\"}\n",
        "FileNametoSave = \"\" #@param {type:\"string\"}\n",
        "GoogleSharedLink = \"\" #@param {type:\"string\"}\n",
        "# Match six-letter word\n",
        "pattern = r\"[-\\w]{18,}\"\n",
        "# match() method\n",
        "result = re.match(pattern, GoogleSharedLink)\n",
        "# Output None\n",
        "# search() method\n",
        "result = re.search(pattern, GoogleSharedLink)\n",
        "fileId = result.group()\n",
        "# findall() method\n",
        "result = re.findall(pattern, GoogleSharedLink)\n",
        "\n",
        "# Define download location\n",
        "DownloadLocation = \"/content\" #@param {type:\"string\"}\n",
        "\n",
        "from pathlib import Path\n",
        "Path(DownloadLocation).mkdir(parents=True, exist_ok=True)\n",
        "\n",
        "%cd '{DownloadLocation}'\n",
        "clear_output()\n",
        "\n",
        "if LargeFile == False:\n",
        "  !wget -q --show-progress --progress=bar:force --no-check-certificate 'https://docs.google.com/uc?export=download&id={fileId}' -O '{FileNametoSave}'\n",
        "else:\n",
        "  !wget -q --show-progress --progress=bar:force --load-cookies '/tmp/cookies.txt' \"https://docs.google.com/uc?export=download&confirm=$(wget --quiet --save-cookies /tmp/cookies.txt --keep-session-cookies --no-check-certificate \"https://docs.google.com/uc?export=download&id={fileId}\" -O- | sed -rn 's/.*confirm=([0-9A-Za-z_]+).*/\\1\\n/p')&id={fileId}\" -O '{FileNametoSave}' && rm -rf /tmp/cookies.txt\n",
        "\n"
      ],
      "metadata": {
        "cellView": "form",
        "id": "9M2LK5o8x77K"
      },
      "execution_count": null,
      "outputs": []
    },
    {
      "cell_type": "markdown",
      "source": [
        "## <font color=\"red\">**Git Downloader**</font>\n",
        "<font color=\"blue\">Run the following command to download files from <font color=\"green\">git or github."
      ],
      "metadata": {
        "id": "yGQSwrwq33dh"
      }
    },
    {
      "cell_type": "code",
      "metadata": {
        "id": "pLza-cSZEv5v",
        "cellView": "form"
      },
      "source": [
        "# @title **<font color=\"green\">Download from Git**\n",
        "\n",
        "import os\n",
        "import subprocess\n",
        "\n",
        "#@markdown <font color=\"blue\">Put the URL and download location.</font>\n",
        "Download_Location = \"\" #@param {type:\"string\"}\n",
        "Download_Link = \"/content\" #@param {type:\"string\"}\n",
        "\n",
        "%cd '{Download_Location}' \n",
        "!git clone '{Download_Link}' "
      ],
      "execution_count": null,
      "outputs": []
    },
    {
      "cell_type": "markdown",
      "source": [
        "## <font color=\"red\">**Direct File Downloader**</font>\n",
        "<font color=\"blue\">Run the following command to download files from <font color=\"green\">internets."
      ],
      "metadata": {
        "id": "SzQwatkd4DDH"
      }
    },
    {
      "cell_type": "code",
      "source": [
        "#@markdown <font color=\"green\"><b>Click here to upload your txt file from your local computer!</b></font>\n",
        "\n",
        "from google.colab import files\n",
        "uploaded = files.upload()\n",
        "\n",
        "filenames = uploaded.keys()\n",
        "for file in filenames:\n",
        "    data = uploaded[file]"
      ],
      "metadata": {
        "cellView": "form",
        "id": "tmrvvOiG4agN"
      },
      "execution_count": null,
      "outputs": []
    },
    {
      "cell_type": "code",
      "metadata": {
        "id": "U67cKD9rGxw7",
        "cellView": "form"
      },
      "source": [
        "from sys import path\n",
        "#@title <font color=\"green\">**Direct File download**</font>\n",
        "#@markdown <font color=\"blue\"><font color=\"red\">Wget Method</font> the files needs to be of some kind of extension or something similar, <font color=\"green\"><i>e.x. .exe .zip .apk etc.</i></font>\n",
        "#@markdown <font color=\"red\">Aria2 Method</font> you can see it here <font color=\"green\"><i>aria2.github.io</i></font>. You can also stop seeding immediately for torrent download.\n",
        "#@markdown - - -\n",
        "NoSeeding = False #@param {type:\"boolean\"}\n",
        "DownloadMethod = \"ARIA2\" #@param [\"WGET\", \"ARIA2\"]\n",
        "\n",
        "DownloadOption = \"Single Download\" #@param [\"Single Download\", \"Multiple Download\"]\n",
        "Download_Location = \"/content\" #@param {type:\"string\"}\n",
        "\n",
        "#@markdown &ensp;&ensp;<font color=\"blue\">For <font color=\"gren\">Multi Downloads ></font><font color=\"red\"> provide txt file path</font> containing batch URLs, separated by new line in the</font> <font color=\"gren\">DownloadURL.</font>\n",
        "Download_Link = \"\" #@param {type:\"string\"}\n",
        "\n",
        "import os\n",
        "import subprocess\n",
        "\n",
        "from os import path\n",
        "from IPython.utils import io\n",
        "\n",
        "if not path.exists(\"/usr/local/bin/aria2c\"):\n",
        "  with io.capture_output() as captured:\n",
        "    !sudo apt install aria2\n",
        "\n",
        "\n",
        "def wget():\n",
        "  def SingleDwnld():\n",
        "    %cd '{Download_Location}'\n",
        "    !wget '{Download_Link}'\n",
        "    with io.capture_output() as captured:\n",
        "      !cd '/content'\n",
        "\n",
        "  def MultipleDwnld():\n",
        "    %cd '{Download_Location}'\n",
        "    !wget -i '{Download_Link}'\n",
        "    with io.capture_output() as captured:\n",
        "      !cd '/content'\n",
        "\n",
        "  if DownloadOption == \"Single Download\":\n",
        "    SingleDwnld()\n",
        "  if DownloadOption == \"Multiple Download\":\n",
        "    MultipleDwnld()\n",
        "def aria2():\n",
        "  def SingleDwnld():\n",
        "    %cd '{Download_Location}'\n",
        "    if NoSeeding:\n",
        "      !aria2c --seed-time=0 '{Download_Link}'\n",
        "    else:\n",
        "      !aria2c '{Download_Link}'\n",
        "    with io.capture_output() as captured:\n",
        "      !cd '/content'\n",
        "\n",
        "  def MultipleDwnld():\n",
        "    %cd '{Download_Location}'\n",
        "    if NoSeeding:\n",
        "      !aria2c -i '{Download_Link}' --seed-time=0 --file-allocation=none -c --auto-file-renaming=false\n",
        "    else:\n",
        "      !aria2c -i '{Download_Link}' --file-allocation=none -c --auto-file-renaming=false\n",
        "    with io.capture_output() as captured:\n",
        "      !cd '/content'\n",
        "\n",
        "  if DownloadOption == \"Single Download\":\n",
        "    SingleDwnld()\n",
        "  if DownloadOption == \"Multiple Download\":\n",
        "    MultipleDwnld()\n",
        "if DownloadMethod == \"WGET\":\n",
        "  wget()\n",
        "if DownloadMethod == \"ARIA2\":\n",
        "  aria2()\n"
      ],
      "execution_count": null,
      "outputs": []
    },
    {
      "cell_type": "markdown",
      "metadata": {
        "id": "AGVmJ2Y43o_C"
      },
      "source": [
        "## <font color=\"red\">**Zippyshare Downloader**</font>\n",
        "<font color=\"blue\">Run the following command to download files from <font color=\"green\">zippyshare."
      ]
    },
    {
      "cell_type": "code",
      "source": [
        "#@markdown <font color=\"green\"><b>Click here to upload your txt file from your local computer!</b></font>\n",
        "\n",
        "from google.colab import files\n",
        "uploaded = files.upload()\n",
        "\n",
        "filenames = uploaded.keys()\n",
        "for file in filenames:\n",
        "    data = uploaded[file]"
      ],
      "metadata": {
        "cellView": "form",
        "id": "aS9hoHOdrRLn"
      },
      "execution_count": null,
      "outputs": []
    },
    {
      "cell_type": "code",
      "source": [
        "import os\n",
        "from IPython.utils import io\n",
        "from IPython.display import HTML, clear_output\n",
        "\n",
        "\n",
        "if not os.path.exists(\"/usr/share/plowshare\"):\n",
        "  with io.capture_output() as captured:\n",
        "    %cd /content\n",
        "    !git clone https://github.com/mcrapet/plowshare.git\n",
        "    %cd plowshare\n",
        "    !make install\n",
        "    !plowmod --install\n",
        "    !apt-get install nodejs\n",
        "    %cd ..\n",
        "    %rm -rf plowshare/\n",
        "\n",
        "#@title <h3><b><font color=\"green\">Click Here to START Download</b></h3>\n",
        "#@markdown <font color=\"blue\">For <font color=\"gren\">Multi Downloads ></font><font color=\"red\"> provide txt file path</font> containing batch URLs, separated by new line in the</font> <font color=\"gren\">DownloadURL.</font>\n",
        "#@markdown - - -\n",
        "DownloadMethod = \"Single Download\" #@param [\"Single Download\", \"Multi Downloads\"]\n",
        "DownloadURL = \"https://www18.zippyshare.com/d/JN8CMwu5/507320/%5bLENDRIVE%5d_Tensei_Kenja_-_08_%5b1080p_HEVC_10bit%5d%5bDualsubs%5d.mkv\" #@param {type:\"string\"}\n",
        "DownloadLocation = \"/content\" #@param {type:\"string\"}\n",
        "\n",
        "if DownloadMethod == \"Single Download\":\n",
        "  !plowdown \"$DownloadURL\" -o \"$DownloadLocation\"\n",
        "if DownloadMethod == \"Multi Downloads\":\n",
        "  !plowdown \"$DownloadURL\" -m -o \"$DownloadLocation\""
      ],
      "metadata": {
        "cellView": "form",
        "id": "vcJc0QAbgbHu"
      },
      "execution_count": 14,
      "outputs": []
    },
    {
      "cell_type": "markdown",
      "source": [
        "## <font color=\"red\">**Download a Website**</font>\n",
        "<font color=\"blue\">Run the following command to download the website recursively:\n",
        "\n",
        "```\n",
        "wget -r --no-parent http://www.example.com\n",
        "```\n",
        "\n",
        "<font color=\"blue\">This will download the pages without altering their HTML source code.\n",
        "\n",
        "<font color=\"blue\">When you want to change the links on the pages automatically to point to the downloaded files then use this command instead:\n",
        "\n",
        "```\n",
        "wget -r --convert-links --no-parent http://www.example.com\n",
        "```\n",
        "\n",
        "<font color=\"blue\">When all HTML files shall get a .html extension, then add the \"--html-extension\" option.\n",
        "\n",
        "```\n",
        "wget -r --convert-links --html-extension --no-parent http://www.example.com\n",
        "```"
      ],
      "metadata": {
        "id": "0Mrw99qJhJHm"
      }
    },
    {
      "cell_type": "code",
      "source": [
        "#@title **[3] Direct File download**\n",
        "#@markdown *Download website option:*\n",
        "\n",
        "import os\n",
        "import subprocess\n",
        "\n",
        "ChooseOption = \"3. Download the pages and change the links on the pages automatically to point to the downloaded files with HTML Extension.\" #@param [\"1. Download the pages without altering their HTML source code.\", \"2. Download the pages and change the links on the pages automatically to point to the downloaded files.\", \"3. Download the pages and change the links on the pages automatically to point to the downloaded files with HTML Extension.\"]\n",
        "\n",
        "def option1():\n",
        "  Download_Location = input(\"Enter location you want to download the website files: \")\n",
        "  Download_Link = input(\"Enter website link you want to download: \")\n",
        "  %cd '{Download_Location}'\n",
        "  !wget -r --no-parent '{Download_Link}'\n",
        "  \n",
        "def option2():\n",
        "  Download_Location = input(\"Enter location you want to download the website files: \")\n",
        "  Download_Link = input(\"Enter website link you want to download: \")\n",
        "  %cd '{Download_Location}'\n",
        "  !wget -r --convert-links --no-parent '{Download_Link}'\n",
        "\n",
        "def option3():\n",
        "  Download_Location = input(\"Enter location you want to download the website files: \")\n",
        "  Download_Link = input(\"Enter website link you want to download: \")\n",
        "  %cd '{Download_Location}'\n",
        "  !wget -r --convert-links --html-extension --no-parent '{Download_Link}'\n",
        "\n",
        "if ChooseOption == \"1. Download the pages without altering their HTML source code.\":\n",
        "  option1()\n",
        "if ChooseOption == \"2. Download the pages and change the links on the pages automatically to point to the downloaded files.\":\n",
        "  option2()\n",
        "if ChooseOption == \"3. Download the pages and change the links on the pages automatically to point to the downloaded files with HTML Extension.\":\n",
        "  option3()"
      ],
      "metadata": {
        "cellView": "form",
        "id": "AxsvXz_ehPzl"
      },
      "execution_count": null,
      "outputs": []
    }
  ]
}