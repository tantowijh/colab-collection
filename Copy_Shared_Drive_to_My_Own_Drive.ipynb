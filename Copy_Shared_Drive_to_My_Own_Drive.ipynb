{
  "nbformat": 4,
  "nbformat_minor": 0,
  "metadata": {
    "colab": {
      "provenance": [],
      "authorship_tag": "ABX9TyNA3Rsqsl82RyCtTy1XKlxX",
      "include_colab_link": true
    },
    "kernelspec": {
      "name": "python3",
      "display_name": "Python 3"
    },
    "language_info": {
      "name": "python"
    }
  },
  "cells": [
    {
      "cell_type": "markdown",
      "metadata": {
        "id": "view-in-github",
        "colab_type": "text"
      },
      "source": [
        "<a href=\"https://colab.research.google.com/github/tantowijh/colab-collection/blob/main/Copy_Shared_Drive_to_My_Own_Drive.ipynb\" target=\"_parent\"><img src=\"https://colab.research.google.com/assets/colab-badge.svg\" alt=\"Open In Colab\"/></a>"
      ]
    },
    {
      "cell_type": "markdown",
      "source": [
        "# **COPYING FILES AND DIRECTORY**\n",
        "\n",
        "```\n",
        "Commands to start copying files and directory\n",
        "```\n",
        "\n"
      ],
      "metadata": {
        "id": "AjmtLPdVfsvS"
      }
    },
    {
      "cell_type": "code",
      "source": [
        "#@title **Google Drive**\n",
        "#@markdown Run this command to connect google drive.\n",
        "\n",
        "from google.colab import drive\n",
        "drive.mount('/content/drive')\n",
        "\n",
        "print(f\"Drive Mounted Successfully\")\n",
        "get_ipython().system_raw('find . -type d -name \".ipynb_checkpoints\" -prune -exec rm -rf {} \\; &')"
      ],
      "metadata": {
        "colab": {
          "base_uri": "https://localhost:8080/"
        },
        "cellView": "form",
        "id": "SLfr_ToCnmXv",
        "outputId": "caf2dc38-f525-4c51-e856-caef5d8ba605"
      },
      "execution_count": null,
      "outputs": [
        {
          "output_type": "stream",
          "name": "stdout",
          "text": [
            "Mounted at /content/drive\n",
            "Drive Mounted Successfully\n"
          ]
        }
      ]
    },
    {
      "cell_type": "code",
      "source": [
        "from IPython.core.display import clear_output\n",
        "#@title **Start Shared Drive Copy (Single File)**\n",
        "#@markdown Enter shortcuts path and destination path.\n",
        "\n",
        "File_Shortcuts = \"\" #@param {type:\"string\"}\n",
        "File_Destination = \"\" #@param {type:\"string\"}\n",
        "\n",
        "from pathlib import Path\n",
        "Path(File_Destination).mkdir(parents=True, exist_ok=True)\n",
        "\n",
        "!sudo cp -v -r '{File_Shortcuts}' '{File_Destination}'\n",
        "\n",
        "clear_output()\n",
        "print(f\"File Copied Successfully.\")"
      ],
      "metadata": {
        "cellView": "form",
        "id": "7H4IYUZPmfio",
        "colab": {
          "base_uri": "https://localhost:8080/"
        },
        "outputId": "52b56d25-c32e-423a-a097-400ac922360b"
      },
      "execution_count": null,
      "outputs": [
        {
          "output_type": "stream",
          "name": "stdout",
          "text": [
            "File Copied Successfully.\n"
          ]
        }
      ]
    },
    {
      "cell_type": "code",
      "source": [
        "#@title **Start Shared Drive Copy (Multiple Files in a Directory)**\n",
        "#@markdown Enter shortcuts path and destination path.\n",
        "\n",
        "import os\n",
        "from pathlib import Path\n",
        "\n",
        "File_Location = \"\" #@param {type:\"string\"}\n",
        "File_Destination = \"\" #@param {type:\"string\"}\n",
        "Path(File_Destination).mkdir(parents=True, exist_ok=True)\n",
        "\n",
        "for filename in os.listdir(File_Location):\n",
        "  if filename:\n",
        "    !sudo cp -v -r '{File_Location}/{filename}' '{File_Destination}'"
      ],
      "metadata": {
        "id": "bONAYPS433eo",
        "cellView": "form"
      },
      "execution_count": null,
      "outputs": []
    },
    {
      "cell_type": "code",
      "source": [
        "import os\n",
        "\n",
        "# Remove Specific File or Folder by Name\n",
        "\n",
        "#@title **Remove Specific File or Folder by Name**\n",
        "#@markdown Run this command to remove specific file and folder.\n",
        "\n",
        "list_of_names = []\n",
        "list_of_type = [\"File\", \"Folder\", \"File and Folder\"]\n",
        "\n",
        "no = 1\n",
        "while True:\n",
        "    name = input(\"Enter file name {} to remove (Leave it empty to stop): \".format(no))\n",
        "    if not name:\n",
        "        break\n",
        "    else:\n",
        "        for i, item in enumerate(list_of_type, start=1):\n",
        "            print(f\"{i}. {item}\")\n",
        "        type_choice = int(input(\"Enter {} type to remove: \".format(name)))\n",
        "        if type_choice < 1 or type_choice > len(list_of_type):\n",
        "            print(\"Invalid option selected. Please try again.\")\n",
        "            continue\n",
        "        type_choice = list_of_type[type_choice - 1]\n",
        "        list_of_names.append((name, type_choice))\n",
        "    no += 1\n",
        "\n",
        "for remove, type_choice in list_of_names:\n",
        "    print(\"Removing {} from the current directory!\".format(remove))\n",
        "    confirmation = input(f\"Are you sure you want to remove the {type_choice} '{remove}'? [y/n]\")\n",
        "    if confirmation != \"y\":\n",
        "        continue\n",
        "    if type_choice == \"File\":\n",
        "        remove_command = f\"find . -type f -name '{remove}' -exec rm {{}} \\\\;\"\n",
        "        os.system(remove_command)\n",
        "    elif type_choice == \"Folder\":\n",
        "        remove_command = f\"find . -type d -name '{remove}' -prune -exec rm -rf {{}} \\\\;\"\n",
        "        os.system(remove_command)\n",
        "    else:\n",
        "        remove_dir = f\"find . -type d -name '{remove}' -prune -exec rm -rf {{}} \\\\;\"\n",
        "        remove_file = f\"find . -type f -name '{remove}' -exec rm {{}} \\\\;\"\n",
        "        os.system(remove_dir)\n",
        "        os.system(remove_file)\n"
      ],
      "metadata": {
        "cellView": "form",
        "id": "UkuywxgVuhQp"
      },
      "execution_count": null,
      "outputs": []
    }
  ]
}