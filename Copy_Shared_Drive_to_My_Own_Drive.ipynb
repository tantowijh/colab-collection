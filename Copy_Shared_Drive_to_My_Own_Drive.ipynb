{
  "nbformat": 4,
  "nbformat_minor": 0,
  "metadata": {
    "colab": {
      "provenance": [],
      "authorship_tag": "ABX9TyNj+uvP7azPisNtxY8hDKSC",
      "include_colab_link": true
    },
    "kernelspec": {
      "name": "python3",
      "display_name": "Python 3"
    },
    "language_info": {
      "name": "python"
    }
  },
  "cells": [
    {
      "cell_type": "markdown",
      "metadata": {
        "id": "view-in-github",
        "colab_type": "text"
      },
      "source": [
        "<a href=\"https://colab.research.google.com/github/tantowijh/colab-collection/blob/main/Copy_Shared_Drive_to_My_Own_Drive.ipynb\" target=\"_parent\"><img src=\"https://colab.research.google.com/assets/colab-badge.svg\" alt=\"Open In Colab\"/></a>"
      ]
    },
    {
      "cell_type": "markdown",
      "source": [
        "# **COPYING FILES AND DIRECTORY**\n",
        "\n",
        "```\n",
        "Commands to start copying files and directory\n",
        "```\n",
        "\n"
      ],
      "metadata": {
        "id": "AjmtLPdVfsvS"
      }
    },
    {
      "cell_type": "code",
      "source": [
        "#@title **Google Drive**\n",
        "#@markdown Run this command to connect google drive.\n",
        "\n",
        "from google.colab import drive\n",
        "drive.mount('/content/drive')\n",
        "\n",
        "print(f\"Drive Mounted Successfully\")\n",
        "get_ipython().system_raw('find . -type d -name \".ipynb_checkpoints\" -prune -exec rm -rf {} \\; &')"
      ],
      "metadata": {
        "colab": {
          "base_uri": "https://localhost:8080/"
        },
        "cellView": "form",
        "id": "SLfr_ToCnmXv",
        "outputId": "548cfb5c-f98f-4d30-a5bf-63c2bb88473b"
      },
      "execution_count": null,
      "outputs": [
        {
          "output_type": "stream",
          "name": "stdout",
          "text": [
            "Mounted at /content/drive\n",
            "Drive Mounted Successfully\n"
          ]
        }
      ]
    },
    {
      "cell_type": "code",
      "source": [
        "from IPython.core.display import clear_output\n",
        "#@title **Start Shared Drive Copy Files**\n",
        "#@markdown Enter shortcuts path and destination path.\n",
        "\n",
        "import os\n",
        "import subprocess\n",
        "\n",
        "File_Shortcuts = \"/content/drive/Shareddrives/SIMPLE MANAGER/Font+Subs/Fonts\" #@param {type:\"string\"}\n",
        "File_Destination = \"/content/drive/Shareddrives/ANIME SERVER/02. Subtitle\" #@param {type:\"string\"}\n",
        "\n",
        "!sudo cp -v -r '{File_Shortcuts}' '{File_Destination}'\n",
        "\n",
        "\n",
        "print(f\"File Copied Successfully.\")"
      ],
      "metadata": {
        "cellView": "form",
        "id": "7H4IYUZPmfio"
      },
      "execution_count": null,
      "outputs": []
    },
    {
      "cell_type": "code",
      "source": [
        "from IPython.core.display import clear_output\n",
        "#@title **Start Shared Drive Copy Directory**\n",
        "#@markdown Enter shortcuts path and destination path.\n",
        "\n",
        "import os\n",
        "import subprocess\n",
        "\n",
        "File_Shortcuts = \"/content/drive/Shareddrives/Server/00. Simple-Manager/Fate Animes and Movies/02. Fate Stay Night/Fate Stay Night (Anime)/Unconvert Source/Fate Stay Night (Unconvert)\" #@param {type:\"string\"}\n",
        "File_Destination = \"/content/drive/Shareddrives/01. Anime Server/00. Simple-Manager/Fate Animes and Movies/02. Fate Stay Night/Fate Stay Night (Anime)/Unconvert Source\" #@param {type:\"string\"}\n",
        "\n",
        "!sudo cp -v -r '{File_Shortcuts}/' '{File_Destination}'\n",
        "\n",
        "\n",
        "print(f\"File Copied Successfully.\")"
      ],
      "metadata": {
        "cellView": "form",
        "id": "lfnGJvJHPY93"
      },
      "execution_count": null,
      "outputs": []
    }
  ]
}