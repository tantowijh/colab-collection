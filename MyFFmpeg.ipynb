{
  "cells": [
    {
      "cell_type": "markdown",
      "metadata": {
        "id": "view-in-github",
        "colab_type": "text"
      },
      "source": [
        "<a href=\"https://colab.research.google.com/github/tantowijh/colab-collection/blob/main/MyFFmpeg.ipynb\" target=\"_parent\"><img src=\"https://colab.research.google.com/assets/colab-badge.svg\" alt=\"Open In Colab\"/></a>"
      ]
    },
    {
      "cell_type": "markdown",
      "metadata": {
        "id": "YRPaM-FhRIXi"
      },
      "source": [
        "# <img src=\"https://upload.wikimedia.org/wikipedia/commons/thumb/d/da/Google_Drive_logo.png/600px-Google_Drive_logo.png\" height=30px>      ___Mount / Unmount Gdrive!___"
      ]
    },
    {
      "cell_type": "code",
      "execution_count": null,
      "metadata": {
        "cellView": "form",
        "id": "U2avD1zRIlWA",
        "colab": {
          "base_uri": "https://localhost:8080/"
        },
        "outputId": "e5eaf273-718b-479e-98b1-3ee1d48070d1"
      },
      "outputs": [
        {
          "output_type": "stream",
          "name": "stdout",
          "text": [
            "Mounted at /content/drive\n"
          ]
        }
      ],
      "source": [
        "#@markdown <br><center><img src='https://upload.wikimedia.org/wikipedia/commons/thumb/d/da/Google_Drive_logo.png/600px-Google_Drive_logo.png' height=\"50\" alt=\"Gdrive logo\"/></center>\n",
        "#@markdown <center><h3>Mount Gdrive to /content/drive</h3></center><br>\n",
        "MODE = \"MOUNT\" #@param [\"MOUNT\", \"UNMOUNT\"]\n",
        "#Mount your Gdrive! \n",
        "from google.colab import drive\n",
        "drive.mount._DEBUG = False\n",
        "if MODE == \"MOUNT\":\n",
        "  drive.mount('/content/drive', force_remount=True)\n",
        "elif MODE == \"UNMOUNT\":\n",
        "  try:\n",
        "    drive.flush_and_unmount()\n",
        "  except ValueError:\n",
        "    pass\n",
        "  get_ipython().system_raw(\"rm -rf /root/.config/Google/DriveFS\")"
      ]
    },
    {
      "cell_type": "code",
      "execution_count": null,
      "metadata": {
        "cellView": "form",
        "id": "VZwLzwyJJqrL"
      },
      "outputs": [],
      "source": [
        "#@title **Runtime Prolonger**\n",
        "#@markdown *This cell runs a JS code that automatically reconnects you to avoid inactivity due to idle.*\n",
        "\n",
        "import IPython\n",
        "from IPython.display import clear_output\n",
        "from google.colab import output\n",
        "\n",
        "display(IPython.display.Javascript('''\n",
        " function connectRefresher() {\n",
        "       window.ConnectButtonIntervalId = setInterval(function ConnectButton(){\n",
        "                console.log(\"connected\"); \n",
        "                document.querySelector(\"#top-toolbar > colab-connect-button\").shadowRoot.querySelector(\"#connect\").click();\n",
        "                document.querySelector(\"colab-sessions-dialog\").shadowRoot.querySelector(\"#footer > div > paper-button\").click();\n",
        "                console.log(\"closed the dialog!!\"); \n",
        "            },60000);\n",
        "    }\n",
        "    \n",
        " function clearRefresher() { \n",
        "           console.log(\"clear Interval called !!\");\n",
        "           clearInterval(window.ConnectButtonIntervalId);\n",
        "    }\n",
        "\n",
        " connectRefresher(); //to connect the refresher\n",
        " clearRefresher(); //to disconnect the refresher\n",
        "'''))\n",
        "\n",
        "clear_output()"
      ]
    },
    {
      "cell_type": "code",
      "execution_count": null,
      "metadata": {
        "cellView": "form",
        "id": "GX_LgVAwJrw9"
      },
      "outputs": [],
      "source": [
        "#@title **Font Installer**\n",
        "#@markdown *This cell runs a code that automatically add your custom-fonts. Please add your custom-fonts folder path location here!*\n",
        "\n",
        "FontsLinks = \"https://github.com/tantowijh/Fonts-Anime\" #@param {type:\"string\"}\n",
        "FontsDestination = \"/usr/share/fonts/truetype/Anime\"\n",
        "\n",
        "!git clone '{FontsLinks}' '{FontsDestination}'\n",
        "#!sudo mv -v -r *.* '{FontsDestination}'\n",
        "\n",
        "import IPython\n",
        "from IPython.display import clear_output\n",
        "from google.colab import output\n",
        "\n",
        "clear_output()"
      ]
    },
    {
      "cell_type": "code",
      "execution_count": null,
      "metadata": {
        "cellView": "form",
        "id": "UNP9uUw6JxfF"
      },
      "outputs": [],
      "source": [
        "#@title **Google Fonts**\n",
        "#@markdown *This cell runs a code that automatically install entire google-fonts library!*\n",
        "\n",
        "import IPython\n",
        "from IPython.display import clear_output\n",
        "from google.colab import output\n",
        "\n",
        "!git clone https://github.com/google/fonts.git\n",
        "%mv /content/fonts/ofl/* /usr/share/fonts/truetype\n",
        "%cd /content\n",
        "%rm -rf \"fonts\"\n",
        "\n",
        "clear_output()"
      ]
    },
    {
      "cell_type": "markdown",
      "metadata": {
        "id": "ercDPZ6CIlVz"
      },
      "source": [
        "# <img src='https://www.vozidea.com/wp-content/uploads/2018/05/ffmpeg-logo-grande.png ' height=\"57\" alt=\"RcloneLab\"/>"
      ]
    },
    {
      "cell_type": "code",
      "execution_count": null,
      "metadata": {
        "cellView": "form",
        "id": "G3JHGE0Jtzme",
        "colab": {
          "base_uri": "https://localhost:8080/",
          "height": 140
        },
        "outputId": "b2bea4f3-9c09-4868-c007-5c75e1727e21"
      },
      "outputs": [
        {
          "output_type": "stream",
          "name": "stdout",
          "text": [
            "Server Started Successfully\n"
          ]
        }
      ],
      "source": [
        "#@markdown <h3>⬅️ Click Here to Install FFmpeg, VCSI & Mkvtoolnix</h3>\n",
        "\n",
        "from IPython.display import clear_output\n",
        "import os, sys, urllib.request\n",
        "HOME = os.path.expanduser(\"~\")\n",
        "pathDoneCMD = f'{HOME}/doneCMD.sh'\n",
        "if not os.path.exists(f\"{HOME}/.ipython/ttmg.py\"):\n",
        "    hCode = \"https://raw.githubusercontent.com/yunooooo/gcct/master/res/ttmg.py\"\n",
        "    urllib.request.urlretrieve(hCode, f\"{HOME}/.ipython/ttmg.py\")\n",
        "\n",
        "from ttmg import (\n",
        "    loadingAn,\n",
        "    textAn,\n",
        ")\n",
        "\n",
        "loadingAn(name=\"lds\")\n",
        "textAn(\"Installing ffmpeg...\", ty='twg')\n",
        "!apt install ffmpeg &> /dev/null\n",
        "textAn(\"Installing mkvtoolnix...\", ty='twg')\n",
        "!sudo apt-get install mkvtoolnix &> /dev/null\n",
        "textAn(\"Installing vcsi...\", ty='twg') \n",
        "!pip install vcsi &> /dev/null\n",
        "\n",
        "\n",
        "from IPython.display import HTML, clear_output\n",
        "clear_output()\n",
        "print(\"Server Started Successfully\")"
      ]
    },
    {
      "cell_type": "code",
      "execution_count": null,
      "metadata": {
        "cellView": "form",
        "id": "CfhZw9ptquNA",
        "colab": {
          "base_uri": "https://localhost:8080/"
        },
        "outputId": "0882520e-cc5e-4064-82aa-692077976c06"
      },
      "outputs": [
        {
          "output_type": "stream",
          "name": "stdout",
          "text": [
            "GPU 0: Tesla T4 (UUID: GPU-02ca6f6e-4c25-9646-d654-c3ca716c2cf3)\n"
          ]
        }
      ],
      "source": [
        "#@markdown <h3>⬅️ Click Here to Check GPU</h3>\n",
        "!nvidia-smi -L"
      ]
    },
    {
      "cell_type": "markdown",
      "metadata": {
        "id": "jL2IbHXBsMZo"
      },
      "source": [
        "\n",
        "###» **Video to (*H264*-AAC 224K)  - Need GPU - Nvidia Telsa P100 or T4**"
      ]
    },
    {
      "cell_type": "markdown",
      "source": [
        "####» Get Information"
      ],
      "metadata": {
        "id": "q1sU6MPix0Ss"
      }
    },
    {
      "cell_type": "code",
      "source": [
        "#@markdown <h3><b>Generate Information :</h3>\n",
        "#@markdown <i>Put file name (include the extension for single file). Put directory path (for batch file).</i>\n",
        "InputLocation = '/content/drive/Shareddrives/01. Anime Server/01. TV Show/38. Fuuto Tantei/Season 1/[LENDRIVE]_Fuuto_Tantei_-_04_[1080p_HEVC_10bit][Dualsubs].mkv' #@param {type:\"string\"}\n",
        "OutputLocation = '/content/ffmpeg'\n",
        "DefaultList = '/content/ffmpeg/default'\n",
        "from pathlib import Path\n",
        "Path(OutputLocation, DefaultList).mkdir(parents=True, exist_ok=True)\n",
        "InputFormat = \".mkv\" #@param [\".mp4\", \".mov\", \".mkv\", \".avi\", \".ts\", \".flv\", \".webm\", \".wmv\", \".mpg\", \".m4v\", \".f4v\", \".m2ts\", \".mpeg\", \".3gp\", \".MP4\", \".MOV\", \".MKV\", \".AVI\", \".TS\", \".FLV\", \".WEBM\", \".WMV\", \".MPG\", \".M4V\", \".F4V\", \".M2TS\", \".MPEG\", \".3GP\"]\n",
        "OutputFormat = \".txt\"\n",
        "NumberOfFirstCharactertoRemove = 11 #@param {type:\"slider\", min:0, max:50}\n",
        "Batch = False #@param {type:\"boolean\"}\n",
        "dchara = NumberOfFirstCharactertoRemove\n",
        "fix = len(InputFormat)\n",
        "\n",
        "Fix = len(InputFormat)\n",
        "src =f\"{InputName}\"\n",
        "dst =f\"{src[:-(int(Fix))]}\"\n",
        "sparator = '/'\n",
        "for i in range(1,16):\n",
        "  # Remove all characters before the character '-' from string\n",
        "  before, sparator, after = dst.partition('/')\n",
        "  if len(after) > 0:\n",
        "    dst = after\n",
        "\n",
        "\n",
        "def single():\n",
        "  print(\"Information for \", dst,InputFormat)\n",
        "  !ffprobe '{InputLocation}' 2>&1 >/dev/null | grep Stream\n",
        "def batch():\n",
        "  for filename in os.listdir(InputLocation):\n",
        "    if (filename.endswith(InputFormat)):\n",
        "      print(\"Information for \", filename)\n",
        "      !ffprobe '$InputLocation/{filename}' 2>&1 >/dev/null | grep Stream > '$OutputLocation/{filename[dchara:-(int(fix))]}{OutputFormat}'\n",
        "      !ffprobe '$InputLocation/{filename}' 2>&1 >/dev/null | grep Stream | grep (default) > '$DefaultList/{filename[dchara:-(int(fix))]}{OutputFormat}'\n",
        "  print(\"Information extracted to \", OutputLocation, \"...\")\n",
        "\n",
        "if Batch == True:\n",
        "  batch()\n",
        "else:\n",
        "  single()"
      ],
      "metadata": {
        "cellView": "form",
        "id": "ddPBcbbZrZXk"
      },
      "execution_count": null,
      "outputs": []
    },
    {
      "cell_type": "markdown",
      "metadata": {
        "id": "OqZGpm3nsklj"
      },
      "source": [
        "####» Single Video Encoder"
      ]
    },
    {
      "cell_type": "code",
      "execution_count": null,
      "metadata": {
        "cellView": "form",
        "id": "Loujfy9TVEIK"
      },
      "outputs": [],
      "source": [
        "#@markdown <h3><b>Single File Encode :</h3>\n",
        "#@markdown <i>Put file name (include the extension). Convert single video in directory.</i>\n",
        "\n",
        "import os, sys, re\n",
        "\n",
        "InputName = '/content/drive/Shareddrives/06. YT-DLP/Fuuto Tantei - 04 (B-Global 1920x1080 HEVC AAC MKV).mkv' #@param {type:\"string\"}\n",
        "OutputPath = '/content/drive/Shareddrives/06. YT-DLP/TEST' #@param {type:\"string\"}\n",
        "InputFormat = \".mkv\" #@param [\".mp4\", \".mov\", \".mkv\", \".avi\", \".ts\", \".flv\", \".webm\", \".wmv\", \".mpg\", \".m4v\", \".f4v\", \".m2ts\", \".mpeg\", \".3gp\", \".MP4\", \".MOV\", \".MKV\", \".AVI\", \".TS\", \".FLV\", \".WEBM\", \".WMV\", \".MPG\", \".M4V\", \".F4V\", \".M2TS\", \".MPEG\", \".3GP\"]\n",
        "OutputFormat = \".mp4\" #@param [\".mp4\", \".mov\", \".mkv\", \".avi\", \".ts\", \".flv\", \".webm\", \".wmv\", \".mpg\", \".m4v\", \".f4v\", \".m2ts\", \".mpeg\", \".3gp\", \".MP4\", \".MOV\", \".MKV\", \".AVI\", \".TS\", \".FLV\", \".WEBM\", \".WMV\", \".MPG\", \".M4V\", \".F4V\", \".M2TS\", \".MPEG\", \".3GP\"]\n",
        "\n",
        "#@markdown <b><i>Subtitle Options.</i></b>\n",
        "BurnIn = True #@param {type:\"boolean\"}\n",
        "SubtitleTrack = False #@param {type:\"boolean\"}\n",
        "TrackNumber = 0 #@param {type:\"slider\", min:0, max:10, step:1}\n",
        "ForceStyle = True #@param {type:\"boolean\"}\n",
        "FontName = 'Open Sans' #@param {type:\"string\"}\n",
        "usefont = 'FontName=' + FontName\n",
        "FontsDir = '/usr/share/fonts/truetype'\n",
        "\n",
        "#@markdown <h3><b>Video Quality :</h3>\n",
        "#@markdown <h><i>Between 0 [Best] to 51 [Worst]</i><h>\n",
        "Set_cq = '23'#@param {type:\"string\"}\n",
        "Set_qmin = '2'#@param {type:\"string\"}\n",
        "Set_qmax = '31'#@param {type:\"string\"}\n",
        "\n",
        "Fix = len(InputFormat)\n",
        "src =f\"{InputName}\"\n",
        "dst =f\"{src[:-(int(Fix))]}\"\n",
        "sparator = '/'\n",
        "for i in range(1,16):\n",
        "  # Remove all characters before the character '-' from string\n",
        "  before, sparator, after = dst.partition('/')\n",
        "  if len(after) > 0:\n",
        "    dst = after\n",
        "\n",
        "#!ffmpeg -hwaccel cuvid -i '{InputName}' -c:v h264_nvenc -pix_fmt yuv420p -preset slow -rc vbr_hq -b:v 8M -maxrate:v 10M -c:a aac -b:a 224k '{OutputName}'$OutputFormat\n",
        "#force_style='FontName=DejaVu Serif'\n",
        "def noSubtitle():\n",
        "  cmd = !ffmpeg -y -hwaccel cuvid -i '{InputName}' -c:v h264_nvenc -pix_fmt yuv420p -preset slow -rc vbr_hq -cq {Set_cq} -qmin {Set_qmin} -qmax {Set_qmax} -b:v 8M -maxrate:v 10M -c:a aac -b:a 224k '{OutputName}'$OutputFormat\n",
        "def burnSubtitle():\n",
        "  def noTrack():\n",
        "    if ForceStyle == False: \n",
        "      cmd = !ffmpeg -y -hwaccel cuvid -i '{InputName}' -c:v h264_nvenc -pix_fmt yuv420p -preset slow -rc vbr_hq -cq {Set_cq} -qmin {Set_qmin} -qmax {Set_qmax} -b:v 8M -maxrate:v 10M -c:a aac -b:a 224k -filter_complex \"subtitles='{InputName}':fontsdir='{FontsDir}'\" '$OutputPath/{dst}'$OutputFormat\n",
        "    else:\n",
        "      cmd = !ffmpeg -y -hwaccel cuvid -i '{InputName}' -c:v h264_nvenc -pix_fmt yuv420p -preset slow -rc vbr_hq -cq {Set_cq} -qmin {Set_qmin} -qmax {Set_qmax} -b:v 8M -maxrate:v 10M -c:a aac -b:a 224k -filter_complex \"subtitles='{InputName}':fontsdir='{FontsDir}':force_style='{usefont}'\" '$OutputPath/{dst}'$OutputFormat\n",
        "  def siTrack():\n",
        "    if ForceStyle == False:\n",
        "      cmd = !ffmpeg -y -hwaccel cuvid -i '{InputName}' -c:v h264_nvenc -pix_fmt yuv420p -preset slow -rc vbr_hq -cq {Set_cq} -qmin {Set_qmin} -qmax {Set_qmax} -b:v 8M -maxrate:v 10M -c:a aac -b:a 224k -filter_complex \"subtitles='{InputName}:si={TrackNumber}':fontsdir='{FontsDir}'\" '$OutputPath/{dst}'$OutputFormat\n",
        "    else:\n",
        "      cmd = !ffmpeg -y -hwaccel cuvid -i '{InputName}' -c:v h264_nvenc -pix_fmt yuv420p -preset slow -rc vbr_hq -cq {Set_cq} -qmin {Set_qmin} -qmax {Set_qmax} -b:v 8M -maxrate:v 10M -c:a aac -b:a 224k -filter_complex \"subtitles='{InputName}:si={TrackNumber}':fontsdir='{FontsDir}':force_style='{usefont}'\" '$OutputPath/{dst}'$OutputFormat\n",
        "\n",
        "  if SubtitleTrack == False:\n",
        "    noTrack()\n",
        "  else:\n",
        "    siTrack()\n",
        "if BurnIn == False:\n",
        "  noSubtitle()\n",
        "else:\n",
        "  burnSubtitle()\n",
        "\n",
        "#!ffmpeg -y -hwaccel cuvid -i '{InputName}' -c:v h264_nvenc -pix_fmt yuv420p -preset slow -rc vbr_hq -cq {Set_cq} -qmin {Set_qmin} -qmax {Set_qmax} -b:v 8M -maxrate:v 10M -c:a aac -b:a 224k -filter_complex \"subtitles='{InputName}'\" '{OutputName}'$OutputFormat"
      ]
    },
    {
      "cell_type": "markdown",
      "metadata": {
        "id": "pF3cV3IGs1dC"
      },
      "source": [
        "####» Full Directory Encoder"
      ]
    },
    {
      "cell_type": "code",
      "execution_count": null,
      "metadata": {
        "cellView": "form",
        "id": "IEvuxGk6s9oi"
      },
      "outputs": [],
      "source": [
        "#@markdown <h3><b>Full Directory Encode :</h3>\n",
        "#@markdown <i>Put directory path. Convert the entire videos in directory.</i>\n",
        "\n",
        "import os, sys, re\n",
        "import subprocess\n",
        "\n",
        "InputLocation = '/content/drive/Shareddrives/01. Anime Server/01. Anime Series/Irozuku Sekai no Ashita kara' #@param {type:\"string\"}\n",
        "OutputLocation = '/content/drive/Shareddrives/01. Anime Server/01. Anime Series/Irozuku Sekai no Ashita kara/Streaming Ready' #@param {type:\"string\"}\n",
        "InputFormat = \".mkv\" #@param [\".mp4\", \".mov\", \".mkv\", \".avi\", \".ts\", \".flv\", \".webm\", \".wmv\", \".mpg\", \".m4v\", \".f4v\", \".m2ts\", \".mpeg\", \".3gp\", \".MP4\", \".MOV\", \".MKV\", \".AVI\", \".TS\", \".FLV\", \".WEBM\", \".WMV\", \".MPG\", \".M4V\", \".F4V\", \".M2TS\", \".MPEG\", \".3GP\"]\n",
        "OutputFormat = \".mp4\" #@param [\".mp4\", \".mov\", \".mkv\", \".avi\", \".ts\", \".flv\", \".webm\", \".wmv\", \".mpg\", \".m4v\", \".f4v\", \".m2ts\", \".mpeg\", \".3gp\", \".MP4\", \".MOV\", \".MKV\", \".AVI\", \".TS\", \".FLV\", \".WEBM\", \".WMV\", \".MPG\", \".M4V\", \".F4V\", \".M2TS\", \".MPEG\", \".3GP\"]\n",
        "\n",
        "#@markdown <b><i>Output Options.</i></b>\n",
        "NumberOfFirstCharactertoRemove = 11 #@param {type:\"slider\", min:0, max:50}\n",
        "dchara = NumberOfFirstCharactertoRemove\n",
        "fix = len(InputFormat)\n",
        "OverWriteExistingFile = False #@param {type:\"boolean\"}\n",
        "\n",
        "#@markdown <b><i>Subtitle Options.</i></b>\n",
        "BurnIn = True #@param {type:\"boolean\"}\n",
        "SubtitleTrack = False #@param {type:\"boolean\"}\n",
        "TrackNumber = 0 #@param {type:\"slider\", min:0, max:10, step:1}\n",
        "\n",
        "#@markdown <h3><b>Video Quality :</h3>\n",
        "#@markdown <h><i>Between 0 [Best] to 51 [Worst]</i><h>\n",
        "Set_cq = '23'#@param {type:\"string\"}\n",
        "Set_qmin = '2'#@param {type:\"string\"}\n",
        "Set_qmax = '31'#@param {type:\"string\"}\n",
        "\n",
        "from pathlib import Path\n",
        "Path(OutputLocation).mkdir(parents=True, exist_ok=True)\n",
        "\n",
        "#!ffmpeg -hwaccel cuvid -i '$InputLocation' -c:v h264_nvenc -pix_fmt yuv420p -preset slow -rc vbr_hq -b:v 8M -maxrate:v 10M -c:a aac -b:a 224k '$OutputLocation'$OutputFormat\n",
        "\n",
        "def OverWrite():\n",
        "  def noSubtitle():\n",
        "    cmd = !ffmpeg -y -hwaccel cuvid -i '$InputLocation/{filename}' -c:v h264_nvenc -pix_fmt yuv420p -preset slow -rc vbr_hq -cq {Set_cq} -qmin {Set_qmin} -qmax {Set_qmax} -b:v 8M -maxrate:v 10M -c:a aac -b:a 224k '$OutputLocation/{filename[dchara:-(int(fix))]}'$OutputFormat\n",
        "  def burnSubtitle():\n",
        "    def noTrack():\n",
        "      cmd = !ffmpeg -y -hwaccel cuvid -i '$InputLocation/{filename}' -c:v h264_nvenc -pix_fmt yuv420p -preset slow -rc vbr_hq -cq {Set_cq} -qmin {Set_qmin} -qmax {Set_qmax} -b:v 8M -maxrate:v 10M -c:a aac -b:a 224k -filter_complex \"subtitles='$InputLocation/{filename}'\" '$OutputLocation/{filename[dchara:-(int(fix))]}'$OutputFormat\n",
        "    def siTrack():\n",
        "      cmd = !ffmpeg -y -hwaccel cuvid -i '$InputLocation/{filename}' -c:v h264_nvenc -pix_fmt yuv420p -preset slow -rc vbr_hq -cq {Set_cq} -qmin {Set_qmin} -qmax {Set_qmax} -b:v 8M -maxrate:v 10M -c:a aac -b:a 224k -filter_complex \"subtitles='$InputLocation/{filename}:si={TrackNumber}'\" '$OutputLocation/{filename[dchara:-(int(fix))]}'$OutputFormat\n",
        "    if SubtitleTrack == True:\n",
        "      siTrack()\n",
        "    if SubtitleTrack == False:\n",
        "      noTrack()\n",
        "  if BurnIn == False:\n",
        "    noSubtitle()\n",
        "  else:\n",
        "    burnSubtitle() \n",
        "def noOverWrite():\n",
        "  def noSubtitle():\n",
        "    cmd = !ffmpeg -n -hwaccel cuvid -i '$InputLocation/{filename}' -c:v h264_nvenc -pix_fmt yuv420p -preset slow -rc vbr_hq -cq {Set_cq} -qmin {Set_qmin} -qmax {Set_qmax} -b:v 8M -maxrate:v 10M -c:a aac -b:a 224k '$OutputLocation/{filename[dchara:-(int(fix))]}'$OutputFormat\n",
        "  def burnSubtitle():\n",
        "    def noTrack():\n",
        "      cmd = !ffmpeg -n -hwaccel cuvid -i '$InputLocation/{filename}' -c:v h264_nvenc -pix_fmt yuv420p -preset slow -rc vbr_hq -cq {Set_cq} -qmin {Set_qmin} -qmax {Set_qmax} -b:v 8M -maxrate:v 10M -c:a aac -b:a 224k -filter_complex \"subtitles='$InputLocation/{filename}'\" '$OutputLocation/{filename[dchara:-(int(fix))]}'$OutputFormat\n",
        "    def siTrack():\n",
        "      cmd = !ffmpeg -n -hwaccel cuvid -i '$InputLocation/{filename}' -c:v h264_nvenc -pix_fmt yuv420p -preset slow -rc vbr_hq -cq {Set_cq} -qmin {Set_qmin} -qmax {Set_qmax} -b:v 8M -maxrate:v 10M -c:a aac -b:a 224k -filter_complex \"subtitles='$InputLocation/{filename}:si={TrackNumber}'\" '$OutputLocation/{filename[dchara:-(int(fix))]}'$OutputFormat\n",
        "    if SubtitleTrack == True:\n",
        "      siTrack()\n",
        "    else:\n",
        "      noTrack()  \n",
        "  if BurnIn == False:\n",
        "    noSubtitle()\n",
        "  else:\n",
        "    burnSubtitle()       \n",
        "for filename in os.listdir(InputLocation):\n",
        "  if (filename.endswith(InputFormat)):\n",
        "    if OverWriteExistingFile == True:\n",
        "      OverWrite()\n",
        "    else:\n",
        "      noOverWrite()\n",
        "\n",
        "#!ffmpeg -y -hwaccel cuvid -i '$InputLocation' -c:v h264_nvenc -pix_fmt yuv420p -preset slow -rc vbr_hq -cq {Set_cq} -qmin {Set_qmin} -qmax {Set_qmax} -b:v 8M -maxrate:v 10M -c:a aac -b:a 224k -filter_complex \"subtitles='$InputLocation'\" '$OutputLocation'$OutputFormat"
      ]
    },
    {
      "cell_type": "markdown",
      "metadata": {
        "id": "vTuA4jTT2C9n"
      },
      "source": [
        "###**» Thumbnail Creation - Preview from Video**"
      ]
    },
    {
      "cell_type": "markdown",
      "metadata": {
        "id": "bhlz0txI2NB1"
      },
      "source": [
        "####» Single Video File"
      ]
    },
    {
      "cell_type": "code",
      "execution_count": null,
      "metadata": {
        "cellView": "form",
        "id": "Yi-Maqk1fQzr"
      },
      "outputs": [],
      "source": [
        "#@markdown <h3><b>Single Video Thumbnail Creation :</h5>\n",
        "VideoName = \"/content/drive/Shareddrives/01. Anime Server/01. Anime/01. TV Show/06. Classroom Of The Elite/Season 2/Streaming Ready/Classroom_Elite_S2_-_02_[1080p_HEVC][Dualsubs].mp4\" #@param {type:\"string\"}\n",
        "VideoExtension = (\".mp4\", \".mov\", \".mkv\", \".avi\", \".ts\", \".flv\", \".webm\", \".wmv\", \".mpg\", \".m4v\", \".f4v\", \".m2ts\", \".mpeg\", \".3gp\", \".MP4\", \".MOV\", \".MKV\", \".AVI\", \".TS\", \".FLV\", \".WEBM\", \".WMV\", \".MPG\", \".M4V\", \".F4V\", \".M2TS\", \".MPEG\", \".3GP\")\n",
        "OutputPath = \"/content/drive/Shareddrives/01. Anime Server/01. Anime/01. TV Show/06. Classroom Of The Elite/Season 2/Streaming Ready/Thumbnails\" #@param {type:\"string\"}\n",
        "ThumbnailName = \"Classroom Of The Elite S2 Episode 02\" #@param {type:\"string\"}\n",
        "PNG = '.png'\n",
        "JPG = '.jpg'\n",
        "BMP = '.bmp'\n",
        "ImageFormat = PNG #@param [\"PNG\", \"JPG\", \"BMP\"] {type:\"raw\"}\n",
        "#@markdown <h6><b><i>SingleFrame = Output a single frame from the video into an image file:</i></b></h6>\n",
        "SingleFrame = False #@param {type:\"boolean\"}\n",
        "#@markdown ><h><i>Time Settings:</i><h>\n",
        "Hours = 0 #@param {type:\"slider\", min:0, max:10, step:1}\n",
        "Minutes = 8 #@param {type:\"slider\", min:0, max:59, step:1}\n",
        "Seconds = 0 #@param {type:\"slider\", min:0, max:59, step:1}\n",
        "Milisec = 0 #@param {type:\"slider\", min:0, max:999, step:1}\n",
        "\n",
        "\n",
        "#@markdown <h6><b><i>Output one image every %% :</i></b></h6>\n",
        "ThumbnailImage = \"per 3 minutes\" #@param [\"per second\", \"per half a minute\", \"per minute\", \"per 3 minutes\", \"per 10 minutes\"]\n",
        "#@markdown ><h><i>Not used if SingleFrame is checked:</i><h>\n",
        "\n",
        "from pathlib import Path\n",
        "Path(OutputPath).mkdir(parents=True, exist_ok=True)\n",
        "\n",
        "def snglFrame():\n",
        "  cmd = !ffmpeg -y -hwaccel cuvid -i '{VideoName}' -ss {Hours}:{Minutes}:{Seconds}.{Milisec} -frames:v 1 '$OutputPath/{ThumbnailName}'$ImageFormat\n",
        "def fpsFrame():\n",
        "  def scnd():\n",
        "    cmd = !ffmpeg -y -hwaccel cuvid -i '{VideoName}' -vf fps=1 '$OutputPath/{ThumbnailName}'%03d$ImageFormat\n",
        "  def hlfmnt():\n",
        "    cmd = !ffmpeg -y -hwaccel cuvid -i '{VideoName}' -vf fps=2/60 '$OutputPath/{ThumbnailName}'%03d$ImageFormat\n",
        "  def mnt():\n",
        "    cmd = !ffmpeg -y -hwaccel cuvid -i '{VideoName}' -vf fps=1/60 '$OutputPath/{ThumbnailName}'%03d$ImageFormat\n",
        "  def thrmnt():\n",
        "    cmd = !ffmpeg -y -hwaccel cuvid -i '{VideoName}' -vf fps=1/180 '$OutputPath/{ThumbnailName}'%03d$ImageFormat\n",
        "  def tenmnt():\n",
        "    cmd = !ffmpeg -y -hwaccel cuvid -i '{VideoName}' -vf fps=1/600 '$OutputPath/{ThumbnailName}'%03d$ImageFormat\n",
        "  if ThumbnailImage == \"per second\":\n",
        "    scnd()\n",
        "  if ThumbnailImage == \"per half a minute\":\n",
        "    hlfmnt()\n",
        "  if ThumbnailImage == \"per minute\":\n",
        "    mnt()\n",
        "  if ThumbnailImage == \"per 3 minutes\":\n",
        "    thrmnt()\n",
        "  if ThumbnailImage == \"per 10 minutes\":\n",
        "    tenmnt()\n",
        "if SingleFrame == True:\n",
        "  snglFrame()\n",
        "else:\n",
        "  fpsFrame()\n",
        "\n"
      ]
    },
    {
      "cell_type": "markdown",
      "metadata": {
        "id": "F74A1amU2qYl"
      },
      "source": [
        "####» Entire videos in the directory"
      ]
    },
    {
      "cell_type": "code",
      "execution_count": null,
      "metadata": {
        "cellView": "form",
        "id": "itxPT0Ru13ox"
      },
      "outputs": [],
      "source": [
        "#@markdown <h3><b>Full Directory Thumbnail Creation :</h5>\n",
        "InputPath = \"/content/drive/Shareddrives/01. Anime Server/01. TV Show/29. Summertime Render/Season 1\" #@param {type:\"string\"}\n",
        "VideoExtension = \".mkv\" #@param [\".mp4\", \".mov\", \".mkv\", \".avi\", \".ts\", \".flv\", \".webm\", \".wmv\", \".mpg\", \".m4v\", \".f4v\", \".m2ts\", \".mpeg\", \".3gp\", \".MP4\", \".MOV\", \".MKV\", \".AVI\", \".TS\", \".FLV\", \".WEBM\", \".WMV\", \".MPG\", \".M4V\", \".F4V\", \".M2TS\", \".MPEG\", \".3GP\"]\n",
        "OutputPath = \"/content/drive/Shareddrives/01. Anime Server/01. TV Show/29. Summertime Render/Season 1/Thumbnailss\" #@param {type:\"string\"}\n",
        "OverWriteExistingFile = False #@param {type:\"boolean\"}\n",
        "NumberOfFirstCharactertoRemove = 11 #@param {type:\"slider\", min:0, max:50}\n",
        "PNG = '.png'\n",
        "JPG = '.jpg'\n",
        "BMP = '.bmp'\n",
        "ImageFormat = JPG #@param [\"PNG\", \"JPG\", \"BMP\"] {type:\"raw\"}\n",
        "#@markdown <h6><b><i>SingleFrame = Output a single frame from the video into an image file:</i></b></h6>\n",
        "SingleFrame = True #@param {type:\"boolean\"}\n",
        "#@markdown ><h><i>Time Settings:</i><h>\n",
        "Hours = 0 #@param {type:\"slider\", min:0, max:10, step:1}\n",
        "Minutes = 9 #@param {type:\"slider\", min:0, max:59, step:1}\n",
        "Seconds = 10 #@param {type:\"slider\", min:0, max:59, step:1}\n",
        "Milisec = 185 #@param {type:\"slider\", min:0, max:999, step:1}\n",
        "\n",
        "\n",
        "#@markdown <h6><b><i>Output one image every %% :</i></b></h6>\n",
        "ThumbnailImage = \"per minute\" #@param [\"per second\", \"per half a minute\", \"per minute\", \"per 3 minutes\", \"per 10 minutes\"]\n",
        "#@markdown ><h><i>Not used if SingleFrame is checked:</i><h>\n",
        "\n",
        "dchara = NumberOfFirstCharactertoRemove\n",
        "fix = len(InputFormat)\n",
        "\n",
        "from pathlib import Path\n",
        "Path(OutputPath).mkdir(parents=True, exist_ok=True)\n",
        "\n",
        "def overWriting():\n",
        "  def snglFrame():\n",
        "    cmd = !ffmpeg -y -hwaccel cuvid -i '$InputPath/{filename}' -ss {Hours}:{Minutes}:{Seconds}.{Milisec} -frames:v 1 '$OutputPath/{filename[dchara:-(int(fix))]}'$ImageFormat\n",
        "  def fpsFrame():\n",
        "    def scnd():\n",
        "      cmd = !ffmpeg -y -hwaccel cuvid -i '$InputPath/{filename}' -vf fps=1 '$OutputPath/{filename[dchara:-(int(fix))]}'%03d$ImageFormat\n",
        "    def hlfmnt():\n",
        "      cmd = !ffmpeg -y -hwaccel cuvid -i '$InputPath/{filename}' -vf fps=2/60 '$OutputPath/{filename[dchara:-(int(fix))]}'%03d$ImageFormat\n",
        "    def mnt():\n",
        "      cmd = !ffmpeg -y -hwaccel cuvid -i '$InputPath/{filename}' -vf fps=1/60 '$OutputPath/{filename[dchara:-(int(fix))]}'%03d$ImageFormat\n",
        "    def thrmnt():\n",
        "      cmd = !ffmpeg -y -hwaccel cuvid -i '$InputPath/{filename}' -vf fps=1/180 '$OutputPath/{filename[dchara:-(int(fix))]}'%03d$ImageFormat\n",
        "    def tenmnt():\n",
        "      cmd = !ffmpeg -y -hwaccel cuvid -i '$InputPath/{filename}' -vf fps=1/600 '$OutputPath/{filename[dchara:-(int(fix))]}'%03d$ImageFormat\n",
        "    if ThumbnailImage == \"per second\":\n",
        "      scnd()\n",
        "    if ThumbnailImage == \"per half a minute\":\n",
        "      hlfmnt()\n",
        "    if ThumbnailImage == \"per minute\":\n",
        "      mnt()\n",
        "    if ThumbnailImage == \"per 3 minutes\":\n",
        "      thrmnt()\n",
        "    if ThumbnailImage == \"per 10 minutes\":\n",
        "      tenmnt()\n",
        "  if SingleFrame == True:\n",
        "    snglFrame()\n",
        "  else:\n",
        "    fpsFrame()\n",
        "def NooverWriting():\n",
        "  def snglFrame():\n",
        "    cmd = !ffmpeg -n -hwaccel cuvid -i '$InputPath/{filename}' -ss {Hours}:{Minutes}:{Seconds}.{Milisec} -frames:v 1 '$OutputPath/{filename[dchara:-(int(fix))]}'$ImageFormat\n",
        "  def fpsFrame():\n",
        "    def scnd():\n",
        "      cmd = !ffmpeg -n -hwaccel cuvid -i '$InputPath/{filename}' -vf fps=1 '$OutputPath/{filename[dchara:-(int(fix))]}'%03d$ImageFormat\n",
        "    def hlfmnt():\n",
        "      cmd = !ffmpeg -n -hwaccel cuvid -i '$InputPath/{filename}' -vf fps=2/60 '$OutputPath/{filename[dchara:-(int(fix))]}'%03d$ImageFormat\n",
        "    def mnt():\n",
        "      cmd = !ffmpeg -n -hwaccel cuvid -i '$InputPath/{filename}' -vf fps=1/60 '$OutputPath/{filename[dchara:-(int(fix))]}'%03d$ImageFormat\n",
        "    def thrmnt():\n",
        "      cmd = !ffmpeg -n -hwaccel cuvid -i '$InputPath/{filename}' -vf fps=1/180 '$OutputPath/{filename[dchara:-(int(fix))]}'%03d$ImageFormat\n",
        "    def tenmnt():\n",
        "      cmd = !ffmpeg -n -hwaccel cuvid -i '$InputPath/{filename}' -vf fps=1/600 '$OutputPath/{filename[dchara:-(int(fix))]}'%03d$ImageFormat\n",
        "    if ThumbnailImage == \"per second\":\n",
        "      scnd()\n",
        "    if ThumbnailImage == \"per half a minute\":\n",
        "      hlfmnt()\n",
        "    if ThumbnailImage == \"per minute\":\n",
        "      mnt()\n",
        "    if ThumbnailImage == \"per 3 minutes\":\n",
        "      thrmnt()\n",
        "    if ThumbnailImage == \"per 10 minutes\":\n",
        "      tenmnt()\n",
        "  if SingleFrame == True:\n",
        "    snglFrame()\n",
        "  else:\n",
        "    fpsFrame()\n",
        "for filename in os.listdir(InputPath):\n",
        "  if (filename.endswith(VideoExtension)):\n",
        "    if OverWriteExistingFile == True:\n",
        "      overWriting()\n",
        "    else:\n",
        "      NooverWriting()"
      ]
    },
    {
      "cell_type": "markdown",
      "metadata": {
        "id": "7udpK9Qe-NUQ"
      },
      "source": [
        "\n",
        "###» Video to (*H2.64*-AAC)  - Need GPU - Nvidia Telsa P100 or T4"
      ]
    },
    {
      "cell_type": "code",
      "execution_count": null,
      "metadata": {
        "cellView": "form",
        "id": "1rYwnIvK-MFt"
      },
      "outputs": [],
      "source": [
        "#@markdown <h3><b>Full Folder Encode :</h3>\n",
        "#@markdown <i>Put file location and name (include the extension). Convert in the entire directory.</i>\n",
        "\n",
        "import os, sys, re\n",
        "\n",
        "input_folder= '/content/drive/Shareddrives/01. Anime Server/01. Anime/01. TV Show/36. DanMachi/Season 4' #@param {type:\"string\"}\n",
        "output_folder= '/content/VAAPI' #@param {type:\"string\"}\n",
        "#@markdown <h3><b>Hardware Accelerator Setting :</h3>\n",
        "#hwaccel setting\n",
        "VDPAU = 'vdpau'\n",
        "VAAPI = 'vaapi'\n",
        "CUVID = 'cuvid'\n",
        "HardwareAccelerator = VAAPI #@param [\"VDPAU\", \"VAAPI\", \"CUVID\"] {type:\"raw\"}\n",
        "#@markdown <h3><b>Choose your convert setting :</h5>\n",
        "#@markdown <b><i>Output options</i></b>\n",
        "Overwrite_Option = \"Don't Overwrite an Existing File\" #@param [\"Default\", \"Overwrite an Existing File\", \"Don't Overwrite an Existing File\"]\n",
        "Convert_Method = \"With Subtitle\" #@param [\"No Subtitle\", \"With Subtitle\"]\n",
        "#@markdown <b><i>Subtitle options</i></b>\n",
        "NumberOfFirstCharactertoRemove = 0 #@param {type:\"slider\", min:0, max:50}\n",
        "HideSubtitleTrack = True #@param {type:\"boolean\"}\n",
        "SubtitleTrack = 0 #@param {type:\"slider\", min:0, max:10}\n",
        "#@markdown <h3><b>Choose your encode setting :</h5>\n",
        "#@markdown <h><i>main = default | main10 = H264 10 Bit</i>\n",
        "H264 = 'h264_nvenc'\n",
        "HEVC = 'hevc_nvenc'\n",
        "Normal = ''\n",
        "encode_setting = H264 #@param [\"H264\", \"HEVC\", \"Normal\"] {type:\"raw\"}\n",
        "set_profile = \"main\" #@param [\"main\", \"main10\"]\n",
        "input_file_type = \".mkv\" #@param [\".mp4\", \".mov\", \".mkv\", \".avi\", \".ts\", \".flv\", \".webm\", \".wmv\", \".mpg\", \".m4v\", \".f4v\", \".m2ts\", \".mpeg\", \".3gp\", \".MP4\", \".MOV\", \".MKV\", \".AVI\", \".TS\", \".FLV\", \".WEBM\", \".WMV\", \".MPG\", \".M4V\", \".F4V\", \".M2TS\", \".MPEG\", \".3GP\"]\n",
        "my_suffixes = input_file_type\n",
        "output_file_type = \".mp4\" #@param [\".mp4\", \".mov\", \".mkv\", \".avi\", \".ts\", \".flv\", \".webm\", \".wmv\", \".mpg\", \".m4v\", \".f4v\", \".m2ts\", \".mpeg\", \".3gp\", \".MP4\", \".MOV\", \".MKV\", \".AVI\", \".TS\", \".FLV\", \".WEBM\", \".WMV\", \".MPG\", \".M4V\", \".F4V\", \".M2TS\", \".MPEG\", \".3GP\"]\n",
        "#@markdown <h3><b>Video quality :</h3>\n",
        "#@markdown <h><i>0 (Best) to 51 (Worst)</i><h>\n",
        "set_cq = '22'#@param {type:\"string\"}\n",
        "set_qmin = '22'#@param {type:\"string\"}\n",
        "set_qmax = '24'#@param {type:\"string\"}\n",
        "\n",
        "#@markdown <h3><b>Encoding Process :</h3>\n",
        "#@markdown <h><i>Output screen information</i><h>\n",
        "Show = ''\n",
        "Hide = '-v error'\n",
        "Status = Hide #@param [\"Show\", \"Hide\"] {type:\"raw\"}\n",
        "\n",
        "dchara = NumberOfFirstCharactertoRemove\n",
        "fix = len(input_file_type)\n",
        "    \n",
        "from pathlib import Path\n",
        "Path(output_folder).mkdir(parents=True, exist_ok=True)\n",
        "\n",
        "def noSub():\n",
        "  def owdef():\n",
        "    cmd = !ffmpeg {Status} -stats -hwaccel {HardwareAccelerator} -i \"$input_folder/{filename}\" -c:v {encode_setting} -preset:v slow -rc vbr -cq {Set_cq} -qmin {Set_qmin} -qmax {Set_qmax} -b:v 0 -profile:v {set_profile} -init_qpP 23 -init_qpB 25 -init_qpI 21 -c:a copy \"$output_folder/{filename[dchara:-(int(fix))]}{output_file_type}\"\n",
        "  def owyes():   \n",
        "    cmd = !ffmpeg {Status} -stats -hwaccel {HardwareAccelerator} -i \"$input_folder/{filename}\" -c:v {encode_setting} -preset:v slow -rc vbr -cq {Set_cq} -qmin {Set_qmin} -qmax {Set_qmax} -b:v 0 -profile:v {set_profile} -init_qpP 23 -init_qpB 25 -init_qpI 21 -c:a copy \"$output_folder/{filename[dchara:-(int(fix))]}{output_file_type}\" -y\n",
        "  def owno():\n",
        "    cmd = !ffmpeg {Status} -stats -hwaccel {HardwareAccelerator} -i \"$input_folder/{filename}\" -c:v {encode_setting} -preset:v slow -rc vbr -cq {Set_cq} -qmin {Set_qmin} -qmax {Set_qmax} -b:v 0 -profile:v {set_profile} -init_qpP 23 -init_qpB 25 -init_qpI 21 -c:a copy \"$output_folder/{filename[dchara:-(int(fix))]}{output_file_type}\" -n\n",
        "  if Overwrite_Option == \"Default\":\n",
        "    owdef()\n",
        "  if Overwrite_Option == \"Overwrite an Existing File\":\n",
        "    owyes()\n",
        "  if Overwrite_Option == \"Don't Overwrite an Existing File\":\n",
        "    owno()\n",
        "\n",
        "def withSub():\n",
        "  def noSubTrack():\n",
        "    def owdef():\n",
        "      cmd = !ffmpeg {Status} -stats -hwaccel {HardwareAccelerator} -i \"$input_folder/{filename}\" -c:v {encode_setting} -preset:v slow -rc vbr -cq {Set_cq} -qmin {Set_qmin} -qmax {Set_qmax} -b:v 0 -profile:v {set_profile} -init_qpP 23 -init_qpB 25 -init_qpI 21 -c:a copy -filter_complex \"subtitles='$input_folder/{filename}'\" \"$output_folder/{filename[dchara:-(int(fix))]}{output_file_type}\"\n",
        "    def owyes():\n",
        "      cmd = !ffmpeg {Status} -stats -hwaccel {HardwareAccelerator} -i \"$input_folder/{filename}\" -c:v {encode_setting} -preset:v slow -rc vbr -cq {Set_cq} -qmin {Set_qmin} -qmax {Set_qmax} -b:v 0 -profile:v {set_profile} -init_qpP 23 -init_qpB 25 -init_qpI 21 -c:a copy -filter_complex \"subtitles='$input_folder/{filename}'\" \"$output_folder/{filename[dchara:-(int(fix))]}{output_file_type}\" -y\n",
        "    def owno():\n",
        "      cmd = !ffmpeg {Status} -stats -hwaccel {HardwareAccelerator} -i \"$input_folder/{filename}\" -c:v {encode_setting} -preset:v slow -rc vbr -cq {Set_cq} -qmin {Set_qmin} -qmax {Set_qmax} -b:v 0 -profile:v {set_profile} -init_qpP 23 -init_qpB 25 -init_qpI 21 -c:a copy -filter_complex \"subtitles='$input_folder/{filename}'\" \"$output_folder/{filename[dchara:-(int(fix))]}{output_file_type}\" -n\n",
        "    if Overwrite_Option == \"Default\":\n",
        "      owdef()\n",
        "    if Overwrite_Option == \"Overwrite an Existing File\":\n",
        "      owyes()\n",
        "    if Overwrite_Option == \"Don't Overwrite an Existing File\":\n",
        "      owno()\n",
        "  def SubTrack():\n",
        "    def owdef():\n",
        "      cmd = !ffmpeg {Status} -stats -hwaccel {HardwareAccelerator} -i \"$input_folder/{filename}\" -c:v {encode_setting} -preset:v slow -rc vbr -cq {Set_cq} -qmin {Set_qmin} -qmax {Set_qmax} -b:v 0 -profile:v {set_profile} -init_qpP 23 -init_qpB 25 -init_qpI 21 -c:a copy -filter_complex \"subtitles='$input_folder/{filename}:si={SubtitleTrack}'\" \"$output_folder/{filename[dchara:-(int(fix))]}{output_file_type}\"\n",
        "    def owyes():\n",
        "      cmd = !ffmpeg {Status} -stats -hwaccel {HardwareAccelerator} -i \"$input_folder/{filename}\" -c:v {encode_setting} -preset:v slow -rc vbr -cq {Set_cq} -qmin {Set_qmin} -qmax {Set_qmax} -b:v 0 -profile:v {set_profile} -init_qpP 23 -init_qpB 25 -init_qpI 21 -c:a copy -filter_complex \"subtitles='$input_folder/{filename}:si={SubtitleTrack}'\" \"$output_folder/{filename[dchara:-(int(fix))]}{output_file_type}\" -y\n",
        "    def owno():\n",
        "      cmd = !ffmpeg {Status} -stats -hwaccel {HardwareAccelerator} -i \"$input_folder/{filename}\" -c:v {encode_setting} -preset:v slow -rc vbr -cq {Set_cq} -qmin {Set_qmin} -qmax {Set_qmax} -b:v 0 -profile:v {set_profile} -init_qpP 23 -init_qpB 25 -init_qpI 21 -c:a copy -filter_complex \"subtitles='$input_folder/{filename}:si={SubtitleTrack}'\" \"$output_folder/{filename[dchara:-(int(fix))]}{output_file_type}\" -n\n",
        "    if Overwrite_Option == \"Default\":\n",
        "      owdef()\n",
        "    if Overwrite_Option == \"Overwrite an Existing File\":\n",
        "      owyes()\n",
        "    if Overwrite_Option == \"Don't Overwrite an Existing File\":\n",
        "      owno()\n",
        "  if HideSubtitleTrack == True:\n",
        "    noSubTrack()\n",
        "  if HideSubtitleTrack == False:\n",
        "    SubTrack()\n",
        "\n",
        "for filename in os.listdir(input_folder):\n",
        "  if (filename.endswith(my_suffixes)):\n",
        "        if Convert_Method == \"No Subtitle\":\n",
        "          noSub()\n",
        "        if Convert_Method == \"With Subtitle\":\n",
        "          withSub()"
      ]
    },
    {
      "cell_type": "markdown",
      "metadata": {
        "id": "5zC6lWfgBYUu"
      },
      "source": [
        "\n",
        "###» Video to (*HEVC*-AAC)  - Need GPU - Nvidia Telsa P100 or T4"
      ]
    },
    {
      "cell_type": "code",
      "execution_count": null,
      "metadata": {
        "cellView": "form",
        "id": "GBpIDuDdBYU0"
      },
      "outputs": [],
      "source": [
        "#@markdown <h3><b>Full Folder Encode :</h3>\n",
        "\n",
        "import os, sys, re\n",
        "\n",
        "input_folder= '/content/drive/Shareddrives/01. Anime Server/01. Anime/01. TV Show/23. Yofukashi no Uta/Season1' #@param {type:\"string\"}\n",
        "output_folder= '/content/drive/Shareddrives/01. Anime Server/01. Anime/01. TV Show/23. Yofukashi no Uta/Season1/TEST' #@param {type:\"string\"}\n",
        "#@markdown <h3><b>Choose your encode setting :</h5>\n",
        "#@markdown <h><i>main = default | main10 = HEVC 10 Bit</i>\n",
        "encode_setting = \"HEVC (Audio Copy)\" #@param [\"HEVC AAC 160k\", \"HEVC AAC_adtstoasc\", \"HEVC (Audio Copy)\", \"AAC 160k (Video Copy)\"]\n",
        "set_profile = \"main\" #@param [\"main\", \"main10\"]\n",
        "input_file_type = \".mp4\" #@param [\".mp4\", \".mov\", \".mkv\", \".avi\", \".ts\", \".flv\", \".webm\", \".wmv\", \".mpg\", \".m4v\", \".f4v\", \".m2ts\", \".mpeg\", \".3gp\", \".MP4\", \".MOV\", \".MKV\", \".AVI\", \".TS\", \".FLV\", \".WEBM\", \".WMV\", \".MPG\", \".M4V\", \".F4V\", \".M2TS\", \".MPEG\", \".3GP\"]\n",
        "my_suffixes = input_file_type\n",
        "output_file_type = \".mkv\" #@param [\".mp4\", \".mov\", \".mkv\", \".avi\", \".ts\", \".flv\", \".webm\", \".wmv\", \".mpg\", \".m4v\", \".f4v\", \".m2ts\", \".mpeg\", \".3gp\", \".MP4\", \".MOV\", \".MKV\", \".AVI\", \".TS\", \".FLV\", \".WEBM\", \".WMV\", \".MPG\", \".M4V\", \".F4V\", \".M2TS\", \".MPEG\", \".3GP\"]\n",
        "#@markdown <h3><b>Video quality :</h3>\n",
        "#@markdown <h><i>0 (Best) to 51 (Worst)</i><h>\n",
        "set_cq = '18'#@param {type:\"string\"}\n",
        "set_qmin = '18'#@param {type:\"string\"}\n",
        "set_qmax = '20'#@param {type:\"string\"}\n",
        "\n",
        "from pathlib import Path\n",
        "Path(output_folder).mkdir(parents=True, exist_ok=True)\n",
        "\n",
        "if encode_setting == 'HEVC AAC 160k':\n",
        " for filename in os.listdir(input_folder):\n",
        "    if (filename.endswith(my_suffixes)):\n",
        "        cmd = !ffmpeg -v error -stats -hwaccel cuvid -i \"$input_folder/{filename}\" -metadata comment=\"HEVC-CQ$set_cq-AAC\" -c:v hevc_nvenc -preset:v slow -rc vbr -cq {Set_cq} -qmin {Set_qmin} -qmax {Set_qmax} -b:v 0 -profile:v {set_profile} -init_qpP 23 -init_qpB 25 -init_qpI 21 -c:a aac -b:a 160k \"$output_folder/{filename.rpartition('.')[0]}.$output_file_type\"\n",
        "\n",
        "if encode_setting == 'HEVC AAC_adtstoasc':\n",
        " for filename in os.listdir(input_folder):\n",
        "    if (filename.endswith(my_suffixes)):\n",
        "        cmd = !ffmpeg -v error -stats -hwaccel cuvid -i \"$input_folder/{filename}\" -metadata comment=\"HEVC-CQ$set_cq-AAC\" -c:v hevc_nvenc -preset:v slow -rc vbr -cq {Set_cq} -qmin {Set_qmin} -qmax {Set_qmax} -b:v 0 -profile:v {set_profile} -init_qpP 23 -init_qpB 25 -init_qpI 21 -bsf:a aac_adtstoasc \"$output_folder/{filename.rpartition('.')[0]}.$output_file_type\"\n",
        "\n",
        "if encode_setting == 'HEVC (Audio Copy)':\n",
        " for filename in os.listdir(input_folder):\n",
        "    if (filename.endswith(my_suffixes)):\n",
        "        cmd = !ffmpeg -v error -stats -hwaccel cuvid -i \"$input_folder/{filename}\" -metadata comment=\"HEVC-CQ$set_cq-AAC\" -c:v hevc_nvenc -preset:v slow -rc vbr -cq {Set_cq} -qmin {Set_qmin} -qmax {Set_qmax} -b:v 0 -profile:v {set_profile} -init_qpP 23 -init_qpB 25 -init_qpI 21 -c:a copy \"$output_folder/{filename.rpartition('.')[0]}.$output_file_type\"\n",
        "\n",
        "if encode_setting == 'AAC 160k (Video Copy)':\n",
        " for filename in os.listdir(input_folder):\n",
        "    if (filename.endswith(my_suffixes)):\n",
        "        cmd = !ffmpeg -v error -stats -hwaccel cuvid -i \"$input_folder/{filename}\" -metadata comment=\"HEVC-CQ$set_cq-AAC\" -c:v copy -c:a aac -b:a 160k \"$output_folder/{filename.rpartition('.')[0]}.$output_file_type\"\n",
        "                     "
      ]
    },
    {
      "cell_type": "markdown",
      "metadata": {
        "id": "atXNztRIjRK-"
      },
      "source": [
        "\n",
        "###» Video to (*X265*-AAC)  - No GPU"
      ]
    },
    {
      "cell_type": "code",
      "execution_count": null,
      "metadata": {
        "cellView": "form",
        "id": "DTfmIVpGjRK_"
      },
      "outputs": [],
      "source": [
        "#@markdown <h3><b>Full Folder Encode :</h3>\n",
        "\n",
        "import os, sys, re\n",
        "\n",
        "input_folder= '/content/drive/Shareddrives/01. Anime Server/01. Anime/01. TV Show/23. Yofukashi no Uta/Season1/TEST' #@param {type:\"string\"}\n",
        "output_folder= '/content/drive/Shareddrives/01. Anime Server/01. Anime/01. TV Show/23. Yofukashi no Uta/Season1/TEST/ok' #@param {type:\"string\"}\n",
        "#@markdown <h3><b>Choose your encode setting :</h5>\n",
        "#@markdown <h><i>main = default | main10 = HEVC 10 Bit</i>\n",
        "encode_setting = \"X265 (Audio Copy)\" #@param [\"X265 AAC 160k\", \"X265 AAC_adtstoasc\", \"X265 (Audio Copy)\", \"AAC 160k (Video Copy)\"]\n",
        "output_file_type = 'mp4' #@param [\"mkv\", \"mp4\"]\n",
        "#@markdown <h3><b>Video quality :</h3>\n",
        "#@markdown <h><i>0 (Best) to 51 (Worst)</i><h>\n",
        "set_crf ='26'#@param {type:\"string\"}\n",
        "my_suffixes = (\".mp4\", \".mov\", \".mkv\", \".avi\", \".ts\", \".flv\", \".webm\", \".wmv\", \".mpg\", \".m4v\", \".f4v\", \".m2ts\", \".mpeg\", \".3gp\", \".MP4\", \".MOV\", \".MKV\", \".AVI\", \".TS\", \".FLV\", \".WEBM\", \".WMV\", \".MPG\", \".M4V\", \".F4V\", \".M2TS\", \".MPEG\", \".3GP\")\n",
        "\n",
        "from pathlib import Path\n",
        "Path(output_folder).mkdir(parents=True, exist_ok=True)\n",
        "\n",
        "if encode_setting == 'X265 AAC 160k':\n",
        " for filename in os.listdir(input_folder):\n",
        "    if (filename.endswith(my_suffixes)):\n",
        "        cmd = !ffmpeg -v error -stats -i \"$input_folder/{filename}\" -metadata comment=\"X265-CRF$set_crf-AAC\" -c:v libx265 -preset:v slow -crf {set_crf} -c:a aac -b:a 160k \"$output_folder/{filename.rpartition('.')[0]}.$output_file_type\"\n",
        "\n",
        "if encode_setting == 'X265 AAC_adtstoasc':\n",
        " for filename in os.listdir(input_folder):\n",
        "    if (filename.endswith(my_suffixes)):\n",
        "        cmd = !ffmpeg -v error -stats -i \"$input_folder/{filename}\" -metadata comment=\"X265-CRF$set_crf-AAC\" -c:v libx265 -preset:v slow -crf {set_crf} -bsf:a aac_adtstoasc \"$output_folder/{filename.rpartition('.')[0]}.$output_file_type\"\n",
        "\n",
        "if encode_setting == 'X265 (Audio Copy)':\n",
        " for filename in os.listdir(input_folder):\n",
        "    if (filename.endswith(my_suffixes)):\n",
        "        cmd = !ffmpeg -v error -stats -i \"$input_folder/{filename}\" -metadata comment=\"X265-CRF$set_crf-AAC\" -c:v libx265 -preset:v slow -crf {set_crf} -c:a copy \"$output_folder/{filename.rpartition('.')[0]}.$output_file_type\"\n",
        "\n",
        "if encode_setting == 'AAC 160k (Video Copy)':\n",
        " for filename in os.listdir(input_folder):\n",
        "    if (filename.endswith(my_suffixes)):\n",
        "        cmd = !ffmpeg -v error -stats -i \"$input_folder/{filename}\" -metadata comment=\"VideoCopy-AAC\" -c:v copy -c:a aac -b:a 160k \"$output_folder/{filename.rpartition('.')[0]}.$output_file_type\"\n",
        "                     "
      ]
    },
    {
      "cell_type": "markdown",
      "metadata": {
        "id": "Dhxa9v11HVLE"
      },
      "source": [
        "###» Crop Video to (*H2.64*-AAC) - Need GPU - Nvidia Telsa P100 or T4"
      ]
    },
    {
      "cell_type": "code",
      "execution_count": null,
      "metadata": {
        "cellView": "form",
        "id": "soXQY-FPHlhF"
      },
      "outputs": [],
      "source": [
        "#@markdown <h3><b>Full Folder Encode with Crop :</h3>\n",
        "#@markdown <i>Put file location and name (include the extension). Convert in the entire directory.</i>\n",
        "\n",
        "import os, sys, re\n",
        "\n",
        "input_folder= '/content/drive/Shareddrives/01. Anime Server/01. TV Show/24. Kuro no Shoukanshi/Season 1' #@param {type:\"string\"}\n",
        "output_folder= '/content/drive/Shareddrives/01. Anime Server/01. TV Show/24. Kuro no Shoukanshi/Season 1/Streaming Ready/English' #@param {type:\"string\"}\n",
        "#@markdown <h3><b>Choose your convert setting :</h5>\n",
        "#@markdown <h><i>main = default | main10 = H264 10 Bit</i>\n",
        "Overwrite_Option = \"Overwrite an Existing File\" #@param [\"Default\", \"Overwrite an Existing File\", \"Don't Overwrite an Existing File\"]\n",
        "Convert_Method = \"With Subtitle\" #@param [\"No Subtitle\", \"With Subtitle\"]\n",
        "SubtitleTrack = 0 #@param {type:\"slider\", min:0, max:10}\n",
        "NumberOfFirstCharactertoRemove = 0 #@param {type:\"slider\", min:0, max:50}\n",
        "#@markdown <h3><b>Choose your encode setting :</h5>\n",
        "#@markdown <h><i>main = default | main10 = H264 10 Bit</i>\n",
        "set_profile = \"main\" #@param [\"main\", \"main10\"]\n",
        "output_file_type = 'mp4' #@param [\"mkv\", \"mp4\"]\n",
        "#@markdown <h3><b>Video quality :</h3>\n",
        "#@markdown <h><i>0 (Best) to 51 (Worst)</i><h>\n",
        "set_cq = '28'#@param {type:\"string\"}\n",
        "set_qmin = '28'#@param {type:\"string\"}\n",
        "set_qmax = '30'#@param {type:\"string\"}\n",
        "my_suffixes = (\".mp4\", \".mov\", \".mkv\", \".avi\", \".ts\", \".flv\", \".webm\", \".wmv\", \".mpg\", \".m4v\", \".f4v\", \".m2ts\", \".mpeg\", \".3gp\", \".MP4\", \".MOV\", \".MKV\", \".AVI\", \".TS\", \".FLV\", \".WEBM\", \".WMV\", \".MPG\", \".M4V\", \".F4V\", \".M2TS\", \".MPEG\", \".3GP\")\n",
        "#@markdown <h3><b>Crop Settings :</h3>\n",
        "crop_w = '0'#@param {type:\"string\"}\n",
        "crop_h = '0'#@param {type:\"string\"}\n",
        "crop_x = '0'#@param {type:\"string\"}\n",
        "crop_y = '0'#@param {type:\"string\"}\n",
        "\n",
        "dchara = NumberOfFirstCharactertoRemove\n",
        "fix = len(my_suffixes)\n",
        "\n",
        "from pathlib import Path\n",
        "Path(output_folder).mkdir(parents=True, exist_ok=True)\n",
        "\n",
        "def noSub():\n",
        "  def owdef():\n",
        "    cmd = !ffmpeg -v error -stats -hwaccel cuvid -i \"$input_folder/{filename}\" -metadata comment=\"HEVC-CQ$set_cq-AAC\" -c:v h264_nvenc -preset:v slow -rc vbr -cq {Set_cq} -qmin {Set_qmin} -qmax {Set_qmax} -b:v 0 -profile:v {set_profile} -init_qpP 23 -init_qpB 25 -init_qpI 21 -filter:v \"crop=$crop_w:$crop_h:$crop_x:$crop_y\" -c:a copy \"$output_folder/{filename[dchara:-(int(fix))]}{output_file_type}\"\n",
        "  def owyes():\n",
        "    cmd = !ffmpeg -v error -stats -hwaccel cuvid -i \"$input_folder/{filename}\" -metadata comment=\"HEVC-CQ$set_cq-AAC\" -c:v h264_nvenc -preset:v slow -rc vbr -cq {Set_cq} -qmin {Set_qmin} -qmax {Set_qmax} -b:v 0 -profile:v {set_profile} -init_qpP 23 -init_qpB 25 -init_qpI 21 -filter:v \"crop=$crop_w:$crop_h:$crop_x:$crop_y\" -c:a copy \"$output_folder/{filename[dchara:-(int(fix))]}{output_file_type}\" -y\n",
        "  def owno():\n",
        "    cmd = !ffmpeg -v error -stats -hwaccel cuvid -i \"$input_folder/{filename}\" -metadata comment=\"HEVC-CQ$set_cq-AAC\" -c:v h264_nvenc -preset:v slow -rc vbr -cq {Set_cq} -qmin {Set_qmin} -qmax {Set_qmax} -b:v 0 -profile:v {set_profile} -init_qpP 23 -init_qpB 25 -init_qpI 21 -filter:v \"crop=$crop_w:$crop_h:$crop_x:$crop_y\" -c:a copy \"$output_folder/{filename[dchara:-(int(fix))]}{output_file_type}\" -n\n",
        "  if Overwrite_Option == \"Default\":\n",
        "    owdef()\n",
        "  if Overwrite_Option == \"Overwrite an Existing File\":\n",
        "    owyes()\n",
        "  if Overwrite_Option == \"Don't Overwrite an Existing File\":\n",
        "    owno()\n",
        "\n",
        "def withSub():\n",
        "  def owdef():\n",
        "    cmd = !ffmpeg -v error -stats -hwaccel cuvid -i \"$input_folder/{filename}\" -metadata comment=\"HEVC-CQ$set_cq-AAC\" -c:v h264_nvenc -preset:v slow -rc vbr -cq {Set_cq} -qmin {Set_qmin} -qmax {Set_qmax} -b:v 0 -profile:v {set_profile} -init_qpP 23 -init_qpB 25 -init_qpI 21 -filter:v \"crop=$crop_w:$crop_h:$crop_x:$crop_y\" -c:a copy -filter_complex \"subtitles='$input_folder/{filename}:si={SubtitleTrack}'\" \"$output_folder/{filename[dchara:-(int(fix))]}{output_file_type}\"\n",
        "  def owyes():\n",
        "    cmd = !ffmpeg -v error -stats -hwaccel cuvid -i \"$input_folder/{filename}\" -metadata comment=\"HEVC-CQ$set_cq-AAC\" -c:v h264_nvenc -preset:v slow -rc vbr -cq {Set_cq} -qmin {Set_qmin} -qmax {Set_qmax} -b:v 0 -profile:v {set_profile} -init_qpP 23 -init_qpB 25 -init_qpI 21 -filter:v \"crop=$crop_w:$crop_h:$crop_x:$crop_y\" -c:a copy -filter_complex \"subtitles='$input_folder/{filename}:si={SubtitleTrack}'\" \"$output_folder/{filename[dchara:-(int(fix))]}{output_file_type}\" -y\n",
        "  def owno():\n",
        "    cmd = !ffmpeg -v error -stats -hwaccel cuvid -i \"$input_folder/{filename}\" -metadata comment=\"HEVC-CQ$set_cq-AAC\" -c:v h264_nvenc -preset:v slow -rc vbr -cq {Set_cq} -qmin {Set_qmin} -qmax {Set_qmax} -b:v 0 -profile:v {set_profile} -init_qpP 23 -init_qpB 25 -init_qpI 21 -filter:v \"crop=$crop_w:$crop_h:$crop_x:$crop_y\" -c:a copy -filter_complex \"subtitles='$input_folder/{filename}:si={SubtitleTrack}'\" \"$output_folder/{filename[dchara:-(int(fix))]}{output_file_type}\" -n\n",
        "  if Overwrite_Option == \"Default\":\n",
        "    owdef()\n",
        "  if Overwrite_Option == \"Overwrite an Existing File\":\n",
        "    owyes()\n",
        "  if Overwrite_Option == \"Don't Overwrite an Existing File\":\n",
        "    owno()\n",
        "\n",
        "for filename in os.listdir(input_folder):\n",
        "  if (filename.endswith(my_suffixes)):\n",
        "        if Convert_Method == \"No Subtitle\":\n",
        "          noSub()\n",
        "        if Convert_Method == \"With Subtitle\":\n",
        "          withSub()"
      ]
    },
    {
      "cell_type": "markdown",
      "metadata": {
        "id": "yakbThfRnJr1"
      },
      "source": [
        "###» Crop Video to (*HEVC*-AAC) - Need GPU - Nvidia Telsa P100 or T4"
      ]
    },
    {
      "cell_type": "code",
      "execution_count": null,
      "metadata": {
        "cellView": "form",
        "id": "VKehJoo8MCsK"
      },
      "outputs": [],
      "source": [
        "#@markdown <h3><b>Full Folder Encode with Crop :</h3>\n",
        "\n",
        "import os, sys, re\n",
        "\n",
        "input_folder= '/content/drive/My Drive/Videos/' #@param {type:\"string\"}\n",
        "output_folder= '/content/drive/My Drive/Videos/HEVC' #@param {type:\"string\"}\n",
        "#@markdown <h3><b>Choose your encode setting :</h5>\n",
        "#@markdown <h><i>main = default | main10 = HEVC 10 Bit</i>\n",
        "encode_setting = \"HEVC (Audio Copy)\" #@param [\"HEVC AAC 160k\", \"HEVC AAC_adtstoasc\", \"HEVC (Audio Copy)\"]\n",
        "set_profile = \"main\" #@param [\"main\", \"main10\"]\n",
        "output_file_type = 'mp4' #@param [\"mkv\", \"mp4\"]\n",
        "#@markdown <h3><b>Video quality :</h3>\n",
        "#@markdown <h><i>0 (Best) to 51 (Worst)</i><h>\n",
        "set_cq = '28'#@param {type:\"string\"}\n",
        "set_qmin = '28'#@param {type:\"string\"}\n",
        "set_qmax = '30'#@param {type:\"string\"}\n",
        "my_suffixes = (\".mp4\", \".mov\", \".mkv\", \".avi\", \".ts\", \".flv\", \".webm\", \".wmv\", \".mpg\", \".m4v\", \".f4v\", \".m2ts\", \".mpeg\", \".3gp\", \".MP4\", \".MOV\", \".MKV\", \".AVI\", \".TS\", \".FLV\", \".WEBM\", \".WMV\", \".MPG\", \".M4V\", \".F4V\", \".M2TS\", \".MPEG\", \".3GP\")\n",
        "#@markdown <h3><b>Crop Settings :</h3>\n",
        "crop_w = '0'#@param {type:\"string\"}\n",
        "crop_h = '0'#@param {type:\"string\"}\n",
        "crop_x = '0'#@param {type:\"string\"}\n",
        "crop_y = '0'#@param {type:\"string\"}\n",
        "\n",
        "from pathlib import Path\n",
        "Path(output_folder).mkdir(parents=True, exist_ok=True)\n",
        "\n",
        "if encode_setting == 'HEVC AAC 160k':\n",
        " for filename in os.listdir(input_folder):\n",
        "    if (filename.endswith(my_suffixes)):\n",
        "        cmd = !ffmpeg -v quiet -stats -hwaccel cuvid -i \"$input_folder/{filename}\" -metadata comment=\"HEVC-CQ$set_cq-AAC\" -c:v hevc_nvenc -preset:v slow -rc vbr -cq {set_cq} -qmin {set_qmin} -qmax {set_qmax} -b:v 0 -profile:v {set_profile} -init_qpP 23 -init_qpB 25 -init_qpI 21 -filter:v \"crop=$crop_w:$crop_h:$crop_x:$crop_y\" -c:a aac -b:a 160k \"$output_folder/{filename.rpartition('.')[0]}.$output_file_type\"\n",
        "\n",
        "if encode_setting == 'HEVC AAC_adtstoasc':\n",
        " for filename in os.listdir(input_folder):\n",
        "    if (filename.endswith(my_suffixes)):\n",
        "        cmd = !ffmpeg -v quiet -stats -hwaccel cuvid -i \"$input_folder/{filename}\" -metadata comment=\"HEVC-CQ$set_cq-AAC\" -c:v hevc_nvenc -preset:v slow -rc vbr -cq {set_cq} -qmin {set_qmin} -qmax {set_qmax} -b:v 0 -profile:v {set_profile} -init_qpP 23 -init_qpB 25 -init_qpI 21 -filter:v \"crop=$crop_w:$crop_h:$crop_x:$crop_y\" -bsf:a aac_adtstoasc \"$output_folder/{filename.rpartition('.')[0]}.$output_file_type\"\n",
        "\n",
        "if encode_setting == 'HEVC (Audio Copy)':\n",
        " for filename in os.listdir(input_folder):\n",
        "    if (filename.endswith(my_suffixes)):\n",
        "        cmd = !ffmpeg -v quiet -stats -hwaccel cuvid -i \"$input_folder/{filename}\" -metadata comment=\"HEVC-CQ$set_cq-AAC\" -c:v hevc_nvenc -preset:v slow -rc vbr -cq {set_cq} -qmin {set_qmin} -qmax {set_qmax} -b:v 0 -profile:v {set_profile} -init_qpP 23 -init_qpB 25 -init_qpI 21 -filter:v \"crop=$crop_w:$crop_h:$crop_x:$crop_y\" -c:a copy \"$output_folder/{filename.rpartition('.')[0]}.$output_file_type\"\n",
        "                     "
      ]
    },
    {
      "cell_type": "markdown",
      "metadata": {
        "id": "RDHuIkoi6l9a"
      },
      "source": [
        "###» Display Media File Codecs + Metadata"
      ]
    },
    {
      "cell_type": "code",
      "execution_count": null,
      "metadata": {
        "cellView": "form",
        "id": "Sv8au_RO6WUs"
      },
      "outputs": [],
      "source": [
        "import os, sys, re\n",
        "\n",
        "media_file_path = \"\" #@param {type:\"string\"}\n",
        "\n",
        "os.environ['inputFile'] = media_file_path\n",
        "\n",
        "!ffmpeg -i \"$inputFile\" -hide_banner"
      ]
    },
    {
      "cell_type": "markdown",
      "metadata": {
        "id": "X4yIG_nqYAoH"
      },
      "source": [
        "> *You can ignore the \"At least one output file must be specified\" error after running this.*\n"
      ]
    },
    {
      "cell_type": "markdown",
      "metadata": {
        "id": "GahMjYf8miNs"
      },
      "source": [
        "###» Generate Thumbnails - Preview from Video "
      ]
    },
    {
      "cell_type": "code",
      "execution_count": null,
      "metadata": {
        "cellView": "form",
        "id": "J2u-Rha8miNy"
      },
      "outputs": [],
      "source": [
        "#@markdown <h3>← Click Here to generate thumbnail for selected video</h3>\n",
        "\n",
        "\n",
        "import os, sys, re\n",
        "from IPython.display import Image, display\n",
        "os.makedirs(\"/content/drive/My Drive/Thumbnail\", exist_ok=True)\n",
        "\n",
        "video_file_path = \"\" #@param {type:\"string\"}\n",
        "output_file_type = 'png' #@param [\"png\", \"jpg\"]\n",
        "creation_engine = 'vcsi' #@param [\"ffmpeg\", \"vcsi\"]\n",
        "output_path = 'same folder' #@param [\"same folder\", \"My Drive/Thumbnail\"]\n",
        "\n",
        "output_file_path = re.search(\"^[\\/].+\\/\", video_file_path)\n",
        "output_file_path_raw = output_file_path.group(0)\n",
        "delsplit = re.search(\"\\/(?:.(?!\\/))+$\", video_file_path)\n",
        "filename = re.sub(\"^[\\/]\", \"\", delsplit.group(0))\n",
        "filename_raw = re.sub(\".{4}$\", \"\", filename)\n",
        "file_extension = re.search(\".{3}$\", filename)\n",
        "file_extension_raw = file_extension.group(0)\n",
        "\n",
        "os.environ['inputFile'] = video_file_path\n",
        "os.environ['outputPath'] = output_file_path_raw\n",
        "os.environ['outputExtension'] = output_file_type\n",
        "os.environ['fileName'] = filename_raw\n",
        "os.environ['fileExtension'] = file_extension_raw\n",
        "\n",
        "if output_path == \"same folder\":\n",
        "  if creation_engine == 'ffmpeg':\n",
        "   !ffmpeg -hide_banner -i \"$inputFile\" -vframes 1 -q:v 0 -vf \"select=not(mod(n\\,200)),scale=-1:480,tile=3x2\" -an \"$outputPath\"/\"$fileName\"_thumbnails.\"$outputExtension\"\n",
        "\n",
        "if output_path == \"same folder\":\n",
        "  if creation_engine == 'vcsi':\n",
        "   !vcsi   \"$inputFile\" -o \"$outputPath\"/\"$fileName\"_thumbnails.\"$outputExtension\"\n",
        "\n",
        "if not output_path == \"same folder\":\n",
        "   !vcsi   \"$inputFile\" -o \"/content/drive/My Drive/Thumbnail\"/\"$fileName\"_thumbnails.\"$outputExtension\"\n"
      ]
    },
    {
      "cell_type": "code",
      "execution_count": null,
      "metadata": {
        "cellView": "form",
        "id": "7KnkVIMRztKl"
      },
      "outputs": [],
      "source": [
        "#@markdown <h3>← Click Here to generate thumbnail for all video in input folder path</h3>\n",
        "\n",
        "import os, sys, re\n",
        "from IPython.display import Image, display\n",
        "os.makedirs(\"/content/drive/My Drive/Thumbnail\", exist_ok=True)\n",
        "\n",
        "video_files_path = \"\" #@param {type:\"string\"}\n",
        "output_path = 'same folder' #@param [\"same folder\", \"My Drive/Thumbnail\"]\n",
        "grid = 'default' #@param [\"default\", \"5x5\", \"7x7\", \"10x10\"]\n",
        "\n",
        "output_file_type = 'png' #@param [\"png\", \"jpg\"]\n",
        "timestamp = False #@param {type:\"boolean\"}\n",
        "\n",
        "if timestamp == False:\n",
        " if grid == 'default':\n",
        "  if output_path == \"same folder\":\n",
        "   !vcsi  \"$video_files_path\" -o \"$video_files_path\" -f \"$output_file_type\"\n",
        "\n",
        "  if not output_path == \"same folder\":\n",
        "   !vcsi   \"$video_files_path\" -o \"/content/drive/My Drive/Thumbnail/\" -f \"$output_file_type\"\n",
        "\n",
        " if grid == '5x5':\n",
        "  if output_path == \"same folder\":\n",
        "   !vcsi -g 5x5   \"$video_files_path\" -o \"$video_files_path\" -f \"$output_file_type\"\n",
        "\n",
        "  if not output_path == \"same folder\":\n",
        "   !vcsi -g 5x5   \"$video_files_path\" -o \"/content/drive/My Drive/Thumbnail/\" -f \"$output_file_type\"\n",
        "\n",
        " if grid == '7x7':\n",
        "  if output_path == \"same folder\":\n",
        "   !vcsi -g 7x7   \"$video_files_path\" -o \"$video_files_path\" -f \"$output_file_type\"\n",
        "\n",
        "  if not output_path == \"same folder\":\n",
        "   !vcsi -g 7x7   \"$video_files_path\" -o \"/content/drive/My Drive/Thumbnail/\" -f \"$output_file_type\"\n",
        "\n",
        " if grid == '10x10':\n",
        "  if output_path == \"same folder\":\n",
        "   !vcsi -g 10x10   \"$video_files_path\" -o \"$video_files_path\" -f \"$output_file_type\"\n",
        "\n",
        "  if not output_path == \"same folder\":\n",
        "   !vcsi -g 10x10   \"$video_files_path\" -o \"/content/drive/My Drive/Thumbnail/\" -f \"$output_file_type\"\n",
        "\n",
        "else:\n",
        " if grid == 'default':\n",
        "  if output_path == \"same folder\":\n",
        "   !vcsi  -t \"$video_files_path\" -o \"$video_files_path\" -f \"$output_file_type\"\n",
        "\n",
        "  if not output_path == \"same folder\":\n",
        "   !vcsi  -t \"$video_files_path\" -o \"/content/drive/My Drive/Thumbnail/\" -f \"$output_file_type\"\n",
        "\n",
        " if grid == '5x5':\n",
        "  if output_path == \"same folder\":\n",
        "   !vcsi -t -g 5x5   \"$video_files_path\" -o \"$video_files_path\" -f \"$output_file_type\"\n",
        "\n",
        "  if not output_path == \"same folder\":\n",
        "   !vcsi -t -g 5x5   \"$video_files_path\" -o \"/content/drive/My Drive/Thumbnail/\" -f \"$output_file_type\"\n",
        "\n",
        " if grid == '7x7':\n",
        "  if output_path == \"same folder\":\n",
        "   !vcsi -t -g 7x7   \"$video_files_path\" -o \"$video_files_path\" -f \"$output_file_type\"\n",
        "\n",
        "  if not output_path == \"same folder\":\n",
        "   !vcsi -t -g 7x7   \"$video_files_path\" -o \"/content/drive/My Drive/Thumbnail/\" -f \"$output_file_type\"\n",
        "\n",
        " if grid == '10x10':\n",
        "  if output_path == \"same folder\":\n",
        "   !vcsi -t -g 10x10   \"$video_files_path\" -o \"$video_files_path\" -f \"$output_file_type\"\n",
        "\n",
        "  if not output_path == \"same folder\":\n",
        "   !vcsi -t -g 10x10   \"$video_files_path\" -o \"/content/drive/My Drive/Thumbnail/\" -f \"$output_file_type\"\n",
        "\n",
        " \n",
        "\n"
      ]
    },
    {
      "cell_type": "markdown",
      "metadata": {
        "id": "NqB2mnt78bxA"
      },
      "source": [
        "##### This will create a 3x2 layout in the same directory as your video file.\n",
        "* [*Example*](https://yuju.pw/y/39i2.png) *of output image*"
      ]
    },
    {
      "cell_type": "markdown",
      "metadata": {
        "id": "Cqy3vXXOMI06"
      },
      "source": [
        "# ✦ *Colab Still Alive Console Script:*\n",
        "<p><font size=2px ><font color=\"red\"> Tip - Set a javascript interval to click on the connect button every 60 seconds. Open developer-settings (in your web-browser) with Ctrl+Shift+I then click on console tab and type this on the console prompt. (for mac press Option+Command+I)</font></p><b>Copy script in hidden cell and paste at your browser console !!! DO NOT CLOSE YOUR BROWSER IN ORDER TO STILL RUNNING SCRIPT</b>"
      ]
    },
    {
      "cell_type": "markdown",
      "metadata": {
        "id": "3Z8cK8h2Avbv"
      },
      "source": [
        "<code>function ClickConnect(){\n",
        "console.log(\"Working\"); \n",
        "document.querySelector(\"colab-connect-button\").click() \n",
        "}setInterval(ClickConnect,6000)</code>"
      ]
    },
    {
      "cell_type": "code",
      "execution_count": null,
      "metadata": {
        "cellView": "form",
        "id": "OH3xVkwWmPYL"
      },
      "outputs": [],
      "source": [
        "#@title ← ឵឵ ឵Run this cell to crash your current Runtime if you're low on memory\n",
        "#@markdown <i>After crashing, you'll have access to all the preoccupied storage</i>\n",
        "some_str = ' ' * 5120000000000"
      ]
    }
  ],
  "metadata": {
    "accelerator": "GPU",
    "colab": {
      "collapsed_sections": [
        "YRPaM-FhRIXi",
        "q1sU6MPix0Ss",
        "OqZGpm3nsklj",
        "vTuA4jTT2C9n",
        "bhlz0txI2NB1",
        "7udpK9Qe-NUQ",
        "5zC6lWfgBYUu",
        "atXNztRIjRK-",
        "Dhxa9v11HVLE",
        "yakbThfRnJr1",
        "RDHuIkoi6l9a",
        "GahMjYf8miNs"
      ],
      "machine_shape": "hm",
      "name": "MyFFmpeg.ipynb",
      "provenance": [],
      "include_colab_link": true
    },
    "gpuClass": "standard",
    "kernelspec": {
      "display_name": "Python 3",
      "name": "python3"
    }
  },
  "nbformat": 4,
  "nbformat_minor": 0
}