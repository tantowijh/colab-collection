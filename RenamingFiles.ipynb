{
  "nbformat": 4,
  "nbformat_minor": 0,
  "metadata": {
    "colab": {
      "name": "RenamingFiles.ipynb",
      "provenance": [],
      "collapsed_sections": [
        "eev3EcLEiK1y"
      ],
      "authorship_tag": "ABX9TyOMoreSP+NefgU52UfAfg1m",
      "include_colab_link": true
    },
    "kernelspec": {
      "name": "python3",
      "display_name": "Python 3"
    },
    "language_info": {
      "name": "python"
    }
  },
  "cells": [
    {
      "cell_type": "markdown",
      "metadata": {
        "id": "view-in-github",
        "colab_type": "text"
      },
      "source": [
        "<a href=\"https://colab.research.google.com/github/tantowijh/colab-collection/blob/main/RenamingFiles.ipynb\" target=\"_parent\"><img src=\"https://colab.research.google.com/assets/colab-badge.svg\" alt=\"Open In Colab\"/></a>"
      ]
    },
    {
      "cell_type": "markdown",
      "source": [
        "### **File Renaming**\n",
        "\n",
        "---\n",
        "\n"
      ],
      "metadata": {
        "id": "bI7agd8ki4Rr"
      }
    },
    {
      "cell_type": "markdown",
      "source": [
        "## **Mount Google Drive**\n",
        "Run the following command to mount google drive:"
      ],
      "metadata": {
        "id": "eev3EcLEiK1y"
      }
    },
    {
      "cell_type": "code",
      "metadata": {
        "id": "PRtU5F7HEuhR",
        "cellView": "form",
        "colab": {
          "base_uri": "https://localhost:8080/"
        },
        "outputId": "adc41989-9ef2-46bc-b73a-d157b18c38bc"
      },
      "source": [
        "#@title **[0] Link your Google Drive**\n",
        "#@markdown <center><img src='https://upload.wikimedia.org/wikipedia/commons/thumb/d/da/Google_Drive_logo.png/600px-Google_Drive_logo.png' height=\"50\" alt=\"Gdrive-logo\"/></center>\n",
        "from google.colab import drive\n",
        "drive.mount('/content/drive', force_remount=True)"
      ],
      "execution_count": 1,
      "outputs": [
        {
          "output_type": "stream",
          "name": "stdout",
          "text": [
            "Mounted at /content/drive\n"
          ]
        }
      ]
    },
    {
      "cell_type": "code",
      "metadata": {
        "id": "w0EIfFJWXkTc",
        "cellView": "form"
      },
      "source": [
        "#@title **[1] Run this code if you want a longer run time (Optional but recommended)</font>**\n",
        "#@markdown *This cell runs a JS code that automatically reconnects you to avoid inactivity due to idle.*\n",
        "\n",
        "import IPython\n",
        "from IPython.display import clear_output\n",
        "from google.colab import output\n",
        "\n",
        "display(IPython.display.Javascript('''\n",
        " function connectRefresher() {\n",
        "       window.ConnectButtonIntervalId = setInterval(function ConnectButton(){\n",
        "                console.log(\"connected\"); \n",
        "                document.querySelector(\"#top-toolbar > colab-connect-button\").shadowRoot.querySelector(\"#connect\").click();\n",
        "                document.querySelector(\"colab-sessions-dialog\").shadowRoot.querySelector(\"#footer > div > paper-button\").click();\n",
        "                console.log(\"closed the dialog!!\"); \n",
        "            },60000);\n",
        "    }\n",
        "    \n",
        " function clearRefresher() { \n",
        "           console.log(\"clear Interval called !!\");\n",
        "           clearInterval(window.ConnectButtonIntervalId);\n",
        "    }\n",
        "\n",
        " connectRefresher(); //to connect the refresher\n",
        " clearRefresher(); //to disconnect the refresher\n",
        "'''))\n",
        "\n",
        "clear_output()"
      ],
      "execution_count": 2,
      "outputs": []
    },
    {
      "cell_type": "markdown",
      "source": [
        "## **Renaming File**\n",
        "Run the following command to start rename a file, or whole file in directory:"
      ],
      "metadata": {
        "id": "LOYPODFRjAM-"
      }
    },
    {
      "cell_type": "code",
      "source": [
        "#@title **Renaming File**\n",
        "import os\n",
        "import signal\n",
        "import sys\n",
        "\n",
        "def sigint_handler(signal, frame):\n",
        "    print ('KeyboardInterrupt is caught')\n",
        "    sys.exit(0)\n",
        "signal.signal(signal.SIGINT, sigint_handler)\n",
        "\n",
        "InputLocation = \"/content/drive/Shareddrives/01. Anime Server/04. Anime China/War God System!\" #@param {type:\"string\"}\n",
        "\n",
        "Text2Replace  = \" \" #@param {type:\"string\"}\n",
        "ReplacementText   = \"_\" #@param {type:\"string\"}\n",
        "\n",
        "FileType = \"mkv\" #@param [\"Write it yourself...\", \"mp4\", \"mkv\", \"png\", \"jpg\", \"jpeg\", \"ass\"]\n",
        "if FileType == \"Write it yourself...\":\n",
        "  ftype = input('Enter the file type to rename: ') \n",
        "  Extension = '.' + ftype\n",
        "else:\n",
        "  Extension = '.' + FileType\n",
        "\n",
        "PutLabel = False #@param {type:\"boolean\"}\n",
        "Label = \"\" #@param {type:\"string\"} \n",
        "\n",
        "fix = len(Extension)\n",
        "#-(int(fix))\n",
        "\n",
        "# Renaming the file\n",
        "\n",
        "def RenameMe():\n",
        "  for count, filename in enumerate(os.listdir(InputLocation)):\n",
        "    if(filename.endswith(Extension)):\n",
        "          src =f\"{InputLocation}/{filename}\"  # foldername/filename, if .py file is outside folder\n",
        "          cuk =f\"{filename}\"\n",
        "          fname = cuk.replace(Text2Replace, ReplacementText)\n",
        "          dst =f\"{InputLocation}/{fname}\"\n",
        "          \n",
        "          # rename() function will\n",
        "          # rename all the files with the pre defined extension\n",
        "          os.rename(src, dst)\n",
        "\n",
        "\n",
        "def LabelMe():\n",
        "  for count, filename in enumerate(os.listdir(InputLocation)):\n",
        "    if(filename.endswith(Extension)):\n",
        "          src =f\"{InputLocation}/{filename}\"  # foldername/filename, if .py file is outside folder\n",
        "          dst =f\"{InputLocation}/{Label} {filename}\"\n",
        "          \n",
        "          # rename() function will\n",
        "          # rename all the files with the pre defined extension\n",
        "          os.rename(src, dst)\n",
        "\n",
        "if PutLabel == False:\n",
        "  RenameMe()\n",
        "else:\n",
        "  LabelMe()"
      ],
      "metadata": {
        "cellView": "form",
        "id": "Tz_ayL911PuB"
      },
      "execution_count": 4,
      "outputs": []
    },
    {
      "cell_type": "code",
      "source": [
        "#@title **Renaming File Option 2**\n",
        "import os\n",
        "import signal\n",
        "import sys\n",
        "\n",
        "def sigint_handler(signal, frame):\n",
        "    print ('KeyboardInterrupt is caught')\n",
        "    sys.exit(0)\n",
        "signal.signal(signal.SIGINT, sigint_handler)\n",
        "\n",
        "InputLocation = \"/content/drive/Shareddrives/01. Anime Server/04. Anime China/War God System!\" #@param {type:\"string\"}\n",
        "\n",
        "FileType = \"mkv\" #@param [\"Write it yourself...\", \"mp4\", \"mkv\", \"png\", \"jpg\", \"jpeg\", \"ass\"]\n",
        "if FileType == \"Write it yourself...\":\n",
        "  ftype = input('Enter the file type to rename: ') \n",
        "  Extension = '.' + ftype\n",
        "else:\n",
        "  Extension = '.' + FileType\n",
        "\n",
        "PutLabel = False #@param {type:\"boolean\"}\n",
        "\n",
        "fix = len(Extension)\n",
        "#-(int(fix))\n",
        "\n",
        "# Renaming the file\n",
        "\n",
        "def RenameMe():\n",
        "  Text2Replace  = input('Enter the text to replace: ')\n",
        "  ReplaceText   = input('Enter the replacement text: ')\n",
        "  for count, filename in enumerate(os.listdir(InputLocation)):\n",
        "    if(filename.endswith(Extension)):\n",
        "          src =f\"{InputLocation}/{filename}\"  # foldername/filename, if .py file is outside folder\n",
        "          cuk =f\"{filename}\"\n",
        "          fname = cuk.replace(Text2Replace, ReplaceText)\n",
        "          dst =f\"{InputLocation}/{fname}\"\n",
        "          \n",
        "          # rename() function will\n",
        "          # rename all the files with the pre defined extension\n",
        "          os.rename(src, dst)\n",
        "\n",
        "\n",
        "def LabelMe():\n",
        "  Label = input('Enter the labeling name: ')\n",
        "  for count, filename in enumerate(os.listdir(InputLocation)):\n",
        "    if(filename.endswith(Extension)):\n",
        "          src =f\"{InputLocation}/{filename}\"  # foldername/filename, if .py file is outside folder\n",
        "          dst =f\"{InputLocation}/{Label} {filename}\"\n",
        "          \n",
        "          # rename() function will\n",
        "          # rename all the files with the pre defined extension\n",
        "          os.rename(src, dst)\n",
        "\n",
        "if PutLabel == False:\n",
        "  RenameMe()\n",
        "else:\n",
        "  LabelMe()"
      ],
      "metadata": {
        "cellView": "form",
        "id": "gDG_ST_Yqbnb"
      },
      "execution_count": null,
      "outputs": []
    }
  ]
}