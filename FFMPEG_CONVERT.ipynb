{
  "nbformat": 4,
  "nbformat_minor": 0,
  "metadata": {
    "colab": {
      "name": "FFMPEG CONVERT.ipynb",
      "provenance": [],
      "collapsed_sections": [
        "YRPaM-FhRIXi",
        "jL2IbHXBsMZo",
        "OqZGpm3nsklj",
        "pF3cV3IGs1dC",
        "vTuA4jTT2C9n",
        "bhlz0txI2NB1",
        "F74A1amU2qYl",
        "7udpK9Qe-NUQ",
        "5zC6lWfgBYUu",
        "atXNztRIjRK-",
        "Dhxa9v11HVLE",
        "yakbThfRnJr1",
        "RDHuIkoi6l9a",
        "GahMjYf8miNs",
        "Cqy3vXXOMI06"
      ],
      "machine_shape": "hm",
      "include_colab_link": true
    },
    "kernelspec": {
      "name": "python3",
      "display_name": "Python 3"
    },
    "accelerator": "GPU",
    "gpuClass": "standard"
  },
  "cells": [
    {
      "cell_type": "markdown",
      "metadata": {
        "id": "view-in-github",
        "colab_type": "text"
      },
      "source": [
        "<a href=\"https://colab.research.google.com/github/tantowijh/colab-collection/blob/main/FFMPEG_CONVERT.ipynb\" target=\"_parent\"><img src=\"https://colab.research.google.com/assets/colab-badge.svg\" alt=\"Open In Colab\"/></a>"
      ]
    },
    {
      "cell_type": "markdown",
      "metadata": {
        "id": "YRPaM-FhRIXi"
      },
      "source": [
        "# <img src=\"https://upload.wikimedia.org/wikipedia/commons/thumb/d/da/Google_Drive_logo.png/600px-Google_Drive_logo.png\" height=30px>      ___Mount / Unmount Gdrive!___"
      ]
    },
    {
      "cell_type": "code",
      "metadata": {
        "cellView": "form",
        "id": "U2avD1zRIlWA",
        "outputId": "07392e99-b387-4293-a54a-129983116762",
        "colab": {
          "base_uri": "https://localhost:8080/"
        }
      },
      "source": [
        "#@markdown <br><center><img src='https://upload.wikimedia.org/wikipedia/commons/thumb/d/da/Google_Drive_logo.png/600px-Google_Drive_logo.png' height=\"50\" alt=\"Gdrive logo\"/></center>\n",
        "#@markdown <center><h3>Mount Gdrive to /content/drive</h3></center><br>\n",
        "MODE = \"MOUNT\" #@param [\"MOUNT\", \"UNMOUNT\"]\n",
        "#Mount your Gdrive! \n",
        "from google.colab import drive\n",
        "drive.mount._DEBUG = False\n",
        "if MODE == \"MOUNT\":\n",
        "  drive.mount('/content/drive', force_remount=True)\n",
        "elif MODE == \"UNMOUNT\":\n",
        "  try:\n",
        "    drive.flush_and_unmount()\n",
        "  except ValueError:\n",
        "    pass\n",
        "  get_ipython().system_raw(\"rm -rf /root/.config/Google/DriveFS\")"
      ],
      "execution_count": null,
      "outputs": [
        {
          "output_type": "stream",
          "name": "stdout",
          "text": [
            "Mounted at /content/drive\n"
          ]
        }
      ]
    },
    {
      "cell_type": "code",
      "source": [
        "#@title **Runtime Prolonger**\n",
        "#@markdown *This cell runs a JS code that automatically reconnects you to avoid inactivity due to idle.*\n",
        "\n",
        "import IPython\n",
        "from IPython.display import clear_output\n",
        "from google.colab import output\n",
        "\n",
        "display(IPython.display.Javascript('''\n",
        " function connectRefresher() {\n",
        "       window.ConnectButtonIntervalId = setInterval(function ConnectButton(){\n",
        "                console.log(\"connected\"); \n",
        "                document.querySelector(\"#top-toolbar > colab-connect-button\").shadowRoot.querySelector(\"#connect\").click();\n",
        "                document.querySelector(\"colab-sessions-dialog\").shadowRoot.querySelector(\"#footer > div > paper-button\").click();\n",
        "                console.log(\"closed the dialog!!\"); \n",
        "            },60000);\n",
        "    }\n",
        "    \n",
        " function clearRefresher() { \n",
        "           console.log(\"clear Interval called !!\");\n",
        "           clearInterval(window.ConnectButtonIntervalId);\n",
        "    }\n",
        "\n",
        " connectRefresher(); //to connect the refresher\n",
        " clearRefresher(); //to disconnect the refresher\n",
        "'''))\n",
        "\n",
        "clear_output()"
      ],
      "metadata": {
        "cellView": "form",
        "id": "VZwLzwyJJqrL"
      },
      "execution_count": null,
      "outputs": []
    },
    {
      "cell_type": "code",
      "source": [
        "#@title **Font Installer**\n",
        "#@markdown *This cell runs a code that automatically add your custom-fonts. Please add your custom-fonts folder path location here!*\n",
        "\n",
        "Fonts_Location = \"/content/drive/Shareddrives/01. Anime Server/02. Subtitle/Fonts\" #@param {type:\"string\"}\n",
        "Fonts_Destination = \"/usr/share/fonts/truetype\"\n",
        "%cd '{Fonts_Location}'\n",
        "!sudo cp -v -r *.* '{Fonts_Destination}'\n",
        "\n",
        "import IPython\n",
        "from IPython.display import clear_output\n",
        "from google.colab import output\n",
        "\n",
        "%cd '/content'\n",
        "\n",
        "clear_output()"
      ],
      "metadata": {
        "cellView": "form",
        "id": "GX_LgVAwJrw9"
      },
      "execution_count": null,
      "outputs": []
    },
    {
      "cell_type": "code",
      "source": [
        "#@title **Google Fonts**\n",
        "#@markdown *This cell runs a code that automatically install entire google-fonts library!*\n",
        "\n",
        "import IPython\n",
        "from IPython.display import clear_output\n",
        "from google.colab import output\n",
        "\n",
        "!git clone https://github.com/google/fonts.git\n",
        "%mv /content/fonts/ofl/* /usr/share/fonts/truetype\n",
        "%cd /content\n",
        "%rm -rf \"fonts\"\n",
        "\n",
        "clear_output()"
      ],
      "metadata": {
        "cellView": "form",
        "id": "UNP9uUw6JxfF"
      },
      "execution_count": null,
      "outputs": []
    },
    {
      "cell_type": "markdown",
      "metadata": {
        "id": "ercDPZ6CIlVz"
      },
      "source": [
        "# <img src='https://www.vozidea.com/wp-content/uploads/2018/05/ffmpeg-logo-grande.png ' height=\"57\" alt=\"RcloneLab\"/>"
      ]
    },
    {
      "cell_type": "code",
      "metadata": {
        "id": "G3JHGE0Jtzme",
        "cellView": "form",
        "outputId": "e93398d8-7b04-40cc-f3f6-788acfe8c966",
        "colab": {
          "base_uri": "https://localhost:8080/"
        }
      },
      "source": [
        "#@markdown <h3>⬅️ Click Here to Install FFmpeg, VCSI & Mkvtoolnix</h3>\n",
        "\n",
        "!apt install ffmpeg\n",
        "!sudo apt-get install mkvtoolnix \n",
        "!pip install vcsi\n",
        "\n",
        "\n",
        "from IPython.display import HTML, clear_output\n",
        "clear_output()\n",
        "print(\"Server Started Successfully\")"
      ],
      "execution_count": null,
      "outputs": [
        {
          "output_type": "stream",
          "name": "stdout",
          "text": [
            "Server Started Successfully\n"
          ]
        }
      ]
    },
    {
      "cell_type": "code",
      "metadata": {
        "cellView": "form",
        "id": "CfhZw9ptquNA",
        "outputId": "8fb44cd9-2add-49b6-94a1-24bf7929adb3",
        "colab": {
          "base_uri": "https://localhost:8080/"
        }
      },
      "source": [
        "#@markdown <h3>⬅️ Click Here to Check GPU</h3>\n",
        "!nvidia-smi -L"
      ],
      "execution_count": null,
      "outputs": [
        {
          "output_type": "stream",
          "name": "stdout",
          "text": [
            "GPU 0: Tesla T4 (UUID: GPU-32d1ded6-19c1-2974-7bfc-05e4c9d0d4cd)\n"
          ]
        }
      ]
    },
    {
      "cell_type": "markdown",
      "source": [
        "\n",
        "###» **Video to (*H264*-AAC 224K)  - Need GPU - Nvidia Telsa P100 or T4**"
      ],
      "metadata": {
        "id": "jL2IbHXBsMZo"
      }
    },
    {
      "cell_type": "markdown",
      "source": [
        "####» Single Video Encoder"
      ],
      "metadata": {
        "id": "OqZGpm3nsklj"
      }
    },
    {
      "cell_type": "code",
      "source": [
        "#@markdown <h3><b>Single File Encode :</h3>\n",
        "#@markdown <i>Put file name (include the extension). Convert single video in directory.</i>\n",
        "\n",
        "import os, sys, re\n",
        "\n",
        "InputName = '/content/drive/Shareddrives/01. Anime Server/01. Anime/01. TV Show/36. DanMachi/Season 4/[LENDRIVE]_DanMachi_S4_-_01_[1080p_HEVC][Dualsubs]_v2.mkv' #@param {type:\"string\"}\n",
        "OutputName = '/content/danmaaaach' #@param {type:\"string\"}\n",
        "OutputFormat = \".mp4\" #@param [\".mp4\", \".mov\", \".mkv\", \".avi\", \".ts\", \".flv\", \".webm\", \".wmv\", \".mpg\", \".m4v\", \".f4v\", \".m2ts\", \".mpeg\", \".3gp\", \".MP4\", \".MOV\", \".MKV\", \".AVI\", \".TS\", \".FLV\", \".WEBM\", \".WMV\", \".MPG\", \".M4V\", \".F4V\", \".M2TS\", \".MPEG\", \".3GP\"]\n",
        "\n",
        "#@markdown <b><i>Subtitle Options.</i></b>\n",
        "BurnIn = True #@param {type:\"boolean\"}\n",
        "SubtitleTrack = False #@param {type:\"boolean\"}\n",
        "TrackNumber = 1 #@param {type:\"slider\", min:0, max:10, step:1}\n",
        "\n",
        "#@markdown <h3><b>Video Quality :</h3>\n",
        "#@markdown <h><i>Between 0 [Best] to 51 [Worst]</i><h>\n",
        "Set_cq = '23'#@param {type:\"string\"}\n",
        "Set_qmin = '2'#@param {type:\"string\"}\n",
        "Set_qmax = '31'#@param {type:\"string\"}\n",
        "\n",
        "#!ffmpeg -hwaccel cuvid -i '{InputName}' -c:v h264_nvenc -pix_fmt yuv420p -preset slow -rc vbr_hq -b:v 8M -maxrate:v 10M -c:a aac -b:a 224k '{OutputName}'$OutputFormat\n",
        "\n",
        "def noSubtitle():\n",
        "  cmd = !ffmpeg -y -hwaccel cuvid -i '{InputName}' -c:v h264_nvenc -pix_fmt yuv420p -preset slow -rc vbr_hq -cq $Set_cq -qmin $Set_qmin -qmax $Set_qmax -b:v 8M -maxrate:v 10M -c:a aac -b:a 224k '{OutputName}'$OutputFormat\n",
        "def burnSubtitle():\n",
        "  def noTrack():\n",
        "    cmd = !ffmpeg -y -hwaccel cuvid -i '{InputName}' -c:v h264_nvenc -pix_fmt yuv420p -preset slow -rc vbr_hq -cq $Set_cq -qmin $Set_qmin -qmax $Set_qmax -b:v 8M -maxrate:v 10M -c:a aac -b:a 224k -filter_complex \"subtitles='{InputName}'\" '{OutputName}'$OutputFormat\n",
        "  def siTrack():\n",
        "    cmd = !ffmpeg -y -hwaccel cuvid -i '{InputName}' -c:v h264_nvenc -pix_fmt yuv420p -preset slow -rc vbr_hq -cq $Set_cq -qmin $Set_qmin -qmax $Set_qmax -b:v 8M -maxrate:v 10M -c:a aac -b:a 224k -filter_complex \"subtitles='{InputName}:si={TrackNumber}'\" '{OutputName}'$OutputFormat\n",
        "  if SubtitleTrack == False:\n",
        "    noTrack()\n",
        "  else:\n",
        "    siTrack()\n",
        "if BurnIn == False:\n",
        "  noSubtitle()\n",
        "else:\n",
        "  burnSubtitle()\n",
        "\n",
        "#!ffmpeg -y -hwaccel cuvid -i '{InputName}' -c:v h264_nvenc -pix_fmt yuv420p -preset slow -rc vbr_hq -cq $Set_cq -qmin $Set_qmin -qmax $Set_qmax -b:v 8M -maxrate:v 10M -c:a aac -b:a 224k -filter_complex \"subtitles='{InputName}'\" '{OutputName}'$OutputFormat"
      ],
      "metadata": {
        "cellView": "form",
        "id": "Loujfy9TVEIK"
      },
      "execution_count": null,
      "outputs": []
    },
    {
      "cell_type": "markdown",
      "source": [
        "####» Full Directory Encoder"
      ],
      "metadata": {
        "id": "pF3cV3IGs1dC"
      }
    },
    {
      "cell_type": "code",
      "source": [
        "#@markdown <h3><b>Full Directory Encode :</h3>\n",
        "#@markdown <i>Put file name (include the extension). Convert the entire videos in directory.</i>\n",
        "\n",
        "import os, sys, re\n",
        "import subprocess\n",
        "\n",
        "InputLocation = '/content/drive/Shareddrives/Server/00. Simple-Manager/Fate Animes and Movies/02. Fate Stay Night/Fate Stay Night (Anime)/Unconvert Source/Fate Stay Night (Unconvert)' #@param {type:\"string\"}\n",
        "OutputLocation = '/content/drive/Shareddrives/01. Anime Server/00. Simple-Manager/Fate Animes and Movies/02. Fate Stay Night/Fate Stay Night (Anime)/01. Fate Stay Night (Anime, 2006)/Streaming Ready' #@param {type:\"string\"}\n",
        "InputFormat = \".mkv\" #@param [\".mp4\", \".mov\", \".mkv\", \".avi\", \".ts\", \".flv\", \".webm\", \".wmv\", \".mpg\", \".m4v\", \".f4v\", \".m2ts\", \".mpeg\", \".3gp\", \".MP4\", \".MOV\", \".MKV\", \".AVI\", \".TS\", \".FLV\", \".WEBM\", \".WMV\", \".MPG\", \".M4V\", \".F4V\", \".M2TS\", \".MPEG\", \".3GP\"]\n",
        "OutputFormat = \".mp4\" #@param [\".mp4\", \".mov\", \".mkv\", \".avi\", \".ts\", \".flv\", \".webm\", \".wmv\", \".mpg\", \".m4v\", \".f4v\", \".m2ts\", \".mpeg\", \".3gp\", \".MP4\", \".MOV\", \".MKV\", \".AVI\", \".TS\", \".FLV\", \".WEBM\", \".WMV\", \".MPG\", \".M4V\", \".F4V\", \".M2TS\", \".MPEG\", \".3GP\"]\n",
        "\n",
        "#@markdown <b><i>Output Options.</i></b>\n",
        "NumberOfFirstCharactertoRemove = 9 #@param {type:\"slider\", min:0, max:50}\n",
        "dchara = NumberOfFirstCharactertoRemove\n",
        "fix = len(InputFormat)\n",
        "OverWriteExistingFile = False #@param {type:\"boolean\"}\n",
        "\n",
        "#@markdown <b><i>Subtitle Options.</i></b>\n",
        "BurnIn = True #@param {type:\"boolean\"}\n",
        "SubtitleTrack = False #@param {type:\"boolean\"}\n",
        "TrackNumber = 0 #@param {type:\"slider\", min:0, max:10, step:1}\n",
        "\n",
        "#@markdown <h3><b>Video Quality :</h3>\n",
        "#@markdown <h><i>Between 0 [Best] to 51 [Worst]</i><h>\n",
        "Set_cq = '23'#@param {type:\"string\"}\n",
        "Set_qmin = '2'#@param {type:\"string\"}\n",
        "Set_qmax = '31'#@param {type:\"string\"}\n",
        "\n",
        "from pathlib import Path\n",
        "Path(OutputLocation).mkdir(parents=True, exist_ok=True)\n",
        "\n",
        "#!ffmpeg -hwaccel cuvid -i '$InputLocation' -c:v h264_nvenc -pix_fmt yuv420p -preset slow -rc vbr_hq -b:v 8M -maxrate:v 10M -c:a aac -b:a 224k '$OutputLocation'$OutputFormat\n",
        "\n",
        "def OverWrite():\n",
        "  def noSubtitle():\n",
        "    cmd = !ffmpeg -y -hwaccel cuvid -i '$InputLocation/{filename}' -c:v h264_nvenc -pix_fmt yuv420p -preset slow -rc vbr_hq -cq $Set_cq -qmin $Set_qmin -qmax $Set_qmax -b:v 8M -maxrate:v 10M -c:a aac -b:a 224k '$OutputLocation/{filename[dchara:-(int(fix))]}'$OutputFormat\n",
        "  def burnSubtitle():\n",
        "    def noTrack():\n",
        "      cmd = !ffmpeg -y -hwaccel cuvid -i '$InputLocation/{filename}' -c:v h264_nvenc -pix_fmt yuv420p -preset slow -rc vbr_hq -cq $Set_cq -qmin $Set_qmin -qmax $Set_qmax -b:v 8M -maxrate:v 10M -c:a aac -b:a 224k -filter_complex \"subtitles='$InputLocation/{filename}'\" '$OutputLocation/{filename[dchara:-(int(fix))]}'$OutputFormat\n",
        "    def siTrack():\n",
        "      cmd = !ffmpeg -y -hwaccel cuvid -i '$InputLocation/{filename}' -c:v h264_nvenc -pix_fmt yuv420p -preset slow -rc vbr_hq -cq $Set_cq -qmin $Set_qmin -qmax $Set_qmax -b:v 8M -maxrate:v 10M -c:a aac -b:a 224k -filter_complex \"subtitles='$InputLocation/{filename}:si={TrackNumber}'\" '$OutputLocation/{filename[dchara:-(int(fix))]}'$OutputFormat\n",
        "    if SubtitleTrack == True:\n",
        "      siTrack()\n",
        "    if SubtitleTrack == False:\n",
        "      noTrack()\n",
        "  if BurnIn == False:\n",
        "    noSubtitle()\n",
        "  else:\n",
        "    burnSubtitle() \n",
        "def noOverWrite():\n",
        "  def noSubtitle():\n",
        "    cmd = !ffmpeg -n -hwaccel cuvid -i '$InputLocation/{filename}' -c:v h264_nvenc -pix_fmt yuv420p -preset slow -rc vbr_hq -cq $Set_cq -qmin $Set_qmin -qmax $Set_qmax -b:v 8M -maxrate:v 10M -c:a aac -b:a 224k '$OutputLocation/{filename[dchara:-(int(fix))]}'$OutputFormat\n",
        "  def burnSubtitle():\n",
        "    def noTrack():\n",
        "      cmd = !ffmpeg -n -hwaccel cuvid -i '$InputLocation/{filename}' -c:v h264_nvenc -pix_fmt yuv420p -preset slow -rc vbr_hq -cq $Set_cq -qmin $Set_qmin -qmax $Set_qmax -b:v 8M -maxrate:v 10M -c:a aac -b:a 224k -filter_complex \"subtitles='$InputLocation/{filename}'\" '$OutputLocation/{filename[dchara:-(int(fix))]}'$OutputFormat\n",
        "    def siTrack():\n",
        "      cmd = !ffmpeg -n -hwaccel cuvid -i '$InputLocation/{filename}' -c:v h264_nvenc -pix_fmt yuv420p -preset slow -rc vbr_hq -cq $Set_cq -qmin $Set_qmin -qmax $Set_qmax -b:v 8M -maxrate:v 10M -c:a aac -b:a 224k -filter_complex \"subtitles='$InputLocation/{filename}:si={TrackNumber}'\" '$OutputLocation/{filename[dchara:-(int(fix))]}'$OutputFormat\n",
        "    if SubtitleTrack == True:\n",
        "      siTrack()\n",
        "    else:\n",
        "      noTrack()  \n",
        "  if BurnIn == False:\n",
        "    noSubtitle()\n",
        "  else:\n",
        "    burnSubtitle()       \n",
        "for filename in os.listdir(InputLocation):\n",
        "  if (filename.endswith(InputFormat)):\n",
        "    if OverWriteExistingFile == True:\n",
        "      OverWrite()\n",
        "    else:\n",
        "      noOverWrite()\n",
        "\n",
        "#!ffmpeg -y -hwaccel cuvid -i '$InputLocation' -c:v h264_nvenc -pix_fmt yuv420p -preset slow -rc vbr_hq -cq $Set_cq -qmin $Set_qmin -qmax $Set_qmax -b:v 8M -maxrate:v 10M -c:a aac -b:a 224k -filter_complex \"subtitles='$InputLocation'\" '$OutputLocation'$OutputFormat"
      ],
      "metadata": {
        "id": "IEvuxGk6s9oi",
        "cellView": "form",
        "colab": {
          "base_uri": "https://localhost:8080/"
        },
        "outputId": "34679f11-59ad-45d5-f309-9a0444497f05"
      },
      "execution_count": null,
      "outputs": [
        {
          "output_type": "stream",
          "name": "stdout",
          "text": [
            "ffmpeg version 3.4.11-0ubuntu0.1 Copyright (c) 2000-2022 the FFmpeg developers\n",
            "  built with gcc 7 (Ubuntu 7.5.0-3ubuntu1~18.04)\n",
            "  configuration: --prefix=/usr --extra-version=0ubuntu0.1 --toolchain=hardened --libdir=/usr/lib/x86_64-linux-gnu --incdir=/usr/include/x86_64-linux-gnu --enable-gpl --disable-stripping --enable-avresample --enable-avisynth --enable-gnutls --enable-ladspa --enable-libass --enable-libbluray --enable-libbs2b --enable-libcaca --enable-libcdio --enable-libflite --enable-libfontconfig --enable-libfreetype --enable-libfribidi --enable-libgme --enable-libgsm --enable-libmp3lame --enable-libmysofa --enable-libopenjpeg --enable-libopenmpt --enable-libopus --enable-libpulse --enable-librubberband --enable-librsvg --enable-libshine --enable-libsnappy --enable-libsoxr --enable-libspeex --enable-libssh --enable-libtheora --enable-libtwolame --enable-libvorbis --enable-libvpx --enable-libwavpack --enable-libwebp --enable-libx265 --enable-libxml2 --enable-libxvid --enable-libzmq --enable-libzvbi --enable-omx --enable-openal --enable-opengl --enable-sdl2 --enable-libdc1394 --enable-libdrm --enable-libiec61883 --enable-chromaprint --enable-frei0r --enable-libopencv --enable-libx264 --enable-shared\n",
            "  libavutil      55. 78.100 / 55. 78.100\n",
            "  libavcodec     57.107.100 / 57.107.100\n",
            "  libavformat    57. 83.100 / 57. 83.100\n",
            "  libavdevice    57. 10.100 / 57. 10.100\n",
            "  libavfilter     6.107.100 /  6.107.100\n",
            "  libavresample   3.  7.  0 /  3.  7.  0\n",
            "  libswscale      4.  8.100 /  4.  8.100\n",
            "  libswresample   2.  9.100 /  2.  9.100\n",
            "  libpostproc    54.  7.100 / 54.  7.100\n",
            "Input #0, matroska,webm, from '/content/drive/Shareddrives/Server/00. Simple-Manager/Fate Animes and Movies/02. Fate Stay Night/Fate Stay Night (Anime)/Unconvert Source/Fate Stay Night (Unconvert)/[Kusonime] Fate_Stay_Night_BD_Eps_24.mkv':\n",
            "  Metadata:\n",
            "    encoder         : libebml v1.3.0 + libmatroska v1.4.1\n",
            "    creation_time   : 2014-01-20T15:56:42.000000Z\n",
            "  Duration: 00:24:11.61, start: 0.000000, bitrate: 1204 kb/s\n",
            "    Chapter #0:0: start 0.054000, end 1451.614000\n",
            "    Metadata:\n",
            "      title           : 00:00:00.054\n",
            "    Stream #0:0: Subtitle: ass (default) (forced)\n",
            "    Stream #0:1(eng): Video: h264 (High 10), yuv420p10le(progressive), 1280x720 [SAR 1:1 DAR 16:9], 23.98 fps, 23.98 tbr, 1k tbn, 240k tbc (default)\n",
            "    Stream #0:2: Audio: aac (LC), 48000 Hz, stereo, fltp (default)\n",
            "\u001b[1;32m[Parsed_subtitles_0 @ 0x55eb2972aaa0] \u001b[0mShaper: FriBidi 0.19.7 (SIMPLE) HarfBuzz-ng 1.7.2 (COMPLEX)\n",
            "\u001b[1;32m[Parsed_subtitles_0 @ 0x55eb2972aaa0] \u001b[0mUsing font provider fontconfig\n",
            "Stream mapping:\n",
            "  Stream #0:1 (h264) -> subtitles (graph 0)\n",
            "  subtitles (graph 0) -> Stream #0:0 (h264_nvenc)\n",
            "  Stream #0:2 -> #0:1 (aac (native) -> aac (native))\n",
            "Press [q] to stop, [?] for help\n",
            "\u001b[1;32m[Parsed_subtitles_0 @ 0x55eb2972afa0] \u001b[0mShaper: FriBidi 0.19.7 (SIMPLE) HarfBuzz-ng 1.7.2 (COMPLEX)\n",
            "\u001b[1;32m[Parsed_subtitles_0 @ 0x55eb2972afa0] \u001b[0mUsing font provider fontconfig\n",
            "Output #0, mp4, to '/content/drive/Shareddrives/01. Anime Server/00. Simple-Manager/Fate Animes and Movies/02. Fate Stay Night/Fate Stay Night (Anime)/01. Fate Stay Night (Anime, 2006)/Streaming Ready/] Fate_Stay_Night_BD_Eps_24.mp4':\n",
            "  Metadata:\n",
            "    encoder         : Lavf57.83.100\n",
            "    Chapter #0:0: start 0.054000, end 1451.614000\n",
            "    Metadata:\n",
            "      title           : 00:00:00.054\n",
            "    Stream #0:0: Video: h264 (h264_nvenc) (Main) (avc1 / 0x31637661), yuv420p, 1280x720 [SAR 1:1 DAR 16:9], q=2-31, 8000 kb/s, 23.98 fps, 24k tbn, 23.98 tbc (default)\n",
            "    Metadata:\n",
            "      encoder         : Lavc57.107.100 h264_nvenc\n",
            "    Side data:\n",
            "      cpb: bitrate max/min/avg: 10000000/0/8000000 buffer size: 16000000 vbv_delay: -1\n",
            "    Stream #0:1: Audio: aac (LC) (mp4a / 0x6134706D), 48000 Hz, stereo, fltp, 224 kb/s (default)\n",
            "    Metadata:\n",
            "      encoder         : Lavc57.107.100 aac\n",
            "\u001b[1;32m[Parsed_subtitles_0 @ 0x55eb2972afa0] \u001b[0mfontselect: (Salernomi J, 700, 0) -> /usr/share/fonts/truetype/DEJAVUSANS-EXTRALIGHT.TTF, 0, DejaVuSans-ExtraLight\n",
            "\u001b[1;32m[Parsed_subtitles_0 @ 0x55eb2972afa0] \u001b[0mfontselect: (Salernomi J, 400, 0) -> /usr/share/fonts/truetype/DEJAVUSANS-EXTRALIGHT.TTF, 0, DejaVuSans-ExtraLight\n",
            "\u001b[1;32m[Parsed_subtitles_0 @ 0x55eb2972afa0] \u001b[0mfontselect: (Arno Pro Light Display, 400, 0) -> /usr/share/fonts/truetype/DEJAVUSANS-EXTRALIGHT.TTF, 0, DejaVuSans-ExtraLight\n",
            "\u001b[1;32m[Parsed_subtitles_0 @ 0x55eb2972afa0] \u001b[0mfontselect: (Soutane, 700, 0) -> /usr/share/fonts/truetype/DEJAVUSANS-EXTRALIGHT.TTF, 0, DejaVuSans-ExtraLight\n",
            "\u001b[1;32m[Parsed_subtitles_0 @ 0x55eb2972afa0] \u001b[0mfontselect: (Ogirema, 700, 0) -> /usr/share/fonts/truetype/DEJAVUSANS-EXTRALIGHT.TTF, 0, DejaVuSans-ExtraLight\n",
            "\u001b[1;32m[Parsed_subtitles_0 @ 0x55eb2972afa0] \u001b[0mfontselect: (Schwarz, 700, 0) -> /usr/share/fonts/truetype/DEJAVUSANS-EXTRALIGHT.TTF, 0, DejaVuSans-ExtraLight\n",
            "\u001b[1;32m[Parsed_subtitles_0 @ 0x55eb2972afa0] \u001b[0mfontselect: (Fontdinerdotcom Loungy, 700, 0) -> /usr/share/fonts/truetype/DEJAVUSANS-EXTRALIGHT.TTF, 0, DejaVuSans-ExtraLight\n",
            "\u001b[1;32m[Parsed_subtitles_0 @ 0x55eb2972afa0] \u001b[0mfontselect: (Ogirema, 700, 100) -> /usr/share/fonts/truetype/DEJAVUSANS-EXTRALIGHT.TTF, 0, DejaVuSans-ExtraLight\n"
          ]
        }
      ]
    },
    {
      "cell_type": "markdown",
      "source": [
        "###**» Thumbnail Creation - Preview from Video**"
      ],
      "metadata": {
        "id": "vTuA4jTT2C9n"
      }
    },
    {
      "cell_type": "markdown",
      "source": [
        "####» Single Video File"
      ],
      "metadata": {
        "id": "bhlz0txI2NB1"
      }
    },
    {
      "cell_type": "code",
      "source": [
        "#@markdown <h3><b>Single Video Thumbnail Creation :</h5>\n",
        "VideoName = \"/content/drive/Shareddrives/01. Anime Server/01. Anime/01. TV Show/06. Classroom Of The Elite/Season 2/Streaming Ready/Classroom_Elite_S2_-_02_[1080p_HEVC][Dualsubs].mp4\" #@param {type:\"string\"}\n",
        "VideoExtension = (\".mp4\", \".mov\", \".mkv\", \".avi\", \".ts\", \".flv\", \".webm\", \".wmv\", \".mpg\", \".m4v\", \".f4v\", \".m2ts\", \".mpeg\", \".3gp\", \".MP4\", \".MOV\", \".MKV\", \".AVI\", \".TS\", \".FLV\", \".WEBM\", \".WMV\", \".MPG\", \".M4V\", \".F4V\", \".M2TS\", \".MPEG\", \".3GP\")\n",
        "OutputPath = \"/content/drive/Shareddrives/01. Anime Server/01. Anime/01. TV Show/06. Classroom Of The Elite/Season 2/Streaming Ready/Thumbnails\" #@param {type:\"string\"}\n",
        "ThumbnailName = \"Classroom Of The Elite S2 Episode 02\" #@param {type:\"string\"}\n",
        "PNG = '.png'\n",
        "JPG = '.jpg'\n",
        "BMP = '.bmp'\n",
        "ImageFormat = PNG #@param [\"PNG\", \"JPG\", \"BMP\"] {type:\"raw\"}\n",
        "#@markdown <h6><b><i>SingleFrame = Output a single frame from the video into an image file:</i></b></h6>\n",
        "SingleFrame = False #@param {type:\"boolean\"}\n",
        "#@markdown ><h><i>Time Settings:</i><h>\n",
        "Hours = 0 #@param {type:\"slider\", min:0, max:10, step:1}\n",
        "Minutes = 8 #@param {type:\"slider\", min:0, max:59, step:1}\n",
        "Seconds = 0 #@param {type:\"slider\", min:0, max:59, step:1}\n",
        "Milisec = 0 #@param {type:\"slider\", min:0, max:999, step:1}\n",
        "\n",
        "\n",
        "#@markdown <h6><b><i>Output one image every %% :</i></b></h6>\n",
        "ThumbnailImage = \"per 3 minutes\" #@param [\"per second\", \"per half a minute\", \"per minute\", \"per 3 minutes\", \"per 10 minutes\"]\n",
        "#@markdown ><h><i>Not used if SingleFrame is checked:</i><h>\n",
        "\n",
        "from pathlib import Path\n",
        "Path(OutputPath).mkdir(parents=True, exist_ok=True)\n",
        "\n",
        "def snglFrame():\n",
        "  cmd = !ffmpeg -y -hwaccel cuvid -i '{VideoName}' -ss {Hours}:{Minutes}:{Seconds}.{Milisec} -frames:v 1 '$OutputPath/{ThumbnailName}'$ImageFormat\n",
        "def fpsFrame():\n",
        "  def scnd():\n",
        "    cmd = !ffmpeg -y -hwaccel cuvid -i '{VideoName}' -vf fps=1 '$OutputPath/{ThumbnailName}'%03d$ImageFormat\n",
        "  def hlfmnt():\n",
        "    cmd = !ffmpeg -y -hwaccel cuvid -i '{VideoName}' -vf fps=2/60 '$OutputPath/{ThumbnailName}'%03d$ImageFormat\n",
        "  def mnt():\n",
        "    cmd = !ffmpeg -y -hwaccel cuvid -i '{VideoName}' -vf fps=1/60 '$OutputPath/{ThumbnailName}'%03d$ImageFormat\n",
        "  def thrmnt():\n",
        "    cmd = !ffmpeg -y -hwaccel cuvid -i '{VideoName}' -vf fps=1/180 '$OutputPath/{ThumbnailName}'%03d$ImageFormat\n",
        "  def tenmnt():\n",
        "    cmd = !ffmpeg -y -hwaccel cuvid -i '{VideoName}' -vf fps=1/600 '$OutputPath/{ThumbnailName}'%03d$ImageFormat\n",
        "  if ThumbnailImage == \"per second\":\n",
        "    scnd()\n",
        "  if ThumbnailImage == \"per half a minute\":\n",
        "    hlfmnt()\n",
        "  if ThumbnailImage == \"per minute\":\n",
        "    mnt()\n",
        "  if ThumbnailImage == \"per 3 minutes\":\n",
        "    thrmnt()\n",
        "  if ThumbnailImage == \"per 10 minutes\":\n",
        "    tenmnt()\n",
        "if SingleFrame == True:\n",
        "  snglFrame()\n",
        "else:\n",
        "  fpsFrame()\n",
        "\n"
      ],
      "metadata": {
        "cellView": "form",
        "id": "Yi-Maqk1fQzr"
      },
      "execution_count": null,
      "outputs": []
    },
    {
      "cell_type": "markdown",
      "source": [
        "####» Entire videos in the directory"
      ],
      "metadata": {
        "id": "F74A1amU2qYl"
      }
    },
    {
      "cell_type": "code",
      "source": [
        "#@markdown <h3><b>Full Directory Thumbnail Creation :</h5>\n",
        "InputPath = \"/content/drive/Shareddrives/01. Anime Server/01. Anime/01. TV Show/06. Classroom Of The Elite/Season 2\" #@param {type:\"string\"}\n",
        "VideoExtension = \".mkv\" #@param [\".mp4\", \".mov\", \".mkv\", \".avi\", \".ts\", \".flv\", \".webm\", \".wmv\", \".mpg\", \".m4v\", \".f4v\", \".m2ts\", \".mpeg\", \".3gp\", \".MP4\", \".MOV\", \".MKV\", \".AVI\", \".TS\", \".FLV\", \".WEBM\", \".WMV\", \".MPG\", \".M4V\", \".F4V\", \".M2TS\", \".MPEG\", \".3GP\"]\n",
        "OutputPath = \"/content/drive/Shareddrives/01. Anime Server/01. Anime/01. TV Show/06. Classroom Of The Elite/Season 2/Thumbnails\" #@param {type:\"string\"}\n",
        "NumberOfFirstCharactertoRemove = 11 #@param {type:\"slider\", min:0, max:50}\n",
        "PNG = '.png'\n",
        "JPG = '.jpg'\n",
        "BMP = '.bmp'\n",
        "ImageFormat = PNG #@param [\"PNG\", \"JPG\", \"BMP\"] {type:\"raw\"}\n",
        "#@markdown <h6><b><i>SingleFrame = Output a single frame from the video into an image file:</i></b></h6>\n",
        "SingleFrame = True #@param {type:\"boolean\"}\n",
        "#@markdown ><h><i>Time Settings:</i><h>\n",
        "Hours = 0 #@param {type:\"slider\", min:0, max:10, step:1}\n",
        "Minutes = 13 #@param {type:\"slider\", min:0, max:59, step:1}\n",
        "Seconds = 3 #@param {type:\"slider\", min:0, max:59, step:1}\n",
        "Milisec = 173 #@param {type:\"slider\", min:0, max:999, step:1}\n",
        "\n",
        "\n",
        "#@markdown <h6><b><i>Output one image every %% :</i></b></h6>\n",
        "ThumbnailImage = \"per minute\" #@param [\"per second\", \"per half a minute\", \"per minute\", \"per 3 minutes\", \"per 10 minutes\"]\n",
        "#@markdown ><h><i>Not used if SingleFrame is checked:</i><h>\n",
        "\n",
        "dchara = NumberOfFirstCharactertoRemove\n",
        "fix = len(InputFormat)\n",
        "\n",
        "from pathlib import Path\n",
        "Path(OutputPath).mkdir(parents=True, exist_ok=True)\n",
        "\n",
        "def snglFrame():\n",
        "  cmd = !ffmpeg -y -hwaccel cuvid -i '$InputPath/{filename}' -ss {Hours}:{Minutes}:{Seconds}.{Milisec} -frames:v 1 '$OutputPath/{filename[dchara:-(int(fix))]}'$ImageFormat\n",
        "def fpsFrame():\n",
        "  def scnd():\n",
        "    cmd = !ffmpeg -y -hwaccel cuvid -i '$InputPath/{filename}' -vf fps=1 '$OutputPath/{filename[dchara:-(int(fix))]}'%03d$ImageFormat\n",
        "  def hlfmnt():\n",
        "    cmd = !ffmpeg -y -hwaccel cuvid -i '$InputPath/{filename}' -vf fps=2/60 '$OutputPath/{filename[dchara:-(int(fix))]}'%03d$ImageFormat\n",
        "  def mnt():\n",
        "    cmd = !ffmpeg -y -hwaccel cuvid -i '$InputPath/{filename}' -vf fps=1/60 '$OutputPath/{filename[dchara:-(int(fix))]}'%03d$ImageFormat\n",
        "  def thrmnt():\n",
        "    cmd = !ffmpeg -y -hwaccel cuvid -i '$InputPath/{filename}' -vf fps=1/180 '$OutputPath/{filename[dchara:-(int(fix))]}'%03d$ImageFormat\n",
        "  def tenmnt():\n",
        "    cmd = !ffmpeg -y -hwaccel cuvid -i '$InputPath/{filename}' -vf fps=1/600 '$OutputPath/{filename[dchara:-(int(fix))]}'%03d$ImageFormat\n",
        "  if ThumbnailImage == \"per second\":\n",
        "    scnd()\n",
        "  if ThumbnailImage == \"per half a minute\":\n",
        "    hlfmnt()\n",
        "  if ThumbnailImage == \"per minute\":\n",
        "    mnt()\n",
        "  if ThumbnailImage == \"per 3 minutes\":\n",
        "    thrmnt()\n",
        "  if ThumbnailImage == \"per 10 minutes\":\n",
        "    tenmnt()\n",
        "for filename in os.listdir(InputPath):\n",
        "  if (filename.endswith(VideoExtension)):\n",
        "    if SingleFrame == True:\n",
        "      snglFrame()\n",
        "    else:\n",
        "      fpsFrame()"
      ],
      "metadata": {
        "cellView": "form",
        "id": "itxPT0Ru13ox"
      },
      "execution_count": null,
      "outputs": []
    },
    {
      "cell_type": "markdown",
      "source": [
        "\n",
        "###» Video to (*H2.64*-AAC)  - Need GPU - Nvidia Telsa P100 or T4"
      ],
      "metadata": {
        "id": "7udpK9Qe-NUQ"
      }
    },
    {
      "cell_type": "code",
      "source": [
        "#@markdown <h3><b>Full Folder Encode :</h3>\n",
        "#@markdown <i>Put file location and name (include the extension). Convert in the entire directory.</i>\n",
        "\n",
        "import os, sys, re\n",
        "\n",
        "input_folder= '/content/drive/Shareddrives/01. Anime Server/01. Anime/01. TV Show/36. DanMachi/Season 4' #@param {type:\"string\"}\n",
        "output_folder= '/content/VAAPI' #@param {type:\"string\"}\n",
        "#@markdown <h3><b>Hardware Accelerator Setting :</h3>\n",
        "#hwaccel setting\n",
        "VDPAU = 'vdpau'\n",
        "VAAPI = 'vaapi'\n",
        "CUVID = 'cuvid'\n",
        "HardwareAccelerator = VAAPI #@param [\"VDPAU\", \"VAAPI\", \"CUVID\"] {type:\"raw\"}\n",
        "#@markdown <h3><b>Choose your convert setting :</h5>\n",
        "#@markdown <b><i>Output options</i></b>\n",
        "Overwrite_Option = \"Don't Overwrite an Existing File\" #@param [\"Default\", \"Overwrite an Existing File\", \"Don't Overwrite an Existing File\"]\n",
        "Convert_Method = \"With Subtitle\" #@param [\"No Subtitle\", \"With Subtitle\"]\n",
        "#@markdown <b><i>Subtitle options</i></b>\n",
        "NumberOfFirstCharactertoRemove = 0 #@param {type:\"slider\", min:0, max:50}\n",
        "HideSubtitleTrack = True #@param {type:\"boolean\"}\n",
        "SubtitleTrack = 0 #@param {type:\"slider\", min:0, max:10}\n",
        "#@markdown <h3><b>Choose your encode setting :</h5>\n",
        "#@markdown <h><i>main = default | main10 = H264 10 Bit</i>\n",
        "H264 = 'h264_nvenc'\n",
        "HEVC = 'hevc_nvenc'\n",
        "Normal = ''\n",
        "encode_setting = H264 #@param [\"H264\", \"HEVC\", \"Normal\"] {type:\"raw\"}\n",
        "set_profile = \"main\" #@param [\"main\", \"main10\"]\n",
        "input_file_type = \".mkv\" #@param [\".mp4\", \".mov\", \".mkv\", \".avi\", \".ts\", \".flv\", \".webm\", \".wmv\", \".mpg\", \".m4v\", \".f4v\", \".m2ts\", \".mpeg\", \".3gp\", \".MP4\", \".MOV\", \".MKV\", \".AVI\", \".TS\", \".FLV\", \".WEBM\", \".WMV\", \".MPG\", \".M4V\", \".F4V\", \".M2TS\", \".MPEG\", \".3GP\"]\n",
        "my_suffixes = input_file_type\n",
        "output_file_type = \".mp4\" #@param [\".mp4\", \".mov\", \".mkv\", \".avi\", \".ts\", \".flv\", \".webm\", \".wmv\", \".mpg\", \".m4v\", \".f4v\", \".m2ts\", \".mpeg\", \".3gp\", \".MP4\", \".MOV\", \".MKV\", \".AVI\", \".TS\", \".FLV\", \".WEBM\", \".WMV\", \".MPG\", \".M4V\", \".F4V\", \".M2TS\", \".MPEG\", \".3GP\"]\n",
        "#@markdown <h3><b>Video quality :</h3>\n",
        "#@markdown <h><i>0 (Best) to 51 (Worst)</i><h>\n",
        "set_cq = '22'#@param {type:\"string\"}\n",
        "set_qmin = '22'#@param {type:\"string\"}\n",
        "set_qmax = '24'#@param {type:\"string\"}\n",
        "\n",
        "#@markdown <h3><b>Encoding Process :</h3>\n",
        "#@markdown <h><i>Output screen information</i><h>\n",
        "Show = ''\n",
        "Hide = '-v error'\n",
        "Status = Hide #@param [\"Show\", \"Hide\"] {type:\"raw\"}\n",
        "\n",
        "dchara = NumberOfFirstCharactertoRemove\n",
        "fix = len(input_file_type)\n",
        "    \n",
        "from pathlib import Path\n",
        "Path(output_folder).mkdir(parents=True, exist_ok=True)\n",
        "\n",
        "def noSub():\n",
        "  def owdef():\n",
        "    cmd = !ffmpeg {Status} -stats -hwaccel {HardwareAccelerator} -i \"$input_folder/{filename}\" -c:v {encode_setting} -preset:v slow -rc vbr -cq $set_cq -qmin $set_qmin -qmax $set_qmax -b:v 0 -profile:v $set_profile -init_qpP 23 -init_qpB 25 -init_qpI 21 -c:a copy \"$output_folder/{filename[dchara:-(int(fix))]}{output_file_type}\"\n",
        "  def owyes():   \n",
        "    cmd = !ffmpeg {Status} -stats -hwaccel {HardwareAccelerator} -i \"$input_folder/{filename}\" -c:v {encode_setting} -preset:v slow -rc vbr -cq $set_cq -qmin $set_qmin -qmax $set_qmax -b:v 0 -profile:v $set_profile -init_qpP 23 -init_qpB 25 -init_qpI 21 -c:a copy \"$output_folder/{filename[dchara:-(int(fix))]}{output_file_type}\" -y\n",
        "  def owno():\n",
        "    cmd = !ffmpeg {Status} -stats -hwaccel {HardwareAccelerator} -i \"$input_folder/{filename}\" -c:v {encode_setting} -preset:v slow -rc vbr -cq $set_cq -qmin $set_qmin -qmax $set_qmax -b:v 0 -profile:v $set_profile -init_qpP 23 -init_qpB 25 -init_qpI 21 -c:a copy \"$output_folder/{filename[dchara:-(int(fix))]}{output_file_type}\" -n\n",
        "  if Overwrite_Option == \"Default\":\n",
        "    owdef()\n",
        "  if Overwrite_Option == \"Overwrite an Existing File\":\n",
        "    owyes()\n",
        "  if Overwrite_Option == \"Don't Overwrite an Existing File\":\n",
        "    owno()\n",
        "\n",
        "def withSub():\n",
        "  def noSubTrack():\n",
        "    def owdef():\n",
        "      cmd = !ffmpeg {Status} -stats -hwaccel {HardwareAccelerator} -i \"$input_folder/{filename}\" -c:v {encode_setting} -preset:v slow -rc vbr -cq $set_cq -qmin $set_qmin -qmax $set_qmax -b:v 0 -profile:v $set_profile -init_qpP 23 -init_qpB 25 -init_qpI 21 -c:a copy -filter_complex \"subtitles='$input_folder/{filename}'\" \"$output_folder/{filename[dchara:-(int(fix))]}{output_file_type}\"\n",
        "    def owyes():\n",
        "      cmd = !ffmpeg {Status} -stats -hwaccel {HardwareAccelerator} -i \"$input_folder/{filename}\" -c:v {encode_setting} -preset:v slow -rc vbr -cq $set_cq -qmin $set_qmin -qmax $set_qmax -b:v 0 -profile:v $set_profile -init_qpP 23 -init_qpB 25 -init_qpI 21 -c:a copy -filter_complex \"subtitles='$input_folder/{filename}'\" \"$output_folder/{filename[dchara:-(int(fix))]}{output_file_type}\" -y\n",
        "    def owno():\n",
        "      cmd = !ffmpeg {Status} -stats -hwaccel {HardwareAccelerator} -i \"$input_folder/{filename}\" -c:v {encode_setting} -preset:v slow -rc vbr -cq $set_cq -qmin $set_qmin -qmax $set_qmax -b:v 0 -profile:v $set_profile -init_qpP 23 -init_qpB 25 -init_qpI 21 -c:a copy -filter_complex \"subtitles='$input_folder/{filename}'\" \"$output_folder/{filename[dchara:-(int(fix))]}{output_file_type}\" -n\n",
        "    if Overwrite_Option == \"Default\":\n",
        "      owdef()\n",
        "    if Overwrite_Option == \"Overwrite an Existing File\":\n",
        "      owyes()\n",
        "    if Overwrite_Option == \"Don't Overwrite an Existing File\":\n",
        "      owno()\n",
        "  def SubTrack():\n",
        "    def owdef():\n",
        "      cmd = !ffmpeg {Status} -stats -hwaccel {HardwareAccelerator} -i \"$input_folder/{filename}\" -c:v {encode_setting} -preset:v slow -rc vbr -cq $set_cq -qmin $set_qmin -qmax $set_qmax -b:v 0 -profile:v $set_profile -init_qpP 23 -init_qpB 25 -init_qpI 21 -c:a copy -filter_complex \"subtitles='$input_folder/{filename}:si={SubtitleTrack}'\" \"$output_folder/{filename[dchara:-(int(fix))]}{output_file_type}\"\n",
        "    def owyes():\n",
        "      cmd = !ffmpeg {Status} -stats -hwaccel {HardwareAccelerator} -i \"$input_folder/{filename}\" -c:v {encode_setting} -preset:v slow -rc vbr -cq $set_cq -qmin $set_qmin -qmax $set_qmax -b:v 0 -profile:v $set_profile -init_qpP 23 -init_qpB 25 -init_qpI 21 -c:a copy -filter_complex \"subtitles='$input_folder/{filename}:si={SubtitleTrack}'\" \"$output_folder/{filename[dchara:-(int(fix))]}{output_file_type}\" -y\n",
        "    def owno():\n",
        "      cmd = !ffmpeg {Status} -stats -hwaccel {HardwareAccelerator} -i \"$input_folder/{filename}\" -c:v {encode_setting} -preset:v slow -rc vbr -cq $set_cq -qmin $set_qmin -qmax $set_qmax -b:v 0 -profile:v $set_profile -init_qpP 23 -init_qpB 25 -init_qpI 21 -c:a copy -filter_complex \"subtitles='$input_folder/{filename}:si={SubtitleTrack}'\" \"$output_folder/{filename[dchara:-(int(fix))]}{output_file_type}\" -n\n",
        "    if Overwrite_Option == \"Default\":\n",
        "      owdef()\n",
        "    if Overwrite_Option == \"Overwrite an Existing File\":\n",
        "      owyes()\n",
        "    if Overwrite_Option == \"Don't Overwrite an Existing File\":\n",
        "      owno()\n",
        "  if HideSubtitleTrack == True:\n",
        "    noSubTrack()\n",
        "  if HideSubtitleTrack == False:\n",
        "    SubTrack()\n",
        "\n",
        "for filename in os.listdir(input_folder):\n",
        "  if (filename.endswith(my_suffixes)):\n",
        "        if Convert_Method == \"No Subtitle\":\n",
        "          noSub()\n",
        "        if Convert_Method == \"With Subtitle\":\n",
        "          withSub()"
      ],
      "metadata": {
        "id": "1rYwnIvK-MFt",
        "cellView": "form"
      },
      "execution_count": null,
      "outputs": []
    },
    {
      "cell_type": "markdown",
      "metadata": {
        "id": "5zC6lWfgBYUu"
      },
      "source": [
        "\n",
        "###» Video to (*HEVC*-AAC)  - Need GPU - Nvidia Telsa P100 or T4"
      ]
    },
    {
      "cell_type": "code",
      "metadata": {
        "id": "GBpIDuDdBYU0",
        "cellView": "form"
      },
      "source": [
        "#@markdown <h3><b>Full Folder Encode :</h3>\n",
        "\n",
        "import os, sys, re\n",
        "\n",
        "input_folder= '/content/drive/Shareddrives/01. Anime Server/01. Anime/01. TV Show/23. Yofukashi no Uta/Season1' #@param {type:\"string\"}\n",
        "output_folder= '/content/drive/Shareddrives/01. Anime Server/01. Anime/01. TV Show/23. Yofukashi no Uta/Season1/TEST' #@param {type:\"string\"}\n",
        "#@markdown <h3><b>Choose your encode setting :</h5>\n",
        "#@markdown <h><i>main = default | main10 = HEVC 10 Bit</i>\n",
        "encode_setting = \"HEVC (Audio Copy)\" #@param [\"HEVC AAC 160k\", \"HEVC AAC_adtstoasc\", \"HEVC (Audio Copy)\", \"AAC 160k (Video Copy)\"]\n",
        "set_profile = \"main\" #@param [\"main\", \"main10\"]\n",
        "input_file_type = \".mkv\" #@param [\".mp4\", \".mov\", \".mkv\", \".avi\", \".ts\", \".flv\", \".webm\", \".wmv\", \".mpg\", \".m4v\", \".f4v\", \".m2ts\", \".mpeg\", \".3gp\", \".MP4\", \".MOV\", \".MKV\", \".AVI\", \".TS\", \".FLV\", \".WEBM\", \".WMV\", \".MPG\", \".M4V\", \".F4V\", \".M2TS\", \".MPEG\", \".3GP\"]\n",
        "my_suffixes = input_file_type\n",
        "output_file_type = \".mp4\" #@param [\".mp4\", \".mov\", \".mkv\", \".avi\", \".ts\", \".flv\", \".webm\", \".wmv\", \".mpg\", \".m4v\", \".f4v\", \".m2ts\", \".mpeg\", \".3gp\", \".MP4\", \".MOV\", \".MKV\", \".AVI\", \".TS\", \".FLV\", \".WEBM\", \".WMV\", \".MPG\", \".M4V\", \".F4V\", \".M2TS\", \".MPEG\", \".3GP\"]\n",
        "#@markdown <h3><b>Video quality :</h3>\n",
        "#@markdown <h><i>0 (Best) to 51 (Worst)</i><h>\n",
        "set_cq = '18'#@param {type:\"string\"}\n",
        "set_qmin = '18'#@param {type:\"string\"}\n",
        "set_qmax = '20'#@param {type:\"string\"}\n",
        "\n",
        "from pathlib import Path\n",
        "Path(output_folder).mkdir(parents=True, exist_ok=True)\n",
        "\n",
        "if encode_setting == 'HEVC AAC 160k':\n",
        " for filename in os.listdir(input_folder):\n",
        "    if (filename.endswith(my_suffixes)):\n",
        "        cmd = !ffmpeg -v error -stats -hwaccel cuvid -i \"$input_folder/{filename}\" -metadata comment=\"HEVC-CQ$set_cq-AAC\" -c:v hevc_nvenc -preset:v slow -rc vbr -cq $set_cq -qmin $set_qmin -qmax $set_qmax -b:v 0 -profile:v $set_profile -init_qpP 23 -init_qpB 25 -init_qpI 21 -c:a aac -b:a 160k \"$output_folder/{filename.rpartition('.')[0]}.$output_file_type\"\n",
        "\n",
        "if encode_setting == 'HEVC AAC_adtstoasc':\n",
        " for filename in os.listdir(input_folder):\n",
        "    if (filename.endswith(my_suffixes)):\n",
        "        cmd = !ffmpeg -v error -stats -hwaccel cuvid -i \"$input_folder/{filename}\" -metadata comment=\"HEVC-CQ$set_cq-AAC\" -c:v hevc_nvenc -preset:v slow -rc vbr -cq $set_cq -qmin $set_qmin -qmax $set_qmax -b:v 0 -profile:v $set_profile -init_qpP 23 -init_qpB 25 -init_qpI 21 -bsf:a aac_adtstoasc \"$output_folder/{filename.rpartition('.')[0]}.$output_file_type\"\n",
        "\n",
        "if encode_setting == 'HEVC (Audio Copy)':\n",
        " for filename in os.listdir(input_folder):\n",
        "    if (filename.endswith(my_suffixes)):\n",
        "        cmd = !ffmpeg -v error -stats -hwaccel cuvid -i \"$input_folder/{filename}\" -metadata comment=\"HEVC-CQ$set_cq-AAC\" -c:v hevc_nvenc -preset:v slow -rc vbr -cq $set_cq -qmin $set_qmin -qmax $set_qmax -b:v 0 -profile:v $set_profile -init_qpP 23 -init_qpB 25 -init_qpI 21 -c:a copy \"$output_folder/{filename.rpartition('.')[0]}.$output_file_type\"\n",
        "\n",
        "if encode_setting == 'AAC 160k (Video Copy)':\n",
        " for filename in os.listdir(input_folder):\n",
        "    if (filename.endswith(my_suffixes)):\n",
        "        cmd = !ffmpeg -v error -stats -hwaccel cuvid -i \"$input_folder/{filename}\" -metadata comment=\"HEVC-CQ$set_cq-AAC\" -c:v copy -c:a aac -b:a 160k \"$output_folder/{filename.rpartition('.')[0]}.$output_file_type\"\n",
        "                     "
      ],
      "execution_count": null,
      "outputs": []
    },
    {
      "cell_type": "markdown",
      "metadata": {
        "id": "atXNztRIjRK-"
      },
      "source": [
        "\n",
        "###» Video to (*X265*-AAC)  - No GPU"
      ]
    },
    {
      "cell_type": "code",
      "metadata": {
        "id": "DTfmIVpGjRK_",
        "cellView": "form"
      },
      "source": [
        "#@markdown <h3><b>Full Folder Encode :</h3>\n",
        "\n",
        "import os, sys, re\n",
        "\n",
        "input_folder= '/content/drive/Shareddrives/01. Anime Server/01. Anime/01. TV Show/23. Yofukashi no Uta/Season1/TEST' #@param {type:\"string\"}\n",
        "output_folder= '/content/drive/Shareddrives/01. Anime Server/01. Anime/01. TV Show/23. Yofukashi no Uta/Season1/TEST/ok' #@param {type:\"string\"}\n",
        "#@markdown <h3><b>Choose your encode setting :</h5>\n",
        "#@markdown <h><i>main = default | main10 = HEVC 10 Bit</i>\n",
        "encode_setting = \"X265 (Audio Copy)\" #@param [\"X265 AAC 160k\", \"X265 AAC_adtstoasc\", \"X265 (Audio Copy)\", \"AAC 160k (Video Copy)\"]\n",
        "output_file_type = 'mp4' #@param [\"mkv\", \"mp4\"]\n",
        "#@markdown <h3><b>Video quality :</h3>\n",
        "#@markdown <h><i>0 (Best) to 51 (Worst)</i><h>\n",
        "set_crf ='26'#@param {type:\"string\"}\n",
        "my_suffixes = (\".mp4\", \".mov\", \".mkv\", \".avi\", \".ts\", \".flv\", \".webm\", \".wmv\", \".mpg\", \".m4v\", \".f4v\", \".m2ts\", \".mpeg\", \".3gp\", \".MP4\", \".MOV\", \".MKV\", \".AVI\", \".TS\", \".FLV\", \".WEBM\", \".WMV\", \".MPG\", \".M4V\", \".F4V\", \".M2TS\", \".MPEG\", \".3GP\")\n",
        "\n",
        "from pathlib import Path\n",
        "Path(output_folder).mkdir(parents=True, exist_ok=True)\n",
        "\n",
        "if encode_setting == 'X265 AAC 160k':\n",
        " for filename in os.listdir(input_folder):\n",
        "    if (filename.endswith(my_suffixes)):\n",
        "        cmd = !ffmpeg -v error -stats -i \"$input_folder/{filename}\" -metadata comment=\"X265-CRF$set_crf-AAC\" -c:v libx265 -preset:v slow -crf $set_crf -c:a aac -b:a 160k \"$output_folder/{filename.rpartition('.')[0]}.$output_file_type\"\n",
        "\n",
        "if encode_setting == 'X265 AAC_adtstoasc':\n",
        " for filename in os.listdir(input_folder):\n",
        "    if (filename.endswith(my_suffixes)):\n",
        "        cmd = !ffmpeg -v error -stats -i \"$input_folder/{filename}\" -metadata comment=\"X265-CRF$set_crf-AAC\" -c:v libx265 -preset:v slow -crf $set_crf -bsf:a aac_adtstoasc \"$output_folder/{filename.rpartition('.')[0]}.$output_file_type\"\n",
        "\n",
        "if encode_setting == 'X265 (Audio Copy)':\n",
        " for filename in os.listdir(input_folder):\n",
        "    if (filename.endswith(my_suffixes)):\n",
        "        cmd = !ffmpeg -v error -stats -i \"$input_folder/{filename}\" -metadata comment=\"X265-CRF$set_crf-AAC\" -c:v libx265 -preset:v slow -crf $set_crf -c:a copy \"$output_folder/{filename.rpartition('.')[0]}.$output_file_type\"\n",
        "\n",
        "if encode_setting == 'AAC 160k (Video Copy)':\n",
        " for filename in os.listdir(input_folder):\n",
        "    if (filename.endswith(my_suffixes)):\n",
        "        cmd = !ffmpeg -v error -stats -i \"$input_folder/{filename}\" -metadata comment=\"VideoCopy-AAC\" -c:v copy -c:a aac -b:a 160k \"$output_folder/{filename.rpartition('.')[0]}.$output_file_type\"\n",
        "                     "
      ],
      "execution_count": null,
      "outputs": []
    },
    {
      "cell_type": "markdown",
      "source": [
        "###» Crop Video to (*H2.64*-AAC) - Need GPU - Nvidia Telsa P100 or T4"
      ],
      "metadata": {
        "id": "Dhxa9v11HVLE"
      }
    },
    {
      "cell_type": "code",
      "source": [
        "#@markdown <h3><b>Full Folder Encode with Crop :</h3>\n",
        "#@markdown <i>Put file location and name (include the extension). Convert in the entire directory.</i>\n",
        "\n",
        "import os, sys, re\n",
        "\n",
        "input_folder= '/content/drive/Shareddrives/01. Anime Server/01. Anime/01. TV Show/23. Yofukashi no Uta/Season1' #@param {type:\"string\"}\n",
        "output_folder= '/content/drive/Shareddrives/01. Anime Server/01. Anime/01. TV Show/23. Yofukashi no Uta/Season1/TEST' #@param {type:\"string\"}\n",
        "#@markdown <h3><b>Choose your convert setting :</h5>\n",
        "#@markdown <h><i>main = default | main10 = H264 10 Bit</i>\n",
        "Overwrite_Option = \"Overwrite an Existing File\" #@param [\"Default\", \"Overwrite an Existing File\", \"Don't Overwrite an Existing File\"]\n",
        "Convert_Method = \"With Subtitle\" #@param [\"No Subtitle\", \"With Subtitle\"]\n",
        "SubtitleTrack = 0 #@param {type:\"slider\", min:0, max:10}\n",
        "NumberOfFirstCharactertoRemove = 0 #@param {type:\"slider\", min:0, max:50}\n",
        "#@markdown <h3><b>Choose your encode setting :</h5>\n",
        "#@markdown <h><i>main = default | main10 = H264 10 Bit</i>\n",
        "set_profile = \"main\" #@param [\"main\", \"main10\"]\n",
        "output_file_type = 'mp4' #@param [\"mkv\", \"mp4\"]\n",
        "#@markdown <h3><b>Video quality :</h3>\n",
        "#@markdown <h><i>0 (Best) to 51 (Worst)</i><h>\n",
        "set_cq = '28'#@param {type:\"string\"}\n",
        "set_qmin = '28'#@param {type:\"string\"}\n",
        "set_qmax = '30'#@param {type:\"string\"}\n",
        "my_suffixes = (\".mp4\", \".mov\", \".mkv\", \".avi\", \".ts\", \".flv\", \".webm\", \".wmv\", \".mpg\", \".m4v\", \".f4v\", \".m2ts\", \".mpeg\", \".3gp\", \".MP4\", \".MOV\", \".MKV\", \".AVI\", \".TS\", \".FLV\", \".WEBM\", \".WMV\", \".MPG\", \".M4V\", \".F4V\", \".M2TS\", \".MPEG\", \".3GP\")\n",
        "#@markdown <h3><b>Crop Settings :</h3>\n",
        "crop_w = '0'#@param {type:\"string\"}\n",
        "crop_h = '0'#@param {type:\"string\"}\n",
        "crop_x = '0'#@param {type:\"string\"}\n",
        "crop_y = '0'#@param {type:\"string\"}\n",
        "\n",
        "dchara = NumberOfFirstCharactertoRemove\n",
        "fix = len(input_file_type)\n",
        "\n",
        "from pathlib import Path\n",
        "Path(output_folder).mkdir(parents=True, exist_ok=True)\n",
        "\n",
        "def noSub():\n",
        "  def owdef():\n",
        "    cmd = !ffmpeg -v error -stats -hwaccel cuvid -i \"$input_folder/{filename}\" -metadata comment=\"HEVC-CQ$set_cq-AAC\" -c:v h264_nvenc -preset:v slow -rc vbr -cq $set_cq -qmin $set_qmin -qmax $set_qmax -b:v 0 -profile:v $set_profile -init_qpP 23 -init_qpB 25 -init_qpI 21 -filter:v \"crop=$crop_w:$crop_h:$crop_x:$crop_y\" -c:a copy \"$output_folder/{filename[dchara:-(int(fix))]}{output_file_type}\"\n",
        "  def owyes():\n",
        "    cmd = !ffmpeg -v error -stats -hwaccel cuvid -i \"$input_folder/{filename}\" -metadata comment=\"HEVC-CQ$set_cq-AAC\" -c:v h264_nvenc -preset:v slow -rc vbr -cq $set_cq -qmin $set_qmin -qmax $set_qmax -b:v 0 -profile:v $set_profile -init_qpP 23 -init_qpB 25 -init_qpI 21 -filter:v \"crop=$crop_w:$crop_h:$crop_x:$crop_y\" -c:a copy \"$output_folder/{filename[dchara:-(int(fix))]}{output_file_type}\" -y\n",
        "  def owno():\n",
        "    cmd = !ffmpeg -v error -stats -hwaccel cuvid -i \"$input_folder/{filename}\" -metadata comment=\"HEVC-CQ$set_cq-AAC\" -c:v h264_nvenc -preset:v slow -rc vbr -cq $set_cq -qmin $set_qmin -qmax $set_qmax -b:v 0 -profile:v $set_profile -init_qpP 23 -init_qpB 25 -init_qpI 21 -filter:v \"crop=$crop_w:$crop_h:$crop_x:$crop_y\" -c:a copy \"$output_folder/{filename[dchara:-(int(fix))]}{output_file_type}\" -n\n",
        "  if Overwrite_Option == \"Default\":\n",
        "    owdef()\n",
        "  if Overwrite_Option == \"Overwrite an Existing File\":\n",
        "    owyes()\n",
        "  if Overwrite_Option == \"Don't Overwrite an Existing File\":\n",
        "    owno()\n",
        "\n",
        "def withSub():\n",
        "  def owdef():\n",
        "    cmd = !ffmpeg -v error -stats -hwaccel cuvid -i \"$input_folder/{filename}\" -metadata comment=\"HEVC-CQ$set_cq-AAC\" -c:v h264_nvenc -preset:v slow -rc vbr -cq $set_cq -qmin $set_qmin -qmax $set_qmax -b:v 0 -profile:v $set_profile -init_qpP 23 -init_qpB 25 -init_qpI 21 -filter:v \"crop=$crop_w:$crop_h:$crop_x:$crop_y\" -c:a copy -filter_complex \"subtitles='$input_folder/{filename}:si={SubtitleTrack}'\" \"$output_folder/{filename[dchara:-(int(fix))]}{output_file_type}\"\n",
        "  def owyes():\n",
        "    cmd = !ffmpeg -v error -stats -hwaccel cuvid -i \"$input_folder/{filename}\" -metadata comment=\"HEVC-CQ$set_cq-AAC\" -c:v h264_nvenc -preset:v slow -rc vbr -cq $set_cq -qmin $set_qmin -qmax $set_qmax -b:v 0 -profile:v $set_profile -init_qpP 23 -init_qpB 25 -init_qpI 21 -filter:v \"crop=$crop_w:$crop_h:$crop_x:$crop_y\" -c:a copy -filter_complex \"subtitles='$input_folder/{filename}:si={SubtitleTrack}'\" \"$output_folder/{filename[dchara:-(int(fix))]}{output_file_type}\" -y\n",
        "  def owno():\n",
        "    cmd = !ffmpeg -v error -stats -hwaccel cuvid -i \"$input_folder/{filename}\" -metadata comment=\"HEVC-CQ$set_cq-AAC\" -c:v h264_nvenc -preset:v slow -rc vbr -cq $set_cq -qmin $set_qmin -qmax $set_qmax -b:v 0 -profile:v $set_profile -init_qpP 23 -init_qpB 25 -init_qpI 21 -filter:v \"crop=$crop_w:$crop_h:$crop_x:$crop_y\" -c:a copy -filter_complex \"subtitles='$input_folder/{filename}:si={SubtitleTrack}'\" \"$output_folder/{filename[dchara:-(int(fix))]}{output_file_type}\" -n\n",
        "  if Overwrite_Option == \"Default\":\n",
        "    owdef()\n",
        "  if Overwrite_Option == \"Overwrite an Existing File\":\n",
        "    owyes()\n",
        "  if Overwrite_Option == \"Don't Overwrite an Existing File\":\n",
        "    owno()\n",
        "\n",
        "for filename in os.listdir(input_folder):\n",
        "  if (filename.endswith(my_suffixes)):\n",
        "        if Convert_Method == \"No Subtitle\":\n",
        "          noSub()\n",
        "        if Convert_Method == \"With Subtitle\":\n",
        "          withSub()"
      ],
      "metadata": {
        "cellView": "form",
        "id": "soXQY-FPHlhF"
      },
      "execution_count": null,
      "outputs": []
    },
    {
      "cell_type": "markdown",
      "metadata": {
        "id": "yakbThfRnJr1"
      },
      "source": [
        "###» Crop Video to (*HEVC*-AAC) - Need GPU - Nvidia Telsa P100 or T4"
      ]
    },
    {
      "cell_type": "code",
      "metadata": {
        "id": "VKehJoo8MCsK",
        "cellView": "form"
      },
      "source": [
        "#@markdown <h3><b>Full Folder Encode with Crop :</h3>\n",
        "\n",
        "import os, sys, re\n",
        "\n",
        "input_folder= '/content/drive/My Drive/Videos/' #@param {type:\"string\"}\n",
        "output_folder= '/content/drive/My Drive/Videos/HEVC' #@param {type:\"string\"}\n",
        "#@markdown <h3><b>Choose your encode setting :</h5>\n",
        "#@markdown <h><i>main = default | main10 = HEVC 10 Bit</i>\n",
        "encode_setting = \"HEVC (Audio Copy)\" #@param [\"HEVC AAC 160k\", \"HEVC AAC_adtstoasc\", \"HEVC (Audio Copy)\"]\n",
        "set_profile = \"main\" #@param [\"main\", \"main10\"]\n",
        "output_file_type = 'mp4' #@param [\"mkv\", \"mp4\"]\n",
        "#@markdown <h3><b>Video quality :</h3>\n",
        "#@markdown <h><i>0 (Best) to 51 (Worst)</i><h>\n",
        "set_cq = '28'#@param {type:\"string\"}\n",
        "set_qmin = '28'#@param {type:\"string\"}\n",
        "set_qmax = '30'#@param {type:\"string\"}\n",
        "my_suffixes = (\".mp4\", \".mov\", \".mkv\", \".avi\", \".ts\", \".flv\", \".webm\", \".wmv\", \".mpg\", \".m4v\", \".f4v\", \".m2ts\", \".mpeg\", \".3gp\", \".MP4\", \".MOV\", \".MKV\", \".AVI\", \".TS\", \".FLV\", \".WEBM\", \".WMV\", \".MPG\", \".M4V\", \".F4V\", \".M2TS\", \".MPEG\", \".3GP\")\n",
        "#@markdown <h3><b>Crop Settings :</h3>\n",
        "crop_w = '0'#@param {type:\"string\"}\n",
        "crop_h = '0'#@param {type:\"string\"}\n",
        "crop_x = '0'#@param {type:\"string\"}\n",
        "crop_y = '0'#@param {type:\"string\"}\n",
        "\n",
        "from pathlib import Path\n",
        "Path(output_folder).mkdir(parents=True, exist_ok=True)\n",
        "\n",
        "if encode_setting == 'HEVC AAC 160k':\n",
        " for filename in os.listdir(input_folder):\n",
        "    if (filename.endswith(my_suffixes)):\n",
        "        cmd = !ffmpeg -v quiet -stats -hwaccel cuvid -i \"$input_folder/{filename}\" -metadata comment=\"HEVC-CQ$set_cq-AAC\" -c:v hevc_nvenc -preset:v slow -rc vbr -cq $set_cq -qmin $set_qmin -qmax $set_qmax -b:v 0 -profile:v $set_profile -init_qpP 23 -init_qpB 25 -init_qpI 21 -filter:v \"crop=$crop_w:$crop_h:$crop_x:$crop_y\" -c:a aac -b:a 160k \"$output_folder/{filename.rpartition('.')[0]}.$output_file_type\"\n",
        "\n",
        "if encode_setting == 'HEVC AAC_adtstoasc':\n",
        " for filename in os.listdir(input_folder):\n",
        "    if (filename.endswith(my_suffixes)):\n",
        "        cmd = !ffmpeg -v quiet -stats -hwaccel cuvid -i \"$input_folder/{filename}\" -metadata comment=\"HEVC-CQ$set_cq-AAC\" -c:v hevc_nvenc -preset:v slow -rc vbr -cq $set_cq -qmin $set_qmin -qmax $set_qmax -b:v 0 -profile:v $set_profile -init_qpP 23 -init_qpB 25 -init_qpI 21 -filter:v \"crop=$crop_w:$crop_h:$crop_x:$crop_y\" -bsf:a aac_adtstoasc \"$output_folder/{filename.rpartition('.')[0]}.$output_file_type\"\n",
        "\n",
        "if encode_setting == 'HEVC (Audio Copy)':\n",
        " for filename in os.listdir(input_folder):\n",
        "    if (filename.endswith(my_suffixes)):\n",
        "        cmd = !ffmpeg -v quiet -stats -hwaccel cuvid -i \"$input_folder/{filename}\" -metadata comment=\"HEVC-CQ$set_cq-AAC\" -c:v hevc_nvenc -preset:v slow -rc vbr -cq $set_cq -qmin $set_qmin -qmax $set_qmax -b:v 0 -profile:v $set_profile -init_qpP 23 -init_qpB 25 -init_qpI 21 -filter:v \"crop=$crop_w:$crop_h:$crop_x:$crop_y\" -c:a copy \"$output_folder/{filename.rpartition('.')[0]}.$output_file_type\"\n",
        "                     "
      ],
      "execution_count": null,
      "outputs": []
    },
    {
      "cell_type": "markdown",
      "metadata": {
        "id": "RDHuIkoi6l9a"
      },
      "source": [
        "###» Display Media File Codecs + Metadata"
      ]
    },
    {
      "cell_type": "code",
      "metadata": {
        "id": "Sv8au_RO6WUs",
        "cellView": "form"
      },
      "source": [
        "import os, sys, re\n",
        "\n",
        "media_file_path = \"\" #@param {type:\"string\"}\n",
        "\n",
        "os.environ['inputFile'] = media_file_path\n",
        "\n",
        "!ffmpeg -i \"$inputFile\" -hide_banner"
      ],
      "execution_count": null,
      "outputs": []
    },
    {
      "cell_type": "markdown",
      "metadata": {
        "id": "X4yIG_nqYAoH"
      },
      "source": [
        "> *You can ignore the \"At least one output file must be specified\" error after running this.*\n"
      ]
    },
    {
      "cell_type": "markdown",
      "metadata": {
        "id": "GahMjYf8miNs"
      },
      "source": [
        "###» Generate Thumbnails - Preview from Video "
      ]
    },
    {
      "cell_type": "code",
      "metadata": {
        "cellView": "form",
        "id": "J2u-Rha8miNy"
      },
      "source": [
        "#@markdown <h3>← Click Here to generate thumbnail for selected video</h3>\n",
        "\n",
        "\n",
        "import os, sys, re\n",
        "from IPython.display import Image, display\n",
        "os.makedirs(\"/content/drive/My Drive/Thumbnail\", exist_ok=True)\n",
        "\n",
        "video_file_path = \"\" #@param {type:\"string\"}\n",
        "output_file_type = 'png' #@param [\"png\", \"jpg\"]\n",
        "creation_engine = 'vcsi' #@param [\"ffmpeg\", \"vcsi\"]\n",
        "output_path = 'same folder' #@param [\"same folder\", \"My Drive/Thumbnail\"]\n",
        "\n",
        "output_file_path = re.search(\"^[\\/].+\\/\", video_file_path)\n",
        "output_file_path_raw = output_file_path.group(0)\n",
        "delsplit = re.search(\"\\/(?:.(?!\\/))+$\", video_file_path)\n",
        "filename = re.sub(\"^[\\/]\", \"\", delsplit.group(0))\n",
        "filename_raw = re.sub(\".{4}$\", \"\", filename)\n",
        "file_extension = re.search(\".{3}$\", filename)\n",
        "file_extension_raw = file_extension.group(0)\n",
        "\n",
        "os.environ['inputFile'] = video_file_path\n",
        "os.environ['outputPath'] = output_file_path_raw\n",
        "os.environ['outputExtension'] = output_file_type\n",
        "os.environ['fileName'] = filename_raw\n",
        "os.environ['fileExtension'] = file_extension_raw\n",
        "\n",
        "if output_path == \"same folder\":\n",
        "  if creation_engine == 'ffmpeg':\n",
        "   !ffmpeg -hide_banner -i \"$inputFile\" -vframes 1 -q:v 0 -vf \"select=not(mod(n\\,200)),scale=-1:480,tile=3x2\" -an \"$outputPath\"/\"$fileName\"_thumbnails.\"$outputExtension\"\n",
        "\n",
        "if output_path == \"same folder\":\n",
        "  if creation_engine == 'vcsi':\n",
        "   !vcsi   \"$inputFile\" -o \"$outputPath\"/\"$fileName\"_thumbnails.\"$outputExtension\"\n",
        "\n",
        "if not output_path == \"same folder\":\n",
        "   !vcsi   \"$inputFile\" -o \"/content/drive/My Drive/Thumbnail\"/\"$fileName\"_thumbnails.\"$outputExtension\"\n"
      ],
      "execution_count": null,
      "outputs": []
    },
    {
      "cell_type": "code",
      "metadata": {
        "id": "7KnkVIMRztKl",
        "cellView": "form"
      },
      "source": [
        "#@markdown <h3>← Click Here to generate thumbnail for all video in input folder path</h3>\n",
        "\n",
        "import os, sys, re\n",
        "from IPython.display import Image, display\n",
        "os.makedirs(\"/content/drive/My Drive/Thumbnail\", exist_ok=True)\n",
        "\n",
        "video_files_path = \"\" #@param {type:\"string\"}\n",
        "output_path = 'same folder' #@param [\"same folder\", \"My Drive/Thumbnail\"]\n",
        "grid = 'default' #@param [\"default\", \"5x5\", \"7x7\", \"10x10\"]\n",
        "\n",
        "output_file_type = 'png' #@param [\"png\", \"jpg\"]\n",
        "timestamp = False #@param {type:\"boolean\"}\n",
        "\n",
        "if timestamp == False:\n",
        " if grid == 'default':\n",
        "  if output_path == \"same folder\":\n",
        "   !vcsi  \"$video_files_path\" -o \"$video_files_path\" -f \"$output_file_type\"\n",
        "\n",
        "  if not output_path == \"same folder\":\n",
        "   !vcsi   \"$video_files_path\" -o \"/content/drive/My Drive/Thumbnail/\" -f \"$output_file_type\"\n",
        "\n",
        " if grid == '5x5':\n",
        "  if output_path == \"same folder\":\n",
        "   !vcsi -g 5x5   \"$video_files_path\" -o \"$video_files_path\" -f \"$output_file_type\"\n",
        "\n",
        "  if not output_path == \"same folder\":\n",
        "   !vcsi -g 5x5   \"$video_files_path\" -o \"/content/drive/My Drive/Thumbnail/\" -f \"$output_file_type\"\n",
        "\n",
        " if grid == '7x7':\n",
        "  if output_path == \"same folder\":\n",
        "   !vcsi -g 7x7   \"$video_files_path\" -o \"$video_files_path\" -f \"$output_file_type\"\n",
        "\n",
        "  if not output_path == \"same folder\":\n",
        "   !vcsi -g 7x7   \"$video_files_path\" -o \"/content/drive/My Drive/Thumbnail/\" -f \"$output_file_type\"\n",
        "\n",
        " if grid == '10x10':\n",
        "  if output_path == \"same folder\":\n",
        "   !vcsi -g 10x10   \"$video_files_path\" -o \"$video_files_path\" -f \"$output_file_type\"\n",
        "\n",
        "  if not output_path == \"same folder\":\n",
        "   !vcsi -g 10x10   \"$video_files_path\" -o \"/content/drive/My Drive/Thumbnail/\" -f \"$output_file_type\"\n",
        "\n",
        "else:\n",
        " if grid == 'default':\n",
        "  if output_path == \"same folder\":\n",
        "   !vcsi  -t \"$video_files_path\" -o \"$video_files_path\" -f \"$output_file_type\"\n",
        "\n",
        "  if not output_path == \"same folder\":\n",
        "   !vcsi  -t \"$video_files_path\" -o \"/content/drive/My Drive/Thumbnail/\" -f \"$output_file_type\"\n",
        "\n",
        " if grid == '5x5':\n",
        "  if output_path == \"same folder\":\n",
        "   !vcsi -t -g 5x5   \"$video_files_path\" -o \"$video_files_path\" -f \"$output_file_type\"\n",
        "\n",
        "  if not output_path == \"same folder\":\n",
        "   !vcsi -t -g 5x5   \"$video_files_path\" -o \"/content/drive/My Drive/Thumbnail/\" -f \"$output_file_type\"\n",
        "\n",
        " if grid == '7x7':\n",
        "  if output_path == \"same folder\":\n",
        "   !vcsi -t -g 7x7   \"$video_files_path\" -o \"$video_files_path\" -f \"$output_file_type\"\n",
        "\n",
        "  if not output_path == \"same folder\":\n",
        "   !vcsi -t -g 7x7   \"$video_files_path\" -o \"/content/drive/My Drive/Thumbnail/\" -f \"$output_file_type\"\n",
        "\n",
        " if grid == '10x10':\n",
        "  if output_path == \"same folder\":\n",
        "   !vcsi -t -g 10x10   \"$video_files_path\" -o \"$video_files_path\" -f \"$output_file_type\"\n",
        "\n",
        "  if not output_path == \"same folder\":\n",
        "   !vcsi -t -g 10x10   \"$video_files_path\" -o \"/content/drive/My Drive/Thumbnail/\" -f \"$output_file_type\"\n",
        "\n",
        " \n",
        "\n"
      ],
      "execution_count": null,
      "outputs": []
    },
    {
      "cell_type": "markdown",
      "metadata": {
        "id": "NqB2mnt78bxA"
      },
      "source": [
        "##### This will create a 3x2 layout in the same directory as your video file.\n",
        "* [*Example*](https://yuju.pw/y/39i2.png) *of output image*"
      ]
    },
    {
      "cell_type": "markdown",
      "source": [
        "###» Video to (*H2.64*-AAC) or (*HEVC*-AAC)  - Need GPU - Nvidia Telsa P100 or T4"
      ],
      "metadata": {
        "id": "fl-yUf_M4VCX"
      }
    },
    {
      "cell_type": "markdown",
      "metadata": {
        "id": "Cqy3vXXOMI06"
      },
      "source": [
        "# ✦ *Colab Still Alive Console Script:*\n",
        "<p><font size=2px ><font color=\"red\"> Tip - Set a javascript interval to click on the connect button every 60 seconds. Open developer-settings (in your web-browser) with Ctrl+Shift+I then click on console tab and type this on the console prompt. (for mac press Option+Command+I)</font></p><b>Copy script in hidden cell and paste at your browser console !!! DO NOT CLOSE YOUR BROWSER IN ORDER TO STILL RUNNING SCRIPT</b>"
      ]
    },
    {
      "cell_type": "markdown",
      "metadata": {
        "id": "3Z8cK8h2Avbv"
      },
      "source": [
        "<code>function ClickConnect(){\n",
        "console.log(\"Working\"); \n",
        "document.querySelector(\"colab-connect-button\").click() \n",
        "}setInterval(ClickConnect,6000)</code>"
      ]
    },
    {
      "cell_type": "code",
      "metadata": {
        "id": "OH3xVkwWmPYL",
        "cellView": "form"
      },
      "source": [
        "#@title ← ឵឵ ឵Run this cell to crash your current Runtime if you're low on memory\n",
        "#@markdown <i>After crashing, you'll have access to all the preoccupied storage</i>\n",
        "some_str = ' ' * 5120000000000"
      ],
      "execution_count": null,
      "outputs": []
    }
  ]
}