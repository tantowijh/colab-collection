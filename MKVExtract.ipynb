{
  "nbformat": 4,
  "nbformat_minor": 0,
  "metadata": {
    "colab": {
      "name": "MKVExtract.ipynb",
      "provenance": [],
      "collapsed_sections": [
        "eev3EcLEiK1y",
        "musENxODtrqh",
        "tKknJKoQtlrF"
      ],
      "authorship_tag": "ABX9TyPyae0dcEm9MWIA1UeIfVRW",
      "include_colab_link": true
    },
    "kernelspec": {
      "name": "python3",
      "display_name": "Python 3"
    },
    "language_info": {
      "name": "python"
    }
  },
  "cells": [
    {
      "cell_type": "markdown",
      "metadata": {
        "id": "view-in-github",
        "colab_type": "text"
      },
      "source": [
        "<a href=\"https://colab.research.google.com/github/tantowijh/colab-collection/blob/main/MKVExtract.ipynb\" target=\"_parent\"><img src=\"https://colab.research.google.com/assets/colab-badge.svg\" alt=\"Open In Colab\"/></a>"
      ]
    },
    {
      "cell_type": "markdown",
      "source": [
        "### ⬅️ **Mount Google Drive**\n",
        "Run the following command to mount google drive:"
      ],
      "metadata": {
        "id": "eev3EcLEiK1y"
      }
    },
    {
      "cell_type": "code",
      "metadata": {
        "id": "PRtU5F7HEuhR",
        "cellView": "form",
        "colab": {
          "base_uri": "https://localhost:8080/"
        },
        "outputId": "41f40bdb-16fc-4b3b-a4a1-2546f6c087e2"
      },
      "source": [
        "#@title **[0] Link your Google Drive**\n",
        "#@markdown <center><img src='https://upload.wikimedia.org/wikipedia/commons/thumb/d/da/Google_Drive_logo.png/600px-Google_Drive_logo.png' height=\"50\" alt=\"Gdrive-logo\"/></center>\n",
        "from google.colab import drive\n",
        "drive.mount('/content/drive', force_remount=True)"
      ],
      "execution_count": null,
      "outputs": [
        {
          "output_type": "stream",
          "name": "stdout",
          "text": [
            "Mounted at /content/drive\n"
          ]
        }
      ]
    },
    {
      "cell_type": "code",
      "metadata": {
        "id": "w0EIfFJWXkTc",
        "cellView": "form"
      },
      "source": [
        "#@title **[1] Run this code if you want a longer run time (Optional but recommended)</font>**\n",
        "#@markdown *This cell runs a JS code that automatically reconnects you to avoid inactivity due to idle.*\n",
        "\n",
        "import IPython\n",
        "from IPython.display import clear_output\n",
        "from google.colab import output\n",
        "\n",
        "display(IPython.display.Javascript('''\n",
        " function connectRefresher() {\n",
        "       window.ConnectButtonIntervalId = setInterval(function ConnectButton(){\n",
        "                console.log(\"connected\"); \n",
        "                document.querySelector(\"#top-toolbar > colab-connect-button\").shadowRoot.querySelector(\"#connect\").click();\n",
        "                document.querySelector(\"colab-sessions-dialog\").shadowRoot.querySelector(\"#footer > div > paper-button\").click();\n",
        "                console.log(\"closed the dialog!!\"); \n",
        "            },60000);\n",
        "    }\n",
        "    \n",
        " function clearRefresher() { \n",
        "           console.log(\"clear Interval called !!\");\n",
        "           clearInterval(window.ConnectButtonIntervalId);\n",
        "    }\n",
        "\n",
        " connectRefresher(); //to connect the refresher\n",
        " clearRefresher(); //to disconnect the refresher\n",
        "'''))\n",
        "\n",
        "clear_output()"
      ],
      "execution_count": null,
      "outputs": []
    },
    {
      "cell_type": "markdown",
      "source": [
        "### ⬅️ **MKV Extractor**"
      ],
      "metadata": {
        "id": "jyZOGtCVkg6-"
      }
    },
    {
      "cell_type": "code",
      "execution_count": null,
      "metadata": {
        "cellView": "form",
        "id": "G3JHGE0Jtzme",
        "colab": {
          "base_uri": "https://localhost:8080/",
          "height": 140
        },
        "outputId": "1da08adb-0b3b-4faf-c726-223dab588151"
      },
      "outputs": [
        {
          "output_type": "stream",
          "name": "stdout",
          "text": [
            "Server Started Successfully\n"
          ]
        }
      ],
      "source": [
        "#@markdown <h3>➡️ Click Here to Install FFmpeg, VCSI & Mkvtoolnix</h3>\n",
        "\n",
        "from IPython.display import clear_output\n",
        "import os, sys, urllib.request\n",
        "HOME = os.path.expanduser(\"~\")\n",
        "pathDoneCMD = f'{HOME}/doneCMD.sh'\n",
        "if not os.path.exists(f\"{HOME}/.ipython/ttmg.py\"):\n",
        "    hCode = \"https://raw.githubusercontent.com/yunooooo/gcct/master/res/ttmg.py\"\n",
        "    urllib.request.urlretrieve(hCode, f\"{HOME}/.ipython/ttmg.py\")\n",
        "\n",
        "from ttmg import (\n",
        "    loadingAn,\n",
        "    textAn,\n",
        ")\n",
        "\n",
        "loadingAn(name=\"lds\")\n",
        "textAn(\"Installing ffmpeg...\", ty='twg')\n",
        "!apt install ffmpeg &> /dev/null\n",
        "textAn(\"Installing mkvtoolnix...\", ty='twg')\n",
        "!sudo apt-get install mkvtoolnix &> /dev/null\n",
        "textAn(\"Installing vcsi...\", ty='twg') \n",
        "!pip install vcsi &> /dev/null\n",
        "\n",
        "\n",
        "from IPython.display import HTML, clear_output\n",
        "clear_output()\n",
        "print(\"Server Started Successfully\")"
      ]
    },
    {
      "cell_type": "markdown",
      "source": [
        "##### ⬅️ **MKVToolnix Mode**"
      ],
      "metadata": {
        "id": "musENxODtrqh"
      }
    },
    {
      "cell_type": "code",
      "source": [
        "#@title <h5>➡️ Generate MKV Information</h5>\n",
        "FilePath = \"\" #@param {type:\"string\"}\n",
        "!mkvmerge -i '{FilePath}'"
      ],
      "metadata": {
        "cellView": "form",
        "id": "YtuxTIQEJBQ8"
      },
      "execution_count": null,
      "outputs": []
    },
    {
      "cell_type": "code",
      "source": [
        "#@title <h5>➡️ Start MKV Extract</h5>\n",
        "\n",
        "#Input and output file\n",
        "FilePath = \"\" #@param {type:\"string\"}\n",
        "SameFolderExtract = True #@param {type:\"boolean\"}\n",
        "#@markdown >You can leave output path empty if extract in the same folder is checked\n",
        "OutputPath = \"\" #@param {type:\"string\"}\n",
        "from pathlib import Path\n",
        "Path(OutputPath).mkdir(parents=True, exist_ok=True)\n",
        "OutputType = input(\"Please enter export file type... \\nExample (srt, ass, vtt, etc) \\nFile type: \")\n",
        "Type = '.' + OutputType\n",
        "\n",
        "#Track Initiation\n",
        "StartTrack = None #@param {type:\"integer\"}\n",
        "StartTrack = StartTrack-1\n",
        "EndTrack = None #@param {type:\"integer\"}\n",
        "EndTrack = EndTrack-1\n",
        "\n",
        "#Renaming file\n",
        "Fix = len(\".mkv\")\n",
        "src =f\"{FilePath}\"\n",
        "dst =f\"{src[:-(int(Fix))]}\"\n",
        "if SameFolderExtract == True:\n",
        "  dst =f\"{dst}_track\"\n",
        "else:\n",
        "  sparator = '/'\n",
        "  for i in range(1,11):\n",
        "    # Remove all characters before the character '-' from string\n",
        "    before, sparator, after = dst.partition('/')\n",
        "    if len(after) > 0:\n",
        "      dst = after\n",
        "  dst =f\"{OutputPath}/{dst}\"\n",
        "\n",
        "lang = input(\"Please input track specs... \\nExample (audio, video, subtitle, id, eng, ms, jp, etc) \\n Specs: \")\n",
        "\n",
        "# original command = mkvextract tracks myFile.mkv 3:myFile1.srt 4:myFile2.srt\n",
        "\n",
        "for Tracks in range(EndTrack):\n",
        "  StartTrack = StartTrack+1\n",
        "  Track = StartTrack\n",
        "  !mkvextract tracks '{FilePath}' '{Track}:{dst}{Track}.{lang}{Type}'"
      ],
      "metadata": {
        "cellView": "form",
        "id": "5n95ircfOWIW"
      },
      "execution_count": null,
      "outputs": []
    },
    {
      "cell_type": "markdown",
      "source": [
        "##### ⬅️ **FFmpeg Mode**"
      ],
      "metadata": {
        "id": "puAQMXBRt7K6"
      }
    },
    {
      "cell_type": "code",
      "source": [
        "#@title <h5>➡️ Generate MKV Information</h5>\n",
        "FilePath = \"/content/War_God_System!_-_05_(B-Global_Donghua_1920x1080_HEVC_AAC_MKV).mkv\" #@param {type:\"string\"}\n",
        "!ffprobe '{FilePath}' 2>&1 >/dev/null | grep Stream"
      ],
      "metadata": {
        "cellView": "form",
        "id": "jwURFQjNt7K6"
      },
      "execution_count": null,
      "outputs": []
    },
    {
      "cell_type": "code",
      "source": [
        "#@title <h5>➡️ Start MKV Extract</h5>\n",
        "\n",
        "from IPython.display import clear_output\n",
        "\n",
        "#Input and output file\n",
        "FilePath = \"/content/drive/Shareddrives/06. YT-DLP/[NC-Raws] \\u5373\\u4F7F\\u5982\\u6B64\\u4F9D\\u65E7\\u6B65\\u6B65\\u7D27\\u903C - 07 (B-Global 1920x1080 HEVC AAC MKV) [5FA479B2].mkv\" #@param {type:\"string\"}\n",
        "SameFolderExtract = False #@param {type:\"boolean\"}\n",
        "#@markdown >You can leave output path empty if extract in the same folder is checked\n",
        "OutputPath = \"/content\" #@param {type:\"string\"}\n",
        "from pathlib import Path\n",
        "Path(OutputPath).mkdir(parents=True, exist_ok=True)\n",
        "OutputType = input(\"Please enter export file type... \\nExample (srt, ass, vtt, etc) \\nFile type: \")\n",
        "Type = '.' + OutputType\n",
        "\n",
        "#Track Initiation\n",
        "StartTrack = 2 #@param {type:\"integer\"}\n",
        "StartTrack = StartTrack-1\n",
        "EndTrack = 6 #@param {type:\"integer\"}\n",
        "EndTrack = EndTrack\n",
        "\n",
        "#Renaming file\n",
        "Fix = len(\".mkv\")\n",
        "src =f\"{FilePath}\"\n",
        "dst =f\"{src[:-(int(Fix))]}\"\n",
        "if SameFolderExtract == True:\n",
        "  dst =f\"{dst}_track\"\n",
        "else:\n",
        "  sparator = '/'\n",
        "  for i in range(1,11):\n",
        "    # Remove all characters before the character '-' from string\n",
        "    before, sparator, after = dst.partition('/')\n",
        "    if len(after) > 0:\n",
        "      dst = after\n",
        "  dst =f\"{OutputPath}/{dst}_track\"\n",
        "!ffprobe '{FilePath}' 2>&1 >/dev/null | grep Stream > namingspecslist.txt\n",
        "import re\n",
        "for Tracks in range(StartTrack,EndTrack):\n",
        "  StartTrack = StartTrack+1\n",
        "  Track = StartTrack\n",
        "  x = Track+1\n",
        "  fname = open(\"namingspecslist.txt\")\n",
        "  cuk = !sed -n {x}p namingspecslist.txt\n",
        "  specs = str(cuk)\n",
        "  pattern = '\\(.*?\\)'\n",
        "  findid = re.search(pattern, specs)\n",
        "  specsresult = findid.group()\n",
        "  scr =f\"{specsresult}\"\n",
        "  id = scr.replace(\"(\", \"\")\n",
        "  id = id.replace(\")\", \"\")\n",
        "  !ffmpeg -y -v error -stats -txt_format text -i '{FilePath}' -map 0:{Track} '{dst}{Track}.{id}{Type}'"
      ],
      "metadata": {
        "cellView": "form",
        "id": "4Y7Zol_1t7K7"
      },
      "execution_count": null,
      "outputs": []
    },
    {
      "cell_type": "markdown",
      "source": [
        "### ⬅️ **File Rename**"
      ],
      "metadata": {
        "id": "tKknJKoQtlrF"
      }
    },
    {
      "cell_type": "code",
      "source": [
        "#@title <h3>➡️ Renaming File</h3>\n",
        "import os\n",
        "import signal\n",
        "import sys\n",
        "\n",
        "def sigint_handler(signal, frame):\n",
        "    print ('KeyboardInterrupt is caught')\n",
        "    sys.exit(0)\n",
        "signal.signal(signal.SIGINT, sigint_handler)\n",
        "\n",
        "InputLocation = \"\" #@param {type:\"string\"}\n",
        "\n",
        "Text2Replace  = \" \" #@param {type:\"string\"}\n",
        "ReplacementText   = \"_\" #@param {type:\"string\"}\n",
        "\n",
        "FileType = \"srt\" #@param [\"Write it yourself...\", \"mp4\", \"mkv\", \"png\", \"jpg\", \"jpeg\", \"ass\", \"srt\"]\n",
        "if FileType == \"Write it yourself...\":\n",
        "  ftype = input('Enter the file type to rename: ') \n",
        "  Extension = '.' + ftype\n",
        "else:\n",
        "  Extension = '.' + FileType\n",
        "\n",
        "PutLabel = False #@param {type:\"boolean\"}\n",
        "Label = \"\" #@param {type:\"string\"} \n",
        "\n",
        "fix = len(Extension)\n",
        "#-(int(fix))\n",
        "\n",
        "# Renaming the file\n",
        "\n",
        "def RenameMe():\n",
        "  for count, filename in enumerate(os.listdir(InputLocation)):\n",
        "    if(filename.endswith(Extension)):\n",
        "          src =f\"{InputLocation}/{filename}\"  # foldername/filename, if .py file is outside folder\n",
        "          cuk =f\"{filename}\"\n",
        "          fname = cuk.replace(Text2Replace, ReplacementText)\n",
        "          dst =f\"{InputLocation}/{fname}\"\n",
        "          \n",
        "          # rename() function will\n",
        "          # rename all the files with the pre defined extension\n",
        "          os.rename(src, dst)\n",
        "\n",
        "\n",
        "def LabelMe():\n",
        "  for count, filename in enumerate(os.listdir(InputLocation)):\n",
        "    if(filename.endswith(Extension)):\n",
        "          src =f\"{InputLocation}/{filename}\"  # foldername/filename, if .py file is outside folder\n",
        "          dst =f\"{InputLocation}/{Label} {filename}\"\n",
        "          \n",
        "          # rename() function will\n",
        "          # rename all the files with the pre defined extension\n",
        "          os.rename(src, dst)\n",
        "\n",
        "if PutLabel == False:\n",
        "  RenameMe()\n",
        "else:\n",
        "  LabelMe()"
      ],
      "metadata": {
        "cellView": "form",
        "id": "Tz_ayL911PuB"
      },
      "execution_count": null,
      "outputs": []
    }
  ]
}