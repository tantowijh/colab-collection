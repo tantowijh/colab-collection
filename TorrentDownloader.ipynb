{
  "nbformat": 4,
  "nbformat_minor": 0,
  "metadata": {
    "colab": {
      "name": "TorrentDownloader.ipynb",
      "provenance": [],
      "collapsed_sections": [
        "9RolFDgntQaq",
        "StbL4qrltcEu"
      ],
      "authorship_tag": "ABX9TyOZx47wcqJ8hpOZ4ILK5WDj",
      "include_colab_link": true
    },
    "kernelspec": {
      "name": "python3",
      "display_name": "Python 3"
    },
    "language_info": {
      "name": "python"
    },
    "gpuClass": "standard"
  },
  "cells": [
    {
      "cell_type": "markdown",
      "metadata": {
        "id": "view-in-github",
        "colab_type": "text"
      },
      "source": [
        "<a href=\"https://colab.research.google.com/github/tantowijh/colab-collection/blob/main/TorrentDownloader.ipynb\" target=\"_parent\"><img src=\"https://colab.research.google.com/assets/colab-badge.svg\" alt=\"Open In Colab\"/></a>"
      ]
    },
    {
      "cell_type": "markdown",
      "source": [
        "####**Torrent Downloader**\n",
        "\n"
      ],
      "metadata": {
        "id": "BqESzh9LtH7s"
      }
    },
    {
      "cell_type": "markdown",
      "source": [
        "###**Start Installing Torrent**\n",
        "\n",
        "---\n",
        "\n",
        "Run this command to before start downloading"
      ],
      "metadata": {
        "id": "9RolFDgntQaq"
      }
    },
    {
      "cell_type": "code",
      "execution_count": 8,
      "metadata": {
        "cellView": "form",
        "id": "7mpLV4rMBI-C"
      },
      "outputs": [],
      "source": [
        "#@markdown Install torrent\n",
        "!python -m pip install --upgrade pip setuptools wheel\n",
        "!python -m pip install lbry-libtorrent\n",
        "!apt install python3-libtorrent\n",
        "!pip install termcolor\n",
        " \n",
        "import libtorrent as lt\n",
        "from queue import Queue\n",
        "from threading import Thread\n",
        "import time\n",
        "import os\n",
        "import datetime\n",
        "from IPython.display import display\n",
        "from IPython.display import clear_output\n",
        "import ipywidgets as widgets\n",
        "from tqdm.notebook import tqdm\n",
        "from IPython.display import clear_output\n",
        "\n",
        "ses = lt.session()\n",
        "ses.listen_on(6881, 6891)\n",
        "downloads = []\n",
        "\n",
        "clear_output()"
      ]
    },
    {
      "cell_type": "code",
      "source": [
        "\n",
        "#@markdown *This cell runs a JS code that automatically reconnects you to avoid inactivity due to idle.*\n",
        "\n",
        "import IPython\n",
        "from IPython.display import clear_output\n",
        "from google.colab import output\n",
        "\n",
        "display(IPython.display.Javascript('''\n",
        " function connectRefresher() {\n",
        "       window.ConnectButtonIntervalId = setInterval(function ConnectButton(){\n",
        "                console.log(\"connected\"); \n",
        "                document.querySelector(\"#top-toolbar > colab-connect-button\").shadowRoot.querySelector(\"#connect\").click();\n",
        "                document.querySelector(\"colab-sessions-dialog\").shadowRoot.querySelector(\"#footer > div > paper-button\").click();\n",
        "                console.log(\"closed the dialog!!\"); \n",
        "            },60000);\n",
        "    }\n",
        "    \n",
        " function clearRefresher() { \n",
        "           console.log(\"clear Interval called !!\");\n",
        "           clearInterval(window.ConnectButtonIntervalId);\n",
        "    }\n",
        "\n",
        " connectRefresher(); //to connect the refresher\n",
        " clearRefresher(); //to disconnect the refresher\n",
        "'''))\n",
        "\n",
        "clear_output()"
      ],
      "metadata": {
        "cellView": "form",
        "id": "81r9PdqDCQxo"
      },
      "execution_count": 9,
      "outputs": []
    },
    {
      "cell_type": "markdown",
      "source": [
        "###**Mount Google Drive**\n",
        "\n",
        "---\n",
        "Run this command to coonect a google drive, so you can save the file directly to google drive.\n"
      ],
      "metadata": {
        "id": "StbL4qrltcEu"
      }
    },
    {
      "cell_type": "code",
      "source": [
        "#@markdown Connect google drive\n",
        "from google.colab import drive\n",
        "\n",
        "drive.mount(\"/content/drive\")"
      ],
      "metadata": {
        "colab": {
          "base_uri": "https://localhost:8080/"
        },
        "cellView": "form",
        "id": "Ju3CxWm2CV8s",
        "outputId": "19c01921-ab96-48dd-aec7-794a2ed6dd89"
      },
      "execution_count": null,
      "outputs": [
        {
          "output_type": "stream",
          "name": "stdout",
          "text": [
            "Mounted at /content/drive\n"
          ]
        }
      ]
    },
    {
      "cell_type": "markdown",
      "source": [
        "###**Torrent Downloader**\n",
        "\n",
        "---\n",
        "Choose your favorite download method, by a torrent file or magic-links.\n"
      ],
      "metadata": {
        "id": "1P6tTjwouV68"
      }
    },
    {
      "cell_type": "code",
      "source": [
        "#@markdown <h4><b>Add from torrent file</b></h4>\n",
        "DownloadLocation = \"/content\" #@param {type:\"string\"}\n",
        "\n",
        "from pathlib import Path\n",
        "Path(DownloadLocation).mkdir(parents=True, exist_ok=True)\n",
        "\n",
        "source = files.upload()\n",
        "params = {\n",
        "    \"save_path\": str(DownloadLocation),\n",
        "    \"ti\": lt.torrent_info(list(source.keys())[0]),\n",
        "}\n",
        "downloads.append(ses.add_torrent(params))"
      ],
      "metadata": {
        "cellView": "form",
        "id": "hbwSnhd8CdYh"
      },
      "execution_count": null,
      "outputs": []
    },
    {
      "cell_type": "code",
      "source": [
        "#@markdown <h4><b>Add from magic link</b></h4>\n",
        "DownloadLocation = \"/content\" #@param {type:\"string\"}\n",
        "params = {\"save_path\": str(DownloadLocation)}\n",
        "\n",
        "from pathlib import Path\n",
        "Path(DownloadLocation).mkdir(parents=True, exist_ok=True)\n",
        "\n",
        "while True:\n",
        "    magnet_link = input(\"Enter Magnet Link Or Type Exit: \")\n",
        "    if magnet_link.lower() == \"exit\":\n",
        "        break\n",
        "    downloads.append(\n",
        "        lt.add_magnet_uri(ses, magnet_link, params)\n",
        "    )"
      ],
      "metadata": {
        "cellView": "form",
        "id": "53vacJ9xC0Tn"
      },
      "execution_count": null,
      "outputs": []
    },
    {
      "cell_type": "code",
      "source": [
        "#@markdown Start download\n",
        "import time\n",
        "from IPython.display import display\n",
        "import ipywidgets as widgets\n",
        "\n",
        "state_str = [\n",
        "    \"queued\",\n",
        "    \"checking\",\n",
        "    \"downloading metadata\",\n",
        "    \"downloading\",\n",
        "    \"finished\",\n",
        "    \"seeding\",\n",
        "    \"allocating\",\n",
        "    \"checking fastresume\",\n",
        "]\n",
        "\n",
        "layout = widgets.Layout(width=\"auto\")\n",
        "style = {\"description_width\": \"initial\"}\n",
        "download_bars = [\n",
        "    widgets.FloatSlider(\n",
        "        step=0.01, disabled=True, layout=layout, style=style\n",
        "    )\n",
        "    for _ in downloads\n",
        "]\n",
        "display(*download_bars)\n",
        "\n",
        "while downloads:\n",
        "    next_shift = 0\n",
        "    for index, download in enumerate(downloads[:]):\n",
        "        bar = download_bars[index + next_shift]\n",
        "        if not download.is_seed():\n",
        "            s = download.status()\n",
        "\n",
        "            bar.description = \" \".join(\n",
        "                [\n",
        "                    download.name(),\n",
        "                    str(s.download_rate / 1000),\n",
        "                    \"kB/s\",\n",
        "                    state_str[s.state],\n",
        "                ]\n",
        "            )\n",
        "            bar.value = s.progress * 100\n",
        "        else:\n",
        "            next_shift -= 1\n",
        "            ses.remove_torrent(download)\n",
        "            downloads.remove(download)\n",
        "            bar.close() # Seems to be not working in Colab (see https://github.com/googlecolab/colabtools/issues/726#issue-486731758)\n",
        "            download_bars.remove(bar)\n",
        "            print(download.name(), \"complete\")\n",
        "    time.sleep(1)"
      ],
      "metadata": {
        "cellView": "form",
        "id": "KJy59YpDDKDV"
      },
      "execution_count": 34,
      "outputs": []
    }
  ]
}