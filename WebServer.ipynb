{
  "nbformat": 4,
  "nbformat_minor": 0,
  "metadata": {
    "colab": {
      "name": "WebServer.ipynb",
      "provenance": [],
      "collapsed_sections": [],
      "authorship_tag": "ABX9TyMB4ahsVyyRKUVDKCGqLlTm",
      "include_colab_link": true
    },
    "kernelspec": {
      "name": "python3",
      "display_name": "Python 3"
    },
    "language_info": {
      "name": "python"
    }
  },
  "cells": [
    {
      "cell_type": "markdown",
      "metadata": {
        "id": "view-in-github",
        "colab_type": "text"
      },
      "source": [
        "<a href=\"https://colab.research.google.com/github/tantowijh/colab-collection/blob/main/WebServer.ipynb\" target=\"_parent\"><img src=\"https://colab.research.google.com/assets/colab-badge.svg\" alt=\"Open In Colab\"/></a>"
      ]
    },
    {
      "cell_type": "code",
      "execution_count": null,
      "metadata": {
        "cellView": "form",
        "id": "U2avD1zRIlWA"
      },
      "outputs": [],
      "source": [
        "#@markdown <br><center><img src='https://upload.wikimedia.org/wikipedia/commons/thumb/d/da/Google_Drive_logo.png/600px-Google_Drive_logo.png' height=\"50\" alt=\"Gdrive logo\"/></center>\n",
        "#@markdown <center><h3>Mount Gdrive to /content/drive</h3></center><br>\n",
        "MODE = \"MOUNT\" #@param [\"MOUNT\", \"UNMOUNT\"]\n",
        "#Mount your Gdrive! \n",
        "from google.colab import drive\n",
        "drive.mount._DEBUG = False\n",
        "if MODE == \"MOUNT\":\n",
        "  drive.mount('/content/drive', force_remount=True)\n",
        "elif MODE == \"UNMOUNT\":\n",
        "  try:\n",
        "    drive.flush_and_unmount()\n",
        "  except ValueError:\n",
        "    pass\n",
        "  get_ipython().system_raw(\"rm -rf /root/.config/Google/DriveFS\")"
      ]
    },
    {
      "cell_type": "code",
      "source": [
        "#@title <h4><b>Start Web Server</b></h4>\n",
        "\n",
        "#directory for server path\n",
        "ServerLocationPath = \"/content\" #@param {type:\"string\"}\n",
        "from IPython.utils import io\n",
        "with io.capture_output() as captured:\n",
        "  %cd '{ServerLocationPath}'\n",
        "\n",
        "#server configuration\n",
        "from google.colab.output import eval_js\n",
        "print(\"Click the following url to see the website...\")\n",
        "print(eval_js(\"google.colab.kernel.proxyPort(8000)\"))\n",
        "# https://z4spb7cvssd-496ff2e9c6d22116-8000-colab.googleusercontent.com/\n",
        "\n",
        "#server start\n",
        "!python -m http.server 8000"
      ],
      "metadata": {
        "cellView": "form",
        "id": "9jqJR9UXksrR"
      },
      "execution_count": null,
      "outputs": []
    }
  ]
}