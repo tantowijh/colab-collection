{
  "cells": [
    {
      "cell_type": "markdown",
      "metadata": {
        "id": "view-in-github",
        "colab_type": "text"
      },
      "source": [
        "<a href=\"https://colab.research.google.com/github/tantowijh/colab-collection/blob/main/WebServer.ipynb\" target=\"_parent\"><img src=\"https://colab.research.google.com/assets/colab-badge.svg\" alt=\"Open In Colab\"/></a>"
      ]
    },
    {
      "cell_type": "code",
      "execution_count": 1,
      "metadata": {
        "cellView": "form",
        "colab": {
          "base_uri": "https://localhost:8080/"
        },
        "id": "U2avD1zRIlWA",
        "outputId": "b678e13a-29bf-4c42-fac6-f41c668e56e0"
      },
      "outputs": [
        {
          "output_type": "stream",
          "name": "stdout",
          "text": [
            "Mounted at /content/drive\n"
          ]
        }
      ],
      "source": [
        "#@markdown <br><center><img src='https://upload.wikimedia.org/wikipedia/commons/thumb/d/da/Google_Drive_logo.png/600px-Google_Drive_logo.png' height=\"50\" alt=\"Gdrive logo\"/></center>\n",
        "#@markdown <center><h3>Mount Gdrive to /content/drive</h3></center><br>\n",
        "MODE = \"MOUNT\" #@param [\"MOUNT\", \"UNMOUNT\"]\n",
        "#Mount your Gdrive! \n",
        "from google.colab import drive\n",
        "drive.mount._DEBUG = False\n",
        "if MODE == \"MOUNT\":\n",
        "  drive.mount('/content/drive', force_remount=True)\n",
        "elif MODE == \"UNMOUNT\":\n",
        "  try:\n",
        "    drive.flush_and_unmount()\n",
        "  except ValueError:\n",
        "    pass\n",
        "  get_ipython().system_raw(\"rm -rf /root/.config/Google/DriveFS\")\n",
        "get_ipython().system_raw('find . -type d -name \".ipynb_checkpoints\" -prune -exec rm -rf {} \\; &')"
      ]
    },
    {
      "cell_type": "code",
      "execution_count": null,
      "metadata": {
        "cellView": "form",
        "id": "OyIjy9cG_FF7"
      },
      "outputs": [],
      "source": [
        "#@title <h4><b>Web Server Configuration</b></h4>\n",
        "\n",
        "### Install ngrok\n",
        "from time import sleep\n",
        "from IPython.utils import io\n",
        "with io.capture_output() as captured:\n",
        "  !curl -s https://ngrok-agent.s3.amazonaws.com/ngrok.asc | sudo tee /etc/apt/trusted.gpg.d/ngrok.asc >/dev/null && echo \"deb https://ngrok-agent.s3.amazonaws.com buster main\" | sudo tee /etc/apt/sources.list.d/ngrok.list && sudo apt update && sudo apt install ngrok\n",
        "\n",
        "### Run ngrok to tunnel Dash app port 8050 to the outside world. \n",
        "### This command runs in the background.\n",
        "NgrokToken = \"2DW9ORIBnygvyr8biHB0pGhEA0v_7hxAdbpPCaRMd6gu48C6E\" #@param {type:\"string\"}\n",
        "NgrokRegion = \"us\" #@param [\"us\", \"eu\", \"ap\", \"au\", \"sa\", \"jp\", \"in\"]\n",
        "!ngrok config add-authtoken {NgrokToken}\n",
        "get_ipython().system_raw('ngrok http 8050 --region {NgrokRegion} &')\n",
        "\n",
        "\n",
        "def serverstart():\n",
        "  #@title <h4><b>Start Web Server</b></h4>\n",
        "\n",
        "  ### Get the public URL.\n",
        "  !curl -s http://localhost:4040/api/tunnels | python3 -c \\\n",
        "      \"import sys, json; print(json.load(sys.stdin)['tunnels'][0]['public_url'])\"\n",
        "\n",
        "  #directory for server path\n",
        "  ServerLocationPath = \"/content/drive/Shareddrives/01. Anime Server\" #@param {type:\"string\"}\n",
        "  from IPython.utils import io\n",
        "  with io.capture_output() as captured:\n",
        "    %cd '{ServerLocationPath}'\n",
        "  !python -m http.server 8050\n",
        "\n",
        "sleep(3); serverstart()\n"
      ]
    }
  ],
  "metadata": {
    "colab": {
      "collapsed_sections": [],
      "name": "WebServer.ipynb",
      "provenance": [],
      "authorship_tag": "ABX9TyN5nneoZHubgVzXiLTGRGAw",
      "include_colab_link": true
    },
    "kernelspec": {
      "display_name": "Python 3",
      "name": "python3"
    },
    "language_info": {
      "name": "python"
    }
  },
  "nbformat": 4,
  "nbformat_minor": 0
}