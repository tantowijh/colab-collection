{
  "nbformat": 4,
  "nbformat_minor": 0,
  "metadata": {
    "colab": {
      "name": "VideoTools.ipynb",
      "provenance": [],
      "collapsed_sections": [
        "kgGzvZqYyZxQ",
        "XDRJ-e6tyoWC",
        "fW9U1Zq-zYdL",
        "uaOkIdEjxcrV"
      ],
      "include_colab_link": true
    },
    "kernelspec": {
      "name": "python3",
      "display_name": "Python 3"
    },
    "language_info": {
      "name": "python"
    },
    "accelerator": "GPU",
    "gpuClass": "standard"
  },
  "cells": [
    {
      "cell_type": "markdown",
      "metadata": {
        "id": "view-in-github",
        "colab_type": "text"
      },
      "source": [
        "<a href=\"https://colab.research.google.com/github/tantowijh/colab-collection/blob/main/VideoTools.ipynb\" target=\"_parent\"><img src=\"https://colab.research.google.com/assets/colab-badge.svg\" alt=\"Open In Colab\"/></a>"
      ]
    },
    {
      "cell_type": "markdown",
      "source": [
        "# <img src='https://www.vozidea.com/wp-content/uploads/2018/05/ffmpeg-logo-grande.png ' height=\"48\" alt=\"RcloneLab\"/>"
      ],
      "metadata": {
        "id": "kgGzvZqYyZxQ"
      }
    },
    {
      "cell_type": "markdown",
      "source": [
        "#####***Build FFMPEG***"
      ],
      "metadata": {
        "id": "XDRJ-e6tyoWC"
      }
    },
    {
      "cell_type": "code",
      "execution_count": null,
      "metadata": {
        "colab": {
          "base_uri": "https://localhost:8080/"
        },
        "id": "fYRlYDiSbYM3",
        "outputId": "29b56535-ef76-452a-fd48-5118a47a763d"
      },
      "outputs": [
        {
          "output_type": "stream",
          "name": "stdout",
          "text": [
            "fatal: destination path 'nv-codec-headers' already exists and is not an empty directory.\n"
          ]
        }
      ],
      "source": [
        "!git clone https://git.videolan.org/git/ffmpeg/nv-codec-headers.git"
      ]
    },
    {
      "cell_type": "code",
      "source": [
        "%cd 'nv-codec-headers'"
      ],
      "metadata": {
        "colab": {
          "base_uri": "https://localhost:8080/"
        },
        "id": "9z4b5Baxbk6u",
        "outputId": "79363c27-ac38-44f9-ff2e-d5329c1cdc62"
      },
      "execution_count": null,
      "outputs": [
        {
          "output_type": "stream",
          "name": "stdout",
          "text": [
            "/content/nv-codec-headers\n"
          ]
        }
      ]
    },
    {
      "cell_type": "code",
      "source": [
        "!sudo make install"
      ],
      "metadata": {
        "colab": {
          "base_uri": "https://localhost:8080/"
        },
        "id": "11hYfMf8evHI",
        "outputId": "1303e768-d083-4a45-8b97-6cbd9f8605ff"
      },
      "execution_count": null,
      "outputs": [
        {
          "output_type": "stream",
          "name": "stdout",
          "text": [
            "sed 's#@@PREFIX@@#/usr/local#' ffnvcodec.pc.in > ffnvcodec.pc\n",
            "install -m 0755 -d '/usr/local/include/ffnvcodec'\n",
            "install -m 0644 include/ffnvcodec/*.h '/usr/local/include/ffnvcodec'\n",
            "install -m 0755 -d '/usr/local/lib/pkgconfig'\n",
            "install -m 0644 ffnvcodec.pc '/usr/local/lib/pkgconfig'\n"
          ]
        }
      ]
    },
    {
      "cell_type": "code",
      "source": [
        "%cd '-'"
      ],
      "metadata": {
        "colab": {
          "base_uri": "https://localhost:8080/"
        },
        "id": "77GcFxWbeqte",
        "outputId": "e7d6224b-9b72-406c-e75f-10e612ddbbb5"
      },
      "execution_count": null,
      "outputs": [
        {
          "output_type": "stream",
          "name": "stdout",
          "text": [
            "/content\n"
          ]
        }
      ]
    },
    {
      "cell_type": "code",
      "source": [
        "!git clone https://git.ffmpeg.org/ffmpeg.git ffmpeg/"
      ],
      "metadata": {
        "colab": {
          "base_uri": "https://localhost:8080/"
        },
        "id": "dCb7iUeyboCk",
        "outputId": "f27d4e02-bbd7-4baf-819b-0f93a80b9fe4"
      },
      "execution_count": null,
      "outputs": [
        {
          "output_type": "stream",
          "name": "stdout",
          "text": [
            "Cloning into 'ffmpeg'...\n",
            "remote: Enumerating objects: 7451, done.\u001b[K\n",
            "remote: Counting objects: 100% (7451/7451), done.\u001b[K\n",
            "remote: Compressing objects: 100% (5951/5951), done.\u001b[K\n",
            "remote: Total 668004 (delta 5051), reused 1657 (delta 1472)\u001b[K\n",
            "Receiving objects: 100% (668004/668004), 163.02 MiB | 17.26 MiB/s, done.\n",
            "Resolving deltas: 100% (538935/538935), done.\n"
          ]
        }
      ]
    },
    {
      "cell_type": "code",
      "source": [
        "!apt install build-essential yasm cmake libtool libc6 libc6-dev unzip wget libnuma1 libnuma-dev\n",
        "from IPython.display import clear_output\n",
        "clear_output()"
      ],
      "metadata": {
        "id": "W_NeGTT1c7EL"
      },
      "execution_count": null,
      "outputs": []
    },
    {
      "cell_type": "code",
      "source": [
        "%cd 'ffmpeg'"
      ],
      "metadata": {
        "colab": {
          "base_uri": "https://localhost:8080/"
        },
        "id": "0xBNcZOsfUvZ",
        "outputId": "e1a241f8-269a-4ea1-84d8-10594d70f0c0"
      },
      "execution_count": null,
      "outputs": [
        {
          "output_type": "stream",
          "name": "stdout",
          "text": [
            "/content/ffmpeg\n"
          ]
        }
      ]
    },
    {
      "cell_type": "code",
      "source": [
        "!./configure --enable-nonfree --enable-cuda-nvcc --enable-libnpp --extra-cflags=-I/usr/local/cuda/include --extra-ldflags=-L/usr/local/cuda/lib64 --disable-static --enable-shared\n",
        "clear_output()"
      ],
      "metadata": {
        "id": "pd3Z_S5OdHkd"
      },
      "execution_count": null,
      "outputs": []
    },
    {
      "cell_type": "code",
      "source": [
        "%cd '-'"
      ],
      "metadata": {
        "colab": {
          "base_uri": "https://localhost:8080/"
        },
        "id": "hspewAG5fjMD",
        "outputId": "c30a9480-6078-416c-e595-7bfced8eb55a"
      },
      "execution_count": null,
      "outputs": [
        {
          "output_type": "stream",
          "name": "stdout",
          "text": [
            "/content\n"
          ]
        }
      ]
    },
    {
      "cell_type": "code",
      "source": [
        "!sudo apt-get install mkvtoolnix \n",
        "!pip install vcsi\n",
        "\n",
        "\n",
        "from IPython.display import HTML\n",
        "clear_output()\n",
        "print(\"Server Started Successfully\")"
      ],
      "metadata": {
        "colab": {
          "base_uri": "https://localhost:8080/"
        },
        "id": "QE0KxYFZ2Zhn",
        "outputId": "a95a1e40-ab26-444e-a1ba-7c2774826b26"
      },
      "execution_count": null,
      "outputs": [
        {
          "output_type": "stream",
          "name": "stdout",
          "text": [
            "Server Started Successfully\n"
          ]
        }
      ]
    },
    {
      "cell_type": "markdown",
      "source": [
        "#####***FFmpeg Version***"
      ],
      "metadata": {
        "id": "fW9U1Zq-zYdL"
      }
    },
    {
      "cell_type": "code",
      "source": [
        "#@title <h5><b><i>GPU Information</i></b></h6>\n",
        "!nvidia-smi -L"
      ],
      "metadata": {
        "colab": {
          "base_uri": "https://localhost:8080/"
        },
        "id": "zUz2Ky3-lfnf",
        "outputId": "a6b41e57-09a2-4b65-9406-baac0b247382",
        "cellView": "form"
      },
      "execution_count": null,
      "outputs": [
        {
          "output_type": "stream",
          "name": "stdout",
          "text": [
            "GPU 0: Tesla T4 (UUID: GPU-d9185e76-ca09-8d9d-8195-e29d3fa01761)\n"
          ]
        }
      ]
    },
    {
      "cell_type": "code",
      "source": [
        "#@title <h5><b><i>FFMPEG Version</i></b></h6>\n",
        "!ffmpeg -version"
      ],
      "metadata": {
        "colab": {
          "base_uri": "https://localhost:8080/"
        },
        "cellView": "form",
        "id": "Htbu7OMs1GSR",
        "outputId": "7ba0441e-1e10-434f-f6dd-bb0f7ae1baea"
      },
      "execution_count": null,
      "outputs": [
        {
          "output_type": "stream",
          "name": "stdout",
          "text": [
            "ffmpeg version 3.4.11-0ubuntu0.1 Copyright (c) 2000-2022 the FFmpeg developers\n",
            "built with gcc 7 (Ubuntu 7.5.0-3ubuntu1~18.04)\n",
            "configuration: --prefix=/usr --extra-version=0ubuntu0.1 --toolchain=hardened --libdir=/usr/lib/x86_64-linux-gnu --incdir=/usr/include/x86_64-linux-gnu --enable-gpl --disable-stripping --enable-avresample --enable-avisynth --enable-gnutls --enable-ladspa --enable-libass --enable-libbluray --enable-libbs2b --enable-libcaca --enable-libcdio --enable-libflite --enable-libfontconfig --enable-libfreetype --enable-libfribidi --enable-libgme --enable-libgsm --enable-libmp3lame --enable-libmysofa --enable-libopenjpeg --enable-libopenmpt --enable-libopus --enable-libpulse --enable-librubberband --enable-librsvg --enable-libshine --enable-libsnappy --enable-libsoxr --enable-libspeex --enable-libssh --enable-libtheora --enable-libtwolame --enable-libvorbis --enable-libvpx --enable-libwavpack --enable-libwebp --enable-libx265 --enable-libxml2 --enable-libxvid --enable-libzmq --enable-libzvbi --enable-omx --enable-openal --enable-opengl --enable-sdl2 --enable-libdc1394 --enable-libdrm --enable-libiec61883 --enable-chromaprint --enable-frei0r --enable-libopencv --enable-libx264 --enable-shared\n",
            "libavutil      55. 78.100 / 55. 78.100\n",
            "libavcodec     57.107.100 / 57.107.100\n",
            "libavformat    57. 83.100 / 57. 83.100\n",
            "libavdevice    57. 10.100 / 57. 10.100\n",
            "libavfilter     6.107.100 /  6.107.100\n",
            "libavresample   3.  7.  0 /  3.  7.  0\n",
            "libswscale      4.  8.100 /  4.  8.100\n",
            "libswresample   2.  9.100 /  2.  9.100\n",
            "libpostproc    54.  7.100 / 54.  7.100\n"
          ]
        }
      ]
    },
    {
      "cell_type": "markdown",
      "source": [
        "# <img src=\"https://upload.wikimedia.org/wikipedia/commons/thumb/d/da/Google_Drive_logo.png/600px-Google_Drive_logo.png\" height=30px>      ___Mount / Unmount Gdrive!___"
      ],
      "metadata": {
        "id": "uaOkIdEjxcrV"
      }
    },
    {
      "cell_type": "code",
      "source": [
        "#@markdown <br><center><img src='https://upload.wikimedia.org/wikipedia/commons/thumb/d/da/Google_Drive_logo.png/600px-Google_Drive_logo.png' height=\"50\" alt=\"Gdrive logo\"/></center>\n",
        "#@markdown <center><h3>Mount Gdrive to /content/drive</h3></center><br>\n",
        "MODE = \"MOUNT\" #@param [\"MOUNT\", \"UNMOUNT\"]\n",
        "#Mount your Gdrive! \n",
        "from google.colab import drive\n",
        "drive.mount._DEBUG = False\n",
        "if MODE == \"MOUNT\":\n",
        "  drive.mount('/content/drive', force_remount=True)\n",
        "elif MODE == \"UNMOUNT\":\n",
        "  try:\n",
        "    drive.flush_and_unmount()\n",
        "  except ValueError:\n",
        "    pass\n",
        "  get_ipython().system_raw(\"rm -rf /root/.config/Google/DriveFS\")"
      ],
      "metadata": {
        "colab": {
          "base_uri": "https://localhost:8080/"
        },
        "cellView": "form",
        "id": "GOuKFLeEfmPM",
        "outputId": "0fa24e90-c52d-44bb-af28-6cc07990ad54"
      },
      "execution_count": null,
      "outputs": [
        {
          "output_type": "stream",
          "name": "stdout",
          "text": [
            "Mounted at /content/drive\n"
          ]
        }
      ]
    },
    {
      "cell_type": "code",
      "source": [
        "#@title **Runtime Prolonger**\n",
        "#@markdown *This cell runs a JS code that automatically reconnects you to avoid inactivity due to idle.*\n",
        "\n",
        "import IPython\n",
        "from IPython.display import clear_output\n",
        "from google.colab import output\n",
        "\n",
        "display(IPython.display.Javascript('''\n",
        " function connectRefresher() {\n",
        "       window.ConnectButtonIntervalId = setInterval(function ConnectButton(){\n",
        "                console.log(\"connected\"); \n",
        "                document.querySelector(\"#top-toolbar > colab-connect-button\").shadowRoot.querySelector(\"#connect\").click();\n",
        "                document.querySelector(\"colab-sessions-dialog\").shadowRoot.querySelector(\"#footer > div > paper-button\").click();\n",
        "                console.log(\"closed the dialog!!\"); \n",
        "            },60000);\n",
        "    }\n",
        "    \n",
        " function clearRefresher() { \n",
        "           console.log(\"clear Interval called !!\");\n",
        "           clearInterval(window.ConnectButtonIntervalId);\n",
        "    }\n",
        "\n",
        " connectRefresher(); //to connect the refresher\n",
        " clearRefresher(); //to disconnect the refresher\n",
        "'''))\n",
        "\n",
        "clear_output()"
      ],
      "metadata": {
        "cellView": "form",
        "id": "GZu6zrovwxna"
      },
      "execution_count": null,
      "outputs": []
    },
    {
      "cell_type": "code",
      "source": [
        "#@title **Font Installer**\n",
        "#@markdown *This cell runs a code that automatically add your custom-fonts. Please add your custom-fonts folder path location here!*\n",
        "\n",
        "Fonts_Location = \"/content/drive/Shareddrives/01. Anime Server/02. Subtitle/Fonts\" #@param {type:\"string\"}\n",
        "Fonts_Destination = \"/usr/share/fonts/truetype\"\n",
        "%cd '{Fonts_Location}'\n",
        "!sudo cp -v -r *.* '{Fonts_Destination}'\n",
        "\n",
        "import IPython\n",
        "from IPython.display import clear_output\n",
        "from google.colab import output\n",
        "\n",
        "%cd '/content'\n",
        "\n",
        "clear_output()"
      ],
      "metadata": {
        "cellView": "form",
        "id": "lGCByFH5w13N"
      },
      "execution_count": null,
      "outputs": []
    },
    {
      "cell_type": "code",
      "source": [
        "#@title **Google Fonts**\n",
        "#@markdown *This cell runs a code that automatically install entire google-fonts library!*\n",
        "\n",
        "import IPython\n",
        "from IPython.display import clear_output\n",
        "from google.colab import output\n",
        "\n",
        "!git clone https://github.com/google/fonts.git\n",
        "%mv /content/fonts/ofl/* /usr/share/fonts/truetype\n",
        "%cd /content\n",
        "%rm -rf \"fonts\"\n",
        "\n",
        "clear_output()"
      ],
      "metadata": {
        "cellView": "form",
        "id": "0WD4lHhmw6Ap"
      },
      "execution_count": null,
      "outputs": []
    },
    {
      "cell_type": "markdown",
      "source": [
        "#» Video to (*H2.64*-AAC) or (*HEVC*-AAC)  - Need GPU - Nvidia Telsa P100 or T4"
      ],
      "metadata": {
        "id": "5EVG1HL21s4D"
      }
    },
    {
      "cell_type": "code",
      "source": [
        "import os, sys, re\n",
        "\n",
        "#@markdown <h3><b>Hardware Accelerator Setting :</h3>\n",
        "UseHardwareAccelerator = False #@param {type:\"boolean\"}\n",
        "#hwaccel setting\n",
        "HardwareAccelerator = \"VDPAU\" #@param [\"VDPAU\", \"VAAPI\", \"CUVID\"]\n",
        "\n",
        "#@markdown <h3><b>Encode Setting :</h5>\n",
        "#@markdown <h><i>main = default | main10 = H264 10 Bit</i>\n",
        "EncodeSetting = \"Normal\" #@param [\"H264\", \"HEVC\", \"Normal\"]\n",
        "SetProfile = \"main\" #@param [\"main\", \"main10\"]\n",
        "InputExtension = \".mkv\" #@param [\".mp4\", \".mov\", \".mkv\", \".avi\", \".ts\", \".flv\", \".webm\", \".wmv\", \".mpg\", \".m4v\", \".f4v\", \".m2ts\", \".mpeg\", \".3gp\", \".MP4\", \".MOV\", \".MKV\", \".AVI\", \".TS\", \".FLV\", \".WEBM\", \".WMV\", \".MPG\", \".M4V\", \".F4V\", \".M2TS\", \".MPEG\", \".3GP\"]\n",
        "my_suffixes = InputExtension\n",
        "OutputExtension = \".mp4\" #@param [\".mp4\", \".mov\", \".mkv\", \".avi\", \".ts\", \".flv\", \".webm\", \".wmv\", \".mpg\", \".m4v\", \".f4v\", \".m2ts\", \".mpeg\", \".3gp\", \".MP4\", \".MOV\", \".MKV\", \".AVI\", \".TS\", \".FLV\", \".WEBM\", \".WMV\", \".MPG\", \".M4V\", \".F4V\", \".M2TS\", \".MPEG\", \".3GP\"]\n",
        "\n",
        "#@markdown <h3><b>Video Quality :</h3>\n",
        "#@markdown <h><i>Between 0 [Best] to 51 [Worst]</i><h>\n",
        "Set_cq = '18'#@param {type:\"string\"}\n",
        "Set_qmin = '18'#@param {type:\"string\"}\n",
        "Set_qmax = '20'#@param {type:\"string\"}\n",
        "\n",
        "#@markdown <h3><b>Encode Location :</h3>\n",
        "#@markdown <i>Put file location and name (include the extension). Convert the entire directory</i>\n",
        "InputLocation = '/content/drive/MyDrive/01. Anime/01. TV Show/33. Lycoris Recoil/Season1' #@param {type:\"string\"}\n",
        "OutputLocation = '/content/drive/MyDrive/01. Anime/01. TV Show/33. Lycoris Recoil/Season1/Test' #@param {type:\"string\"}\n",
        "#@markdown <b><i>Subtitle options</i></b>\n",
        "UseSubtitleTrack = False #@param {type:\"boolean\"}\n",
        "SubtitleTrack = 0 #@param {type:\"slider\", min:0, max:10}\n",
        "#@markdown <b><i>Output options</i></b>\n",
        "OverwriteOption = \"Overwrite an Existing File\" #@param [\"Default\", \"Overwrite an Existing File\", \"Don't Overwrite an Existing File\"]\n",
        "ConvertMethod = \"With Subtitle\" #@param [\"No Subtitle\", \"With Subtitle\"]\n",
        "NumberOfFirstCharactertoRemove = 0 #@param {type:\"slider\", min:0, max:50}\n",
        "dchara = NumberOfFirstCharactertoRemove\n",
        "fix = len(OutputExtension)\n",
        "\n",
        "def noSub():\n",
        "    def accel():\n",
        "        def avdpau():\n",
        "            def h264():\n",
        "                def owdef():\n",
        "                    cmd = !ffmpeg -vsync 0 -hwaccel vdpau \"$InputLocation/{filename}\" -c:a copy -c:v h264_nvenc -preset:v slow -rc vbr -cq $Set_cq -qmin $Set_qmin -qmax $Set_qmax -b:v 0 -profile:v $SetProfile -init_qpP 23 -init_qpB 25 -init_qpI 21 \"$OutputLocation/{filename[dchara:-(int(fix))]}{OutputExtension}\"\n",
        "                def owyes():\n",
        "                    cmd = !ffmpeg -y -vsync 0 -hwaccel vdpau \"$InputLocation/{filename}\" -c:a copy -c:v h264_nvenc -preset:v slow -rc vbr -cq $Set_cq -qmin $Set_qmin -qmax $Set_qmax -b:v 0 -profile:v $SetProfile -init_qpP 23 -init_qpB 25 -init_qpI 21 \"$OutputLocation/{filename[dchara:-(int(fix))]}{OutputExtension}\"\n",
        "                def owno():\n",
        "                    cmd = !ffmpeg -n -vsync 0 -hwaccel vdpau \"$InputLocation/{filename}\" -c:a copy -c:v h264_nvenc -preset:v slow -rc vbr -cq $Set_cq -qmin $Set_qmin -qmax $Set_qmax -b:v 0 -profile:v $SetProfile -init_qpP 23 -init_qpB 25 -init_qpI 21 \"$OutputLocation/{filename[dchara:-(int(fix))]}{OutputExtension}\"\n",
        "                if OverwriteOption == \"Default\":\n",
        "                    owdef()\n",
        "                if OverwriteOption == \"Overwrite an Existing File\":\n",
        "                    owyes()\n",
        "                if OverwriteOption == \"Don't Overwrite an Existing File\":\n",
        "                    owno()\n",
        "            def hevc():\n",
        "                def owdef():\n",
        "                    cmd = !ffmpeg -vsync 0 -hwaccel vdpau \"$InputLocation/{filename}\" -c:a copy -c:v hevc_nvenc -preset:v slow -rc vbr -cq $Set_cq -qmin $Set_qmin -qmax $Set_qmax -b:v 0 -profile:v $SetProfile -init_qpP 23 -init_qpB 25 -init_qpI 21 \"$OutputLocation/{filename[dchara:-(int(fix))]}{OutputExtension}\"\n",
        "                def owyes():\n",
        "                    cmd = !ffmpeg -y -vsync 0 -hwaccel vdpau \"$InputLocation/{filename}\" -c:a copy -c:v hevc_nvenc -preset:v slow -rc vbr -cq $Set_cq -qmin $Set_qmin -qmax $Set_qmax -b:v 0 -profile:v $SetProfile -init_qpP 23 -init_qpB 25 -init_qpI 21 \"$OutputLocation/{filename[dchara:-(int(fix))]}{OutputExtension}\"\n",
        "                def owno():\n",
        "                    cmd = !ffmpeg -n -vsync 0 -hwaccel vdpau \"$InputLocation/{filename}\" -c:a copy -c:v hevc_nvenc -preset:v slow -rc vbr -cq $Set_cq -qmin $Set_qmin -qmax $Set_qmax -b:v 0 -profile:v $SetProfile -init_qpP 23 -init_qpB 25 -init_qpI 21 \"$OutputLocation/{filename[dchara:-(int(fix))]}{OutputExtension}\"\n",
        "                if OverwriteOption == \"Default\":\n",
        "                    owdef()\n",
        "                if OverwriteOption == \"Overwrite an Existing File\":\n",
        "                    owyes()\n",
        "                if OverwriteOption == \"Don't Overwrite an Existing File\":\n",
        "                    owno()\n",
        "            def normal():\n",
        "                def owdef():\n",
        "                    cmd = !ffmpeg -vsync 0 -hwaccel vdpau \"$InputLocation/{filename}\" -c:av copy -preset:v slow -rc vbr -cq $Set_cq -qmin $Set_qmin -qmax $Set_qmax -b:v 0 -profile:v $SetProfile -init_qpP 23 -init_qpB 25 -init_qpI 21 \"$OutputLocation/{filename[dchara:-(int(fix))]}{OutputExtension}\"\n",
        "                def owyes():\n",
        "                    cmd = !ffmpeg -y -vsync 0 -hwaccel vdpau \"$InputLocation/{filename}\" -c:av copy -preset:v slow -rc vbr -cq $Set_cq -qmin $Set_qmin -qmax $Set_qmax -b:v 0 -profile:v $SetProfile -init_qpP 23 -init_qpB 25 -init_qpI 21 \"$OutputLocation/{filename[dchara:-(int(fix))]}{OutputExtension}\"\n",
        "                def owno():\n",
        "                    cmd = !ffmpeg -n -vsync 0 -hwaccel vdpau \"$InputLocation/{filename}\" -c:av copy -preset:v slow -rc vbr -cq $Set_cq -qmin $Set_qmin -qmax $Set_qmax -b:v 0 -profile:v $SetProfile -init_qpP 23 -init_qpB 25 -init_qpI 21 \"$OutputLocation/{filename[dchara:-(int(fix))]}{OutputExtension}\"\n",
        "                if OverwriteOption == \"Default\":\n",
        "                    owdef()\n",
        "                if OverwriteOption == \"Overwrite an Existing File\":\n",
        "                    owyes()\n",
        "                if OverwriteOption == \"Don't Overwrite an Existing File\":\n",
        "                    owno()\n",
        "            if EncodeSetting == \"H264\":\n",
        "                h264()\n",
        "            if EncodeSetting == \"HEVC\":\n",
        "                hevc()\n",
        "            if EncodeSetting == \"Normal\":\n",
        "                normal()            \n",
        "        def avaapi():\n",
        "            def h264():\n",
        "                def owdef():\n",
        "                    cmd = !ffmpeg -vsync 0 -hwaccel avaapi \"$InputLocation/{filename}\" -c:a copy -c:v h264_nvenc -preset:v slow -rc vbr -cq $Set_cq -qmin $Set_qmin -qmax $Set_qmax -b:v 0 -profile:v $SetProfile -init_qpP 23 -init_qpB 25 -init_qpI 21 \"$OutputLocation/{filename[dchara:-(int(fix))]}{OutputExtension}\"\n",
        "                def owyes():\n",
        "                    cmd = !ffmpeg -y -vsync 0 -hwaccel avaapi \"$InputLocation/{filename}\" -c:a copy -c:v h264_nvenc -preset:v slow -rc vbr -cq $Set_cq -qmin $Set_qmin -qmax $Set_qmax -b:v 0 -profile:v $SetProfile -init_qpP 23 -init_qpB 25 -init_qpI 21 \"$OutputLocation/{filename[dchara:-(int(fix))]}{OutputExtension}\"\n",
        "                def owno():\n",
        "                    cmd = !ffmpeg -n -vsync 0 -hwaccel avaapi \"$InputLocation/{filename}\" -c:a copy -c:v h264_nvenc -preset:v slow -rc vbr -cq $Set_cq -qmin $Set_qmin -qmax $Set_qmax -b:v 0 -profile:v $SetProfile -init_qpP 23 -init_qpB 25 -init_qpI 21 \"$OutputLocation/{filename[dchara:-(int(fix))]}{OutputExtension}\"\n",
        "                if OverwriteOption == \"Default\":\n",
        "                    owdef()\n",
        "                if OverwriteOption == \"Overwrite an Existing File\":\n",
        "                    owyes()\n",
        "                if OverwriteOption == \"Don't Overwrite an Existing File\":\n",
        "                    owno()\n",
        "            def hevc():\n",
        "                def owdef():\n",
        "                    cmd = !ffmpeg -vsync 0 -hwaccel avaapi \"$InputLocation/{filename}\" -c:a copy -c:v hevc_nvenc -preset:v slow -rc vbr -cq $Set_cq -qmin $Set_qmin -qmax $Set_qmax -b:v 0 -profile:v $SetProfile -init_qpP 23 -init_qpB 25 -init_qpI 21 \"$OutputLocation/{filename[dchara:-(int(fix))]}{OutputExtension}\"\n",
        "                def owyes():\n",
        "                    cmd = !ffmpeg -y -vsync 0 -hwaccel avaapi \"$InputLocation/{filename}\" -c:a copy -c:v hevc_nvenc -preset:v slow -rc vbr -cq $Set_cq -qmin $Set_qmin -qmax $Set_qmax -b:v 0 -profile:v $SetProfile -init_qpP 23 -init_qpB 25 -init_qpI 21 \"$OutputLocation/{filename[dchara:-(int(fix))]}{OutputExtension}\"\n",
        "                def owno():\n",
        "                    cmd = !ffmpeg -n -vsync 0 -hwaccel avaapi \"$InputLocation/{filename}\" -c:a copy -c:v hevc_nvenc -preset:v slow -rc vbr -cq $Set_cq -qmin $Set_qmin -qmax $Set_qmax -b:v 0 -profile:v $SetProfile -init_qpP 23 -init_qpB 25 -init_qpI 21 \"$OutputLocation/{filename[dchara:-(int(fix))]}{OutputExtension}\"\n",
        "                if OverwriteOption == \"Default\":\n",
        "                    owdef()\n",
        "                if OverwriteOption == \"Overwrite an Existing File\":\n",
        "                    owyes()\n",
        "                if OverwriteOption == \"Don't Overwrite an Existing File\":\n",
        "                    owno()\n",
        "            def normal():\n",
        "                def owdef():\n",
        "                    cmd = !ffmpeg -vsync 0 -hwaccel avaapi \"$InputLocation/{filename}\" -c:av copy -preset:v slow -rc vbr -cq $Set_cq -qmin $Set_qmin -qmax $Set_qmax -b:v 0 -profile:v $SetProfile -init_qpP 23 -init_qpB 25 -init_qpI 21 \"$OutputLocation/{filename[dchara:-(int(fix))]}{OutputExtension}\"\n",
        "                def owyes():\n",
        "                    cmd = !ffmpeg -y -vsync 0 -hwaccel avaapi \"$InputLocation/{filename}\" -c:av copy -preset:v slow -rc vbr -cq $Set_cq -qmin $Set_qmin -qmax $Set_qmax -b:v 0 -profile:v $SetProfile -init_qpP 23 -init_qpB 25 -init_qpI 21 \"$OutputLocation/{filename[dchara:-(int(fix))]}{OutputExtension}\"\n",
        "                def owno():\n",
        "                    cmd = !ffmpeg -n -vsync 0 -hwaccel avaapi \"$InputLocation/{filename}\" -c:av copy -preset:v slow -rc vbr -cq $Set_cq -qmin $Set_qmin -qmax $Set_qmax -b:v 0 -profile:v $SetProfile -init_qpP 23 -init_qpB 25 -init_qpI 21 \"$OutputLocation/{filename[dchara:-(int(fix))]}{OutputExtension}\"\n",
        "                if OverwriteOption == \"Default\":\n",
        "                    owdef()\n",
        "                if OverwriteOption == \"Overwrite an Existing File\":\n",
        "                    owyes()\n",
        "                if OverwriteOption == \"Don't Overwrite an Existing File\":\n",
        "                    owno()\n",
        "            if EncodeSetting == \"H264\":\n",
        "                h264()\n",
        "            if EncodeSetting == \"HEVC\":\n",
        "                hevc()\n",
        "            if EncodeSetting == \"Normal\":\n",
        "                normal()\n",
        "        def acuvid():\n",
        "            def h264():\n",
        "                def owdef():\n",
        "                    cmd = !ffmpeg -vsync 0 -hwaccel acuvid \"$InputLocation/{filename}\" -c:a copy -c:v h264_nvenc -preset:v slow -rc vbr -cq $Set_cq -qmin $Set_qmin -qmax $Set_qmax -b:v 0 -profile:v $SetProfile -init_qpP 23 -init_qpB 25 -init_qpI 21 \"$OutputLocation/{filename[dchara:-(int(fix))]}{OutputExtension}\"\n",
        "                def owyes():\n",
        "                    cmd = !ffmpeg -y -vsync 0 -hwaccel acuvid \"$InputLocation/{filename}\" -c:a copy -c:v h264_nvenc -preset:v slow -rc vbr -cq $Set_cq -qmin $Set_qmin -qmax $Set_qmax -b:v 0 -profile:v $SetProfile -init_qpP 23 -init_qpB 25 -init_qpI 21 \"$OutputLocation/{filename[dchara:-(int(fix))]}{OutputExtension}\"\n",
        "                def owno():\n",
        "                    cmd = !ffmpeg -n -vsync 0 -hwaccel acuvid \"$InputLocation/{filename}\" -c:a copy -c:v h264_nvenc -preset:v slow -rc vbr -cq $Set_cq -qmin $Set_qmin -qmax $Set_qmax -b:v 0 -profile:v $SetProfile -init_qpP 23 -init_qpB 25 -init_qpI 21 \"$OutputLocation/{filename[dchara:-(int(fix))]}{OutputExtension}\"\n",
        "                if OverwriteOption == \"Default\":\n",
        "                    owdef()\n",
        "                if OverwriteOption == \"Overwrite an Existing File\":\n",
        "                    owyes()\n",
        "                if OverwriteOption == \"Don't Overwrite an Existing File\":\n",
        "                    owno()\n",
        "            def hevc():\n",
        "                def owdef():\n",
        "                    cmd = !ffmpeg -vsync 0 -hwaccel acuvid \"$InputLocation/{filename}\" -c:a copy -c:v hevc_nvenc -preset:v slow -rc vbr -cq $Set_cq -qmin $Set_qmin -qmax $Set_qmax -b:v 0 -profile:v $SetProfile -init_qpP 23 -init_qpB 25 -init_qpI 21 \"$OutputLocation/{filename[dchara:-(int(fix))]}{OutputExtension}\"\n",
        "                def owyes():\n",
        "                    cmd = !ffmpeg -y -vsync 0 -hwaccel acuvid \"$InputLocation/{filename}\" -c:a copy -c:v hevc_nvenc -preset:v slow -rc vbr -cq $Set_cq -qmin $Set_qmin -qmax $Set_qmax -b:v 0 -profile:v $SetProfile -init_qpP 23 -init_qpB 25 -init_qpI 21 \"$OutputLocation/{filename[dchara:-(int(fix))]}{OutputExtension}\"\n",
        "                def owno():\n",
        "                    cmd = !ffmpeg -n -vsync 0 -hwaccel acuvid \"$InputLocation/{filename}\" -c:a copy -c:v hevc_nvenc -preset:v slow -rc vbr -cq $Set_cq -qmin $Set_qmin -qmax $Set_qmax -b:v 0 -profile:v $SetProfile -init_qpP 23 -init_qpB 25 -init_qpI 21 \"$OutputLocation/{filename[dchara:-(int(fix))]}{OutputExtension}\"\n",
        "                if OverwriteOption == \"Default\":\n",
        "                    owdef()\n",
        "                if OverwriteOption == \"Overwrite an Existing File\":\n",
        "                    owyes()\n",
        "                if OverwriteOption == \"Don't Overwrite an Existing File\":\n",
        "                    owno()\n",
        "            def normal():\n",
        "                def owdef():\n",
        "                    cmd = !ffmpeg -vsync 0 -hwaccel acuvid \"$InputLocation/{filename}\" -c:av copy -preset:v slow -rc vbr -cq $Set_cq -qmin $Set_qmin -qmax $Set_qmax -b:v 0 -profile:v $SetProfile -init_qpP 23 -init_qpB 25 -init_qpI 21 \"$OutputLocation/{filename[dchara:-(int(fix))]}{OutputExtension}\"\n",
        "                def owyes():\n",
        "                    cmd = !ffmpeg -y -vsync 0 -hwaccel acuvid \"$InputLocation/{filename}\" -c:av copy -preset:v slow -rc vbr -cq $Set_cq -qmin $Set_qmin -qmax $Set_qmax -b:v 0 -profile:v $SetProfile -init_qpP 23 -init_qpB 25 -init_qpI 21 \"$OutputLocation/{filename[dchara:-(int(fix))]}{OutputExtension}\"\n",
        "                def owno():\n",
        "                    cmd = !ffmpeg -n -vsync 0 -hwaccel acuvid \"$InputLocation/{filename}\" -c:av copy -preset:v slow -rc vbr -cq $Set_cq -qmin $Set_qmin -qmax $Set_qmax -b:v 0 -profile:v $SetProfile -init_qpP 23 -init_qpB 25 -init_qpI 21 \"$OutputLocation/{filename[dchara:-(int(fix))]}{OutputExtension}\"\n",
        "                if OverwriteOption == \"Default\":\n",
        "                    owdef()\n",
        "                if OverwriteOption == \"Overwrite an Existing File\":\n",
        "                    owyes()\n",
        "                if OverwriteOption == \"Don't Overwrite an Existing File\":\n",
        "                    owno()\n",
        "            if EncodeSetting == \"H264\":\n",
        "                h264()\n",
        "            if EncodeSetting == \"HEVC\":\n",
        "                hevc()\n",
        "            if EncodeSetting == \"Normal\":\n",
        "                normal()\n",
        "                owno()\n",
        "        if HardwareAccelerator == \"VDPAU\":\n",
        "            avdpau()\n",
        "        if HardwareAccelerator == \"VAAPI\":\n",
        "            avaapi()\n",
        "        if HardwareAccelerator == \"CUVID\":\n",
        "            acuvid()\n",
        "    def noaccel():\n",
        "        def owdef():\n",
        "            cmd = !ffmpeg \"$InputLocation/{filename}\" -c:av copy -preset:v slow -rc vbr -cq $Set_cq -qmin $Set_qmin -qmax $Set_qmax -b:v 0 -profile:v $SetProfile -init_qpP 23 -init_qpB 25 -init_qpI 21 \"$OutputLocation/{filename[dchara:-(int(fix))]}{OutputExtension}\"\n",
        "        def owyes():\n",
        "            cmd = !ffmpeg -y \"$InputLocation/{filename}\" -c:av copy -preset:v slow -rc vbr -cq $Set_cq -qmin $Set_qmin -qmax $Set_qmax -b:v 0 -profile:v $SetProfile -init_qpP 23 -init_qpB 25 -init_qpI 21 \"$OutputLocation/{filename[dchara:-(int(fix))]}{OutputExtension}\"\n",
        "        def owno():\n",
        "            cmd = !ffmpeg -n \"$InputLocation/{filename}\" -c:av copy -preset:v slow -rc vbr -cq $Set_cq -qmin $Set_qmin -qmax $Set_qmax -b:v 0 -profile:v $SetProfile -init_qpP 23 -init_qpB 25 -init_qpI 21 \"$OutputLocation/{filename[dchara:-(int(fix))]}{OutputExtension}\"        \n",
        "        if OverwriteOption == \"Default\":\n",
        "            owdef()\n",
        "        if OverwriteOption == \"Overwrite an Existing File\":\n",
        "            owyes()\n",
        "        if OverwriteOption == \"Don't Overwrite an Existing File\":\n",
        "            owno()\n",
        "    if UseHardwareAccelerator == True:\n",
        "        accel()\n",
        "    if UseHardwareAccelerator == False:\n",
        "        noaccel()\n",
        "def withSub():\n",
        "    def noSubtrack():    \n",
        "        def accel():\n",
        "            def avdpau():\n",
        "                def h264():\n",
        "                    def owdef():\n",
        "                        cmd = !ffmpeg -vsync 0 -hwaccel vdpau \"$InputLocation/{filename}\" -c:a copy -c:v h264_nvenc -preset:v slow -rc vbr -cq $Set_cq -qmin $Set_qmin -qmax $Set_qmax -b:v 0 -profile:v $SetProfile -init_qpP 23 -init_qpB 25 -init_qpI 21 -filter_complex \"subtitles='$InputLocation/{filename}'\" \"$OutputLocation/{filename[dchara:-(int(fix))]}{OutputExtension}\"\n",
        "                    def owyes():\n",
        "                        cmd = !ffmpeg -y -vsync 0 -hwaccel vdpau \"$InputLocation/{filename}\" -c:a copy -c:v h264_nvenc -preset:v slow -rc vbr -cq $Set_cq -qmin $Set_qmin -qmax $Set_qmax -b:v 0 -profile:v $SetProfile -init_qpP 23 -init_qpB 25 -init_qpI 21 -filter_complex \"subtitles='$InputLocation/{filename}'\" \"$OutputLocation/{filename[dchara:-(int(fix))]}{OutputExtension}\"\n",
        "                    def owno():\n",
        "                        cmd = !ffmpeg -n -vsync 0 -hwaccel vdpau \"$InputLocation/{filename}\" -c:a copy -c:v h264_nvenc -preset:v slow -rc vbr -cq $Set_cq -qmin $Set_qmin -qmax $Set_qmax -b:v 0 -profile:v $SetProfile -init_qpP 23 -init_qpB 25 -init_qpI 21 -filter_complex \"subtitles='$InputLocation/{filename}'\" \"$OutputLocation/{filename[dchara:-(int(fix))]}{OutputExtension}\"\n",
        "                    if OverwriteOption == \"Default\":\n",
        "                        owdef()\n",
        "                    if OverwriteOption == \"Overwrite an Existing File\":\n",
        "                        owyes()\n",
        "                    if OverwriteOption == \"Don't Overwrite an Existing File\":\n",
        "                        owno()\n",
        "                def hevc():\n",
        "                    def owdef():\n",
        "                        cmd = !ffmpeg -vsync 0 -hwaccel vdpau \"$InputLocation/{filename}\" -c:a copy -c:v hevc_nvenc -preset:v slow -rc vbr -cq $Set_cq -qmin $Set_qmin -qmax $Set_qmax -b:v 0 -profile:v $SetProfile -init_qpP 23 -init_qpB 25 -init_qpI 21 -filter_complex \"subtitles='$InputLocation/{filename}'\" \"$OutputLocation/{filename[dchara:-(int(fix))]}{OutputExtension}\"\n",
        "                    def owyes():\n",
        "                        cmd = !ffmpeg -y -vsync 0 -hwaccel vdpau \"$InputLocation/{filename}\" -c:a copy -c:v hevc_nvenc -preset:v slow -rc vbr -cq $Set_cq -qmin $Set_qmin -qmax $Set_qmax -b:v 0 -profile:v $SetProfile -init_qpP 23 -init_qpB 25 -init_qpI 21 -filter_complex \"subtitles='$InputLocation/{filename}'\" \"$OutputLocation/{filename[dchara:-(int(fix))]}{OutputExtension}\"\n",
        "                    def owno():\n",
        "                        cmd = !ffmpeg -n -vsync 0 -hwaccel vdpau \"$InputLocation/{filename}\" -c:a copy -c:v hevc_nvenc -preset:v slow -rc vbr -cq $Set_cq -qmin $Set_qmin -qmax $Set_qmax -b:v 0 -profile:v $SetProfile -init_qpP 23 -init_qpB 25 -init_qpI 21 -filter_complex \"subtitles='$InputLocation/{filename}'\" \"$OutputLocation/{filename[dchara:-(int(fix))]}{OutputExtension}\"\n",
        "                    if OverwriteOption == \"Default\":\n",
        "                        owdef()\n",
        "                    if OverwriteOption == \"Overwrite an Existing File\":\n",
        "                        owyes()\n",
        "                    if OverwriteOption == \"Don't Overwrite an Existing File\":\n",
        "                        owno()\n",
        "                def normal():\n",
        "                    def owdef():\n",
        "                        cmd = !ffmpeg -vsync 0 -hwaccel vdpau \"$InputLocation/{filename}\" -c:av copy -preset:v slow -rc vbr -cq $Set_cq -qmin $Set_qmin -qmax $Set_qmax -b:v 0 -profile:v $SetProfile -init_qpP 23 -init_qpB 25 -init_qpI 21 -filter_complex \"subtitles='$InputLocation/{filename}'\" \"$OutputLocation/{filename[dchara:-(int(fix))]}{OutputExtension}\"\n",
        "                    def owyes():\n",
        "                        cmd = !ffmpeg -y -vsync 0 -hwaccel vdpau \"$InputLocation/{filename}\" -c:av copy -preset:v slow -rc vbr -cq $Set_cq -qmin $Set_qmin -qmax $Set_qmax -b:v 0 -profile:v $SetProfile -init_qpP 23 -init_qpB 25 -init_qpI 21 -filter_complex \"subtitles='$InputLocation/{filename}'\" \"$OutputLocation/{filename[dchara:-(int(fix))]}{OutputExtension}\"\n",
        "                    def owno():\n",
        "                        cmd = !ffmpeg -n -vsync 0 -hwaccel vdpau \"$InputLocation/{filename}\" -c:av copy -preset:v slow -rc vbr -cq $Set_cq -qmin $Set_qmin -qmax $Set_qmax -b:v 0 -profile:v $SetProfile -init_qpP 23 -init_qpB 25 -init_qpI 21 -filter_complex \"subtitles='$InputLocation/{filename}'\" \"$OutputLocation/{filename[dchara:-(int(fix))]}{OutputExtension}\"\n",
        "                    if OverwriteOption == \"Default\":\n",
        "                        owdef()\n",
        "                    if OverwriteOption == \"Overwrite an Existing File\":\n",
        "                        owyes()\n",
        "                    if OverwriteOption == \"Don't Overwrite an Existing File\":\n",
        "                        owno()\n",
        "                if EncodeSetting == \"H264\":\n",
        "                    h264()\n",
        "                if EncodeSetting == \"HEVC\":\n",
        "                    hevc()\n",
        "                if EncodeSetting == \"Normal\":\n",
        "                    normal()            \n",
        "            def avaapi():\n",
        "                def h264():\n",
        "                    def owdef():\n",
        "                        cmd = !ffmpeg -vsync 0 -hwaccel avaapi \"$InputLocation/{filename}\" -c:a copy -c:v h264_nvenc -preset:v slow -rc vbr -cq $Set_cq -qmin $Set_qmin -qmax $Set_qmax -b:v 0 -profile:v $SetProfile -init_qpP 23 -init_qpB 25 -init_qpI 21 -filter_complex \"subtitles='$InputLocation/{filename}'\" \"$OutputLocation/{filename[dchara:-(int(fix))]}{OutputExtension}\"\n",
        "                    def owyes():\n",
        "                        cmd = !ffmpeg -y -vsync 0 -hwaccel avaapi \"$InputLocation/{filename}\" -c:a copy -c:v h264_nvenc -preset:v slow -rc vbr -cq $Set_cq -qmin $Set_qmin -qmax $Set_qmax -b:v 0 -profile:v $SetProfile -init_qpP 23 -init_qpB 25 -init_qpI 21 -filter_complex \"subtitles='$InputLocation/{filename}'\" \"$OutputLocation/{filename[dchara:-(int(fix))]}{OutputExtension}\"\n",
        "                    def owno():\n",
        "                        cmd = !ffmpeg -n -vsync 0 -hwaccel avaapi \"$InputLocation/{filename}\" -c:a copy -c:v h264_nvenc -preset:v slow -rc vbr -cq $Set_cq -qmin $Set_qmin -qmax $Set_qmax -b:v 0 -profile:v $SetProfile -init_qpP 23 -init_qpB 25 -init_qpI 21 -filter_complex \"subtitles='$InputLocation/{filename}'\" \"$OutputLocation/{filename[dchara:-(int(fix))]}{OutputExtension}\"\n",
        "                    if OverwriteOption == \"Default\":\n",
        "                        owdef()\n",
        "                    if OverwriteOption == \"Overwrite an Existing File\":\n",
        "                        owyes()\n",
        "                    if OverwriteOption == \"Don't Overwrite an Existing File\":\n",
        "                        owno()\n",
        "                def hevc():\n",
        "                    def owdef():\n",
        "                        cmd = !ffmpeg -vsync 0 -hwaccel avaapi \"$InputLocation/{filename}\" -c:a copy -c:v hevc_nvenc -preset:v slow -rc vbr -cq $Set_cq -qmin $Set_qmin -qmax $Set_qmax -b:v 0 -profile:v $SetProfile -init_qpP 23 -init_qpB 25 -init_qpI 21 -filter_complex \"subtitles='$InputLocation/{filename}'\" \"$OutputLocation/{filename[dchara:-(int(fix))]}{OutputExtension}\"\n",
        "                    def owyes():\n",
        "                        cmd = !ffmpeg -y -vsync 0 -hwaccel avaapi \"$InputLocation/{filename}\" -c:a copy -c:v hevc_nvenc -preset:v slow -rc vbr -cq $Set_cq -qmin $Set_qmin -qmax $Set_qmax -b:v 0 -profile:v $SetProfile -init_qpP 23 -init_qpB 25 -init_qpI 21 -filter_complex \"subtitles='$InputLocation/{filename}'\" \"$OutputLocation/{filename[dchara:-(int(fix))]}{OutputExtension}\"\n",
        "                    def owno():\n",
        "                        cmd = !ffmpeg -n -vsync 0 -hwaccel avaapi \"$InputLocation/{filename}\" -c:a copy -c:v hevc_nvenc -preset:v slow -rc vbr -cq $Set_cq -qmin $Set_qmin -qmax $Set_qmax -b:v 0 -profile:v $SetProfile -init_qpP 23 -init_qpB 25 -init_qpI 21 -filter_complex \"subtitles='$InputLocation/{filename}'\" \"$OutputLocation/{filename[dchara:-(int(fix))]}{OutputExtension}\"\n",
        "                    if OverwriteOption == \"Default\":\n",
        "                        owdef()\n",
        "                    if OverwriteOption == \"Overwrite an Existing File\":\n",
        "                        owyes()\n",
        "                    if OverwriteOption == \"Don't Overwrite an Existing File\":\n",
        "                        owno()\n",
        "                def normal():\n",
        "                    def owdef():\n",
        "                        cmd = !ffmpeg -vsync 0 -hwaccel avaapi \"$InputLocation/{filename}\" -c:av copy -preset:v slow -rc vbr -cq $Set_cq -qmin $Set_qmin -qmax $Set_qmax -b:v 0 -profile:v $SetProfile -init_qpP 23 -init_qpB 25 -init_qpI 21 -filter_complex \"subtitles='$InputLocation/{filename}'\" \"$OutputLocation/{filename[dchara:-(int(fix))]}{OutputExtension}\"\n",
        "                    def owyes():\n",
        "                        cmd = !ffmpeg -y -vsync 0 -hwaccel avaapi \"$InputLocation/{filename}\" -c:av copy -preset:v slow -rc vbr -cq $Set_cq -qmin $Set_qmin -qmax $Set_qmax -b:v 0 -profile:v $SetProfile -init_qpP 23 -init_qpB 25 -init_qpI 21 -filter_complex \"subtitles='$InputLocation/{filename}'\" \"$OutputLocation/{filename[dchara:-(int(fix))]}{OutputExtension}\"\n",
        "                    def owno():\n",
        "                        cmd = !ffmpeg -n -vsync 0 -hwaccel avaapi \"$InputLocation/{filename}\" -c:av copy -preset:v slow -rc vbr -cq $Set_cq -qmin $Set_qmin -qmax $Set_qmax -b:v 0 -profile:v $SetProfile -init_qpP 23 -init_qpB 25 -init_qpI 21 -filter_complex \"subtitles='$InputLocation/{filename}'\" \"$OutputLocation/{filename[dchara:-(int(fix))]}{OutputExtension}\"\n",
        "                    if OverwriteOption == \"Default\":\n",
        "                        owdef()\n",
        "                    if OverwriteOption == \"Overwrite an Existing File\":\n",
        "                        owyes()\n",
        "                    if OverwriteOption == \"Don't Overwrite an Existing File\":\n",
        "                        owno()\n",
        "                if EncodeSetting == \"H264\":\n",
        "                    h264()\n",
        "                if EncodeSetting == \"HEVC\":\n",
        "                    hevc()\n",
        "                if EncodeSetting == \"Normal\":\n",
        "                    normal()\n",
        "            def acuvid():\n",
        "                def h264():\n",
        "                    def owdef():\n",
        "                        cmd = !ffmpeg -vsync 0 -hwaccel acuvid \"$InputLocation/{filename}\" -c:a copy -c:v h264_nvenc -preset:v slow -rc vbr -cq $Set_cq -qmin $Set_qmin -qmax $Set_qmax -b:v 0 -profile:v $SetProfile -init_qpP 23 -init_qpB 25 -init_qpI 21 -filter_complex \"subtitles='$InputLocation/{filename}'\" \"$OutputLocation/{filename[dchara:-(int(fix))]}{OutputExtension}\"\n",
        "                    def owyes():\n",
        "                        cmd = !ffmpeg -y -vsync 0 -hwaccel acuvid \"$InputLocation/{filename}\" -c:a copy -c:v h264_nvenc -preset:v slow -rc vbr -cq $Set_cq -qmin $Set_qmin -qmax $Set_qmax -b:v 0 -profile:v $SetProfile -init_qpP 23 -init_qpB 25 -init_qpI 21 -filter_complex \"subtitles='$InputLocation/{filename}'\" \"$OutputLocation/{filename[dchara:-(int(fix))]}{OutputExtension}\"\n",
        "                    def owno():\n",
        "                        cmd = !ffmpeg -n -vsync 0 -hwaccel acuvid \"$InputLocation/{filename}\" -c:a copy -c:v h264_nvenc -preset:v slow -rc vbr -cq $Set_cq -qmin $Set_qmin -qmax $Set_qmax -b:v 0 -profile:v $SetProfile -init_qpP 23 -init_qpB 25 -init_qpI 21 -filter_complex \"subtitles='$InputLocation/{filename}'\" \"$OutputLocation/{filename[dchara:-(int(fix))]}{OutputExtension}\"\n",
        "                    if OverwriteOption == \"Default\":\n",
        "                        owdef()\n",
        "                    if OverwriteOption == \"Overwrite an Existing File\":\n",
        "                        owyes()\n",
        "                    if OverwriteOption == \"Don't Overwrite an Existing File\":\n",
        "                        owno()\n",
        "                def hevc():\n",
        "                    def owdef():\n",
        "                        cmd = !ffmpeg -vsync 0 -hwaccel acuvid \"$InputLocation/{filename}\" -c:a copy -c:v hevc_nvenc -preset:v slow -rc vbr -cq $Set_cq -qmin $Set_qmin -qmax $Set_qmax -b:v 0 -profile:v $SetProfile -init_qpP 23 -init_qpB 25 -init_qpI 21 -filter_complex \"subtitles='$InputLocation/{filename}'\" \"$OutputLocation/{filename[dchara:-(int(fix))]}{OutputExtension}\"\n",
        "                    def owyes():\n",
        "                        cmd = !ffmpeg -y -vsync 0 -hwaccel acuvid \"$InputLocation/{filename}\" -c:a copy -c:v hevc_nvenc -preset:v slow -rc vbr -cq $Set_cq -qmin $Set_qmin -qmax $Set_qmax -b:v 0 -profile:v $SetProfile -init_qpP 23 -init_qpB 25 -init_qpI 21 -filter_complex \"subtitles='$InputLocation/{filename}'\" \"$OutputLocation/{filename[dchara:-(int(fix))]}{OutputExtension}\"\n",
        "                    def owno():\n",
        "                        cmd = !ffmpeg -n -vsync 0 -hwaccel acuvid \"$InputLocation/{filename}\" -c:a copy -c:v hevc_nvenc -preset:v slow -rc vbr -cq $Set_cq -qmin $Set_qmin -qmax $Set_qmax -b:v 0 -profile:v $SetProfile -init_qpP 23 -init_qpB 25 -init_qpI 21 -filter_complex \"subtitles='$InputLocation/{filename}'\" \"$OutputLocation/{filename[dchara:-(int(fix))]}{OutputExtension}\"\n",
        "                    if OverwriteOption == \"Default\":\n",
        "                        owdef()\n",
        "                    if OverwriteOption == \"Overwrite an Existing File\":\n",
        "                        owyes()\n",
        "                    if OverwriteOption == \"Don't Overwrite an Existing File\":\n",
        "                        owno()\n",
        "                def normal():\n",
        "                    def owdef():\n",
        "                        cmd = !ffmpeg -vsync 0 -hwaccel acuvid \"$InputLocation/{filename}\" -c:av copy -preset:v slow -rc vbr -cq $Set_cq -qmin $Set_qmin -qmax $Set_qmax -b:v 0 -profile:v $SetProfile -init_qpP 23 -init_qpB 25 -init_qpI 21 -filter_complex \"subtitles='$InputLocation/{filename}'\" \"$OutputLocation/{filename[dchara:-(int(fix))]}{OutputExtension}\"\n",
        "                    def owyes():\n",
        "                        cmd = !ffmpeg -y -vsync 0 -hwaccel acuvid \"$InputLocation/{filename}\" -c:av copy -preset:v slow -rc vbr -cq $Set_cq -qmin $Set_qmin -qmax $Set_qmax -b:v 0 -profile:v $SetProfile -init_qpP 23 -init_qpB 25 -init_qpI 21 -filter_complex \"subtitles='$InputLocation/{filename}'\" \"$OutputLocation/{filename[dchara:-(int(fix))]}{OutputExtension}\"\n",
        "                    def owno():\n",
        "                        cmd = !ffmpeg -n -vsync 0 -hwaccel acuvid \"$InputLocation/{filename}\" -c:av copy -preset:v slow -rc vbr -cq $Set_cq -qmin $Set_qmin -qmax $Set_qmax -b:v 0 -profile:v $SetProfile -init_qpP 23 -init_qpB 25 -init_qpI 21 -filter_complex \"subtitles='$InputLocation/{filename}'\" \"$OutputLocation/{filename[dchara:-(int(fix))]}{OutputExtension}\"\n",
        "                    if OverwriteOption == \"Default\":\n",
        "                        owdef()\n",
        "                    if OverwriteOption == \"Overwrite an Existing File\":\n",
        "                        owyes()\n",
        "                    if OverwriteOption == \"Don't Overwrite an Existing File\":\n",
        "                        owno()\n",
        "                if EncodeSetting == \"H264\":\n",
        "                    h264()\n",
        "                if EncodeSetting == \"HEVC\":\n",
        "                    hevc()\n",
        "                if EncodeSetting == \"Normal\":\n",
        "                    normal()\n",
        "                    owno()\n",
        "            if HardwareAccelerator == \"VDPAU\":\n",
        "                avdpau()\n",
        "            if HardwareAccelerator == \"VAAPI\":\n",
        "                avaapi()\n",
        "            if HardwareAccelerator == \"CUVID\":\n",
        "                acuvid()\n",
        "        def noaccel():\n",
        "            def owdef():\n",
        "                cmd = !ffmpeg \"$InputLocation/{filename}\" -c:av copy -preset:v slow -rc vbr -cq $Set_cq -qmin $Set_qmin -qmax $Set_qmax -b:v 0 -profile:v $SetProfile -init_qpP 23 -init_qpB 25 -init_qpI 21 -filter_complex \"subtitles='$InputLocation/{filename}'\" \"$OutputLocation/{filename[dchara:-(int(fix))]}{OutputExtension}\"\n",
        "            def owyes():\n",
        "                cmd = !ffmpeg -y \"$InputLocation/{filename}\" -c:av copy -preset:v slow -rc vbr -cq $Set_cq -qmin $Set_qmin -qmax $Set_qmax -b:v 0 -profile:v $SetProfile -init_qpP 23 -init_qpB 25 -init_qpI 21 -filter_complex \"subtitles='$InputLocation/{filename}'\" \"$OutputLocation/{filename[dchara:-(int(fix))]}{OutputExtension}\"\n",
        "            def owno():\n",
        "                cmd = !ffmpeg -n \"$InputLocation/{filename}\" -c:av copy -preset:v slow -rc vbr -cq $Set_cq -qmin $Set_qmin -qmax $Set_qmax -b:v 0 -profile:v $SetProfile -init_qpP 23 -init_qpB 25 -init_qpI 21 -filter_complex \"subtitles='$InputLocation/{filename}'\" \"$OutputLocation/{filename[dchara:-(int(fix))]}{OutputExtension}\"        \n",
        "            if OverwriteOption == \"Default\":\n",
        "                owdef()\n",
        "            if OverwriteOption == \"Overwrite an Existing File\":\n",
        "                owyes()\n",
        "            if OverwriteOption == \"Don't Overwrite an Existing File\":\n",
        "                owno()\n",
        "        if UseHardwareAccelerator == True:\n",
        "            accel()\n",
        "        if UseHardwareAccelerator == False:\n",
        "            noaccel() \n",
        "    def Subtrack():    \n",
        "        def accel():\n",
        "            def avdpau():\n",
        "                def h264():\n",
        "                    def owdef():\n",
        "                        cmd = !ffmpeg -vsync 0 -hwaccel vdpau \"$InputLocation/{filename}\" -c:a copy -c:v h264_nvenc -preset:v slow -rc vbr -cq $Set_cq -qmin $Set_qmin -qmax $Set_qmax -b:v 0 -profile:v $SetProfile -init_qpP 23 -init_qpB 25 -init_qpI 21 -filter_complex \"subtitles='$InputLocation/{filename}:si={SubtitleTrack}'\" \"$OutputLocation/{filename[dchara:-(int(fix))]}{OutputExtension}\"\n",
        "                    def owyes():\n",
        "                        cmd = !ffmpeg -y -vsync 0 -hwaccel vdpau \"$InputLocation/{filename}\" -c:a copy -c:v h264_nvenc -preset:v slow -rc vbr -cq $Set_cq -qmin $Set_qmin -qmax $Set_qmax -b:v 0 -profile:v $SetProfile -init_qpP 23 -init_qpB 25 -init_qpI 21 -filter_complex \"subtitles='$InputLocation/{filename}:si={SubtitleTrack}'\" \"$OutputLocation/{filename[dchara:-(int(fix))]}{OutputExtension}\"\n",
        "                    def owno():\n",
        "                        cmd = !ffmpeg -n -vsync 0 -hwaccel vdpau \"$InputLocation/{filename}\" -c:a copy -c:v h264_nvenc -preset:v slow -rc vbr -cq $Set_cq -qmin $Set_qmin -qmax $Set_qmax -b:v 0 -profile:v $SetProfile -init_qpP 23 -init_qpB 25 -init_qpI 21 -filter_complex \"subtitles='$InputLocation/{filename}:si={SubtitleTrack}'\" \"$OutputLocation/{filename[dchara:-(int(fix))]}{OutputExtension}\"\n",
        "                    if OverwriteOption == \"Default\":\n",
        "                        owdef()\n",
        "                    if OverwriteOption == \"Overwrite an Existing File\":\n",
        "                        owyes()\n",
        "                    if OverwriteOption == \"Don't Overwrite an Existing File\":\n",
        "                        owno()\n",
        "                def hevc():\n",
        "                    def owdef():\n",
        "                        cmd = !ffmpeg -vsync 0 -hwaccel vdpau \"$InputLocation/{filename}\" -c:a copy -c:v hevc_nvenc -preset:v slow -rc vbr -cq $Set_cq -qmin $Set_qmin -qmax $Set_qmax -b:v 0 -profile:v $SetProfile -init_qpP 23 -init_qpB 25 -init_qpI 21 -filter_complex \"subtitles='$InputLocation/{filename}:si={SubtitleTrack}'\" \"$OutputLocation/{filename[dchara:-(int(fix))]}{OutputExtension}\"\n",
        "                    def owyes():\n",
        "                        cmd = !ffmpeg -y -vsync 0 -hwaccel vdpau \"$InputLocation/{filename}\" -c:a copy -c:v hevc_nvenc -preset:v slow -rc vbr -cq $Set_cq -qmin $Set_qmin -qmax $Set_qmax -b:v 0 -profile:v $SetProfile -init_qpP 23 -init_qpB 25 -init_qpI 21 -filter_complex \"subtitles='$InputLocation/{filename}:si={SubtitleTrack}'\" \"$OutputLocation/{filename[dchara:-(int(fix))]}{OutputExtension}\"\n",
        "                    def owno():\n",
        "                        cmd = !ffmpeg -n -vsync 0 -hwaccel vdpau \"$InputLocation/{filename}\" -c:a copy -c:v hevc_nvenc -preset:v slow -rc vbr -cq $Set_cq -qmin $Set_qmin -qmax $Set_qmax -b:v 0 -profile:v $SetProfile -init_qpP 23 -init_qpB 25 -init_qpI 21 -filter_complex \"subtitles='$InputLocation/{filename}:si={SubtitleTrack}'\" \"$OutputLocation/{filename[dchara:-(int(fix))]}{OutputExtension}\"\n",
        "                    if OverwriteOption == \"Default\":\n",
        "                        owdef()\n",
        "                    if OverwriteOption == \"Overwrite an Existing File\":\n",
        "                        owyes()\n",
        "                    if OverwriteOption == \"Don't Overwrite an Existing File\":\n",
        "                        owno()\n",
        "                def normal():\n",
        "                    def owdef():\n",
        "                        cmd = !ffmpeg -vsync 0 -hwaccel vdpau \"$InputLocation/{filename}\" -c:av copy -preset:v slow -rc vbr -cq $Set_cq -qmin $Set_qmin -qmax $Set_qmax -b:v 0 -profile:v $SetProfile -init_qpP 23 -init_qpB 25 -init_qpI 21 -filter_complex \"subtitles='$InputLocation/{filename}:si={SubtitleTrack}'\" \"$OutputLocation/{filename[dchara:-(int(fix))]}{OutputExtension}\"\n",
        "                    def owyes():\n",
        "                        cmd = !ffmpeg -y -vsync 0 -hwaccel vdpau \"$InputLocation/{filename}\" -c:av copy -preset:v slow -rc vbr -cq $Set_cq -qmin $Set_qmin -qmax $Set_qmax -b:v 0 -profile:v $SetProfile -init_qpP 23 -init_qpB 25 -init_qpI 21 -filter_complex \"subtitles='$InputLocation/{filename}:si={SubtitleTrack}'\" \"$OutputLocation/{filename[dchara:-(int(fix))]}{OutputExtension}\"\n",
        "                    def owno():\n",
        "                        cmd = !ffmpeg -n -vsync 0 -hwaccel vdpau \"$InputLocation/{filename}\" -c:av copy -preset:v slow -rc vbr -cq $Set_cq -qmin $Set_qmin -qmax $Set_qmax -b:v 0 -profile:v $SetProfile -init_qpP 23 -init_qpB 25 -init_qpI 21 -filter_complex \"subtitles='$InputLocation/{filename}:si={SubtitleTrack}'\" \"$OutputLocation/{filename[dchara:-(int(fix))]}{OutputExtension}\"\n",
        "                    if OverwriteOption == \"Default\":\n",
        "                        owdef()\n",
        "                    if OverwriteOption == \"Overwrite an Existing File\":\n",
        "                        owyes()\n",
        "                    if OverwriteOption == \"Don't Overwrite an Existing File\":\n",
        "                        owno()\n",
        "                if EncodeSetting == \"H264\":\n",
        "                    h264()\n",
        "                if EncodeSetting == \"HEVC\":\n",
        "                    hevc()\n",
        "                if EncodeSetting == \"Normal\":\n",
        "                    normal()            \n",
        "            def avaapi():\n",
        "                def h264():\n",
        "                    def owdef():\n",
        "                        cmd = !ffmpeg -vsync 0 -hwaccel avaapi \"$InputLocation/{filename}\" -c:a copy -c:v h264_nvenc -preset:v slow -rc vbr -cq $Set_cq -qmin $Set_qmin -qmax $Set_qmax -b:v 0 -profile:v $SetProfile -init_qpP 23 -init_qpB 25 -init_qpI 21 -filter_complex \"subtitles='$InputLocation/{filename}:si={SubtitleTrack}'\" \"$OutputLocation/{filename[dchara:-(int(fix))]}{OutputExtension}\"\n",
        "                    def owyes():\n",
        "                        cmd = !ffmpeg -y -vsync 0 -hwaccel avaapi \"$InputLocation/{filename}\" -c:a copy -c:v h264_nvenc -preset:v slow -rc vbr -cq $Set_cq -qmin $Set_qmin -qmax $Set_qmax -b:v 0 -profile:v $SetProfile -init_qpP 23 -init_qpB 25 -init_qpI 21 -filter_complex \"subtitles='$InputLocation/{filename}:si={SubtitleTrack}'\" \"$OutputLocation/{filename[dchara:-(int(fix))]}{OutputExtension}\"\n",
        "                    def owno():\n",
        "                        cmd = !ffmpeg -n -vsync 0 -hwaccel avaapi \"$InputLocation/{filename}\" -c:a copy -c:v h264_nvenc -preset:v slow -rc vbr -cq $Set_cq -qmin $Set_qmin -qmax $Set_qmax -b:v 0 -profile:v $SetProfile -init_qpP 23 -init_qpB 25 -init_qpI 21 -filter_complex \"subtitles='$InputLocation/{filename}:si={SubtitleTrack}'\" \"$OutputLocation/{filename[dchara:-(int(fix))]}{OutputExtension}\"\n",
        "                    if OverwriteOption == \"Default\":\n",
        "                        owdef()\n",
        "                    if OverwriteOption == \"Overwrite an Existing File\":\n",
        "                        owyes()\n",
        "                    if OverwriteOption == \"Don't Overwrite an Existing File\":\n",
        "                        owno()\n",
        "                def hevc():\n",
        "                    def owdef():\n",
        "                        cmd = !ffmpeg -vsync 0 -hwaccel avaapi \"$InputLocation/{filename}\" -c:a copy -c:v hevc_nvenc -preset:v slow -rc vbr -cq $Set_cq -qmin $Set_qmin -qmax $Set_qmax -b:v 0 -profile:v $SetProfile -init_qpP 23 -init_qpB 25 -init_qpI 21 -filter_complex \"subtitles='$InputLocation/{filename}:si={SubtitleTrack}'\" \"$OutputLocation/{filename[dchara:-(int(fix))]}{OutputExtension}\"\n",
        "                    def owyes():\n",
        "                        cmd = !ffmpeg -y -vsync 0 -hwaccel avaapi \"$InputLocation/{filename}\" -c:a copy -c:v hevc_nvenc -preset:v slow -rc vbr -cq $Set_cq -qmin $Set_qmin -qmax $Set_qmax -b:v 0 -profile:v $SetProfile -init_qpP 23 -init_qpB 25 -init_qpI 21 -filter_complex \"subtitles='$InputLocation/{filename}:si={SubtitleTrack}'\" \"$OutputLocation/{filename[dchara:-(int(fix))]}{OutputExtension}\"\n",
        "                    def owno():\n",
        "                        cmd = !ffmpeg -n -vsync 0 -hwaccel avaapi \"$InputLocation/{filename}\" -c:a copy -c:v hevc_nvenc -preset:v slow -rc vbr -cq $Set_cq -qmin $Set_qmin -qmax $Set_qmax -b:v 0 -profile:v $SetProfile -init_qpP 23 -init_qpB 25 -init_qpI 21 -filter_complex \"subtitles='$InputLocation/{filename}:si={SubtitleTrack}'\" \"$OutputLocation/{filename[dchara:-(int(fix))]}{OutputExtension}\"\n",
        "                    if OverwriteOption == \"Default\":\n",
        "                        owdef()\n",
        "                    if OverwriteOption == \"Overwrite an Existing File\":\n",
        "                        owyes()\n",
        "                    if OverwriteOption == \"Don't Overwrite an Existing File\":\n",
        "                        owno()\n",
        "                def normal():\n",
        "                    def owdef():\n",
        "                        cmd = !ffmpeg -vsync 0 -hwaccel avaapi \"$InputLocation/{filename}\" -c:av copy -preset:v slow -rc vbr -cq $Set_cq -qmin $Set_qmin -qmax $Set_qmax -b:v 0 -profile:v $SetProfile -init_qpP 23 -init_qpB 25 -init_qpI 21 -filter_complex \"subtitles='$InputLocation/{filename}:si={SubtitleTrack}'\" \"$OutputLocation/{filename[dchara:-(int(fix))]}{OutputExtension}\"\n",
        "                    def owyes():\n",
        "                        cmd = !ffmpeg -y -vsync 0 -hwaccel avaapi \"$InputLocation/{filename}\" -c:av copy -preset:v slow -rc vbr -cq $Set_cq -qmin $Set_qmin -qmax $Set_qmax -b:v 0 -profile:v $SetProfile -init_qpP 23 -init_qpB 25 -init_qpI 21 -filter_complex \"subtitles='$InputLocation/{filename}:si={SubtitleTrack}'\" \"$OutputLocation/{filename[dchara:-(int(fix))]}{OutputExtension}\"\n",
        "                    def owno():\n",
        "                        cmd = !ffmpeg -n -vsync 0 -hwaccel avaapi \"$InputLocation/{filename}\" -c:av copy -preset:v slow -rc vbr -cq $Set_cq -qmin $Set_qmin -qmax $Set_qmax -b:v 0 -profile:v $SetProfile -init_qpP 23 -init_qpB 25 -init_qpI 21 -filter_complex \"subtitles='$InputLocation/{filename}:si={SubtitleTrack}'\" \"$OutputLocation/{filename[dchara:-(int(fix))]}{OutputExtension}\"\n",
        "                    if OverwriteOption == \"Default\":\n",
        "                        owdef()\n",
        "                    if OverwriteOption == \"Overwrite an Existing File\":\n",
        "                        owyes()\n",
        "                    if OverwriteOption == \"Don't Overwrite an Existing File\":\n",
        "                        owno()\n",
        "                if EncodeSetting == \"H264\":\n",
        "                    h264()\n",
        "                if EncodeSetting == \"HEVC\":\n",
        "                    hevc()\n",
        "                if EncodeSetting == \"Normal\":\n",
        "                    normal()\n",
        "            def acuvid():\n",
        "                def h264():\n",
        "                    def owdef():\n",
        "                        cmd = !ffmpeg -vsync 0 -hwaccel acuvid \"$InputLocation/{filename}\" -c:a copy -c:v h264_nvenc -preset:v slow -rc vbr -cq $Set_cq -qmin $Set_qmin -qmax $Set_qmax -b:v 0 -profile:v $SetProfile -init_qpP 23 -init_qpB 25 -init_qpI 21 -filter_complex \"subtitles='$InputLocation/{filename}:si={SubtitleTrack}'\" \"$OutputLocation/{filename[dchara:-(int(fix))]}{OutputExtension}\"\n",
        "                    def owyes():\n",
        "                        cmd = !ffmpeg -y -vsync 0 -hwaccel acuvid \"$InputLocation/{filename}\" -c:a copy -c:v h264_nvenc -preset:v slow -rc vbr -cq $Set_cq -qmin $Set_qmin -qmax $Set_qmax -b:v 0 -profile:v $SetProfile -init_qpP 23 -init_qpB 25 -init_qpI 21 -filter_complex \"subtitles='$InputLocation/{filename}:si={SubtitleTrack}'\" \"$OutputLocation/{filename[dchara:-(int(fix))]}{OutputExtension}\"\n",
        "                    def owno():\n",
        "                        cmd = !ffmpeg -n -vsync 0 -hwaccel acuvid \"$InputLocation/{filename}\" -c:a copy -c:v h264_nvenc -preset:v slow -rc vbr -cq $Set_cq -qmin $Set_qmin -qmax $Set_qmax -b:v 0 -profile:v $SetProfile -init_qpP 23 -init_qpB 25 -init_qpI 21 -filter_complex \"subtitles='$InputLocation/{filename}:si={SubtitleTrack}'\" \"$OutputLocation/{filename[dchara:-(int(fix))]}{OutputExtension}\"\n",
        "                    if OverwriteOption == \"Default\":\n",
        "                        owdef()\n",
        "                    if OverwriteOption == \"Overwrite an Existing File\":\n",
        "                        owyes()\n",
        "                    if OverwriteOption == \"Don't Overwrite an Existing File\":\n",
        "                        owno()\n",
        "                def hevc():\n",
        "                    def owdef():\n",
        "                        cmd = !ffmpeg -vsync 0 -hwaccel acuvid \"$InputLocation/{filename}\" -c:a copy -c:v hevc_nvenc -preset:v slow -rc vbr -cq $Set_cq -qmin $Set_qmin -qmax $Set_qmax -b:v 0 -profile:v $SetProfile -init_qpP 23 -init_qpB 25 -init_qpI 21 -filter_complex \"subtitles='$InputLocation/{filename}:si={SubtitleTrack}'\" \"$OutputLocation/{filename[dchara:-(int(fix))]}{OutputExtension}\"\n",
        "                    def owyes():\n",
        "                        cmd = !ffmpeg -y -vsync 0 -hwaccel acuvid \"$InputLocation/{filename}\" -c:a copy -c:v hevc_nvenc -preset:v slow -rc vbr -cq $Set_cq -qmin $Set_qmin -qmax $Set_qmax -b:v 0 -profile:v $SetProfile -init_qpP 23 -init_qpB 25 -init_qpI 21 -filter_complex \"subtitles='$InputLocation/{filename}:si={SubtitleTrack}'\" \"$OutputLocation/{filename[dchara:-(int(fix))]}{OutputExtension}\"\n",
        "                    def owno():\n",
        "                        cmd = !ffmpeg -n -vsync 0 -hwaccel acuvid \"$InputLocation/{filename}\" -c:a copy -c:v hevc_nvenc -preset:v slow -rc vbr -cq $Set_cq -qmin $Set_qmin -qmax $Set_qmax -b:v 0 -profile:v $SetProfile -init_qpP 23 -init_qpB 25 -init_qpI 21 -filter_complex \"subtitles='$InputLocation/{filename}:si={SubtitleTrack}'\" \"$OutputLocation/{filename[dchara:-(int(fix))]}{OutputExtension}\"\n",
        "                    if OverwriteOption == \"Default\":\n",
        "                        owdef()\n",
        "                    if OverwriteOption == \"Overwrite an Existing File\":\n",
        "                        owyes()\n",
        "                    if OverwriteOption == \"Don't Overwrite an Existing File\":\n",
        "                        owno()\n",
        "                def normal():\n",
        "                    def owdef():\n",
        "                        cmd = !ffmpeg -vsync 0 -hwaccel acuvid \"$InputLocation/{filename}\" -c:av copy -preset:v slow -rc vbr -cq $Set_cq -qmin $Set_qmin -qmax $Set_qmax -b:v 0 -profile:v $SetProfile -init_qpP 23 -init_qpB 25 -init_qpI 21 -filter_complex \"subtitles='$InputLocation/{filename}:si={SubtitleTrack}'\" \"$OutputLocation/{filename[dchara:-(int(fix))]}{OutputExtension}\"\n",
        "                    def owyes():\n",
        "                        cmd = !ffmpeg -y -vsync 0 -hwaccel acuvid \"$InputLocation/{filename}\" -c:av copy -preset:v slow -rc vbr -cq $Set_cq -qmin $Set_qmin -qmax $Set_qmax -b:v 0 -profile:v $SetProfile -init_qpP 23 -init_qpB 25 -init_qpI 21 -filter_complex \"subtitles='$InputLocation/{filename}:si={SubtitleTrack}'\" \"$OutputLocation/{filename[dchara:-(int(fix))]}{OutputExtension}\"\n",
        "                    def owno():\n",
        "                        cmd = !ffmpeg -n -vsync 0 -hwaccel acuvid \"$InputLocation/{filename}\" -c:av copy -preset:v slow -rc vbr -cq $Set_cq -qmin $Set_qmin -qmax $Set_qmax -b:v 0 -profile:v $SetProfile -init_qpP 23 -init_qpB 25 -init_qpI 21 -filter_complex \"subtitles='$InputLocation/{filename}:si={SubtitleTrack}'\" \"$OutputLocation/{filename[dchara:-(int(fix))]}{OutputExtension}\"\n",
        "                    if OverwriteOption == \"Default\":\n",
        "                        owdef()\n",
        "                    if OverwriteOption == \"Overwrite an Existing File\":\n",
        "                        owyes()\n",
        "                    if OverwriteOption == \"Don't Overwrite an Existing File\":\n",
        "                        owno()\n",
        "                if EncodeSetting == \"H264\":\n",
        "                    h264()\n",
        "                if EncodeSetting == \"HEVC\":\n",
        "                    hevc()\n",
        "                if EncodeSetting == \"Normal\":\n",
        "                    normal()\n",
        "                    owno()\n",
        "            if HardwareAccelerator == \"VDPAU\":\n",
        "                avdpau()\n",
        "            if HardwareAccelerator == \"VAAPI\":\n",
        "                avaapi()\n",
        "            if HardwareAccelerator == \"CUVID\":\n",
        "                acuvid()\n",
        "        def noaccel():\n",
        "            def owdef():\n",
        "                cmd = !ffmpeg \"$InputLocation/{filename}\" -c:av copy -preset:v slow -rc vbr -cq $Set_cq -qmin $Set_qmin -qmax $Set_qmax -b:v 0 -profile:v $SetProfile -init_qpP 23 -init_qpB 25 -init_qpI 21 -filter_complex \"subtitles='$InputLocation/{filename}:si={SubtitleTrack}'\" \"$OutputLocation/{filename[dchara:-(int(fix))]}{OutputExtension}\"\n",
        "            def owyes():\n",
        "                cmd = !ffmpeg -y \"$InputLocation/{filename}\" -c:av copy -preset:v slow -rc vbr -cq $Set_cq -qmin $Set_qmin -qmax $Set_qmax -b:v 0 -profile:v $SetProfile -init_qpP 23 -init_qpB 25 -init_qpI 21 -filter_complex \"subtitles='$InputLocation/{filename}:si={SubtitleTrack}'\" \"$OutputLocation/{filename[dchara:-(int(fix))]}{OutputExtension}\"\n",
        "            def owno():\n",
        "                cmd = !ffmpeg -n \"$InputLocation/{filename}\" -c:av copy -preset:v slow -rc vbr -cq $Set_cq -qmin $Set_qmin -qmax $Set_qmax -b:v 0 -profile:v $SetProfile -init_qpP 23 -init_qpB 25 -init_qpI 21 -filter_complex \"subtitles='$InputLocation/{filename}:si={SubtitleTrack}'\" \"$OutputLocation/{filename[dchara:-(int(fix))]}{OutputExtension}\"        \n",
        "            if OverwriteOption == \"Default\":\n",
        "                owdef()\n",
        "            if OverwriteOption == \"Overwrite an Existing File\":\n",
        "                owyes()\n",
        "            if OverwriteOption == \"Don't Overwrite an Existing File\":\n",
        "                owno()\n",
        "        if UseHardwareAccelerator == True:\n",
        "            accel()\n",
        "        if UseHardwareAccelerator == False:\n",
        "            noaccel() \n",
        "    if UseSubtitleTrack == False:\n",
        "        noSubtrack()\n",
        "    if UseSubtitleTrack == True:\n",
        "        Subtrack()\n",
        "\n",
        "for filename in os.listdir(InputLocation):\n",
        "  if (filename.endswith(my_suffixes)):\n",
        "        if ConvertMethod == \"No Subtitle\":\n",
        "          noSub()\n",
        "        if ConvertMethod == \"With Subtitle\":\n",
        "          withSub()"
      ],
      "metadata": {
        "cellView": "form",
        "id": "1jGQhZSZoi2c"
      },
      "execution_count": null,
      "outputs": []
    }
  ]
}