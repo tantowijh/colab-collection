{
  "nbformat": 4,
  "nbformat_minor": 0,
  "metadata": {
    "colab": {
      "provenance": [],
      "mount_file_id": "1B47VovElXuuAoqYjN1S9-jPtpIzNikZ8",
      "authorship_tag": "ABX9TyOfwam6W6X2530YwJm5jQ1c",
      "include_colab_link": true
    },
    "kernelspec": {
      "name": "python3",
      "display_name": "Python 3"
    },
    "language_info": {
      "name": "python"
    },
    "accelerator": "GPU",
    "gpuClass": "standard"
  },
  "cells": [
    {
      "cell_type": "markdown",
      "metadata": {
        "id": "view-in-github",
        "colab_type": "text"
      },
      "source": [
        "<a href=\"https://colab.research.google.com/github/tantowijh/colab-collection/blob/main/TranscribeAudio.ipynb\" target=\"_parent\"><img src=\"https://colab.research.google.com/assets/colab-badge.svg\" alt=\"Open In Colab\"/></a>"
      ]
    },
    {
      "cell_type": "code",
      "source": [
        "#@title Click Here to Check GPU\n",
        "!nvidia-smi -L"
      ],
      "metadata": {
        "cellView": "form",
        "id": "9nUV8UNyNLT_",
        "colab": {
          "base_uri": "https://localhost:8080/"
        },
        "outputId": "ff4655a9-0acb-4040-c4a7-44c76b53b34c"
      },
      "execution_count": null,
      "outputs": [
        {
          "output_type": "stream",
          "name": "stdout",
          "text": [
            "GPU 0: Tesla T4 (UUID: GPU-91e52ad8-5142-52eb-dc9c-52e2fa3fc913)\n"
          ]
        }
      ]
    },
    {
      "cell_type": "code",
      "execution_count": null,
      "metadata": {
        "id": "37LY2lEgQgp4",
        "cellView": "form",
        "colab": {
          "base_uri": "https://localhost:8080/",
          "height": 530
        },
        "outputId": "869687ea-fda2-4985-8302-a7bc5d874022"
      },
      "outputs": [
        {
          "output_type": "stream",
          "name": "stdout",
          "text": [
            "Server Started Successfully!\n"
          ]
        }
      ],
      "source": [
        "#@title Click Here to install Whisper and update FFmpeg\n",
        "\n",
        "from IPython.display import clear_output\n",
        "import os, sys, urllib.request\n",
        "HOME = os.path.expanduser(\"~\")\n",
        "pathDoneCMD = f'{HOME}/doneCMD.sh'\n",
        "if not os.path.exists(f\"{HOME}/.ipython/ttmg.py\"):\n",
        "    hCode = \"https://raw.githubusercontent.com/yunooooo/gcct/master/res/ttmg.py\"\n",
        "    urllib.request.urlretrieve(hCode, f\"{HOME}/.ipython/ttmg.py\")\n",
        "\n",
        "from ttmg import (\n",
        "    loadingAn,\n",
        "    textAn,\n",
        ")\n",
        "\n",
        "!pip install git+https://github.com/openai/whisper.git &> /dev/null\n",
        "textAn(\"Installing whisper...\", ty='twg') \n",
        "!sudo apt update && sudo apt install ffmpeg &> /dev/null\n",
        "textAn(\"Installing ffmpeg...\", ty='twg') \n",
        "\n",
        "clear_output()\n",
        "print(\"Server Started Successfully!\")"
      ]
    },
    {
      "cell_type": "code",
      "source": [
        "#@title Click Here to Run Whisper AI\n",
        "import os\n",
        "\n",
        "file_path = \"\" #@param {type:\"string\"}\n",
        "dir_path = os.path.dirname(file_path)\n",
        "\n",
        "filename = os.path.splitext(os.path.basename(file_path))[0]\n",
        "print(filename)\n",
        "\n",
        "model = \"large-v2\" #@param [\"tiny\", \"base\", \"small\", \"medium\", \"large-v1\", \"large-v2\"]\n",
        "output_format = \"all\" #@param [\"txt\", \"vtt\", \"srt\", \"tsv\", \"json\", \"all\"]\n",
        "\n",
        "# Run Whisper AI:\n",
        "if model == \"large-v1\" or model == \"large-v2\":\n",
        "  !whisper \"{file_path}\" --model \"{model}\" --output_format {output_format} --output_dir \"{dir_path}/[Transcript] {filename}\"\n",
        "else:\n",
        "  !whisper \"{file_path}\" --model \"{model}\".en --output_format {output_format} --output_dir \"{dir_path}/[Transcript] {filename}\"\n",
        "\n",
        "#Additional arguments:\n",
        "# !whisper -h"
      ],
      "metadata": {
        "id": "CZpmBU7fe3Zj",
        "cellView": "form"
      },
      "execution_count": null,
      "outputs": []
    },
    {
      "cell_type": "code",
      "source": [
        "#@title Click Here to Run Whisper AI\n",
        "import os\n",
        "\n",
        "file_path = \"\" #@param {type:\"string\"}\n",
        "dir_path = os.path.dirname(file_path)\n",
        "\n",
        "filename = os.path.splitext(os.path.basename(file_path))[0]\n",
        "print(filename)\n",
        "\n",
        "lang = \"Indonesian\" #@param [\"af\", \"am\", \"ar\", \"as\", \"az\", \"ba\", \"be\", \"bg\", \"bn\", \"bo\", \"br\", \"bs\", \"ca\", \"cs\", \"cy\", \"da\", \"de\", \"el\", \"en\", \"es\", \"et\", \"eu\", \"fa\", \"fi\", \"fo\", \"fr\", \"gl\", \"gu\", \"ha\", \"haw\", \"he\", \"hi\", \"hr\", \"ht\", \"hu\", \"hy\", \"id\", \"is\", \"it\", \"ja\", \"jw\", \"ka\", \"kk\", \"km\", \"kn\", \"ko\", \"la\", \"lb\", \"ln\", \"lo\", \"lt\", \"lv\", \"mg\", \"mi\", \"mk\", \"ml\", \"mn\", \"mr\", \"ms\", \"mt\", \"my\", \"ne\", \"nl\", \"nn\", \"no\", \"oc\", \"pa\", \"pl\", \"ps\", \"pt\", \"ro\", \"ru\", \"sa\", \"sd\", \"si\", \"sk\", \"sl\", \"sn\", \"so\", \"sq\", \"sr\", \"su\", \"sv\", \"sw\", \"ta\", \"te\", \"tg\", \"th\", \"tk\", \"tl\", \"tr\", \"tt\", \"uk\", \"ur\", \"uz\", \"vi\", \"yi\", \"yo\", \"zh\", \"Afrikaans\", \"Albanian\", \"Amharic\", \"Arabic\", \"Armenian\", \"Assamese\", \"Azerbaijani\", \"Bashkir\", \"Basque\", \"Belarusian\", \"Bengali\", \"Bosnian\", \"Breton\", \"Bulgarian\", \"Burmese\", \"Castilian\", \"Catalan\", \"Chinese\", \"Croatian\", \"Czech\", \"Danish\", \"Dutch\", \"English\", \"Estonian\", \"Faroese\", \"Finnish\", \"Flemish\", \"French\", \"Galician\", \"Georgian\", \"German\", \"Greek\", \"Gujarati\", \"Haitian\", \"Haitian Creole\", \"Hausa\", \"Hawaiian\", \"Hebrew\", \"Hindi\", \"Hungarian\", \"Icelandic\", \"Indonesian\", \"Italian\", \"Japanese\", \"Javanese\", \"Kannada\", \"Kazakh\", \"Khmer\", \"Korean\", \"Lao\", \"Latin\", \"Latvian\", \"Letzeburgesch\", \"Lingala\", \"Lithuanian\", \"Luxembourgish\", \"Macedonian\", \"Malagasy\", \"Malay\", \"Malayalam\", \"Maltese\", \"Maori\", \"Marathi\", \"Moldavian\", \"Moldovan\", \"Mongolian\", \"Myanmar\", \"Nepali\", \"Norwegian\", \"Nynorsk\", \"Occitan\", \"Panjabi\", \"Pashto\", \"Persian\", \"Polish\", \"Portuguese\", \"Punjabi\", \"Pushto\", \"Romanian\", \"Russian\", \"Sanskrit\", \"Serbian\", \"Shona\", \"Sindhi\", \"Sinhala\", \"Sinhalese\", \"Slovak\", \"Slovenian\", \"Somali\", \"Spanish\", \"Sundanese\", \"Swahili\", \"Swedish\", \"Tagalog\", \"Tajik\", \"Tamil\", \"Tatar\", \"Telugu\", \"Thai\", \"Tibetan\", \"Turkish\", \"Turkmen\", \"Turkmen\", \"Ukrainian\", \"Urdu\", \"Uzbek\", \"Valencian\", \"Vietnamese\", \"Welsh\", \"Yiddish\", \"Yoruba\"]\n",
        "model = \"large-v2\" #@param [\"tiny\", \"base\", \"small\", \"medium\", \"large-v1\", \"large-v2\"]\n",
        "output_format = \"all\" #@param [\"txt\", \"vtt\", \"srt\", \"tsv\", \"json\", \"all\"]\n",
        "\n",
        "# Run Whisper AI:\n",
        "if model == \"large-v1\" or model == \"large-v2\":\n",
        "  !whisper \"{file_path}\" --language \"{lang}\" --model \"{model}\" --output_format {output_format} --output_dir \"{dir_path}/[Transcript] {filename}\"\n",
        "else:\n",
        "  !whisper \"{file_path}\" --language \"{lang}\" --model \"{model}\".en --output_format {output_format} --output_dir \"{dir_path}/[Transcript] {filename}\"\n",
        "\n",
        "#Additional arguments:\n",
        "# !whisper -h"
      ],
      "metadata": {
        "cellView": "form",
        "id": "OZjHjJWaAEZr"
      },
      "execution_count": null,
      "outputs": []
    }
  ]
}