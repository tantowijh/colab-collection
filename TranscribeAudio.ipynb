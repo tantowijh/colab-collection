{
  "nbformat": 4,
  "nbformat_minor": 0,
  "metadata": {
    "colab": {
      "provenance": [],
      "mount_file_id": "1B47VovElXuuAoqYjN1S9-jPtpIzNikZ8",
      "authorship_tag": "ABX9TyNLFuqr8nJwVG2RTKz7X/tn",
      "include_colab_link": true
    },
    "kernelspec": {
      "name": "python3",
      "display_name": "Python 3"
    },
    "language_info": {
      "name": "python"
    },
    "accelerator": "GPU",
    "gpuClass": "standard"
  },
  "cells": [
    {
      "cell_type": "markdown",
      "metadata": {
        "id": "view-in-github",
        "colab_type": "text"
      },
      "source": [
        "<a href=\"https://colab.research.google.com/github/tantowijh/colab-collection/blob/main/TranscribeAudio.ipynb\" target=\"_parent\"><img src=\"https://colab.research.google.com/assets/colab-badge.svg\" alt=\"Open In Colab\"/></a>"
      ]
    },
    {
      "cell_type": "code",
      "source": [
        "#@title Click Here to Check GPU\n",
        "!nvidia-smi -L"
      ],
      "metadata": {
        "cellView": "form",
        "id": "9nUV8UNyNLT_"
      },
      "execution_count": null,
      "outputs": []
    },
    {
      "cell_type": "code",
      "execution_count": null,
      "metadata": {
        "id": "37LY2lEgQgp4",
        "cellView": "form"
      },
      "outputs": [],
      "source": [
        "#@title Click Here to install Whisper and update FFmpeg\n",
        "\n",
        "from IPython.display import clear_output\n",
        "import os, sys, urllib.request\n",
        "HOME = os.path.expanduser(\"~\")\n",
        "pathDoneCMD = f'{HOME}/doneCMD.sh'\n",
        "if not os.path.exists(f\"{HOME}/.ipython/ttmg.py\"):\n",
        "    hCode = \"https://raw.githubusercontent.com/yunooooo/gcct/master/res/ttmg.py\"\n",
        "    urllib.request.urlretrieve(hCode, f\"{HOME}/.ipython/ttmg.py\")\n",
        "\n",
        "from ttmg import (\n",
        "    loadingAn,\n",
        "    textAn,\n",
        ")\n",
        "\n",
        "!pip install git+https://github.com/openai/whisper.git &> /dev/null\n",
        "textAn(\"Installing whisper...\", ty='twg') \n",
        "!sudo apt update && sudo apt install ffmpeg &> /dev/null\n",
        "textAn(\"Installing ffmpeg...\", ty='twg') \n",
        "\n",
        "clear_output()\n",
        "print(\"Server Started Successfully!\")"
      ]
    },
    {
      "cell_type": "code",
      "source": [
        "#@title Click Here to Run Whisper AI\n",
        "import os\n",
        "\n",
        "file_path = \"\" #@param {type:\"string\"}\n",
        "dir_path = os.path.dirname(file_path)\n",
        "\n",
        "filename = os.path.splitext(os.path.basename(file_path))[0]\n",
        "print(filename)\n",
        "\n",
        "model = \"large-v2\" #@param [\"tiny\", \"base\", \"small\", \"medium\", \"large-v1\", \"large-v2\"]\n",
        "output_format = \"all\" #@param [\"txt\", \"vtt\", \"srt\", \"tsv\", \"json\", \"all\"]\n",
        "\n",
        "# Run Whisper AI:\n",
        "if model == \"large-v1\" or model == \"large-v2\":\n",
        "  !whisper \"{file_path}\" --model \"{model}\" --output_format {output_format} --output_dir \"{dir_path}/[Transcript] {filename}\"\n",
        "else:\n",
        "  !whisper \"{file_path}\" --model \"{model}\".en --output_format {output_format} --output_dir \"{dir_path}/[Transcript] {filename}\"\n",
        "\n",
        "#Additional arguments:\n",
        "# !whisper -h"
      ],
      "metadata": {
        "id": "CZpmBU7fe3Zj",
        "cellView": "form"
      },
      "execution_count": null,
      "outputs": []
    }
  ]
}