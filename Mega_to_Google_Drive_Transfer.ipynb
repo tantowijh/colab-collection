{
  "nbformat": 4,
  "nbformat_minor": 0,
  "metadata": {
    "colab": {
      "provenance": [],
      "collapsed_sections": [
        "tLmp9oZFMlaa",
        "SUc4NyRn2hAZ",
        "SNxbRGBqYVKp"
      ],
      "include_colab_link": true
    },
    "kernelspec": {
      "name": "python3",
      "display_name": "Python 3"
    }
  },
  "cells": [
    {
      "cell_type": "markdown",
      "metadata": {
        "id": "view-in-github",
        "colab_type": "text"
      },
      "source": [
        "<a href=\"https://colab.research.google.com/github/tantowijh/colab-collection/blob/main/Mega_to_Google_Drive_Transfer.ipynb\" target=\"_parent\"><img src=\"https://colab.research.google.com/assets/colab-badge.svg\" alt=\"Open In Colab\"/></a>"
      ]
    },
    {
      "cell_type": "markdown",
      "metadata": {
        "id": "tLmp9oZFMlaa"
      },
      "source": [
        "#**Mount/Unmount Google Drive**`(`<font size=\"3px\" color=\"#01c968\">`Gdrive`</font>`)`\n"
      ]
    },
    {
      "cell_type": "code",
      "metadata": {
        "id": "EEa8eCsW2P19",
        "cellView": "form",
        "colab": {
          "base_uri": "https://localhost:8080/"
        },
        "outputId": "8b65b9cc-87cf-4fc7-fd64-57ed52af5913"
      },
      "source": [
        "#@markdown <br><center><img src='https://upload.wikimedia.org/wikipedia/commons/thumb/d/da/Google_Drive_logo.png/600px-Google_Drive_logo.png' height=\"50\" alt=\"Gdrive-logo\"/></center>\n",
        "#@markdown <center><h3>Mount Gdrive to /content/drive</h3></center><br>\n",
        "MODE = \"MOUNT\" #@param [\"MOUNT\", \"UNMOUNT\"]\n",
        "#Mount your Gdrive! \n",
        "from google.colab import drive\n",
        "drive.mount._DEBUG = False\n",
        "if MODE == \"MOUNT\":\n",
        "  drive.mount('/content/drive', force_remount=True)\n",
        "elif MODE == \"UNMOUNT\":\n",
        "  try:\n",
        "    drive.flush_and_unmount()\n",
        "  except ValueError:\n",
        "    pass\n",
        "  get_ipython().system_raw(\"rm -rf /root/.config/Google/DriveFS\")"
      ],
      "execution_count": null,
      "outputs": [
        {
          "output_type": "stream",
          "name": "stdout",
          "text": [
            "Mounted at /content/drive\n"
          ]
        }
      ]
    },
    {
      "cell_type": "markdown",
      "metadata": {
        "id": "SUc4NyRn2hAZ"
      },
      "source": [
        "# **Mega to Google Drive transfer**\n"
      ]
    },
    {
      "cell_type": "code",
      "metadata": {
        "id": "1Hd4Wdlx4GGc",
        "cellView": "form",
        "colab": {
          "base_uri": "https://localhost:8080/"
        },
        "outputId": "9bf45cfe-b0ce-4ab1-f825-74e8aebdc986"
      },
      "source": [
        "# @markdown <center><h3>Enter your Mega Account Details</h3></center><br>\n",
        "\n",
        "from functools import wraps\n",
        "import errno\n",
        "import os\n",
        "import signal\n",
        "import subprocess\n",
        "import shlex\n",
        "\n",
        "#@markdown <h3>Step 1 : Mega installation</h3></center><br>\n",
        "\n",
        "class TimeoutError(Exception):\n",
        "    pass\n",
        "\n",
        "\n",
        "def timeout(seconds=10, error_message=os.strerror(errno.ETIME)):\n",
        "    def decorator(func):\n",
        "        def _handle_timeout(signum, frame):\n",
        "            raise TimeoutError(error_message)\n",
        "\n",
        "        def wrapper(*args, **kwargs):\n",
        "            signal.signal(signal.SIGALRM, _handle_timeout)\n",
        "            signal.alarm(seconds)\n",
        "            try:\n",
        "                result = func(*args, **kwargs)\n",
        "            finally:\n",
        "                signal.alarm(0)\n",
        "            return result\n",
        "\n",
        "        return wraps(func)(wrapper)\n",
        "\n",
        "    return decorator\n",
        "\n",
        "\n",
        "if not os.path.exists(\"/root/.ipython/ocr.py\"):\n",
        "    from subprocess import run\n",
        "    from shlex import split\n",
        "\n",
        "    shellCmd = \"wget -qq https://raw.githubusercontent.com/biplobsd/OneClickRun/master/res/ocr.py \\\n",
        "                    -O /root/.ipython/ocr.py\"\n",
        "    run(split(shellCmd))\n",
        "from ocr import runSh\n",
        "\n",
        "@timeout(10)\n",
        "def runShT(args):\n",
        "    return runSh(args, output=True)\n",
        "\n",
        "\n",
        "# MEGAcmd installing\n",
        "if not os.path.exists(\"/usr/bin/mega-cmd\"):\n",
        "    print(\"Installing MEGA ...\")\n",
        "    runSh('sudo apt-get -y update')\n",
        "    runSh('sudo apt-get -y install libmms0 libc-ares2 libc6 libcrypto++6 libgcc1 libmediainfo0v5 libpcre3 libpcrecpp0v5 libssl1.1 libstdc++6 libzen0v5 zlib1g apt-transport-https')\n",
        "    runSh('sudo curl -sL -o /var/cache/apt/archives/MEGAcmd.deb https://mega.nz/linux/MEGAsync/Debian_9.0/amd64/megacmd-Debian_9.0_amd64.deb', output=True)\n",
        "    runSh('sudo dpkg -i /var/cache/apt/archives/MEGAcmd.deb', output=True)\n",
        "    print(\"MEGA is installed.\")\n",
        "else:\n",
        "    !pkill mega-cmd\n",
        "\n",
        "# INPUT YOUR MEGA ID\n",
        "\n",
        "USERNAME = \"vkgopzsewlhwb@arxxwalls.com\"  # @param {type:\"string\"}\n",
        "PASSWORD = \"best123best\"  # @param {type:\"string\"}\n",
        "if not (USERNAME == \"\" or PASSWORD == \"\"):\n",
        "    try:\n",
        "        runShT(f\"mega-login {USERNAME} {PASSWORD}\")\n",
        "    except TimeoutError:\n",
        "        runSh('mega-whoami', output=True)\n",
        "else:\n",
        "    print(\"Please Input your Mega IDs.\")\n",
        "# @markdown *Use your mega account to avoid any limit*"
      ],
      "execution_count": null,
      "outputs": [
        {
          "output_type": "stream",
          "name": "stdout",
          "text": [
            "Installing MEGA ...\n",
            "Selecting previously unselected package megacmd.\n",
            "(Reading database ... 155712 files and directories currently installed.)\n",
            "Preparing to unpack .../cache/apt/archives/MEGAcmd.deb ...\n",
            "Unpacking megacmd (1.5.1-2.1) ...\n",
            "Setting up megacmd (1.5.1-2.1) ...\n",
            "sysctl: setting key \"fs.inotify.max_user_watches\": Read-only file system\n",
            "MEGA is installed.\n",
            "[Initiating MEGAcmd server in background. Log: /root/.megaCmd/megacmdserver.log]\n"
          ]
        }
      ]
    },
    {
      "cell_type": "code",
      "metadata": {
        "id": "iUJYdDH14cS8",
        "cellView": "form",
        "colab": {
          "base_uri": "https://localhost:8080/"
        },
        "outputId": "f5cf7b89-b962-41f1-da86-5639d48569fe"
      },
      "source": [
        "import sys, os, urllib.request\n",
        "import time\n",
        "import subprocess\n",
        "import contextlib\n",
        "from IPython.display import clear_output\n",
        "#@markdown <br><center><img src='https://i.imgur.com/5AzebjC.png' height=\"250\" alt=\"MEGA-logo\"/></center>\n",
        "#@markdown <center><h2>Transfer from Mega to GDrive</h2></center><br>\n",
        "HOME = os.path.expanduser(\"~\")\n",
        "if not os.path.exists(f\"{HOME}/.ipython/ocr.py\"):\n",
        "    hCode = \"https://raw.githubusercontent.com/biplobsd/\" \\\n",
        "                \"OneClickRun/master/res/ocr.py\"\n",
        "    urllib.request.urlretrieve(hCode, f\"{HOME}/.ipython/ocr.py\")\n",
        "\n",
        "from ocr import (\n",
        "    runSh,\n",
        "    loadingAn,\n",
        ")\n",
        "#@title MEGA public link download\n",
        "\n",
        "#@markdown <h3>Step 2 : Input Source and Destination path</h3><br>\n",
        "\n",
        "#@markdown <h5>Provide a txt file containing mega links in each line, then copy txt path to mega_url.</h5>\n",
        "MultiDownload = False #@param {type:\"boolean\"}\n",
        "MEGA_URL = \"https://mega.nz/file/ETUHFI7R#VEKJhysADDECmeM7cZtHnCF2Mwvy0w_FeNp56uWJzlc\" #@param {type:\"string\"}\n",
        "OUTPUT_PATH = \"/content/drive/Shareddrives/01. Anime Server/01. Anime Series/Takt Op. Destiny\" #@param {type:\"string\"}\n",
        "\n",
        "if not OUTPUT_PATH:\n",
        "  os.makedirs(\"downloads\", exist_ok=True)\n",
        "  OUTPUT_PATH = \"downloads\"\n",
        "# MEGAcmd installing\n",
        "if not os.path.exists(\"/usr/bin/mega-cmd\"):\n",
        "    loadingAn()\n",
        "    print(\"Installing MEGA ...\")\n",
        "    runSh('sudo apt-get -y update')\n",
        "    runSh('sudo apt-get -y install libmms0 libc-ares2 libc6 libcrypto++6 libgcc1 libmediainfo0v5 libpcre3 libpcrecpp0v5 libssl1.1 libstdc++6 libzen0v5 zlib1g apt-transport-https')\n",
        "    runSh('sudo curl -sL -o /var/cache/apt/archives/MEGAcmd.deb https://mega.nz/linux/MEGAsync/Debian_9.0/amd64/megacmd-Debian_9.0_amd64.deb', output=True)\n",
        "    runSh('sudo dpkg -i /var/cache/apt/archives/MEGAcmd.deb', output=True)\n",
        "    print(\"MEGA is installed.\")\n",
        "    clear_output()\n",
        "\n",
        "# Unix, Windows and old Macintosh end-of-line\n",
        "newlines = ['\\n', '\\r\\n', '\\r']\n",
        "\n",
        "def unbuffered(proc, stream='stdout'):\n",
        "    stream = getattr(proc, stream)\n",
        "    with contextlib.closing(stream):\n",
        "        while True:\n",
        "            out = []\n",
        "            last = stream.read(1)\n",
        "            # Don't loop forever\n",
        "            if last == '' and proc.poll() is not None:\n",
        "                break\n",
        "            while last not in newlines:\n",
        "                # Don't loop forever\n",
        "                if last == '' and proc.poll() is not None:\n",
        "                    break\n",
        "                out.append(last)\n",
        "                last = stream.read(1)\n",
        "            out = ''.join(out)\n",
        "            yield out\n",
        "\n",
        "\n",
        "def startdownload():\n",
        "    import codecs\n",
        "    decoder = codecs.getincrementaldecoder(\"UTF-8\")()\n",
        "    cmd = [\"mega-get\", MEGA_URL, OUTPUT_PATH]\n",
        "    proc = subprocess.Popen(\n",
        "        cmd,\n",
        "        stdout=subprocess.PIPE,\n",
        "        stderr=subprocess.STDOUT,\n",
        "        # Make all end-of-lines '\\n'\n",
        "        universal_newlines=True,\n",
        "    )\n",
        "    for line in unbuffered(proc):\n",
        "        clear_output(wait=True)\n",
        "        print(line)\n",
        "\n",
        "def multidownload():\n",
        "    import codecs\n",
        "    decoder = codecs.getincrementaldecoder(\"UTF-8\")()\n",
        "    with open(MEGA_URL,\"r\") as links:\n",
        "        i = 0;\n",
        "        for link in links:\n",
        "          cmd = [\"mega-get\", link, OUTPUT_PATH]\n",
        "          proc = subprocess.Popen(\n",
        "              cmd,\n",
        "              stdout=subprocess.PIPE,\n",
        "              stderr=subprocess.STDOUT,\n",
        "              # Make all end-of-lines '\\n'\n",
        "              universal_newlines=True,\n",
        "              )\n",
        "          for line in unbuffered(proc):\n",
        "            clear_output(wait=True)\n",
        "            print(line)\n",
        "          i = i + 1;\n",
        "\n",
        "        \n",
        "\n",
        "if MultiDownload == False:\n",
        "  startdownload()\n",
        "else:\n",
        "  multidownload()\n",
        "\n"
      ],
      "execution_count": null,
      "outputs": [
        {
          "output_type": "stream",
          "name": "stdout",
          "text": [
            "Use --ignore-quota-warn to initiate nevertheless\n"
          ]
        }
      ]
    },
    {
      "cell_type": "markdown",
      "source": [
        "# **RAR EXTRACT**\n",
        "\n",
        "```\n",
        "Extract Rar and Protected Rar Files\n",
        "```\n",
        "\n",
        "\n",
        "\n"
      ],
      "metadata": {
        "id": "SNxbRGBqYVKp"
      }
    },
    {
      "cell_type": "code",
      "execution_count": null,
      "metadata": {
        "cellView": "form",
        "id": "FwWb9UFPI5qd"
      },
      "outputs": [],
      "source": [
        "from IPython.core.display import clear_output\n",
        "#@title **Start Extract File**\n",
        "#@markdown Enter file path and extract destination path.\n",
        "\n",
        "import os\n",
        "import subprocess\n",
        "\n",
        "#@markdown ARCHIVED TYPE RAR\n",
        "ARCHIVED_PATH = \"\" #@param {type:\"string\"}\n",
        "EXTRACT_PATH = \"\" #@param {type:\"string\"}\n",
        "\n",
        "if not ARCHIVED_PATH.endswith(\".rar\"):\n",
        "  ARCHIVED_PATH = ARCHIVED_PATH + \"/*.rar\"\n",
        "\n",
        "from pathlib import Path\n",
        "Path(EXTRACT_PATH).mkdir(parents=True, exist_ok=True)\n",
        "\n",
        "!unrar x '{ARCHIVED_PATH}' '{EXTRACT_PATH}'"
      ]
    },
    {
      "cell_type": "code",
      "source": [
        "#@title **Start Extract File**\n",
        "#@markdown Enter file path and extract destination path.\n",
        "\n",
        "import os\n",
        "import subprocess\n",
        "\n",
        "#@markdown ARCHIVED TYPE RAR PROTECTED\n",
        "ARCHIVED_PATH = \"\" #@param {type:\"string\"}\n",
        "EXTRACT_PATH = \"\" #@param {type:\"string\"}\n",
        "\n",
        "if not ARCHIVED_PATH.endswith(\".rar\"):\n",
        "  ARCHIVED_PATH = ARCHIVED_PATH + \"/*.rar\"\n",
        "\n",
        "!unrar x -Y '{ARCHIVED_PATH}' '{EXTRACT_PATH}'"
      ],
      "metadata": {
        "cellView": "form",
        "id": "cRDl3tYuUbkt"
      },
      "execution_count": null,
      "outputs": []
    }
  ]
}